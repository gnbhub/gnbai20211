{
  "nbformat": 4,
  "nbformat_minor": 0,
  "metadata": {
    "colab": {
      "name": "week4-changbeom.ipynb",
      "provenance": [],
      "authorship_tag": "ABX9TyN/BHdnHCKHgu1I8OyBmudt",
      "include_colab_link": true
    },
    "kernelspec": {
      "name": "python3",
      "display_name": "Python 3"
    },
    "language_info": {
      "name": "python"
    }
  },
  "cells": [
    {
      "cell_type": "markdown",
      "metadata": {
        "id": "view-in-github",
        "colab_type": "text"
      },
      "source": [
        "<a href=\"https://colab.research.google.com/github/gnbhub/gnbai20211/blob/master/week4/week4_changbeom.ipynb\" target=\"_parent\"><img src=\"https://colab.research.google.com/assets/colab-badge.svg\" alt=\"Open In Colab\"/></a>"
      ]
    },
    {
      "cell_type": "code",
      "metadata": {
        "id": "iIu_vKjMlwuU"
      },
      "source": [
        "import numpy as np\n",
        "import pandas as pd\n",
        "import matplotlib.pyplot as plt"
      ],
      "execution_count": 23,
      "outputs": []
    },
    {
      "cell_type": "code",
      "metadata": {
        "id": "vO6kFPwkl9Se"
      },
      "source": [
        "col_names = ['x','y']\n",
        "df = pd.read_csv('/content/data_lab1.txt', sep = \" \", names = col_names)\n",
        "x_train = df['x'].values.reshape(-1,1)\n",
        "y_train = df['y'].values.reshape(-1,1)"
      ],
      "execution_count": 24,
      "outputs": []
    },
    {
      "cell_type": "code",
      "metadata": {
        "colab": {
          "base_uri": "https://localhost:8080/",
          "height": 295
        },
        "id": "636L86womf0j",
        "outputId": "dc1d7ae6-d158-4a20-d097-4fa70760dcfa"
      },
      "source": [
        "plt.plot(x_train, y_train, 'r.', label = 'train')\n",
        "\n",
        "plt.title('Data Visualization')\n",
        "plt.xlabel('x')\n",
        "plt.ylabel('y')\n",
        "plt.legend()\n",
        "plt.show()"
      ],
      "execution_count": 25,
      "outputs": [
        {
          "output_type": "display_data",
          "data": {
            "image/png": "[encoded data removed]",
            "text/plain": [
              "<Figure size 432x288 with 1 Axes>"
            ]
          },
          "metadata": {
            "tags": [],
            "needs_background": "light"
          }
        }
      ]
    },
    {
      "cell_type": "code",
      "metadata": {
        "id": "V3XLzBbsm07k"
      },
      "source": [
        "class LinearRegressor:\n",
        "\n",
        "    def __init__(self, opt = 'bgd', lr = 0.001):\n",
        "        self.opt = opt\n",
        "        self.lr = lr\n",
        "        self.weight = None\n",
        "        self.history = []\n",
        "\n",
        "    def fit(self, x, t, epochs = 200, print_step = 10):\n",
        "        assert x.shape[0] == t.shape[0]\n",
        "        assert len(x.shape) == 2\n",
        "\n",
        "        self.num, self.dim = x.shape\n",
        "\n",
        "        x = np.concatenate((np.ones(self.num, 1), x), axis =1)\n",
        "        self.weight = np.random.randn(self.dim +1)\n",
        "\n",
        "        for epoch in range(1, epochs +1):\n",
        "            y = self.forward(x)\n",
        "            self.backward(x,y,t)\n",
        "\n",
        "            if epoch % print_step == 0:\n",
        "                err = self.error(y,t)\n",
        "                print(f'epoch: {epoch} sse: {err}')\n",
        "                self.history.append(err)\n",
        "\n",
        "    def forward (self,x):\n",
        "        y = [self.pred(xi) for xi in x]\n",
        "\n",
        "        return np.array(y).reshape(-1,1)\n",
        "\n",
        "    def pred (self, xi):\n",
        "        assert self.weight.shape == xi.shape\n",
        "\n",
        "        return np.dot(self.weight, xi)\n",
        "\n",
        "    def error(self,y,t):\n",
        "        assert y.shape == t.shape\n",
        "\n",
        "        return ((y-t)**2).sum() /2\n",
        "\n",
        "    def backward(self, x, y,t):\n",
        "        if self.opt == 'bgd':\n",
        "            for n in range(self.dim+1):\n",
        "                g = 0.\n",
        "                for i in range(self.num):\n",
        "                    g += (y[i] - t[i]) * x[i][n]\n",
        "                self.weight[n] -= self.lr*g\n",
        "\n",
        "        elif self.opt == 'sgd':\n",
        "            for n in range (self.dim +1):\n",
        "                i = np.random.randint(self.num)\n",
        "                g = (y[i] - t[i]) * x[i][n]\n",
        "                self.weight[n] -= slef.lr*g  "
      ],
      "execution_count": 26,
      "outputs": []
    },
    {
      "cell_type": "code",
      "metadata": {
        "colab": {
          "base_uri": "https://localhost:8080/",
          "height": 358
        },
        "id": "IE24Sf0fqAgn",
        "outputId": "69e661a2-5e58-441d-ab55-db149a23f9b2"
      },
      "source": [
        "bgd = LinearRegressor(opt = 'bgd')\n",
        "\n",
        "bgd.fit(x_train, y_train, epochs = 200)\n",
        "print ('weight :', bgd.weight)"
      ],
      "execution_count": 27,
      "outputs": [
        {
          "output_type": "error",
          "ename": "TypeError",
          "evalue": "ignored",
          "traceback": [
            "\u001b[0;31m---------------------------------------------------------------------------\u001b[0m",
            "\u001b[0;31mTypeError\u001b[0m                                 Traceback (most recent call last)",
            "\u001b[0;32m<ipython-input-27-eafa42e09cd1>\u001b[0m in \u001b[0;36m<module>\u001b[0;34m()\u001b[0m\n\u001b[1;32m      1\u001b[0m \u001b[0mbgd\u001b[0m \u001b[0;34m=\u001b[0m \u001b[0mLinearRegressor\u001b[0m\u001b[0;34m(\u001b[0m\u001b[0mopt\u001b[0m \u001b[0;34m=\u001b[0m \u001b[0;34m'bgd'\u001b[0m\u001b[0;34m)\u001b[0m\u001b[0;34m\u001b[0m\u001b[0;34m\u001b[0m\u001b[0m\n\u001b[1;32m      2\u001b[0m \u001b[0;34m\u001b[0m\u001b[0m\n\u001b[0;32m----> 3\u001b[0;31m \u001b[0mbgd\u001b[0m\u001b[0;34m.\u001b[0m\u001b[0mfit\u001b[0m\u001b[0;34m(\u001b[0m\u001b[0mx_train\u001b[0m\u001b[0;34m,\u001b[0m \u001b[0my_train\u001b[0m\u001b[0;34m,\u001b[0m \u001b[0mepochs\u001b[0m \u001b[0;34m=\u001b[0m \u001b[0;36m200\u001b[0m\u001b[0;34m)\u001b[0m\u001b[0;34m\u001b[0m\u001b[0;34m\u001b[0m\u001b[0m\n\u001b[0m\u001b[1;32m      4\u001b[0m \u001b[0mprint\u001b[0m \u001b[0;34m(\u001b[0m\u001b[0;34m'weight :'\u001b[0m\u001b[0;34m,\u001b[0m \u001b[0mbgd\u001b[0m\u001b[0;34m.\u001b[0m\u001b[0mweight\u001b[0m\u001b[0;34m)\u001b[0m\u001b[0;34m\u001b[0m\u001b[0;34m\u001b[0m\u001b[0m\n",
            "\u001b[0;32m<ipython-input-26-106b9f3882a4>\u001b[0m in \u001b[0;36mfit\u001b[0;34m(self, x, t, epochs, print_step)\u001b[0m\n\u001b[1;32m     13\u001b[0m         \u001b[0mself\u001b[0m\u001b[0;34m.\u001b[0m\u001b[0mnum\u001b[0m\u001b[0;34m,\u001b[0m \u001b[0mself\u001b[0m\u001b[0;34m.\u001b[0m\u001b[0mdim\u001b[0m \u001b[0;34m=\u001b[0m \u001b[0mx\u001b[0m\u001b[0;34m.\u001b[0m\u001b[0mshape\u001b[0m\u001b[0;34m\u001b[0m\u001b[0;34m\u001b[0m\u001b[0m\n\u001b[1;32m     14\u001b[0m \u001b[0;34m\u001b[0m\u001b[0m\n\u001b[0;32m---> 15\u001b[0;31m         \u001b[0mx\u001b[0m \u001b[0;34m=\u001b[0m \u001b[0mnp\u001b[0m\u001b[0;34m.\u001b[0m\u001b[0mconcatenate\u001b[0m\u001b[0;34m(\u001b[0m\u001b[0;34m(\u001b[0m\u001b[0mnp\u001b[0m\u001b[0;34m.\u001b[0m\u001b[0mones\u001b[0m\u001b[0;34m(\u001b[0m\u001b[0mself\u001b[0m\u001b[0;34m.\u001b[0m\u001b[0mnum\u001b[0m\u001b[0;34m,\u001b[0m \u001b[0;36m1\u001b[0m\u001b[0;34m)\u001b[0m\u001b[0;34m,\u001b[0m \u001b[0mx\u001b[0m\u001b[0;34m)\u001b[0m\u001b[0;34m,\u001b[0m \u001b[0maxis\u001b[0m \u001b[0;34m=\u001b[0m\u001b[0;36m1\u001b[0m\u001b[0;34m)\u001b[0m\u001b[0;34m\u001b[0m\u001b[0;34m\u001b[0m\u001b[0m\n\u001b[0m\u001b[1;32m     16\u001b[0m         \u001b[0mself\u001b[0m\u001b[0;34m.\u001b[0m\u001b[0mweight\u001b[0m \u001b[0;34m=\u001b[0m \u001b[0mnp\u001b[0m\u001b[0;34m.\u001b[0m\u001b[0mrandom\u001b[0m\u001b[0;34m.\u001b[0m\u001b[0mrandn\u001b[0m\u001b[0;34m(\u001b[0m\u001b[0mself\u001b[0m\u001b[0;34m.\u001b[0m\u001b[0mdim\u001b[0m \u001b[0;34m+\u001b[0m\u001b[0;36m1\u001b[0m\u001b[0;34m)\u001b[0m\u001b[0;34m\u001b[0m\u001b[0;34m\u001b[0m\u001b[0m\n\u001b[1;32m     17\u001b[0m \u001b[0;34m\u001b[0m\u001b[0m\n",
            "\u001b[0;32m/usr/local/lib/python3.7/dist-packages/numpy/core/numeric.py\u001b[0m in \u001b[0;36mones\u001b[0;34m(shape, dtype, order)\u001b[0m\n\u001b[1;32m    190\u001b[0m \u001b[0;34m\u001b[0m\u001b[0m\n\u001b[1;32m    191\u001b[0m     \"\"\"\n\u001b[0;32m--> 192\u001b[0;31m     \u001b[0ma\u001b[0m \u001b[0;34m=\u001b[0m \u001b[0mempty\u001b[0m\u001b[0;34m(\u001b[0m\u001b[0mshape\u001b[0m\u001b[0;34m,\u001b[0m \u001b[0mdtype\u001b[0m\u001b[0;34m,\u001b[0m \u001b[0morder\u001b[0m\u001b[0;34m)\u001b[0m\u001b[0;34m\u001b[0m\u001b[0;34m\u001b[0m\u001b[0m\n\u001b[0m\u001b[1;32m    193\u001b[0m     \u001b[0mmultiarray\u001b[0m\u001b[0;34m.\u001b[0m\u001b[0mcopyto\u001b[0m\u001b[0;34m(\u001b[0m\u001b[0ma\u001b[0m\u001b[0;34m,\u001b[0m \u001b[0;36m1\u001b[0m\u001b[0;34m,\u001b[0m \u001b[0mcasting\u001b[0m\u001b[0;34m=\u001b[0m\u001b[0;34m'unsafe'\u001b[0m\u001b[0;34m)\u001b[0m\u001b[0;34m\u001b[0m\u001b[0;34m\u001b[0m\u001b[0m\n\u001b[1;32m    194\u001b[0m     \u001b[0;32mreturn\u001b[0m \u001b[0ma\u001b[0m\u001b[0;34m\u001b[0m\u001b[0;34m\u001b[0m\u001b[0m\n",
            "\u001b[0;31mTypeError\u001b[0m: Cannot interpret '1' as a data type"
          ]
        }
      ]
    },
    {
      "cell_type": "code",
      "metadata": {
        "id": "ywpfLfgyqQhZ"
      },
      "source": [
        "sgd = LinearRegressor(opt = 'sgd')\n",
        "\n",
        "sgd.fit(x_train, t_train, epochs = 2000, print_step = 100)\n",
        "\n",
        "print('weight:', sgd.weight)"
      ],
      "execution_count": null,
      "outputs": []
    },
    {
      "cell_type": "code",
      "metadata": {
        "id": "0Fq_-ZCaqt-2"
      },
      "source": [
        "plt.plot(range(0, 200, 10)bgd.history, labe = 'bgd')\n",
        "plt.plot(range(0,2000,100),sgd.history, lable = 'sgd')\n",
        "\n",
        "plt.title('Error - BGD Vd SGD')\n",
        "plt.legend()\n",
        "plt.show()\n",
        "\n",
        "print('Final error')\n",
        "print('BGD:', bgd.history[-1])\n",
        "print('SGD:', sgd.history[-1])"
      ],
      "execution_count": null,
      "outputs": []
    },
    {
      "cell_type": "code",
      "metadata": {
        "id": "0nuSbJKdrTgh"
      },
      "source": [
        "def plot_line(w,x,label):\n",
        "  y = [w[0] + w[1] *xi for xi in x]\n",
        "  plt.plot(x,y,label = label)"
      ],
      "execution_count": null,
      "outputs": []
    },
    {
      "cell_type": "code",
      "metadata": {
        "id": "cQaMWj8GrlFw"
      },
      "source": [
        "x = np.linsapce(0,2)\n",
        "\n",
        "plt.plot(x_train, y_train, 'r.')\n",
        "plot_line(bgd.weight, x, 'bgd')\n",
        "plot_line(sgd.weight, x, 'sgd')\n",
        "\n",
        "plt.legend()\n",
        "plt.show()"
      ],
      "execution_count": null,
      "outputs": []
    }
  ]
}
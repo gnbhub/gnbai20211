{
  "nbformat": 4,
  "nbformat_minor": 0,
  "metadata": {
    "colab": {
      "name": "week4_baekbosung_01",
      "provenance": [],
      "toc_visible": true,
      "authorship_tag": "ABX9TyNFjT2tXrtb8fjwAcIjb7R+",
      "include_colab_link": true
    },
    "kernelspec": {
      "name": "python3",
      "display_name": "Python 3"
    },
    "language_info": {
      "name": "python"
    }
  },
  "cells": [
    {
      "cell_type": "markdown",
      "metadata": {
        "id": "view-in-github",
        "colab_type": "text"
      },
      "source": [
        "<a href=\"https://colab.research.google.com/github/gnbhub/gnbai20211/blob/master/week4/week4_baekbosung_02.ipynb\" target=\"_parent\"><img src=\"https://colab.research.google.com/assets/colab-badge.svg\" alt=\"Open In Colab\"/></a>"
      ]
    },
    {
      "cell_type": "markdown",
      "metadata": {
        "id": "ZBkdqJcfvntx"
      },
      "source": [
        "# 1. Definition of AI, ML, DL\n"
      ]
    },
    {
      "cell_type": "markdown",
      "metadata": {
        "id": "vzoiSHsKwNiy"
      },
      "source": [
        "## 1) AI : techniques that enables computers to mimic human behavior\n",
        "## 2) ML : Ability to learn without explicitly being programmed\n",
        "## 3) DL : Extract patterns and classification\n",
        "\n",
        "### ML보다 DL이 과정이 간소하다. (특징 추출 과정 DL은 알아서 진행)"
      ]
    },
    {
      "cell_type": "markdown",
      "metadata": {
        "id": "qNrU1qGXw9aX"
      },
      "source": [
        "### Subfields of ML\n",
        "Supervised Learning vs Unsupervised Learning : 답안지의 유무 \\\\\n",
        "Reinforcement Learning : 행동의 평가를 바탕으로 보상 최대화 \\\\\n",
        "분류 : 예측할 값이 n개로 정해져있음\n",
        "회귀 : 예측할 값이 실수값으로 나타남"
      ]
    },
    {
      "cell_type": "markdown",
      "metadata": {
        "id": "9aD03g4Vybpa"
      },
      "source": [
        "# 2. Supervised Learning\n",
        "기계학습 모델의 개요 \\\\\n",
        "입력값에 대해 예측값과 참 값을 동일하게 하도록 파라메타를 바꿈. \\\\\n",
        "오차함수 : 예측값과 참 값이 얼마나 다른가를 수치화 \\\\\n",
        "대표적인 오차함수 : SSE \\\\\n",
        "오차함수를 극소화 시키는 최적해를 구함(Optional sol) \\\\\n",
        "OS = argminE(sol) = argmin SSE \\\\\n",
        "\n",
        "\n"
      ]
    },
    {
      "cell_type": "markdown",
      "metadata": {
        "id": "72PoB0bh099q"
      },
      "source": [
        "## 2-1) 경사하강법\n",
        "### 오차함수의 기울기가 감소하는 방향으로 이동시켜 극솟값에 수렴할 때 까지 반복하는 방법\n",
        "### cf) 확률적 경사 하강법 : 입력데이터의 개수가 커지면 하나의 i를 임의로 뽑아 연산한다. -> 정확도 down 속도 up"
      ]
    },
    {
      "cell_type": "code",
      "metadata": {
        "id": "fbd5HSLCva0n"
      },
      "source": [
        "import numpy as np\n",
        "import pandas as pd\n",
        "import matplotlib.pyplot as plt"
      ],
      "execution_count": 16,
      "outputs": []
    },
    {
      "cell_type": "code",
      "metadata": {
        "id": "jkmgp8UF-MYa"
      },
      "source": [
        "file_path = \"/content/data_lab1.txt\"\n",
        "col_name = ['x', 'y']\n",
        "df = pd.read_csv(file_path, sep = ' ', names = col_name)"
      ],
      "execution_count": 17,
      "outputs": []
    },
    {
      "cell_type": "code",
      "metadata": {
        "id": "lUEDRK2-_HXE"
      },
      "source": [
        "x_train = df['x'].values.reshape(-1, 1)\n",
        "y_train = df['y'].values.reshape(-1, 1)"
      ],
      "execution_count": 18,
      "outputs": []
    },
    {
      "cell_type": "code",
      "metadata": {
        "colab": {
          "base_uri": "https://localhost:8080/",
          "height": 283
        },
        "id": "LNcK9NGv_a8q",
        "outputId": "a52b057b-5cf8-4fe4-864b-7b50f8f7609e"
      },
      "source": [
        "plt.plot(x_train, y_train, 'r.')"
      ],
      "execution_count": 19,
      "outputs": [
        {
          "output_type": "execute_result",
          "data": {
            "text/plain": [
              "[<matplotlib.lines.Line2D at 0x7f23efbd6e50>]"
            ]
          },
          "metadata": {
            "tags": []
          },
          "execution_count": 19
        },
        {
          "output_type": "display_data",
          "data": {
            "image/png": "[encoded data removed]",
            "text/plain": [
              "<Figure size 432x288 with 1 Axes>"
            ]
          },
          "metadata": {
            "tags": [],
            "needs_background": "light"
          }
        }
      ]
    },
    {
      "cell_type": "markdown",
      "metadata": {
        "id": "6gkOT8JhAEB8"
      },
      "source": [
        "### Model"
      ]
    },
    {
      "cell_type": "code",
      "metadata": {
        "id": "Q5alSL0t_zwk"
      },
      "source": [
        "class LinearRegressor:\n",
        "    \n",
        "    def __init__(self, opt='bgd', lr=0.001):\n",
        "        self.opt     = opt\n",
        "        self.lr      = lr\n",
        "        self.weight  = None\n",
        "        self.history = []\n",
        "    \n",
        "    def fit(self, x, t, epochs=200, print_step=10):\n",
        "        assert x.shape[0] == t.shape[0]\n",
        "        assert len(x.shape) == 2\n",
        "        \n",
        "        self.num, self.dim = x.shape\n",
        "        \n",
        "        x = np.concatenate((np.ones((self.num, 1)), x), axis=1)\n",
        "        self.weight = np.random.randn(self.dim+1)\n",
        "        \n",
        "        for epoch in range(1, epochs+1):\n",
        "            y = self.forward(x)\n",
        "            self.backward(x, y, t)            \n",
        "            \n",
        "            if epoch % print_step == 0:\n",
        "                err = self.error(y, t)\n",
        "                print(f'epoch: {epoch}  sse: {err}')\n",
        "                self.history.append(err)\n",
        "        \n",
        "    \n",
        "    def forward(self, x):\n",
        "        y = [self.pred(xi) for xi in x]\n",
        "        \n",
        "        return np.array(y).reshape(-1, 1)\n",
        "        \n",
        "        \n",
        "    def pred(self, xi):\n",
        "        assert self.weight.shape == xi.shape\n",
        "        \n",
        "        return np.dot(self.weight, xi)\n",
        "    \n",
        "    \n",
        "    def error(self, y, t):\n",
        "        assert y.shape == t.shape\n",
        "        \n",
        "        return ((y - t)**2).sum() / 2\n",
        "    \n",
        "    \n",
        "    def backward(self, x, y, t):\n",
        "        \n",
        "        if self.opt == 'bgd':\n",
        "            for n in range(self.dim+1):\n",
        "                g = 0.\n",
        "                for i in range(self.num):\n",
        "                    g += (y[i] - t[i]) * x[i][n]\n",
        "                self.weight[n] -= self.lr * g\n",
        "        \n",
        "        elif self.opt == 'sgd':\n",
        "            for n in range(self.dim+1):\n",
        "                i = np.random.randint(self.num)\n",
        "                g = (y[i] - t[i]) * x[i][n]\n",
        "                self.weight[n] -= self.lr * g"
      ],
      "execution_count": 20,
      "outputs": []
    },
    {
      "cell_type": "markdown",
      "metadata": {
        "id": "88sbQ7nmh1QS"
      },
      "source": [
        "##BGD"
      ]
    },
    {
      "cell_type": "code",
      "metadata": {
        "colab": {
          "base_uri": "https://localhost:8080/"
        },
        "id": "sBKJLDVdAPuT",
        "outputId": "2e678cb6-466b-464a-e209-d7ad31255f87"
      },
      "source": [
        "bgd = LinearRegressor(opt='bgd')\n",
        "\n",
        "bgd.fit(x_train, y_train, epochs=200)\n",
        "\n",
        "print('weight :', bgd.weight)"
      ],
      "execution_count": 21,
      "outputs": [
        {
          "output_type": "stream",
          "text": [
            "epoch: 10  sse: 590.0845457795504\n",
            "epoch: 20  sse: 420.2382676098606\n",
            "epoch: 30  sse: 355.9858063090147\n",
            "epoch: 40  sse: 309.4721048107577\n",
            "epoch: 50  sse: 275.4896682595532\n",
            "epoch: 60  sse: 250.66018202402333\n",
            "epoch: 70  sse: 232.51834153818345\n",
            "epoch: 80  sse: 219.26287680434663\n",
            "epoch: 90  sse: 209.57767725346997\n",
            "epoch: 100  sse: 202.5011173422256\n",
            "epoch: 110  sse: 197.3305785304674\n",
            "epoch: 120  sse: 193.55268758639187\n",
            "epoch: 130  sse: 190.79234470822396\n",
            "epoch: 140  sse: 188.77548055892882\n",
            "epoch: 150  sse: 187.30184442883626\n",
            "epoch: 160  sse: 186.2251217131922\n",
            "epoch: 170  sse: 185.43840660577214\n",
            "epoch: 180  sse: 184.86358761918396\n",
            "epoch: 190  sse: 184.44359203981114\n",
            "epoch: 200  sse: 184.13671928367665\n",
            "weight : [-0.70112463 10.02805506]\n"
          ],
          "name": "stdout"
        }
      ]
    },
    {
      "cell_type": "markdown",
      "metadata": {
        "id": "blSL-3BJiJO4"
      },
      "source": [
        "##SGD"
      ]
    },
    {
      "cell_type": "code",
      "metadata": {
        "id": "9-7lmbjSBgYO",
        "colab": {
          "base_uri": "https://localhost:8080/"
        },
        "outputId": "980a347c-ae57-4d98-ac45-8938321319b2"
      },
      "source": [
        "\n",
        "sgd = LinearRegressor(opt='sgd')\n",
        "\n",
        "sgd.fit(x_train, y_train, epochs=2000, print_step=100)\n",
        "\n",
        "print('weight :', sgd.weight)"
      ],
      "execution_count": 22,
      "outputs": [
        {
          "output_type": "stream",
          "text": [
            "epoch: 100  sse: 4515.87399572328\n",
            "epoch: 200  sse: 3247.9766871085953\n",
            "epoch: 300  sse: 2134.868464605614\n",
            "epoch: 400  sse: 1634.5117765101268\n",
            "epoch: 500  sse: 1261.5531689427626\n",
            "epoch: 600  sse: 960.9534742211783\n",
            "epoch: 700  sse: 769.1727074460778\n",
            "epoch: 800  sse: 667.8929851558768\n",
            "epoch: 900  sse: 610.3993815934859\n",
            "epoch: 1000  sse: 555.8333238744689\n",
            "epoch: 1100  sse: 528.5277068501115\n",
            "epoch: 1200  sse: 497.54053541375987\n",
            "epoch: 1300  sse: 462.1213084584308\n",
            "epoch: 1400  sse: 448.51337628395396\n",
            "epoch: 1500  sse: 440.0823791944245\n",
            "epoch: 1600  sse: 435.6632695442511\n",
            "epoch: 1700  sse: 429.2648445431032\n",
            "epoch: 1800  sse: 421.80924472755265\n",
            "epoch: 1900  sse: 414.88239337431156\n",
            "epoch: 2000  sse: 403.76148832061904\n",
            "weight : [2.95563585 6.69163676]\n"
          ],
          "name": "stdout"
        }
      ]
    },
    {
      "cell_type": "markdown",
      "metadata": {
        "id": "KQu1DZMpiMHH"
      },
      "source": [
        "##Plot Learning Curve"
      ]
    },
    {
      "cell_type": "code",
      "metadata": {
        "colab": {
          "base_uri": "https://localhost:8080/",
          "height": 335
        },
        "id": "LohhYlCGE2qK",
        "outputId": "87b7d461-05da-43ac-ac26-9dd52baf7387"
      },
      "source": [
        "plt.plot(range(0, 200, 10), bgd.history, label='bgd')\n",
        "plt.plot(range(0, 2000, 100), sgd.history, label='sgd')\n",
        "\n",
        "plt.title('Error - BGD vd SGD')\n",
        "plt.legend()\n",
        "plt.show()\n",
        "\n",
        "print('Final error')\n",
        "print('BGD :', bgd.history[-1])\n",
        "print('SGD :', sgd.history[-1])"
      ],
      "execution_count": 23,
      "outputs": [
        {
          "output_type": "display_data",
          "data": {
            "image/png": "[encoded data removed]",
            "text/plain": [
              "<Figure size 432x288 with 1 Axes>"
            ]
          },
          "metadata": {
            "tags": [],
            "needs_background": "light"
          }
        },
        {
          "output_type": "stream",
          "text": [
            "Final error\n",
            "BGD : 184.13671928367665\n",
            "SGD : 403.76148832061904\n"
          ],
          "name": "stdout"
        }
      ]
    },
    {
      "cell_type": "markdown",
      "metadata": {
        "id": "WLZk9P4ViTHn"
      },
      "source": [
        "##Plot result"
      ]
    },
    {
      "cell_type": "code",
      "metadata": {
        "id": "oAqvaQkQiPUm"
      },
      "source": [
        "def plot_line(w, x, label):\n",
        "    y = [w[0] + w[1] * xi for xi in x]\n",
        "    plt.plot(x, y, label=label)"
      ],
      "execution_count": 24,
      "outputs": []
    },
    {
      "cell_type": "code",
      "metadata": {
        "colab": {
          "base_uri": "https://localhost:8080/",
          "height": 265
        },
        "id": "X1Jw3ZzHiSd3",
        "outputId": "f83af3f6-57f4-472b-d760-48246b0ca216"
      },
      "source": [
        "x = np.linspace(0, 2)\n",
        "\n",
        "plt.plot(x_train, y_train, 'r.')\n",
        "plot_line(bgd.weight, x, 'bgd')\n",
        "plot_line(sgd.weight, x, 'sgd')\n",
        "\n",
        "plt.legend()\n",
        "plt.show()"
      ],
      "execution_count": 25,
      "outputs": [
        {
          "output_type": "display_data",
          "data": {
            "image/png": "[encoded data removed]",
            "text/plain": [
              "<Figure size 432x288 with 1 Axes>"
            ]
          },
          "metadata": {
            "tags": [],
            "needs_background": "light"
          }
        }
      ]
    }
  ]
}
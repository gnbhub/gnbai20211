{
  "nbformat": 4,
  "nbformat_minor": 0,
  "metadata": {
    "colab": {
      "name": "week4_Karly",
      "provenance": [],
      "authorship_tag": "ABX9TyOJaTPdWxpIjAKx2JS59M35",
      "include_colab_link": true
    },
    "kernelspec": {
      "name": "python3",
      "display_name": "Python 3"
    },
    "language_info": {
      "name": "python"
    }
  },
  "cells": [
    {
      "cell_type": "markdown",
      "metadata": {
        "id": "view-in-github",
        "colab_type": "text"
      },
      "source": [
        "<a href=\"https://colab.research.google.com/github/gnbhub/gnbai20211/blob/master/week4/week4_Karly.ipynb\" target=\"_parent\"><img src=\"https://colab.research.google.com/assets/colab-badge.svg\" alt=\"Open In Colab\"/></a>"
      ]
    },
    {
      "cell_type": "markdown",
      "metadata": {
        "id": "EKbF7bcevYGF"
      },
      "source": [
        "#### Week 4 : Machine Learning Basics, Linear Regression"
      ]
    },
    {
      "cell_type": "code",
      "metadata": {
        "id": "4kmZc60KvTk8",
        "colab": {
          "base_uri": "https://localhost:8080/",
          "height": 314
        },
        "outputId": "c5ab18e1-074e-4f2e-d37a-a0554916b996"
      },
      "source": [
        "import numpy as np\n",
        "import pandas as pd\n",
        "import matplotlib.pyplot as plt\n",
        "\n",
        "col_name = ['x', 'y']\n",
        "file_path = '/content/data_lab1.txt'\n",
        "df = pd.read_csv(file_path, sep=\" \", names=col_name)\n",
        "\n",
        "x_train = df['x'].values.reshape(-1, 1)\n",
        "y_train = df['y'].values.reshape(-1, 1)\n",
        "\n",
        "plt.plot(x_train, y_train, 'r.')\n",
        "plt.title('Data Visualization')\n",
        "plt.xlabel('x')\n",
        "plt.ylabel('y')\n",
        "plt.legend()\n",
        "plt.show()"
      ],
      "execution_count": 27,
      "outputs": [
        {
          "output_type": "stream",
          "text": [
            "No handles with labels found to put in legend.\n"
          ],
          "name": "stderr"
        },
        {
          "output_type": "display_data",
          "data": {
            "image/png": "[encoded data removed]",
            "text/plain": [
              "<Figure size 432x288 with 1 Axes>"
            ]
          },
          "metadata": {
            "tags": [],
            "needs_background": "light"
          }
        }
      ]
    },
    {
      "cell_type": "code",
      "metadata": {
        "id": "aTt65Czh9h_l"
      },
      "source": [
        "class LinearRegressor:\n",
        "\n",
        "  def __init__(self, opt='bgd', lr=0.001):\n",
        "    self.opt = opt\n",
        "    self.lr = lr\n",
        "\n",
        "    self.weight = None\n",
        "\n",
        "  def train(self, x, y, epochs=100):\n",
        "    self.num, self.dim = x.shape\n",
        "\n",
        "    x = np.concatenate((np.ones((self.num, 1)), x), axis=1)\n",
        "\n",
        "    self.weight = np.random.rand(self.dim+1)\n",
        "\n",
        "    if self.opt == 'bgd':\n",
        "    # epoch : 모든 데이터에 대한 학습 완료\n",
        "      for epoch in range(epochs+1):\n",
        "        for n in range(self.dim+1):\n",
        "          grad = 0.\n",
        "          for i in range(self.num):\n",
        "            grad += (np.dot(self.weight, x[i]) - y[i]) * x[i][n]\n",
        "          self.weight[n] -= self.lr * grad\n",
        "\n",
        "    elif self.opt == 'sgd':\n",
        "      for epoch in range(epochs+1):\n",
        "        for n in range(self.dim+1):\n",
        "          i = np.random.randint(self.num)\n",
        "          grad = (np.dot(self.weight, x[i]) - y[i]) * x[i][n]\n",
        "          self.weight[n] -= self.lr * grad   \n"
      ],
      "execution_count": 26,
      "outputs": []
    },
    {
      "cell_type": "code",
      "metadata": {
        "id": "SJYVV5pFAcQg"
      },
      "source": [
        "reg = LinearRegressor()\n",
        "reg.train(x_train, y_train)"
      ],
      "execution_count": 25,
      "outputs": []
    }
  ]
}
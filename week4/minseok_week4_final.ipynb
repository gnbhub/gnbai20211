{
  "nbformat": 4,
  "nbformat_minor": 0,
  "metadata": {
    "colab": {
      "name": "minseok_week4_final.ipynb",
      "provenance": [],
      "authorship_tag": "ABX9TyN1wOqGt6dp7I87ju+BGzZW",
      "include_colab_link": true
    },
    "kernelspec": {
      "name": "python3",
      "display_name": "Python 3"
    },
    "language_info": {
      "name": "python"
    }
  },
  "cells": [
    {
      "cell_type": "markdown",
      "metadata": {
        "id": "view-in-github",
        "colab_type": "text"
      },
      "source": [
        "<a href=\"https://colab.research.google.com/github/gnbhub/gnbai20211/blob/master/week4/minseok_week4_final.ipynb\" target=\"_parent\"><img src=\"https://colab.research.google.com/assets/colab-badge.svg\" alt=\"Open In Colab\"/></a>"
      ]
    },
    {
      "cell_type": "code",
      "metadata": {
        "id": "W-PpsMyWvc2l"
      },
      "source": [
        "import numpy as np\n",
        "import pandas as pd\n",
        "import matplotlib.pyplot as plt"
      ],
      "execution_count": null,
      "outputs": []
    },
    {
      "cell_type": "code",
      "metadata": {
        "id": "KzigXV_w-NkI"
      },
      "source": [
        "file_path = \"/content/data_lab1 (1).txt\"\n",
        "\n",
        "col_name = ['x','y']\n",
        "\n",
        "df = pd.read_csv(file_path, sep=' ', names=col_name)"
      ],
      "execution_count": null,
      "outputs": []
    },
    {
      "cell_type": "code",
      "metadata": {
        "id": "DiDF5NTV-6w1"
      },
      "source": [
        "x_train = df['x'].values.reshape(-1,1)\n",
        "y_train = df['y'].values.reshape(-1,1)"
      ],
      "execution_count": null,
      "outputs": []
    },
    {
      "cell_type": "code",
      "metadata": {
        "colab": {
          "base_uri": "https://localhost:8080/",
          "height": 283
        },
        "id": "whqqDbLR_Iq-",
        "outputId": "dbcd81e3-f534-4d94-a5d7-bcbc136f6e6a"
      },
      "source": [
        "plt.plot(x_train,y_train,'r.')"
      ],
      "execution_count": null,
      "outputs": [
        {
          "output_type": "execute_result",
          "data": {
            "text/plain": [
              "[<matplotlib.lines.Line2D at 0x7efd6378d310>]"
            ]
          },
          "metadata": {
            "tags": []
          },
          "execution_count": 11
        },
        {
          "output_type": "display_data",
          "data": {
            "image/png": "[encoded data removed]",
            "text/plain": [
              "<Figure size 432x288 with 1 Axes>"
            ]
          },
          "metadata": {
            "tags": [],
            "needs_background": "light"
          }
        }
      ]
    },
    {
      "cell_type": "markdown",
      "metadata": {
        "id": "LUfV9c16AHc1"
      },
      "source": [
        "# Model"
      ]
    },
    {
      "cell_type": "code",
      "metadata": {
        "id": "NkeZ54yP_-tz"
      },
      "source": [
        "class LinearRegressor:\n",
        "    \n",
        "    def __init__(self, opt='bgd', lr=0.001):\n",
        "        self.opt     = opt\n",
        "        self.lr      = lr\n",
        "        self.weight  = None\n",
        "        self.history = []\n",
        "    \n",
        "    def fit(self, x, t, epochs=200, print_step=10):\n",
        "        assert x.shape[0] == t.shape[0]\n",
        "        assert len(x.shape) == 2\n",
        "        \n",
        "        self.num, self.dim = x.shape\n",
        "        \n",
        "        x = np.concatenate((np.ones((self.num, 1)), x), axis=1)\n",
        "        self.weight = np.random.randn(self.dim+1)\n",
        "        \n",
        "        for epoch in range(1, epochs+1):\n",
        "            y = self.forward(x)\n",
        "            self.backward(x, y, t)            \n",
        "            \n",
        "            if epoch % print_step == 0:\n",
        "                err = self.error(y, t)\n",
        "                print(f'epoch: {epoch}  sse: {err}')\n",
        "                self.history.append(err)\n",
        "        \n",
        "    \n",
        "    def forward(self, x):\n",
        "        y = [self.pred(xi) for xi in x]\n",
        "        \n",
        "        return np.array(y).reshape(-1, 1)\n",
        "        \n",
        "        \n",
        "    def pred(self, xi):\n",
        "        assert self.weight.shape == xi.shape\n",
        "        \n",
        "        return np.dot(self.weight, xi)\n",
        "    \n",
        "    \n",
        "    def error(self, y, t):\n",
        "        assert y.shape == t.shape\n",
        "        \n",
        "        return ((y - t)**2).sum() / 2\n",
        "    \n",
        "    \n",
        "    def backward(self, x, y, t):\n",
        "        \n",
        "        if self.opt == 'bgd':\n",
        "            for n in range(self.dim+1):\n",
        "                g = 0.\n",
        "                for i in range(self.num):\n",
        "                    g += (y[i] - t[i]) * x[i][n]\n",
        "                self.weight[n] -= self.lr * g\n",
        "        \n",
        "        elif self.opt == 'sgd':\n",
        "            for n in range(self.dim+1):\n",
        "                i = np.random.randint(self.num)\n",
        "                g = (y[i] - t[i]) * x[i][n]\n",
        "                self.weight[n] -= self.lr * g"
      ],
      "execution_count": null,
      "outputs": []
    },
    {
      "cell_type": "code",
      "metadata": {
        "colab": {
          "base_uri": "https://localhost:8080/"
        },
        "id": "5qg7aUV8AQdS",
        "outputId": "af4beb91-89c6-4bde-f023-b7f46e4262cb"
      },
      "source": [
        "bgd = LinearRegressor(opt='bgd')\n",
        "\n",
        "bgd.fit(x_train, y_train, epochs=200)\n",
        "\n",
        "print('weight :', bgd.weight)"
      ],
      "execution_count": null,
      "outputs": [
        {
          "output_type": "stream",
          "text": [
            "epoch: 10  sse: 773.1853825944147\n",
            "epoch: 20  sse: 564.3911674352802\n",
            "epoch: 30  sse: 461.38713641134603\n",
            "epoch: 40  sse: 386.4848783517541\n",
            "epoch: 50  sse: 331.759602711354\n",
            "epoch: 60  sse: 291.7742097250469\n",
            "epoch: 70  sse: 262.55859818880737\n",
            "epoch: 80  sse: 241.21200390499268\n",
            "epoch: 90  sse: 225.61496302247414\n",
            "epoch: 100  sse: 214.218874210522\n",
            "epoch: 110  sse: 205.8922408966692\n",
            "epoch: 120  sse: 199.80832706557942\n",
            "epoch: 130  sse: 195.36307216975666\n",
            "epoch: 140  sse: 192.11511507545026\n",
            "epoch: 150  sse: 189.74197213231605\n",
            "epoch: 160  sse: 188.00801836844997\n",
            "epoch: 170  sse: 186.7410927228947\n",
            "epoch: 180  sse: 185.81540449243874\n",
            "epoch: 190  sse: 185.1390438054396\n",
            "epoch: 200  sse: 184.6448560607248\n",
            "weight : [-0.63495173  9.97218402]\n"
          ],
          "name": "stdout"
        }
      ]
    },
    {
      "cell_type": "code",
      "metadata": {
        "colab": {
          "base_uri": "https://localhost:8080/"
        },
        "id": "IqsO29nTAVfL",
        "outputId": "3c3b5b9f-ddc6-4356-e864-b4eb62b44418"
      },
      "source": [
        "sgd = LinearRegressor(opt='sgd')\n",
        "\n",
        "sgd.fit(x_train, y_train, epochs=2000, print_step=100)\n",
        "\n",
        "print('weight :', sgd.weight)"
      ],
      "execution_count": null,
      "outputs": [
        {
          "output_type": "stream",
          "text": [
            "epoch: 100  sse: 2568.8299547735883\n",
            "epoch: 200  sse: 1809.3120039628757\n",
            "epoch: 300  sse: 1318.7155396690982\n",
            "epoch: 400  sse: 1058.5232937497067\n",
            "epoch: 500  sse: 894.0649878830159\n",
            "epoch: 600  sse: 761.8861354411927\n",
            "epoch: 700  sse: 675.5048611552684\n",
            "epoch: 800  sse: 619.3713580474482\n",
            "epoch: 900  sse: 574.101202108562\n",
            "epoch: 1000  sse: 540.9916396617633\n",
            "epoch: 1100  sse: 529.8692299606043\n",
            "epoch: 1200  sse: 507.6637508104247\n",
            "epoch: 1300  sse: 483.3824208560116\n",
            "epoch: 1400  sse: 471.25323619937586\n",
            "epoch: 1500  sse: 463.300230613281\n",
            "epoch: 1600  sse: 454.19031287580964\n",
            "epoch: 1700  sse: 438.007653850781\n",
            "epoch: 1800  sse: 425.48787551769226\n",
            "epoch: 1900  sse: 423.36624865638186\n",
            "epoch: 2000  sse: 421.9555589466154\n",
            "weight : [3.19840012 6.59262666]\n"
          ],
          "name": "stdout"
        }
      ]
    },
    {
      "cell_type": "code",
      "metadata": {
        "colab": {
          "base_uri": "https://localhost:8080/",
          "height": 335
        },
        "id": "04YlgjzIDtuC",
        "outputId": "4b3def97-e03b-451c-e8d6-317e9e520784"
      },
      "source": [
        "plt.plot(range(0, 200, 10), bgd.history, label='bgd')\n",
        "plt.plot(range(0, 2000, 100), sgd.history, label='sgd')\n",
        "\n",
        "plt.title('Error - BGD vd SGD')\n",
        "plt.legend()\n",
        "plt.show()\n",
        "\n",
        "print('Final error')\n",
        "print('BGD :', bgd.history[-1])\n",
        "print('SGD :', sgd.history[-1])"
      ],
      "execution_count": null,
      "outputs": [
        {
          "output_type": "display_data",
          "data": {
            "image/png": "[encoded data removed]",
            "text/plain": [
              "<Figure size 432x288 with 1 Axes>"
            ]
          },
          "metadata": {
            "tags": [],
            "needs_background": "light"
          }
        },
        {
          "output_type": "stream",
          "text": [
            "Final error\n",
            "BGD : 184.6448560607248\n",
            "SGD : 421.9555589466154\n"
          ],
          "name": "stdout"
        }
      ]
    },
    {
      "cell_type": "code",
      "metadata": {
        "id": "Ksfdii6QKcB7"
      },
      "source": [
        "def plot_line(w, x, label):\n",
        "    y = [w[0] + w[1] * xi for xi in x]\n",
        "    plt.plot(x, y, label=label)"
      ],
      "execution_count": null,
      "outputs": []
    },
    {
      "cell_type": "code",
      "metadata": {
        "colab": {
          "base_uri": "https://localhost:8080/",
          "height": 265
        },
        "id": "Zs0g2NVeKe0B",
        "outputId": "61eb6e63-f178-497f-9e6f-a7fb80a03da1"
      },
      "source": [
        "x = np.linspace(0, 2)\n",
        "\n",
        "plt.plot(x_train, y_train, 'r.')\n",
        "plot_line(bgd.weight, x, 'bgd')\n",
        "plot_line(sgd.weight, x, 'sgd')\n",
        "\n",
        "plt.legend()\n",
        "plt.show()"
      ],
      "execution_count": null,
      "outputs": [
        {
          "output_type": "display_data",
          "data": {
            "image/png": "[encoded data removed]",
            "text/plain": [
              "<Figure size 432x288 with 1 Axes>"
            ]
          },
          "metadata": {
            "tags": [],
            "needs_background": "light"
          }
        }
      ]
    },
    {
      "cell_type": "code",
      "metadata": {
        "id": "8EYJVYP3Kolh"
      },
      "source": [
        ""
      ],
      "execution_count": null,
      "outputs": []
    }
  ]
}
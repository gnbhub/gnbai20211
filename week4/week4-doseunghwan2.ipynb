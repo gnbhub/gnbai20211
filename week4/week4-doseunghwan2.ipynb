{
  "nbformat": 4,
  "nbformat_minor": 0,
  "metadata": {
    "colab": {
      "name": "Untitled4.ipynb",
      "provenance": [],
      "authorship_tag": "ABX9TyPOW4yzWBs4z8dvizc+Yo2N",
      "include_colab_link": true
    },
    "kernelspec": {
      "name": "python3",
      "display_name": "Python 3"
    },
    "language_info": {
      "name": "python"
    }
  },
  "cells": [
    {
      "cell_type": "markdown",
      "metadata": {
        "id": "view-in-github",
        "colab_type": "text"
      },
      "source": [
        "<a href=\"https://colab.research.google.com/github/gnbhub/gnbai20211/blob/master/week4/week4-doseunghwan2.ipynb\" target=\"_parent\"><img src=\"https://colab.research.google.com/assets/colab-badge.svg\" alt=\"Open In Colab\"/></a>"
      ]
    },
    {
      "cell_type": "code",
      "metadata": {
        "id": "IGDJ1q36lm58"
      },
      "source": [
        "import numpy as np\n",
        "import pandas as pd\n",
        "import matplotlib.pyplot as plt"
      ],
      "execution_count": 3,
      "outputs": []
    },
    {
      "cell_type": "code",
      "metadata": {
        "id": "tefKigNWmHAr"
      },
      "source": [
        "file_path = '/content/data_lab1.txt'\n",
        "\n",
        "col_name = ['x' , 'y']\n",
        "\n",
        "df = pd.read_csv(file_path, sep = ' ', names = col_name)\n",
        "x_train = df['x'].values.reshape(-1, 1)\n",
        "y_train = df['y'].values.reshape(-1, 1)"
      ],
      "execution_count": 9,
      "outputs": []
    },
    {
      "cell_type": "code",
      "metadata": {
        "colab": {
          "base_uri": "https://localhost:8080/",
          "height": 282
        },
        "id": "Y64Ew7X1SVDo",
        "outputId": "e07a1a02-07fb-4ba6-96d0-2b7c3580f2d0"
      },
      "source": [
        "plt.plot(x_train, y_train, 'r.', label='train')"
      ],
      "execution_count": 10,
      "outputs": [
        {
          "output_type": "execute_result",
          "data": {
            "text/plain": [
              "[<matplotlib.lines.Line2D at 0x7fc6a9c681d0>]"
            ]
          },
          "metadata": {
            "tags": []
          },
          "execution_count": 10
        },
        {
          "output_type": "display_data",
          "data": {
            "image/png": "[encoded data removed]",
            "text/plain": [
              "<Figure size 432x288 with 1 Axes>"
            ]
          },
          "metadata": {
            "tags": [],
            "needs_background": "light"
          }
        }
      ]
    },
    {
      "cell_type": "code",
      "metadata": {
        "id": "9mP6xzUGSU9a"
      },
      "source": [
        "class LinearRegressor:\n",
        "    \n",
        "    def __init__(self, opt='bgd', lr=0.001):\n",
        "        self.opt     = opt\n",
        "        self.lr      = lr\n",
        "        self.weight  = None\n",
        "        self.history = []\n",
        "    \n",
        "    def fit(self, x, t, epochs=200, print_step=10): #fit라는 메소드\n",
        "        assert x.shape[0] == t.shape[0] \n",
        "        assert len(x.shape) == 2    #파일이 정상적인지 확인\n",
        "        \n",
        "        self.num, self.dim = x.shape\n",
        "        \n",
        "        x = np.concatenate((np.ones((self.num, 1)), x), axis=1)\n",
        "        self.weight = np.random.randn(self.dim+1)\n",
        "        \n",
        "        for epoch in range(1, epochs+1):\n",
        "            y = self.forward(x)\n",
        "            self.backward(x, y, t)            \n",
        "            \n",
        "            if epoch % print_step == 0:\n",
        "                err = self.error(y, t)\n",
        "                print(f'epoch: {epoch}  sse: {err}')\n",
        "                self.history.append(err)\n",
        "        \n",
        "    \n",
        "    def forward(self, x):\n",
        "        y = [self.pred(xi) for xi in x]\n",
        "        \n",
        "        return np.array(y).reshape(-1, 1)\n",
        "        \n",
        "        \n",
        "    def pred(self, xi):\n",
        "        assert self.weight.shape == xi.shape\n",
        "        \n",
        "        return np.dot(self.weight, xi)\n",
        "    \n",
        "    \n",
        "    def error(self, y, t):\n",
        "        assert y.shape == t.shape\n",
        "        \n",
        "        return ((y - t)**2).sum() / 2\n",
        "    \n",
        "    \n",
        "    def backward(self, x, y, t):\n",
        "        \n",
        "        if self.opt == 'bgd':\n",
        "            for n in range(self.dim+1):\n",
        "                g = 0.\n",
        "                for i in range(self.num):\n",
        "                    g += (y[i] - t[i]) * x[i][n]\n",
        "                self.weight[n] -= self.lr * g\n",
        "        \n",
        "        elif self.opt == 'sgd':\n",
        "            for n in range(self.dim+1):\n",
        "                i = np.random.randint(self.num)\n",
        "                g = (y[i] - t[i]) * x[i][n]\n",
        "                self.weight[n] -= self.lr * g"
      ],
      "execution_count": 12,
      "outputs": []
    },
    {
      "cell_type": "code",
      "metadata": {
        "colab": {
          "base_uri": "https://localhost:8080/"
        },
        "id": "xt1_bpawaaj4",
        "outputId": "45fd6331-c3d9-4fd4-d640-3240170e329b"
      },
      "source": [
        "bgd = LinearRegressor(opt='bgd')\n",
        "\n",
        "bgd.fit(x_train, y_train, epochs=200)\n",
        "\n",
        "print('weight :', bgd.weight)"
      ],
      "execution_count": 13,
      "outputs": [
        {
          "output_type": "stream",
          "text": [
            "epoch: 10  sse: 830.2225648387118\n",
            "epoch: 20  sse: 593.4661379197588\n",
            "epoch: 30  sse: 482.53984895787573\n",
            "epoch: 40  sse: 401.93959917001206\n",
            "epoch: 50  sse: 343.05169959061067\n",
            "epoch: 60  sse: 300.02486055945144\n",
            "epoch: 70  sse: 268.5869948808221\n",
            "epoch: 80  sse: 245.6166948084352\n",
            "epoch: 90  sse: 228.83328174734785\n",
            "epoch: 100  sse: 216.57036166830875\n",
            "epoch: 110  sse: 207.61037192620094\n",
            "epoch: 120  sse: 201.06369171779755\n",
            "epoch: 130  sse: 196.28031327823498\n",
            "epoch: 140  sse: 192.7853038127196\n",
            "epoch: 150  sse: 190.23165029807961\n",
            "epoch: 160  sse: 188.36580520175693\n",
            "epoch: 170  sse: 187.00251221642716\n",
            "epoch: 180  sse: 186.00641250401677\n",
            "epoch: 190  sse: 185.27860516711925\n",
            "epoch: 200  sse: 184.74682756188315\n",
            "weight : [-0.62329742  9.96234406]\n"
          ],
          "name": "stdout"
        }
      ]
    },
    {
      "cell_type": "code",
      "metadata": {
        "colab": {
          "base_uri": "https://localhost:8080/"
        },
        "id": "Gu60XgWJb1i7",
        "outputId": "e313b4c8-5e90-423f-d5d0-ad495330a1f5"
      },
      "source": [
        "sgd = LinearRegressor(opt='sgd')\n",
        "\n",
        "sgd.fit(x_train, y_train, epochs=2000, print_step=100)\n",
        "\n",
        "print('weight :', sgd.weight)"
      ],
      "execution_count": 16,
      "outputs": [
        {
          "output_type": "stream",
          "text": [
            "epoch: 100  sse: 4435.38699810368\n",
            "epoch: 200  sse: 3153.888090831418\n",
            "epoch: 300  sse: 2125.8134410470934\n",
            "epoch: 400  sse: 1494.6420784599045\n",
            "epoch: 500  sse: 1160.3055654154332\n",
            "epoch: 600  sse: 915.9769101281456\n",
            "epoch: 700  sse: 763.1177026430283\n",
            "epoch: 800  sse: 636.6222423149869\n",
            "epoch: 900  sse: 560.2595002422087\n",
            "epoch: 1000  sse: 510.1419801948065\n",
            "epoch: 1100  sse: 468.00583062587725\n",
            "epoch: 1200  sse: 443.21603326743855\n",
            "epoch: 1300  sse: 425.27570424321345\n",
            "epoch: 1400  sse: 406.4188893226839\n",
            "epoch: 1500  sse: 392.9922207820021\n",
            "epoch: 1600  sse: 390.15388456206904\n",
            "epoch: 1700  sse: 382.61549505984794\n",
            "epoch: 1800  sse: 373.54747309898477\n",
            "epoch: 1900  sse: 366.5966069260177\n",
            "epoch: 2000  sse: 361.42885704740894\n",
            "weight : [2.58353446 7.05577304]\n"
          ],
          "name": "stdout"
        }
      ]
    },
    {
      "cell_type": "code",
      "metadata": {
        "colab": {
          "base_uri": "https://localhost:8080/",
          "height": 334
        },
        "id": "DQFnCRrBcVT6",
        "outputId": "8fa48d1b-6458-431a-a669-739ef48e9c60"
      },
      "source": [
        "plt.plot(range(0, 200, 10), bgd.history, label='bgd')\n",
        "plt.plot(range(0, 2000, 100), sgd.history, label='sgd')\n",
        "\n",
        "plt.title('Error - BGD vd SGD')\n",
        "plt.legend()\n",
        "plt.show()\n",
        "\n",
        "print('Final error')\n",
        "print('BGD :', bgd.history[-1])\n",
        "print('SGD :', sgd.history[-1])"
      ],
      "execution_count": 17,
      "outputs": [
        {
          "output_type": "display_data",
          "data": {
            "image/png": "[encoded data removed]",
            "text/plain": [
              "<Figure size 432x288 with 1 Axes>"
            ]
          },
          "metadata": {
            "tags": [],
            "needs_background": "light"
          }
        },
        {
          "output_type": "stream",
          "text": [
            "Final error\n",
            "BGD : 184.74682756188315\n",
            "SGD : 361.42885704740894\n"
          ],
          "name": "stdout"
        }
      ]
    },
    {
      "cell_type": "code",
      "metadata": {
        "colab": {
          "base_uri": "https://localhost:8080/",
          "height": 265
        },
        "id": "OwCdHJr0cfsJ",
        "outputId": "f2d8d8ea-e1c9-464d-e0c7-4084c568109f"
      },
      "source": [
        "def plot_line(w, x, label):\n",
        "    y = [w[0] + w[1] * xi for xi in x]\n",
        "    plt.plot(x, y, label=label)\n",
        "\n",
        "x = np.linspace(0, 2)\n",
        "\n",
        "plt.plot(x_train, y_train, 'r.')\n",
        "plot_line(bgd.weight, x, 'bgd')\n",
        "plot_line(sgd.weight, x, 'sgd')\n",
        "\n",
        "plt.legend()\n",
        "plt.show()\n"
      ],
      "execution_count": 20,
      "outputs": [
        {
          "output_type": "display_data",
          "data": {
            "image/png": "[encoded data removed]",
            "text/plain": [
              "<Figure size 432x288 with 1 Axes>"
            ]
          },
          "metadata": {
            "tags": [],
            "needs_background": "light"
          }
        }
      ]
    }
  ]
}
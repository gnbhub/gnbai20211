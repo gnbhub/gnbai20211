{
 "cells": [
  {
   "cell_type": "markdown",
   "id": "prerequisite-salem",
   "metadata": {
    "slideshow": {
     "slide_type": "slide"
    }
   },
   "source": [
    "# GNB Python-AI Study\n",
    "Week 2 : Python Object-Oriented Programming"
   ]
  },
  {
   "cell_type": "markdown",
   "id": "remarkable-mirror",
   "metadata": {
    "slideshow": {
     "slide_type": "subslide"
    }
   },
   "source": [
    "## Index\n",
    "1. More Python basics\n",
    "2. What is object-oriented programming?\n",
    "3. Object-oriented programming in Python"
   ]
  },
  {
   "cell_type": "markdown",
   "id": "powerful-audience",
   "metadata": {
    "slideshow": {
     "slide_type": "slide"
    }
   },
   "source": [
    "## 1. More Python basics"
   ]
  },
  {
   "cell_type": "markdown",
   "id": "difficult-budapest",
   "metadata": {
    "slideshow": {
     "slide_type": "subslide"
    }
   },
   "source": [
    "### 1-1. Boolean Operations\n",
    "In C language, boolean operator `||` and `&&` only return the boolean value (0 or 1).<br>\n",
    "But, Python's `or` and `and` operator return the actual value of the operand.\n",
    "\n",
    "| Operation | Result | C lang |\n",
    "|:---------:|:-------|:------:|\n",
    "|`x or y`|if x is false, then y, else x|`x \\|\\| y`|\n",
    "|`x and y`|if x is false, then x, else y|`x && y`|\n",
    "|`not x`|if x is false, then `True`, else `False`|`!x`|"
   ]
  },
  {
   "cell_type": "code",
   "execution_count": 1,
   "id": "further-communication",
   "metadata": {
    "slideshow": {
     "slide_type": "-"
    }
   },
   "outputs": [
    {
     "name": "stdout",
     "output_type": "stream",
     "text": [
      "x or y : 3.14\n",
      "x and y : 0\n",
      "not x : False\n"
     ]
    }
   ],
   "source": [
    "# 3.14:True, 0:False\n",
    "x, y = 3.14, 0\n",
    "\n",
    "print(f'x or y : {x or y}')\n",
    "print(f'x and y : {x and y}')\n",
    "print(f'not x : {not x}')"
   ]
  },
  {
   "cell_type": "markdown",
   "id": "cubic-republic",
   "metadata": {
    "slideshow": {
     "slide_type": "subslide"
    }
   },
   "source": [
    "### 1-2. Comparisons\n",
    "Unlike C language, Python's comparisons can be chained.<br>\n",
    "For example, `x < y <= z` is equivalent to `x < y and y <= z`\n",
    "\n",
    "| Operation | Result | | Operation | Result |\n",
    "|:---------:|:-------|-|:---------:|:-------|\n",
    "|`<`|strictly less than| |`==`|equal|\n",
    "|`<=`|less than or equal| |`!=`|not equal|\n",
    "|`>`|strictly greater than| |`is`|object identity|\n",
    "|`>=`|greater than or equal| |`is not`|negated object identity|"
   ]
  },
  {
   "cell_type": "code",
   "execution_count": 2,
   "id": "subsequent-hands",
   "metadata": {
    "slideshow": {
     "slide_type": "-"
    }
   },
   "outputs": [
    {
     "name": "stdout",
     "output_type": "stream",
     "text": [
      "a == b : True\n",
      "a is b : True\n"
     ]
    }
   ],
   "source": [
    "a = [1, 2, 3]\n",
    "b = a # shallow copy\n",
    "\n",
    "print(f'a == b : {a == b}') # equality of value\n",
    "print(f'a is b : {a is b}') # identity of object"
   ]
  },
  {
   "cell_type": "code",
   "execution_count": 3,
   "id": "healthy-space",
   "metadata": {
    "slideshow": {
     "slide_type": "-"
    }
   },
   "outputs": [
    {
     "name": "stdout",
     "output_type": "stream",
     "text": [
      "a == c : True\n",
      "a is c : False\n"
     ]
    }
   ],
   "source": [
    "c = list(a) # deep copy\n",
    "\n",
    "print(f'a == c : {a == c}') # equality of value\n",
    "print(f'a is c : {a is c}') # identity of object"
   ]
  },
  {
   "cell_type": "markdown",
   "id": "dominant-split",
   "metadata": {
    "slideshow": {
     "slide_type": "subslide"
    }
   },
   "source": [
    "### 1-3. Set\n",
    "Set is an unordered collection with no duplicate elements.<br>\n",
    "Basic uses include membership testing or eliminating duplicate entries.<br>\n",
    "Also supports mathematical operations like union, intersection, difference, and symmetric difference."
   ]
  },
  {
   "cell_type": "code",
   "execution_count": 4,
   "id": "certified-desert",
   "metadata": {
    "slideshow": {
     "slide_type": "-"
    }
   },
   "outputs": [
    {
     "name": "stdout",
     "output_type": "stream",
     "text": [
      "fruits : {'banana', 'apple', 'pear', 'orange'}\n",
      "'orange' in fruits : True\n",
      "'grape' not in fruits : True\n"
     ]
    }
   ],
   "source": [
    "# using set removes duplicates\n",
    "fruits = {'apple', 'orange', 'apple', 'pear', 'orange', 'banana'}\n",
    "print(f'fruits : {fruits}')\n",
    "\n",
    "# fast membership testing\n",
    "print(f\"'orange' in fruits : {'orange' in fruits}\")\n",
    "print(f\"'grape' not in fruits : {'grape' not in fruits}\")"
   ]
  },
  {
   "cell_type": "code",
   "execution_count": 5,
   "id": "chubby-produce",
   "metadata": {
    "slideshow": {
     "slide_type": "-"
    }
   },
   "outputs": [
    {
     "name": "stdout",
     "output_type": "stream",
     "text": [
      "a | b : {'d', 'c', 'a', 'b', 'l', 'z', 'r', 'm'}\n",
      "a & b : {'c', 'a'}\n",
      "a - b : {'d', 'r', 'b'}\n",
      "a ^ b : {'d', 'l', 'z', 'r', 'b', 'm'}\n"
     ]
    }
   ],
   "source": [
    "a = set('abracadabra')       # {'a', 'b', 'c', 'd', 'r'}\n",
    "b = set('alacazam')          # {'a', 'c', 'l', 'm', 'z'}\n",
    "\n",
    "print(f'a | b : {a | b}')    # Union\n",
    "print(f'a & b : {a & b}')    # Intersection\n",
    "print(f'a - b : {a - b}')    # Difference\n",
    "print(f'a ^ b : {a ^ b}')    # Symmetric difference"
   ]
  },
  {
   "cell_type": "markdown",
   "id": "athletic-perry",
   "metadata": {
    "slideshow": {
     "slide_type": "subslide"
    }
   },
   "source": [
    "### 1-4. Dictionary\n",
    "Unlike sequences, which are indexed by a range of numbers, dictionaries are indexed by **keys**"
   ]
  },
  {
   "cell_type": "code",
   "execution_count": 6,
   "id": "departmental-easter",
   "metadata": {
    "slideshow": {
     "slide_type": "-"
    }
   },
   "outputs": [
    {
     "name": "stdout",
     "output_type": "stream",
     "text": [
      "{'calculus': 90, 'physics': 70}\n",
      "{'calculus': 90, 'physics': 70}\n",
      "{'calculus': 90, 'physics': 70}\n"
     ]
    }
   ],
   "source": [
    "# create dictionary with {key:value, ...}\n",
    "scores = {'calculus':90, 'physics':70}\n",
    "print(scores)\n",
    "\n",
    "# create dictionary with sequences of key-value pair\n",
    "scores = dict([('calculus', 90), ('physics', 70)])\n",
    "print(scores)\n",
    "\n",
    "# create dictionary with keyword arguments\n",
    "scores = dict(calculus=90, physics=70)\n",
    "print(scores)"
   ]
  },
  {
   "cell_type": "code",
   "execution_count": 7,
   "id": "solid-gateway",
   "metadata": {
    "slideshow": {
     "slide_type": "-"
    }
   },
   "outputs": [
    {
     "name": "stdout",
     "output_type": "stream",
     "text": [
      "{'calculus': 90, 'physics': 70, 'chemistry': 80}\n",
      "{'physics': 70, 'chemistry': 80}\n"
     ]
    }
   ],
   "source": [
    "# add item 'chemistry':80\n",
    "scores['chemistry'] = 80\n",
    "print(scores)\n",
    "\n",
    "# delete item 'calculus':90\n",
    "del scores['calculus']\n",
    "print(scores)"
   ]
  },
  {
   "cell_type": "markdown",
   "id": "legitimate-kenya",
   "metadata": {
    "slideshow": {
     "slide_type": "subslide"
    }
   },
   "source": [
    "### 1-5. List Comprehensions\n",
    "List comprehensions provide a concise way to create lists.\n",
    "#### ex1) create a new list with the values squared"
   ]
  },
  {
   "cell_type": "code",
   "execution_count": 8,
   "id": "circular-argument",
   "metadata": {
    "slideshow": {
     "slide_type": "-"
    }
   },
   "outputs": [
    {
     "name": "stdout",
     "output_type": "stream",
     "text": [
      "[1, 16, 1, 16, 4, 1, 9, 25, 36, 4]\n"
     ]
    }
   ],
   "source": [
    "nums = [1, 4, 1, 4, 2, 1, 3, 5, 6, 2]\n",
    "\n",
    "squares = []\n",
    "for x in nums:\n",
    "    squares.append(x ** 2)\n",
    "\n",
    "print(squares)"
   ]
  },
  {
   "cell_type": "code",
   "execution_count": 9,
   "id": "fundamental-alert",
   "metadata": {
    "slideshow": {
     "slide_type": "-"
    }
   },
   "outputs": [
    {
     "name": "stdout",
     "output_type": "stream",
     "text": [
      "[1, 16, 1, 16, 4, 1, 9, 25, 36, 4]\n"
     ]
    }
   ],
   "source": [
    "# we can use map() function, but it's hard to read\n",
    "squares = list(map(lambda x: x**2, nums))\n",
    "print(squares)"
   ]
  },
  {
   "cell_type": "code",
   "execution_count": 10,
   "id": "impressive-delaware",
   "metadata": {
    "slideshow": {
     "slide_type": "-"
    }
   },
   "outputs": [
    {
     "name": "stdout",
     "output_type": "stream",
     "text": [
      "[1, 16, 1, 16, 4, 1, 9, 25, 36, 4]\n"
     ]
    }
   ],
   "source": [
    "# equivalent code with list comprehension\n",
    "squares = [x ** 2 for x in nums]\n",
    "print(squares)"
   ]
  },
  {
   "cell_type": "markdown",
   "id": "dedicated-hawaiian",
   "metadata": {
    "slideshow": {
     "slide_type": "subslide"
    }
   },
   "source": [
    "#### ex2) create a new list only with even values"
   ]
  },
  {
   "cell_type": "code",
   "execution_count": 11,
   "id": "blank-entrance",
   "metadata": {
    "slideshow": {
     "slide_type": "-"
    }
   },
   "outputs": [
    {
     "name": "stdout",
     "output_type": "stream",
     "text": [
      "[4, 4, 2, 6, 2]\n"
     ]
    }
   ],
   "source": [
    "nums = [1, 4, 1, 4, 2, 1, 3, 5, 6, 2]\n",
    "\n",
    "evens = []\n",
    "for x in nums:\n",
    "    if x % 2 == 0:\n",
    "        evens.append(x)\n",
    "\n",
    "print(evens)"
   ]
  },
  {
   "cell_type": "code",
   "execution_count": 12,
   "id": "varied-plant",
   "metadata": {
    "slideshow": {
     "slide_type": "-"
    }
   },
   "outputs": [
    {
     "name": "stdout",
     "output_type": "stream",
     "text": [
      "[4, 4, 2, 6, 2]\n"
     ]
    }
   ],
   "source": [
    "# we can use filter() function, but it's hard to read\n",
    "evens = list(filter(lambda x: x%2==0, nums))\n",
    "print(evens)"
   ]
  },
  {
   "cell_type": "code",
   "execution_count": 13,
   "id": "prostate-leeds",
   "metadata": {
    "slideshow": {
     "slide_type": "-"
    }
   },
   "outputs": [
    {
     "name": "stdout",
     "output_type": "stream",
     "text": [
      "[4, 4, 2, 6, 2]\n"
     ]
    }
   ],
   "source": [
    "# equivalent code with list comprehension\n",
    "squares = [x for x in nums if x % 2 == 0]\n",
    "print(squares)"
   ]
  },
  {
   "cell_type": "markdown",
   "id": "fresh-insured",
   "metadata": {
    "slideshow": {
     "slide_type": "subslide"
    }
   },
   "source": [
    "### 1-6. Function"
   ]
  },
  {
   "cell_type": "code",
   "execution_count": 14,
   "id": "virtual-support",
   "metadata": {
    "slideshow": {
     "slide_type": "-"
    }
   },
   "outputs": [],
   "source": [
    "def say_hello_world():\n",
    "    print('Hello world!')\n",
    "\n",
    "def say_hello_to(name):\n",
    "    print(f'Hello {name}!')\n",
    "\n",
    "def get_full_name(first, last):\n",
    "    '''\n",
    "    returns full name string\n",
    "    '''\n",
    "    return first + ' ' + last"
   ]
  },
  {
   "cell_type": "code",
   "execution_count": 15,
   "id": "greater-england",
   "metadata": {
    "slideshow": {
     "slide_type": "-"
    }
   },
   "outputs": [
    {
     "name": "stdout",
     "output_type": "stream",
     "text": [
      "Hello world!\n",
      "Hello GNB!\n",
      "Hello Dohun Kim!\n"
     ]
    }
   ],
   "source": [
    "say_hello_world()\n",
    "say_hello_to('GNB')\n",
    "\n",
    "myname = get_full_name('Dohun', 'Kim')\n",
    "say_hello_to(myname)"
   ]
  },
  {
   "cell_type": "code",
   "execution_count": 16,
   "id": "multiple-bowling",
   "metadata": {
    "slideshow": {
     "slide_type": "-"
    }
   },
   "outputs": [
    {
     "name": "stdout",
     "output_type": "stream",
     "text": [
      "Help on function get_full_name in module __main__:\n",
      "\n",
      "get_full_name(first, last)\n",
      "    returns full name string\n",
      "\n"
     ]
    }
   ],
   "source": [
    "help(get_full_name)"
   ]
  },
  {
   "cell_type": "markdown",
   "id": "narrative-delta",
   "metadata": {
    "slideshow": {
     "slide_type": "slide"
    }
   },
   "source": [
    "## 2. What is object-oriented programming?"
   ]
  },
  {
   "cell_type": "markdown",
   "id": "inclusive-roberts",
   "metadata": {
    "slideshow": {
     "slide_type": "subslide"
    }
   },
   "source": [
    "### 2-1. Object-oriented programming\n",
    "\n",
    "<br>\n",
    "<table>\n",
    "  <tr>\n",
    "    <td>\n",
    "      <center>\n",
    "      <img src='images/week2/car-class.png' width='60%'>\n",
    "      </center>\n",
    "    </td>\n",
    "    <td>\n",
    "      <img src='images/week2/class-and-object.png' >\n",
    "    </td>\n",
    "  </tr>\n",
    "</table>\n",
    "\n",
    "Object-oriented programming (OOP) is a programming paradigm<br>\n",
    "based on the concept of \"***objects***\", which can contain ***data*** and ***code***:<br>\n",
    "***data*** in the form of fields (often known as ***attributes*** or properties),<br>\n",
    "and ***code***, in the form of procedures (often known as ***methods***).\n",
    "\n",
    "OOP allow us to logically group our data and functions<br>\n",
    "in a way that is easy to reuse and also easy to build upon if need be."
   ]
  },
  {
   "cell_type": "markdown",
   "id": "identified-closer",
   "metadata": {
    "slideshow": {
     "slide_type": "subslide"
    }
   },
   "source": [
    "### 2-2. Terminology\n",
    "\n",
    "| Terms | Meanings |\n",
    "|:------|:---------|\n",
    "|Class|Group of the definitions of the variables and functions.|\n",
    "|Object|Instance of a class.|\n",
    "|Attribute|Variable that is associated with a class.|\n",
    "|Method|Function that is associated with a class.|\n",
    "|Instantiation|Creating a object from a class.|\n",
    "|Inheritance|Deriving new classes from existing ones.|\n",
    "|Subclass|Class that inherits one or more other classes.<br>Also called 'Child class' or 'Derived class'.|\n",
    "|Superclass|Class that is inherited by a subclass.<br>Also called 'Parent class'.|\n"
   ]
  },
  {
   "cell_type": "markdown",
   "id": "terminal-genesis",
   "metadata": {
    "slideshow": {
     "slide_type": "slide"
    }
   },
   "source": [
    "## 3. Object-oriented programming in Python"
   ]
  },
  {
   "cell_type": "markdown",
   "id": "large-nutrition",
   "metadata": {
    "slideshow": {
     "slide_type": "subslide"
    }
   },
   "source": [
    "### 3-1. Class"
   ]
  },
  {
   "cell_type": "code",
   "execution_count": 17,
   "id": "incorporated-ranch",
   "metadata": {
    "slideshow": {
     "slide_type": "-"
    }
   },
   "outputs": [
    {
     "name": "stdout",
     "output_type": "stream",
     "text": [
      "<class '__main__.Student'>\n",
      "<__main__.Student object at 0x7fcb98d37250>\n",
      "<__main__.Student object at 0x7fcb98d37350>\n",
      "True True\n"
     ]
    }
   ],
   "source": [
    "class Student:       # Class is a blueprint for creating Objects(=Instances)\n",
    "    pass\n",
    "\n",
    "std_1 = Student()    # Instantitation:\n",
    "std_2 = Student()    #   Create two unique Objects(=Instances) of Student class\n",
    "\n",
    "print(Student)\n",
    "print(std_1)         # we can see that std_1 and std_2 have\n",
    "print(std_2)         # different locations in memory\n",
    "\n",
    "print(isinstance(std_1, Student), isinstance(std_2, Student))"
   ]
  },
  {
   "cell_type": "code",
   "execution_count": 18,
   "id": "human-agreement",
   "metadata": {
    "slideshow": {
     "slide_type": "-"
    }
   },
   "outputs": [
    {
     "name": "stdout",
     "output_type": "stream",
     "text": [
      "Dohun.Kim@knu.ac.kr\n",
      "Test.Name@knu.ac.kr\n"
     ]
    }
   ],
   "source": [
    "std_1.first = 'Dohun'                # we can set instance attributes manually\n",
    "std_1.last = 'Kim'                   # but it's a lot of code, and it's also prone to mistakes\n",
    "std_1.email = 'Dohun.Kim@knu.ac.kr'  # so we don't get much benefit of using classes\n",
    "std_1.gpa = 4.18\n",
    "\n",
    "std_2.first = 'Test'\n",
    "std_2.last = 'Name'\n",
    "std_2.email = 'Test.Name@knu.ac.kr'\n",
    "std_2.gpa = 4.0\n",
    "\n",
    "print(std_1.email)\n",
    "print(std_2.email)"
   ]
  },
  {
   "cell_type": "markdown",
   "id": "necessary-intro",
   "metadata": {
    "slideshow": {
     "slide_type": "subslide"
    }
   },
   "source": [
    "### 3-2. \\_\\_init\\_\\_( ) method"
   ]
  },
  {
   "cell_type": "code",
   "execution_count": 19,
   "id": "furnished-ebony",
   "metadata": {
    "slideshow": {
     "slide_type": "-"
    }
   },
   "outputs": [
    {
     "name": "stdout",
     "output_type": "stream",
     "text": [
      "Dohun.Kim@knu.ac.kr\n",
      "Test.Name@knu.ac.kr\n"
     ]
    }
   ],
   "source": [
    "# we want to make class to set up attributes automatically\n",
    "# we can use special method __init__() for this\n",
    "# __init__() will be run at every instantiation\n",
    "# you can read __something__ as [dunder-something] which means 'double underscores'\n",
    "\n",
    "class Student:\n",
    "    \n",
    "    # 'self' is an instance which has called this method\n",
    "    # each method within a class automatically takes the instance as the first argument\n",
    "    \n",
    "    def __init__(self, first, last, gpa):\n",
    "        self.first = first\n",
    "        self.last = last\n",
    "        self.gpa = gpa\n",
    "        self.email = first + '.' + last + '@knu.ac.kr'\n",
    "\n",
    "std_1 = Student('Dohun', 'Kim', 4.18) # __init__() method will be run automatically\n",
    "std_2 = Student('Test', 'Name', 4.0)  # It would be better to think of 'self' as being ignored.\n",
    "\n",
    "print(std_1.email)\n",
    "print(std_2.email)"
   ]
  },
  {
   "cell_type": "code",
   "execution_count": 20,
   "id": "obvious-baking",
   "metadata": {
    "slideshow": {
     "slide_type": "-"
    }
   },
   "outputs": [
    {
     "name": "stdout",
     "output_type": "stream",
     "text": [
      "Dohun Kim\n",
      "Test Name\n"
     ]
    }
   ],
   "source": [
    "# suppose : we want to add the ability to display the full name of a student\n",
    "print(f'{std_1.first} {std_1.last}')\n",
    "print(f'{std_2.first} {std_2.last}')"
   ]
  },
  {
   "cell_type": "markdown",
   "id": "mounted-wellington",
   "metadata": {
    "slideshow": {
     "slide_type": "subslide"
    }
   },
   "source": [
    "### 3-3. Method"
   ]
  },
  {
   "cell_type": "code",
   "execution_count": 21,
   "id": "successful-import",
   "metadata": {
    "slideshow": {
     "slide_type": "-"
    }
   },
   "outputs": [
    {
     "name": "stdout",
     "output_type": "stream",
     "text": [
      "Dohun Kim\n",
      "Test Name\n",
      "Dohun Kim\n",
      "Test Name\n"
     ]
    }
   ],
   "source": [
    "class Student:\n",
    "    \n",
    "    def __init__(self, first, last, gpa):\n",
    "        self.first = first\n",
    "        self.last = last\n",
    "        self.gpa = gpa\n",
    "        self.email = first + '.' + last + '@knu.ac.kr'\n",
    "    \n",
    "    # don't forget to add 'self' in every method!\n",
    "    def fullname(self):\n",
    "        return f'{self.first} {self.last}'\n",
    "    \n",
    "std_1 = Student('Dohun', 'Kim', 4.18)\n",
    "std_2 = Student('Test', 'Name', 4.0)\n",
    "\n",
    "print(std_1.fullname())\n",
    "print(std_2.fullname())\n",
    "\n",
    "# it does the exactly same thing\n",
    "print(Student.fullname(std_1))\n",
    "print(Student.fullname(std_2))"
   ]
  },
  {
   "cell_type": "markdown",
   "id": "floating-albuquerque",
   "metadata": {
    "slideshow": {
     "slide_type": "subslide"
    }
   },
   "source": [
    "### 3-4. Class variable"
   ]
  },
  {
   "cell_type": "code",
   "execution_count": 22,
   "id": "virtual-research",
   "metadata": {
    "slideshow": {
     "slide_type": "-"
    }
   },
   "outputs": [
    {
     "name": "stdout",
     "output_type": "stream",
     "text": [
      "1\n",
      "2\n"
     ]
    }
   ],
   "source": [
    "class Student:\n",
    "    \n",
    "    # class variable\n",
    "    num_of_stds = 0\n",
    "    domain = 'knu.ac.kr'\n",
    "    \n",
    "    def __init__(self, first, last, gpa):\n",
    "        # instance variables\n",
    "        self.first = first\n",
    "        self.last = last\n",
    "        self.gpa = gpa\n",
    "        self.email = first + '.' + last + '@' + self.domain\n",
    "        \n",
    "        Student.num_of_stds += 1\n",
    "    \n",
    "    def fullname(self):\n",
    "        return f'{self.first} {self.last}'\n",
    "    \n",
    "std_1 = Student('Dohun', 'Kim', 4.18)\n",
    "print(Student.num_of_stds)\n",
    "\n",
    "std_2 = Student('Test', 'Name', 4.0)\n",
    "print(Student.num_of_stds)"
   ]
  },
  {
   "cell_type": "markdown",
   "id": "boolean-hurricane",
   "metadata": {
    "slideshow": {
     "slide_type": "subslide"
    }
   },
   "source": [
    "### 3-5. Inheritance"
   ]
  },
  {
   "cell_type": "code",
   "execution_count": 23,
   "id": "given-gross",
   "metadata": {
    "slideshow": {
     "slide_type": "-"
    }
   },
   "outputs": [
    {
     "name": "stdout",
     "output_type": "stream",
     "text": [
      "3 Gnb.Member@gnb.com Python\n",
      "4 Not.gnb@knu.ac.kr\n"
     ]
    }
   ],
   "source": [
    "# GnbMember class inherits Student class\n",
    "# in other words, GnbMember is a subclass of Student\n",
    "# and Student is a superclass of Gnbmember\n",
    "\n",
    "class GnbMember(Student):\n",
    "    \n",
    "    domain = 'gnb.com'\n",
    "    \n",
    "    def __init__(self, first, last, gpa, prog_lang):\n",
    "        super().__init__(first, last, gpa)          # run __init__() of superclass(=Student)\n",
    "        # Student.__init__(self, first, last, gpa)  # same code as above\n",
    "        self.prog_lang = prog_lang\n",
    "\n",
    "gnb_1 = GnbMember('Gnb', 'Member', 4.3, 'Python')\n",
    "print(Student.num_of_stds, gnb_1.email, gnb_1.prog_lang)\n",
    "\n",
    "std_3 = Student('Not', 'gnb', 3.25)\n",
    "print(Student.num_of_stds, std_3.email)"
   ]
  },
  {
   "cell_type": "code",
   "execution_count": 24,
   "id": "divine-procurement",
   "metadata": {
    "slideshow": {
     "slide_type": "-"
    }
   },
   "outputs": [
    {
     "name": "stdout",
     "output_type": "stream",
     "text": [
      "True\n",
      "True\n",
      "True\n",
      "False\n"
     ]
    }
   ],
   "source": [
    "print(isinstance(gnb_1, GnbMember))\n",
    "print(isinstance(gnb_1, Student))\n",
    "\n",
    "print(issubclass(GnbMember, Student))\n",
    "print(issubclass(Student, GnbMember))"
   ]
  },
  {
   "cell_type": "markdown",
   "id": "essential-station",
   "metadata": {
    "slideshow": {
     "slide_type": "slide"
    }
   },
   "source": [
    "# Thank you!"
   ]
  }
 ],
 "metadata": {
  "celltoolbar": "Slideshow",
  "kernelspec": {
   "display_name": "Python 3.7.10 64-bit ('gnb': conda)",
   "language": "python",
   "name": "python371064bitgnbconda9712835578db416d9fa32052cf0b7ba2"
  },
  "language_info": {
   "codemirror_mode": {
    "name": "ipython",
    "version": 3
   },
   "file_extension": ".py",
   "mimetype": "text/x-python",
   "name": "python",
   "nbconvert_exporter": "python",
   "pygments_lexer": "ipython3",
   "version": "3.7.10"
  }
 },
 "nbformat": 4,
 "nbformat_minor": 5
}

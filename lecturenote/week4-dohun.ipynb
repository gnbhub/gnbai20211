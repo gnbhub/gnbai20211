{
 "cells": [
  {
   "cell_type": "markdown",
   "id": "forbidden-benefit",
   "metadata": {
    "slideshow": {
     "slide_type": "slide"
    }
   },
   "source": [
    "# GNB Python-AI Study\n",
    "Week 4 : Machine Learning Basics, Linear Regression"
   ]
  },
  {
   "cell_type": "markdown",
   "id": "portable-expression",
   "metadata": {
    "slideshow": {
     "slide_type": "subslide"
    }
   },
   "source": [
    "## Index\n",
    "1. Definition of AI, ML, DL\n",
    "2. Supervised Learning\n",
    "3. Linear Regression"
   ]
  },
  {
   "cell_type": "markdown",
   "id": "enabling-marble",
   "metadata": {
    "slideshow": {
     "slide_type": "slide"
    }
   },
   "source": [
    "## 1. Definition of AI, ML, DL"
   ]
  },
  {
   "cell_type": "markdown",
   "id": "typical-enzyme",
   "metadata": {
    "slideshow": {
     "slide_type": "subslide"
    }
   },
   "source": [
    "### 1-1) Defintion of AI, ML, DL\n",
    "<br>\n",
    "<center>\n",
    "<img alt=\"ai-ml-dl\" src=\"images/week4/ai-ml-dl.png\">\n",
    "</center>"
   ]
  },
  {
   "cell_type": "markdown",
   "id": "blind-camping",
   "metadata": {
    "slideshow": {
     "slide_type": "subslide"
    }
   },
   "source": [
    "### 1-2) ML vs DL\n",
    "<br>\n",
    "<center>\n",
    "    <img alt=\"ml-dl\" src=\"images/week4/ml-dl.png\">\n",
    "</center>"
   ]
  },
  {
   "cell_type": "markdown",
   "id": "refined-burner",
   "metadata": {
    "slideshow": {
     "slide_type": "subslide"
    }
   },
   "source": [
    "### 1-3) Subfields of ML\n",
    "<br>\n",
    "<center>\n",
    "    <img alt=\"subfields\" src=\"images/week4/subfields.png\" width=\"60%\">\n",
    "</center>"
   ]
  },
  {
   "cell_type": "markdown",
   "id": "august-numbers",
   "metadata": {
    "slideshow": {
     "slide_type": "slide"
    }
   },
   "source": [
    "## 2. Supervised Learning"
   ]
  },
  {
   "cell_type": "markdown",
   "id": "understanding-wiring",
   "metadata": {
    "slideshow": {
     "slide_type": "subslide"
    }
   },
   "source": [
    "### 2-1) Supervised Learning\n",
    "<br>\n",
    "<center>\n",
    "    <img alt=\"supervised\" src=\"images/week4/supervised.png\" width=\"60%\">\n",
    "</center>"
   ]
  },
  {
   "cell_type": "markdown",
   "id": "israeli-equation",
   "metadata": {
    "slideshow": {
     "slide_type": "slide"
    }
   },
   "source": [
    "## 3. Linear Regression"
   ]
  },
  {
   "cell_type": "markdown",
   "id": "ignored-salvation",
   "metadata": {
    "slideshow": {
     "slide_type": "subslide"
    }
   },
   "source": [
    "### 3-1) Load and Plot Data"
   ]
  },
  {
   "cell_type": "code",
   "execution_count": 1,
   "id": "informational-instruction",
   "metadata": {
    "slideshow": {
     "slide_type": "-"
    }
   },
   "outputs": [],
   "source": [
    "import numpy as np\n",
    "import pandas as pd\n",
    "import matplotlib.pyplot as plt"
   ]
  },
  {
   "cell_type": "code",
   "execution_count": 2,
   "id": "dedicated-omaha",
   "metadata": {
    "slideshow": {
     "slide_type": "-"
    }
   },
   "outputs": [],
   "source": [
    "col_names = ['x', 'y']\n",
    "df = pd.read_csv('data/data_lab1.txt', sep=\" \", names=col_names)\n",
    "\n",
    "x_train = df['x'].values.reshape(-1, 1)\n",
    "y_train = df['y'].values.reshape(-1, 1)"
   ]
  },
  {
   "cell_type": "code",
   "execution_count": 3,
   "id": "encouraging-polyester",
   "metadata": {
    "slideshow": {
     "slide_type": "-"
    }
   },
   "outputs": [
    {
     "data": {
      "image/png": "[encoded data removed]",
      "text/plain": [
       "<Figure size 432x288 with 1 Axes>"
      ]
     },
     "metadata": {
      "needs_background": "light"
     },
     "output_type": "display_data"
    }
   ],
   "source": [
    "plt.plot(x_train, y_train, 'r.', label='train')\n",
    "# plt.plot(x_test, y_test, 'b.', label='test')\n",
    "\n",
    "plt.title('Data Visualization')\n",
    "plt.xlabel('x')\n",
    "plt.ylabel('y')\n",
    "plt.legend()\n",
    "plt.show()"
   ]
  },
  {
   "cell_type": "markdown",
   "id": "controversial-fraction",
   "metadata": {
    "slideshow": {
     "slide_type": "subslide"
    }
   },
   "source": [
    "### 3-2) Define Model"
   ]
  },
  {
   "cell_type": "code",
   "execution_count": 4,
   "id": "hundred-gravity",
   "metadata": {
    "slideshow": {
     "slide_type": "-"
    }
   },
   "outputs": [],
   "source": [
    "class LinearRegressor:\n",
    "    \n",
    "    def __init__(self, opt='bgd', lr=0.001):\n",
    "        self.opt     = opt\n",
    "        self.lr      = lr\n",
    "        self.weight  = None\n",
    "        self.history = []\n",
    "    \n",
    "    def fit(self, x, t, epochs=200, print_step=10):\n",
    "        assert x.shape[0] == t.shape[0]\n",
    "        assert len(x.shape) == 2\n",
    "        \n",
    "        self.num, self.dim = x.shape\n",
    "        \n",
    "        x = np.concatenate((np.ones((self.num, 1)), x), axis=1)\n",
    "        self.weight = np.random.randn(self.dim+1)\n",
    "        \n",
    "        for epoch in range(1, epochs+1):\n",
    "            y = self.forward(x)\n",
    "            self.backward(x, y, t)            \n",
    "            \n",
    "            if epoch % print_step == 0:\n",
    "                err = self.error(y, t)\n",
    "                print(f'epoch: {epoch}  sse: {err}')\n",
    "                self.history.append(err)\n",
    "        \n",
    "    \n",
    "    def forward(self, x):\n",
    "        y = [self.pred(xi) for xi in x]\n",
    "        \n",
    "        return np.array(y).reshape(-1, 1)\n",
    "        \n",
    "        \n",
    "    def pred(self, xi):\n",
    "        assert self.weight.shape == xi.shape\n",
    "        \n",
    "        return np.dot(self.weight, xi)\n",
    "    \n",
    "    \n",
    "    def error(self, y, t):\n",
    "        assert y.shape == t.shape\n",
    "        \n",
    "        return ((y - t)**2).sum() / 2\n",
    "    \n",
    "    \n",
    "    def backward(self, x, y, t):\n",
    "        \n",
    "        if self.opt == 'bgd':\n",
    "            for n in range(self.dim+1):\n",
    "                g = 0.\n",
    "                for i in range(self.num):\n",
    "                    g += (y[i] - t[i]) * x[i][n]\n",
    "                self.weight[n] -= self.lr * g\n",
    "        \n",
    "        elif self.opt == 'sgd':\n",
    "            for n in range(self.dim+1):\n",
    "                i = np.random.randint(self.num)\n",
    "                g = (y[i] - t[i]) * x[i][n]\n",
    "                self.weight[n] -= self.lr * g\n",
    "        "
   ]
  },
  {
   "cell_type": "markdown",
   "id": "seven-trash",
   "metadata": {
    "slideshow": {
     "slide_type": "subslide"
    }
   },
   "source": [
    "### BGD"
   ]
  },
  {
   "cell_type": "code",
   "execution_count": 5,
   "id": "assisted-mortality",
   "metadata": {
    "slideshow": {
     "slide_type": "-"
    }
   },
   "outputs": [
    {
     "name": "stdout",
     "output_type": "stream",
     "text": [
      "epoch: 10  sse: 568.0830448903534\n",
      "epoch: 20  sse: 409.8537599385592\n",
      "epoch: 30  sse: 348.43944988996077\n",
      "epoch: 40  sse: 303.95860349685375\n",
      "epoch: 50  sse: 271.4611914775726\n",
      "epoch: 60  sse: 247.71674683735435\n",
      "epoch: 70  sse: 230.3676996920531\n",
      "epoch: 80  sse: 217.6914950489355\n",
      "epoch: 90  sse: 208.42953600173948\n",
      "epoch: 100  sse: 201.66221977364575\n",
      "epoch: 110  sse: 196.71763205762832\n",
      "epoch: 120  sse: 193.10483388811278\n",
      "epoch: 130  sse: 190.46511721944614\n",
      "epoch: 140  sse: 188.53638946774603\n",
      "epoch: 150  sse: 187.12715082318448\n",
      "epoch: 160  sse: 186.09748058819397\n",
      "epoch: 170  sse: 185.34514471029507\n",
      "epoch: 180  sse: 184.79544515218439\n",
      "epoch: 190  sse: 184.3938032618216\n",
      "epoch: 200  sse: 184.10034075905264\n",
      "weight : [-0.70655934 10.03264369]\n"
     ]
    }
   ],
   "source": [
    "bgd = LinearRegressor(opt='bgd')\n",
    "\n",
    "bgd.fit(x_train, y_train, epochs=200)\n",
    "\n",
    "print('weight :', bgd.weight)"
   ]
  },
  {
   "cell_type": "markdown",
   "id": "initial-guidance",
   "metadata": {
    "slideshow": {
     "slide_type": "subslide"
    }
   },
   "source": [
    "### SGD"
   ]
  },
  {
   "cell_type": "code",
   "execution_count": 6,
   "id": "moved-hundred",
   "metadata": {
    "slideshow": {
     "slide_type": "-"
    }
   },
   "outputs": [
    {
     "name": "stdout",
     "output_type": "stream",
     "text": [
      "epoch: 100  sse: 3320.3843278863073\n",
      "epoch: 200  sse: 2223.6481353489958\n",
      "epoch: 300  sse: 1615.0788794582936\n",
      "epoch: 400  sse: 1206.406024785884\n",
      "epoch: 500  sse: 966.662919255668\n",
      "epoch: 600  sse: 820.001676742391\n",
      "epoch: 700  sse: 684.7542117421845\n",
      "epoch: 800  sse: 628.6961379558146\n",
      "epoch: 900  sse: 573.5616887796206\n",
      "epoch: 1000  sse: 535.0141007497547\n",
      "epoch: 1100  sse: 511.1555234909399\n",
      "epoch: 1200  sse: 489.51350346388233\n",
      "epoch: 1300  sse: 486.1217275031042\n",
      "epoch: 1400  sse: 472.5786215194978\n",
      "epoch: 1500  sse: 466.5899473626601\n",
      "epoch: 1600  sse: 455.50816848681103\n",
      "epoch: 1700  sse: 447.8558151975029\n",
      "epoch: 1800  sse: 438.89598449482526\n",
      "epoch: 1900  sse: 430.5426965236238\n",
      "epoch: 2000  sse: 424.205574945706\n",
      "weight : [3.30333779 6.6389895 ]\n"
     ]
    }
   ],
   "source": [
    "sgd = LinearRegressor(opt='sgd')\n",
    "\n",
    "sgd.fit(x_train, y_train, epochs=2000, print_step=100)\n",
    "\n",
    "print('weight :', sgd.weight)"
   ]
  },
  {
   "cell_type": "markdown",
   "id": "actual-columbia",
   "metadata": {
    "slideshow": {
     "slide_type": "subslide"
    }
   },
   "source": [
    "### Plot Learing Curve"
   ]
  },
  {
   "cell_type": "code",
   "execution_count": 7,
   "id": "solved-balloon",
   "metadata": {},
   "outputs": [
    {
     "data": {
      "image/png": "[encoded data removed]",
      "text/plain": [
       "<Figure size 432x288 with 1 Axes>"
      ]
     },
     "metadata": {
      "needs_background": "light"
     },
     "output_type": "display_data"
    },
    {
     "name": "stdout",
     "output_type": "stream",
     "text": [
      "Final error\n",
      "BGD : 184.10034075905264\n",
      "SGD : 424.205574945706\n"
     ]
    }
   ],
   "source": [
    "plt.plot(range(0, 200, 10), bgd.history, label='bgd')\n",
    "plt.plot(range(0, 2000, 100), sgd.history, label='sgd')\n",
    "\n",
    "plt.title('Error - BGD vd SGD')\n",
    "plt.legend()\n",
    "plt.show()\n",
    "\n",
    "print('Final error')\n",
    "print('BGD :', bgd.history[-1])\n",
    "print('SGD :', sgd.history[-1])"
   ]
  },
  {
   "cell_type": "markdown",
   "id": "reasonable-habitat",
   "metadata": {
    "slideshow": {
     "slide_type": "subslide"
    }
   },
   "source": [
    "### Plot result"
   ]
  },
  {
   "cell_type": "code",
   "execution_count": 8,
   "id": "standing-effect",
   "metadata": {
    "slideshow": {
     "slide_type": "-"
    }
   },
   "outputs": [],
   "source": [
    "def plot_line(w, x, label):\n",
    "    y = [w[0] + w[1] * xi for xi in x]\n",
    "    plt.plot(x, y, label=label)"
   ]
  },
  {
   "cell_type": "code",
   "execution_count": 9,
   "id": "regulation-grave",
   "metadata": {
    "slideshow": {
     "slide_type": "-"
    }
   },
   "outputs": [
    {
     "data": {
      "image/png": "[encoded data removed]",
      "text/plain": [
       "<Figure size 432x288 with 1 Axes>"
      ]
     },
     "metadata": {
      "needs_background": "light"
     },
     "output_type": "display_data"
    }
   ],
   "source": [
    "x = np.linspace(0, 2)\n",
    "\n",
    "plt.plot(x_train, y_train, 'r.')\n",
    "plot_line(bgd.weight, x, 'bgd')\n",
    "plot_line(sgd.weight, x, 'sgd')\n",
    "\n",
    "plt.legend()\n",
    "plt.show()"
   ]
  },
  {
   "cell_type": "markdown",
   "id": "copyrighted-intent",
   "metadata": {
    "slideshow": {
     "slide_type": "slide"
    }
   },
   "source": [
    "# Thank you!"
   ]
  }
 ],
 "metadata": {
  "celltoolbar": "Slideshow",
  "kernelspec": {
   "display_name": "Python 3.7.10 64-bit ('gnb': conda)",
   "language": "python",
   "name": "python371064bitgnbconda9712835578db416d9fa32052cf0b7ba2"
  },
  "language_info": {
   "codemirror_mode": {
    "name": "ipython",
    "version": 3
   },
   "file_extension": ".py",
   "mimetype": "text/x-python",
   "name": "python",
   "nbconvert_exporter": "python",
   "pygments_lexer": "ipython3",
   "version": "3.7.10"
  }
 },
 "nbformat": 4,
 "nbformat_minor": 5
}

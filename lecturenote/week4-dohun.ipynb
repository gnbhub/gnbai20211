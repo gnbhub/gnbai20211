{
 "cells": [
  {
   "cell_type": "markdown",
   "id": "forbidden-benefit",
   "metadata": {
    "slideshow": {
     "slide_type": "slide"
    }
   },
   "source": [
    "# GNB Python-AI Study\n",
    "Week 4 : Machine Learning Basics, Linear Regression"
   ]
  },
  {
   "cell_type": "markdown",
   "id": "portable-expression",
   "metadata": {
    "slideshow": {
     "slide_type": "subslide"
    }
   },
   "source": [
    "## Index\n",
    "1. Definition of AI, ML, DL\n",
    "2. Supervised Learning\n",
    "3. Linear Regression"
   ]
  },
  {
   "cell_type": "markdown",
   "id": "enabling-marble",
   "metadata": {
    "slideshow": {
     "slide_type": "slide"
    }
   },
   "source": [
    "## 1. Definition of AI, ML, DL"
   ]
  },
  {
   "cell_type": "markdown",
   "id": "typical-enzyme",
   "metadata": {
    "slideshow": {
     "slide_type": "subslide"
    }
   },
   "source": [
    "### 1) Defintion of AI, ML, DL\n",
    "<br>\n",
    "<center>\n",
    "<img alt=\"ai-ml-dl\" src=\"images/week4/ai-ml-dl.png\">\n",
    "</center>"
   ]
  },
  {
   "cell_type": "markdown",
   "id": "blind-camping",
   "metadata": {
    "slideshow": {
     "slide_type": "subslide"
    }
   },
   "source": [
    "### 2) ML vs DL\n",
    "<br>\n",
    "<center>\n",
    "    <img alt=\"ml-dl\" src=\"images/week4/ml-dl.png\">\n",
    "</center>"
   ]
  },
  {
   "cell_type": "markdown",
   "id": "refined-burner",
   "metadata": {
    "slideshow": {
     "slide_type": "subslide"
    }
   },
   "source": [
    "### 3) Subfields of ML\n",
    "<br>\n",
    "<center>\n",
    "    <img alt=\"subfields\" src=\"images/week4/subfields.png\" width=\"60%\">\n",
    "</center>"
   ]
  },
  {
   "cell_type": "markdown",
   "id": "stainless-orbit",
   "metadata": {
    "slideshow": {
     "slide_type": "slide"
    }
   },
   "source": [
    "## 2. Supervised Learning"
   ]
  },
  {
   "cell_type": "markdown",
   "id": "common-springfield",
   "metadata": {
    "slideshow": {
     "slide_type": "subslide"
    }
   },
   "source": [
    "### 2-1) Supervised Learning\n",
    "<br>\n",
    "<center>\n",
    "    <img alt=\"supervised\" src=\"images/week4/supervised.png\" width=\"70%\">\n",
    "</center>"
   ]
  },
  {
   "cell_type": "markdown",
   "id": "friendly-israel",
   "metadata": {
    "slideshow": {
     "slide_type": "slide"
    }
   },
   "source": [
    "## 3. Linear Regression"
   ]
  },
  {
   "cell_type": "code",
   "execution_count": null,
   "id": "pharmaceutical-lloyd",
   "metadata": {},
   "outputs": [],
   "source": []
  },
  {
   "cell_type": "markdown",
   "id": "mysterious-commodity",
   "metadata": {
    "slideshow": {
     "slide_type": "slide"
    }
   },
   "source": [
    "# Thank you!"
   ]
  }
 ],
 "metadata": {
  "celltoolbar": "Slideshow",
  "kernelspec": {
   "display_name": "Python 3.7.10 64-bit ('gnb': conda)",
   "language": "python",
   "name": "python371064bitgnbconda9712835578db416d9fa32052cf0b7ba2"
  },
  "language_info": {
   "codemirror_mode": {
    "name": "ipython",
    "version": 3
   },
   "file_extension": ".py",
   "mimetype": "text/x-python",
   "name": "python",
   "nbconvert_exporter": "python",
   "pygments_lexer": "ipython3",
   "version": "3.7.10"
  }
 },
 "nbformat": 4,
 "nbformat_minor": 5
}

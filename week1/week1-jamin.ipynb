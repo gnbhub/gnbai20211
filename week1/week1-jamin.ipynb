{
  "nbformat": 4,
  "nbformat_minor": 0,
  "metadata": {
    "colab": {
      "name": "Python.ipynb",
      "provenance": [],
      "authorship_tag": "ABX9TyPuvZKFkZ7xR35W3mXEXqJF",
      "include_colab_link": true
    },
    "kernelspec": {
      "name": "python3",
      "display_name": "Python 3"
    },
    "language_info": {
      "name": "python"
    }
  },
  "cells": [
    {
      "cell_type": "markdown",
      "metadata": {
        "id": "view-in-github",
        "colab_type": "text"
      },
      "source": [
        "<a href=\"https://colab.research.google.com/github/gnbhub/gnbai20211/blob/master/week1/week1-jamin.ipynb\" target=\"_parent\"><img src=\"https://colab.research.google.com/assets/colab-badge.svg\" alt=\"Open In Colab\"/></a>"
      ]
    },
    {
      "cell_type": "markdown",
      "metadata": {
        "id": "C2qifq6yc1Ut"
      },
      "source": [
        "# GNB Python-AI Study\n",
        "Week 1 - Python basics\n",
        "ctrl + enter : 현재 선택한 블럭 실행\n",
        "\n",
        "shift + enter : 현재 선택한 블럭 실행하고 다음 블럭으로 넘어감\n",
        "\n",
        "ctrl + F9 : 모든 블럭 실행\n",
        "\n",
        "ctrl + / : 현재 라인 주석"
      ]
    },
    {
      "cell_type": "markdown",
      "metadata": {
        "id": "9l2MJOzvdG8H"
      },
      "source": [
        "## 1.Hello world"
      ]
    },
    {
      "cell_type": "code",
      "metadata": {
        "colab": {
          "base_uri": "https://localhost:8080/"
        },
        "id": "f411jUB_Y-vI",
        "outputId": "e76806d2-090b-40e8-ea06-7a6f60c99f6d"
      },
      "source": [
        "print('hello world')"
      ],
      "execution_count": 56,
      "outputs": [
        {
          "output_type": "stream",
          "text": [
            "hello world\n"
          ],
          "name": "stdout"
        }
      ]
    },
    {
      "cell_type": "code",
      "metadata": {
        "colab": {
          "base_uri": "https://localhost:8080/"
        },
        "id": "P_p1FUiHbGfH",
        "outputId": "53ab3613-3bfd-4a52-875a-5305fbb499cf"
      },
      "source": [
        "print(\"hello world!\")"
      ],
      "execution_count": 57,
      "outputs": [
        {
          "output_type": "stream",
          "text": [
            "hello world!\n"
          ],
          "name": "stdout"
        }
      ]
    },
    {
      "cell_type": "code",
      "metadata": {
        "colab": {
          "base_uri": "https://localhost:8080/"
        },
        "id": "HY5sqcERdNeq",
        "outputId": "2dba890e-d9ca-4f55-88ac-e973a47b7e58"
      },
      "source": [
        "print(\"Hello %s\" %'world', end='!\\n')"
      ],
      "execution_count": 58,
      "outputs": [
        {
          "output_type": "stream",
          "text": [
            "Hello world!\n"
          ],
          "name": "stdout"
        }
      ]
    },
    {
      "cell_type": "code",
      "metadata": {
        "colab": {
          "base_uri": "https://localhost:8080/"
        },
        "id": "6G1K_0KedUTg",
        "outputId": "bf863b40-55a4-48de-9cbc-aa9ce3b0dc1a"
      },
      "source": [
        "year = 2021\n",
        "day = 22\n",
        "month = 'march'\n",
        "\n",
        "str1 = 'Today is %s %d, %d' % (month, day, year)\n",
        "# 쉼표 넣지말고 % 넣기!\n",
        "\n",
        "str2 = 'Today is {} {}, {}'.format(month, day, year)\n",
        "\n",
        "str3 = f'Today is {month} {day}, {year}'\n",
        "\n",
        "print(str1)\n",
        "print(str2)\n",
        "print(str3)"
      ],
      "execution_count": 59,
      "outputs": [
        {
          "output_type": "stream",
          "text": [
            "Today is march 22, 2021\n",
            "Today is march 22, 2021\n",
            "Today is march 22, 2021\n"
          ],
          "name": "stdout"
        }
      ]
    },
    {
      "cell_type": "code",
      "metadata": {
        "colab": {
          "base_uri": "https://localhost:8080/"
        },
        "id": "pdgq5Ga_enBH",
        "outputId": "231e78c4-042f-4b3b-a17b-d051694c7fa3"
      },
      "source": [
        "print(1,2,3,4,5, sep='?')\n",
        "# sep : 구분기호"
      ],
      "execution_count": 60,
      "outputs": [
        {
          "output_type": "stream",
          "text": [
            "1?2?3?4?5\n"
          ],
          "name": "stdout"
        }
      ]
    },
    {
      "cell_type": "code",
      "metadata": {
        "colab": {
          "base_uri": "https://localhost:8080/"
        },
        "id": "PNHkS-D0fz3d",
        "outputId": "0b37dab1-8bde-43fe-c02e-c387bb8a5c4d"
      },
      "source": [
        "n = 10\n",
        "print(type(n))\n",
        "if n > 5:\n",
        "    print('larger than 5')\n",
        "elif n == 5:\n",
        "    print('equal to 5')\n",
        "else:\n",
        "    print('smaller than 5')"
      ],
      "execution_count": 61,
      "outputs": [
        {
          "output_type": "stream",
          "text": [
            "<class 'int'>\n",
            "larger than 5\n"
          ],
          "name": "stdout"
        }
      ]
    },
    {
      "cell_type": "code",
      "metadata": {
        "colab": {
          "base_uri": "https://localhost:8080/"
        },
        "id": "nOfUCbWShcpz",
        "outputId": "57c4d8e7-3bad-4380-d9d8-0b64610afe37"
      },
      "source": [
        "lst = [3, 1, 4, 1, 5, 9, 2, 6, 5, 3]\n",
        "\n",
        "for n in lst:\n",
        "    print(n, end=' ')\n",
        "print()\n"
      ],
      "execution_count": 62,
      "outputs": [
        {
          "output_type": "stream",
          "text": [
            "3 1 4 1 5 9 2 6 5 3 \n"
          ],
          "name": "stdout"
        }
      ]
    },
    {
      "cell_type": "code",
      "metadata": {
        "colab": {
          "base_uri": "https://localhost:8080/"
        },
        "id": "IUw0ulTxidnW",
        "outputId": "22c68e9f-14cf-4734-997f-cf4f557b3de3"
      },
      "source": [
        "for i, n in enumerate(lst):\n",
        "    print(f'{i}-{n}', end=' ')\n",
        "print()"
      ],
      "execution_count": 63,
      "outputs": [
        {
          "output_type": "stream",
          "text": [
            "0-3 1-1 2-4 3-1 4-5 5-9 6-2 7-6 8-5 9-3 \n"
          ],
          "name": "stdout"
        }
      ]
    },
    {
      "cell_type": "code",
      "metadata": {
        "colab": {
          "base_uri": "https://localhost:8080/"
        },
        "id": "IeK3O3nzil1_",
        "outputId": "e7f2c0e8-aba0-4860-ddfe-ad92807c72d7"
      },
      "source": [
        "n = 0\n",
        "\n",
        "while n < 10:\n",
        "    print(n, end=' ')\n",
        "    n += 1\n",
        "print()"
      ],
      "execution_count": 64,
      "outputs": [
        {
          "output_type": "stream",
          "text": [
            "0 1 2 3 4 5 6 7 8 9 \n"
          ],
          "name": "stdout"
        }
      ]
    },
    {
      "cell_type": "code",
      "metadata": {
        "id": "ahk_A7_Hi8NG"
      },
      "source": [
        "# 반복문 : break, continue... pass->그 칸이 공백이어야할 때\n",
        "# c에서는 빈칸 넣고싶으면 {} 넣으면 됨, 파이썬에서는 들여쓰기로 구분->빈블럭 표현x\n"
      ],
      "execution_count": 65,
      "outputs": []
    },
    {
      "cell_type": "markdown",
      "metadata": {
        "id": "KLsKoLtdkFII"
      },
      "source": [
        "### List : mutable type"
      ]
    },
    {
      "cell_type": "code",
      "metadata": {
        "colab": {
          "base_uri": "https://localhost:8080/"
        },
        "id": "9mvh25r-kHK7",
        "outputId": "240bc918-192b-4e94-cd97-b0c014b58e13"
      },
      "source": [
        "lst = [3, 1, 4, 1, 5, 9, 2, 6, 5, 3]\n",
        "print(type(lst))"
      ],
      "execution_count": 66,
      "outputs": [
        {
          "output_type": "stream",
          "text": [
            "<class 'list'>\n"
          ],
          "name": "stdout"
        }
      ]
    },
    {
      "cell_type": "code",
      "metadata": {
        "colab": {
          "base_uri": "https://localhost:8080/"
        },
        "id": "l0nyiTlIkOO5",
        "outputId": "e73c5365-fe4f-4d58-bc5f-23b613c63172"
      },
      "source": [
        "a = [1, 'abcd', 3.14, {3, 4, 5}, (6, 7)]\n",
        "print(a)\n",
        "\n",
        "a.append(10)\n",
        "print(a)\n",
        "\n",
        "a.pop()\n",
        "print(a)\n",
        "\n",
        "a.insert(2, 'hello')\n",
        "print(a)\n",
        "\n",
        "a.pop(3)\n",
        "print(a)\n",
        "\n",
        "x =a.pop(3)\n",
        "print(a, x)"
      ],
      "execution_count": 67,
      "outputs": [
        {
          "output_type": "stream",
          "text": [
            "[1, 'abcd', 3.14, {3, 4, 5}, (6, 7)]\n",
            "[1, 'abcd', 3.14, {3, 4, 5}, (6, 7), 10]\n",
            "[1, 'abcd', 3.14, {3, 4, 5}, (6, 7)]\n",
            "[1, 'abcd', 'hello', 3.14, {3, 4, 5}, (6, 7)]\n",
            "[1, 'abcd', 'hello', {3, 4, 5}, (6, 7)]\n",
            "[1, 'abcd', 'hello', (6, 7)] {3, 4, 5}\n"
          ],
          "name": "stdout"
        }
      ]
    },
    {
      "cell_type": "markdown",
      "metadata": {
        "id": "oE12JD4plX0a"
      },
      "source": [
        "### tuple : Immutable type\n",
        "x,y 나타내는 좌표로 생각하기"
      ]
    },
    {
      "cell_type": "code",
      "metadata": {
        "colab": {
          "base_uri": "https://localhost:8080/"
        },
        "id": "ch8qRaYOlTLZ",
        "outputId": "cfe61406-5a7d-40e0-c459-c8616fed052d"
      },
      "source": [
        "tpl = (3, 1, 4, 1, 5, 9, 2, 6, 5, 3)\n",
        "print(type(tpl))\n",
        "\n",
        "tpl = 3, 1, 4, 1, 5, 9, 2, 6, 5, 3\n",
        "print(type(tpl))"
      ],
      "execution_count": 68,
      "outputs": [
        {
          "output_type": "stream",
          "text": [
            "<class 'tuple'>\n",
            "<class 'tuple'>\n"
          ],
          "name": "stdout"
        }
      ]
    },
    {
      "cell_type": "code",
      "metadata": {
        "colab": {
          "base_uri": "https://localhost:8080/"
        },
        "id": "TLMe8nsXlf4-",
        "outputId": "61b5a748-81c4-4533-b2ba-6692870b05d3"
      },
      "source": [
        "print(lst)\n",
        "lst[1] = 0\n",
        "print(lst)"
      ],
      "execution_count": 69,
      "outputs": [
        {
          "output_type": "stream",
          "text": [
            "[3, 1, 4, 1, 5, 9, 2, 6, 5, 3]\n",
            "[3, 0, 4, 1, 5, 9, 2, 6, 5, 3]\n"
          ],
          "name": "stdout"
        }
      ]
    },
    {
      "cell_type": "code",
      "metadata": {
        "id": "tasuUs_gljV9"
      },
      "source": [
        "#tpl[3] = 0 튜플은 대입연산자 x"
      ],
      "execution_count": 70,
      "outputs": []
    },
    {
      "cell_type": "code",
      "metadata": {
        "colab": {
          "base_uri": "https://localhost:8080/"
        },
        "id": "bpjwGoJvllyr",
        "outputId": "f5ef3f8e-bd9d-4e0b-98fe-c44d071ab9e9"
      },
      "source": [
        "(x, y) = (1, 2)\n",
        "print(x, y)\n",
        "\n",
        "x, y = 3, 4\n",
        "print(x, y)"
      ],
      "execution_count": 71,
      "outputs": [
        {
          "output_type": "stream",
          "text": [
            "1 2\n",
            "3 4\n"
          ],
          "name": "stdout"
        }
      ]
    },
    {
      "cell_type": "markdown",
      "metadata": {
        "id": "WEVmldOqmS0c"
      },
      "source": [
        "### Indexing & Slicing"
      ]
    },
    {
      "cell_type": "code",
      "metadata": {
        "colab": {
          "base_uri": "https://localhost:8080/"
        },
        "id": "K008p4CcmSQ2",
        "outputId": "d72d11c9-bffb-4b70-ab65-9ce3864eadca"
      },
      "source": [
        "lst"
      ],
      "execution_count": 72,
      "outputs": [
        {
          "output_type": "execute_result",
          "data": {
            "text/plain": [
              "[3, 0, 4, 1, 5, 9, 2, 6, 5, 3]"
            ]
          },
          "metadata": {
            "tags": []
          },
          "execution_count": 72
        }
      ]
    },
    {
      "cell_type": "code",
      "metadata": {
        "colab": {
          "base_uri": "https://localhost:8080/"
        },
        "id": "FRTZ1_g8mV0d",
        "outputId": "f03be8df-a52d-41f1-dad3-bfed5897dd31"
      },
      "source": [
        "print(lst[3])\n",
        "print(lst[-3])"
      ],
      "execution_count": 73,
      "outputs": [
        {
          "output_type": "stream",
          "text": [
            "1\n",
            "6\n"
          ],
          "name": "stdout"
        }
      ]
    },
    {
      "cell_type": "code",
      "metadata": {
        "colab": {
          "base_uri": "https://localhost:8080/"
        },
        "id": "qoRI-o4Nmab0",
        "outputId": "6ed9bcfa-72ad-4817-f8b8-648db028367a"
      },
      "source": [
        "print(lst[3:6])\n",
        "print(lst[:6])\n",
        "print(lst[3:])\n",
        "print(lst[:])\n",
        "print(lst[::2])\n",
        "    #처음부터 끝까지 두칸씩 띄워서"
      ],
      "execution_count": 75,
      "outputs": [
        {
          "output_type": "stream",
          "text": [
            "[1, 5, 9]\n",
            "[3, 0, 4, 1, 5, 9]\n",
            "[1, 5, 9, 2, 6, 5, 3]\n",
            "[3, 0, 4, 1, 5, 9, 2, 6, 5, 3]\n",
            "[3, 4, 5, 2, 5]\n"
          ],
          "name": "stdout"
        }
      ]
    },
    {
      "cell_type": "markdown",
      "metadata": {
        "id": "fo6CVYX8nq_J"
      },
      "source": [
        "### Operators"
      ]
    },
    {
      "cell_type": "code",
      "metadata": {
        "colab": {
          "base_uri": "https://localhost:8080/"
        },
        "id": "0aRtwEH5nZUg",
        "outputId": "d7cabe0e-4f55-4b17-d508-66a35a57529f"
      },
      "source": [
        "7 / 5"
      ],
      "execution_count": 76,
      "outputs": [
        {
          "output_type": "execute_result",
          "data": {
            "text/plain": [
              "1.4"
            ]
          },
          "metadata": {
            "tags": []
          },
          "execution_count": 76
        }
      ]
    },
    {
      "cell_type": "code",
      "metadata": {
        "colab": {
          "base_uri": "https://localhost:8080/"
        },
        "id": "lUGeU9binuGA",
        "outputId": "b03b5454-1609-49be-f4c9-1a8e6a3c0662"
      },
      "source": [
        "7 // 5"
      ],
      "execution_count": 77,
      "outputs": [
        {
          "output_type": "execute_result",
          "data": {
            "text/plain": [
              "1"
            ]
          },
          "metadata": {
            "tags": []
          },
          "execution_count": 77
        }
      ]
    },
    {
      "cell_type": "code",
      "metadata": {
        "colab": {
          "base_uri": "https://localhost:8080/"
        },
        "id": "H2Tyh1upnvuM",
        "outputId": "064836e9-f3dc-4938-9142-b8837b3fa498"
      },
      "source": [
        "2 ** 4"
      ],
      "execution_count": 78,
      "outputs": [
        {
          "output_type": "execute_result",
          "data": {
            "text/plain": [
              "16"
            ]
          },
          "metadata": {
            "tags": []
          },
          "execution_count": 78
        }
      ]
    },
    {
      "cell_type": "code",
      "metadata": {
        "colab": {
          "base_uri": "https://localhost:8080/",
          "height": 35
        },
        "id": "yUTEwpL2nw4d",
        "outputId": "94f2660b-ec0c-4090-f6d1-c5339fa4e9ed"
      },
      "source": [
        "'hello' * 3"
      ],
      "execution_count": 79,
      "outputs": [
        {
          "output_type": "execute_result",
          "data": {
            "application/vnd.google.colaboratory.intrinsic+json": {
              "type": "string"
            },
            "text/plain": [
              "'hellohellohello'"
            ]
          },
          "metadata": {
            "tags": []
          },
          "execution_count": 79
        }
      ]
    },
    {
      "cell_type": "code",
      "metadata": {
        "colab": {
          "base_uri": "https://localhost:8080/",
          "height": 35
        },
        "id": "AdXKqQxmoFo0",
        "outputId": "c5d292d2-4d14-4ced-ad9a-1c19dc968a88"
      },
      "source": [
        "('hello' + ' '+ 'world') * 2"
      ],
      "execution_count": 80,
      "outputs": [
        {
          "output_type": "execute_result",
          "data": {
            "application/vnd.google.colaboratory.intrinsic+json": {
              "type": "string"
            },
            "text/plain": [
              "'hello worldhello world'"
            ]
          },
          "metadata": {
            "tags": []
          },
          "execution_count": 80
        }
      ]
    }
  ]
}
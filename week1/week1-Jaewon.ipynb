{
  "nbformat": 4,
  "nbformat_minor": 0,
  "metadata": {
    "colab": {
      "name": "AI-study 1주차.ipynb",
      "provenance": [],
      "authorship_tag": "ABX9TyPSiOuwvmcAYt/6Yo5qVzR9",
      "include_colab_link": true
    },
    "kernelspec": {
      "name": "python3",
      "display_name": "Python 3"
    },
    "language_info": {
      "name": "python"
    }
  },
  "cells": [
    {
      "cell_type": "markdown",
      "metadata": {
        "id": "view-in-github",
        "colab_type": "text"
      },
      "source": [
        "<a href=\"https://colab.research.google.com/github/gnbhub/gnbai20211/blob/master/week1/week1-Jaewon.ipynb\" target=\"_parent\"><img src=\"https://colab.research.google.com/assets/colab-badge.svg\" alt=\"Open In Colab\"/></a>"
      ]
    },
    {
      "cell_type": "markdown",
      "metadata": {
        "id": "0ZDX1zUWc5CB"
      },
      "source": [
        "# GNB Python-AI Study\n",
        "Week 1 - Python basics"
      ]
    },
    {
      "cell_type": "markdown",
      "metadata": {
        "id": "VmkHmylGdIOd"
      },
      "source": [
        "##1.Hello world"
      ]
    },
    {
      "cell_type": "code",
      "metadata": {
        "colab": {
          "base_uri": "https://localhost:8080/"
        },
        "id": "ogRts6onY5BC",
        "outputId": "04d88442-9186-4b07-8c03-b99a533bac45"
      },
      "source": [
        "print('hello world')"
      ],
      "execution_count": 3,
      "outputs": [
        {
          "output_type": "stream",
          "text": [
            "hello world\n"
          ],
          "name": "stdout"
        }
      ]
    },
    {
      "cell_type": "markdown",
      "metadata": {
        "id": "sYN_yAiEbQgc"
      },
      "source": [
        "cltr + / : 주석\n",
        "\n",
        "## Markdown\n",
        "'#개수에 따라 큰제목 -> 작은제목 \n",
        "엔터한번은 x 두번 or <br'>\n",
        "'#하고 한칸띄우기\n",
        "\n",
        "## code block\n",
        "''' or ~~~ c,p등 언어지정 가능\n",
        "$$ << 수식블록\n",
        "\n",
        "$$\n",
        "y = f(x)\n",
        "$$\n",
        "\n",
        " \n",
        "\n",
        "\n"
      ]
    },
    {
      "cell_type": "code",
      "metadata": {
        "colab": {
          "base_uri": "https://localhost:8080/"
        },
        "id": "qspaiGrOcsHi",
        "outputId": "c530e27b-89d1-479b-b2b9-7f9aa91b482f"
      },
      "source": [
        "print('Hello World!')\n",
        "print(\"Hello World!\")\n",
        "print(\"Hello %s\" %'world', end='!\\n') #파이썬은 ' ,\" 둘다문자열"
      ],
      "execution_count": 7,
      "outputs": [
        {
          "output_type": "stream",
          "text": [
            "Hello World!\n",
            "Hello World!\n",
            "Hello world!\n"
          ],
          "name": "stdout"
        }
      ]
    },
    {
      "cell_type": "markdown",
      "metadata": {
        "id": "2DZirwyKd46f"
      },
      "source": [
        "##String formating\n"
      ]
    },
    {
      "cell_type": "code",
      "metadata": {
        "colab": {
          "base_uri": "https://localhost:8080/"
        },
        "id": "gZZK_T_-eFsS",
        "outputId": "e08e67eb-75b5-475d-fe06-35db059f4bdb"
      },
      "source": [
        "#파이썬에서 문자열 만드는방법\n",
        "year = 2021\n",
        "day = 22\n",
        "month = 'March'\n",
        "\n",
        "# % operator\n",
        "str1 = 'Today is %s %d, %d' %(month, day, year)\n",
        "\n",
        "# str.format() method\n",
        "str2 = 'Today is {} {}, {}'.format(month, day, year)\n",
        "\n",
        "# f-string\n",
        "str3 = f'Today is {month} {day}, {year}'   #python 3.6? \n",
        "\n",
        "#여기전부 ' 대신 \"가능, 셋중에 하나 익숙해지면 돼\n",
        "print(str1)\n",
        "print(str2)\n",
        "print(str3)"
      ],
      "execution_count": 9,
      "outputs": [
        {
          "output_type": "stream",
          "text": [
            "Today is March 22, 2021\n",
            "Today is March 22, 2021\n",
            "Today is March 22, 2021\n"
          ],
          "name": "stdout"
        }
      ]
    },
    {
      "cell_type": "code",
      "metadata": {
        "colab": {
          "base_uri": "https://localhost:8080/"
        },
        "id": "SISHYkWFe_eo",
        "outputId": "d1aaf53e-c4bb-43e5-ad82-6b7deb040eca"
      },
      "source": [
        "#help(함수) << 함수 도움말\n",
        "help(print)"
      ],
      "execution_count": 10,
      "outputs": [
        {
          "output_type": "stream",
          "text": [
            "Help on built-in function print in module builtins:\n",
            "\n",
            "print(...)\n",
            "    print(value, ..., sep=' ', end='\\n', file=sys.stdout, flush=False)\n",
            "    \n",
            "    Prints the values to a stream, or to sys.stdout by default.\n",
            "    Optional keyword arguments:\n",
            "    file:  a file-like object (stream); defaults to the current sys.stdout.\n",
            "    sep:   string inserted between values, default a space.\n",
            "    end:   string appended after the last value, default a newline.\n",
            "    flush: whether to forcibly flush the stream.\n",
            "\n"
          ],
          "name": "stdout"
        }
      ]
    },
    {
      "cell_type": "markdown",
      "metadata": {
        "id": "OZ0PLH5wf8bI"
      },
      "source": [
        "##If statement"
      ]
    },
    {
      "cell_type": "code",
      "metadata": {
        "colab": {
          "base_uri": "https://localhost:8080/"
        },
        "id": "pW0Hg5b9f_Nn",
        "outputId": "5055f293-e2a4-4653-a07e-047cbee4a889"
      },
      "source": [
        "''' c-language\n",
        "int n = 10;\n",
        "\n",
        "if (n>5){\n",
        "    printf('larger than 5\\n');\n",
        "}\n",
        "else if (n==5)\n",
        "    printf('equal to 5\\n');\n",
        "else\n",
        "    printf('smaller than 5\\n');\n",
        "'''\n",
        "\n",
        "\n",
        "n = 10\n",
        "#print(type(n))\n",
        "if n>5:\n",
        "    print('larger than 5')\n",
        "elif n==5:\n",
        "    print('equal to 5')\n",
        "else:\n",
        "    print('smaller than 5')\n",
        "\n",
        "#들여쓰기, :, elif\n"
      ],
      "execution_count": 18,
      "outputs": [
        {
          "output_type": "stream",
          "text": [
            "larger than 5\n"
          ],
          "name": "stdout"
        }
      ]
    },
    {
      "cell_type": "markdown",
      "metadata": {
        "id": "UQ800y-7iy1P"
      },
      "source": [
        "## For statement"
      ]
    },
    {
      "cell_type": "code",
      "metadata": {
        "colab": {
          "base_uri": "https://localhost:8080/"
        },
        "id": "QJo8Wc9rhVa6",
        "outputId": "6b1f2dcb-5c78-474a-e3aa-2211cd85c892"
      },
      "source": [
        "lst = [3, 1, 4, 1, 5, 9, 2, 6, 5, 3]\n",
        "\n",
        "for n in lst:\n",
        "    print(n, end=' ')  #파이썬에서는 무조건 밑으로 내려가기때문에 end 넣어줘야함\n",
        "print()"
      ],
      "execution_count": 20,
      "outputs": [
        {
          "output_type": "stream",
          "text": [
            "3 1 4 1 5 9 2 6 5 3 \n"
          ],
          "name": "stdout"
        }
      ]
    },
    {
      "cell_type": "code",
      "metadata": {
        "colab": {
          "base_uri": "https://localhost:8080/"
        },
        "id": "XHYb3o5TiEZp",
        "outputId": "70acbfad-c35e-49d6-cf15-95c8cfb93857"
      },
      "source": [
        "#index value 필요하다면 enumerate() 사용\n",
        "\n",
        "for i, n in enumerate(lst):  #i,n자리 아무거나 들어가도돼! 변수임\n",
        "    print(f'{i}-{n}', end=' ')\n",
        "print()\n",
        "\n",
        "#\"pythonic\" 코드아니면\n",
        "for i in range(len(lst)):\n",
        "    print(f'{i}-{lst[i]}',end=' ')\n",
        "print()"
      ],
      "execution_count": 25,
      "outputs": [
        {
          "output_type": "stream",
          "text": [
            "0-3 1-1 2-4 3-1 4-5 5-9 6-2 7-6 8-5 9-3 \n",
            "0-3 1-1 2-4 3-1 4-5 5-9 6-2 7-6 8-5 9-3 \n"
          ],
          "name": "stdout"
        }
      ]
    },
    {
      "cell_type": "markdown",
      "metadata": {
        "id": "2H3sW0QAi3q6"
      },
      "source": [
        "## While loop"
      ]
    },
    {
      "cell_type": "code",
      "metadata": {
        "colab": {
          "base_uri": "https://localhost:8080/"
        },
        "id": "v469NJqxi7Gs",
        "outputId": "64260b12-bc06-49d4-9c58-729773a67ed1"
      },
      "source": [
        "n = 0\n",
        "\n",
        "while n < 10:\n",
        "    print(n, end=' ')\n",
        "    n += 1\n",
        "print()  #python 은 n++없음, :쓰기\n",
        "\n",
        "#pass 하면 없는 구간으로 생각, break, continue\n",
        "\n"
      ],
      "execution_count": 27,
      "outputs": [
        {
          "output_type": "stream",
          "text": [
            "0 1 2 3 4 5 6 7 8 9 \n"
          ],
          "name": "stdout"
        }
      ]
    },
    {
      "cell_type": "code",
      "metadata": {
        "colab": {
          "base_uri": "https://localhost:8080/"
        },
        "id": "TJHFWzizjkws",
        "outputId": "6997fb82-06a6-4f7b-c2e5-8008790ffd77"
      },
      "source": [
        "n = 0\n",
        "\n",
        "while n < 10:\n",
        "    print(n, end=' ')\n",
        "    \n",
        "    if n==3:\n",
        "        break\n",
        "    \n",
        "    n += 1\n",
        "print()"
      ],
      "execution_count": 28,
      "outputs": [
        {
          "output_type": "stream",
          "text": [
            "0 1 2 3 \n"
          ],
          "name": "stdout"
        }
      ]
    },
    {
      "cell_type": "markdown",
      "metadata": {
        "id": "iEdc35iBj67L"
      },
      "source": [
        "## List : mutable type  가변적"
      ]
    },
    {
      "cell_type": "code",
      "metadata": {
        "colab": {
          "base_uri": "https://localhost:8080/"
        },
        "id": "0fxOADqfj5PZ",
        "outputId": "1c8ab83e-60e8-4996-f3cc-c095bdb1cc8b"
      },
      "source": [
        "lst = [3, 1, 4, 1, 5, 9, 2, 6, 5, 3]  # lst 대괄호 스택같은거 할 때 좋대\n",
        "print(type(lst))"
      ],
      "execution_count": 29,
      "outputs": [
        {
          "output_type": "stream",
          "text": [
            "<class 'list'>\n"
          ],
          "name": "stdout"
        }
      ]
    },
    {
      "cell_type": "code",
      "metadata": {
        "colab": {
          "base_uri": "https://localhost:8080/"
        },
        "id": "sGW1PurBkM-b",
        "outputId": "ebbe1a2c-8c4d-46f8-f5c0-ae17a2a94b59"
      },
      "source": [
        "a = [1, 'abcd', 3.14, [3, 4, 5],(6, 7)] #lst안에 tuple, lst, int 문자열 다들어감\n",
        "print(a)\n",
        "\n",
        "#자주 쓰는 함수\n",
        "\n",
        "# push new value to the end\n",
        "a.append(10)\n",
        "print(a)\n",
        "\n",
        "# pop one value from the end\n",
        "a.pop()\n",
        "print(a)\n",
        "\n"
      ],
      "execution_count": 32,
      "outputs": [
        {
          "output_type": "stream",
          "text": [
            "[1, 'abcd', 3.14, [3, 4, 5], (6, 7)]\n",
            "[1, 'abcd', 3.14, [3, 4, 5], (6, 7), 10]\n",
            "[1, 'abcd', 3.14, [3, 4, 5], (6, 7)]\n"
          ],
          "name": "stdout"
        }
      ]
    },
    {
      "cell_type": "code",
      "metadata": {
        "colab": {
          "base_uri": "https://localhost:8080/"
        },
        "id": "Iu0eHsgvk0La",
        "outputId": "03ca653e-509b-4bb5-8840-913d13d9ede4"
      },
      "source": [
        "#insert new value at index 2 파이썬 index 0부터시작\n",
        "a.insert(2, 'hello')\n",
        "print(a)\n",
        "\n",
        "#pop one value at index 3\n",
        "a.pop(3)\n",
        "print(a)\n",
        "\n",
        "x = a.pop(3)\n",
        "print(a,x)"
      ],
      "execution_count": 34,
      "outputs": [
        {
          "output_type": "stream",
          "text": [
            "[1, 'abcd', 'hello', 'hello', [3, 4, 5], (6, 7)]\n",
            "[1, 'abcd', 'hello', [3, 4, 5], (6, 7)]\n",
            "[1, 'abcd', 'hello', (6, 7)] [3, 4, 5]\n"
          ],
          "name": "stdout"
        }
      ]
    },
    {
      "cell_type": "markdown",
      "metadata": {
        "id": "cfeJylrjlWmm"
      },
      "source": [
        "## Tuple : Immutable type 불변"
      ]
    },
    {
      "cell_type": "code",
      "metadata": {
        "colab": {
          "base_uri": "https://localhost:8080/"
        },
        "id": "C5_z9WimlLUK",
        "outputId": "6f44d34a-80c0-40c5-e75f-fb0ca98ea60c"
      },
      "source": [
        "tpl = (3, 1, 4, 1, 5, 9, 2, 6, 5, 3)\n",
        "print(type(tpl))"
      ],
      "execution_count": 35,
      "outputs": [
        {
          "output_type": "stream",
          "text": [
            "<class 'tuple'>\n"
          ],
          "name": "stdout"
        }
      ]
    },
    {
      "cell_type": "code",
      "metadata": {
        "colab": {
          "base_uri": "https://localhost:8080/"
        },
        "id": "MBHtMheSlmr_",
        "outputId": "1ccf486b-2d2e-423e-d682-6c09acd47a58"
      },
      "source": [
        "print(lst)\n",
        "lst[1]=0\n",
        "print(lst)"
      ],
      "execution_count": 36,
      "outputs": [
        {
          "output_type": "stream",
          "text": [
            "[3, 1, 4, 1, 5, 9, 2, 6, 5, 3]\n",
            "[3, 0, 4, 1, 5, 9, 2, 6, 5, 3]\n"
          ],
          "name": "stdout"
        }
      ]
    },
    {
      "cell_type": "code",
      "metadata": {
        "colab": {
          "base_uri": "https://localhost:8080/",
          "height": 176
        },
        "id": "EiWjflBElyTK",
        "outputId": "a7818759-c8ca-4d4a-814d-30eccb5b6a43"
      },
      "source": [
        "tpl[3]=0 #tpl은 바꿀수 x 처음에 정하면 그대로"
      ],
      "execution_count": 37,
      "outputs": [
        {
          "output_type": "error",
          "ename": "TypeError",
          "evalue": "ignored",
          "traceback": [
            "\u001b[0;31m---------------------------------------------------------------------------\u001b[0m",
            "\u001b[0;31mTypeError\u001b[0m                                 Traceback (most recent call last)",
            "\u001b[0;32m<ipython-input-37-fc0f8960348c>\u001b[0m in \u001b[0;36m<module>\u001b[0;34m()\u001b[0m\n\u001b[0;32m----> 1\u001b[0;31m \u001b[0mtpl\u001b[0m\u001b[0;34m[\u001b[0m\u001b[0;36m3\u001b[0m\u001b[0;34m]\u001b[0m\u001b[0;34m=\u001b[0m\u001b[0;36m0\u001b[0m\u001b[0;34m\u001b[0m\u001b[0;34m\u001b[0m\u001b[0m\n\u001b[0m",
            "\u001b[0;31mTypeError\u001b[0m: 'tuple' object does not support item assignment"
          ]
        }
      ]
    },
    {
      "cell_type": "code",
      "metadata": {
        "colab": {
          "base_uri": "https://localhost:8080/"
        },
        "id": "CsK6JfCHl19D",
        "outputId": "c564682d-af5e-421c-d8b1-1bcef12c9ea8"
      },
      "source": [
        "(x, y) = (1, 2)\n",
        "print(x, y)\n",
        "\n",
        "# parentheses can be ommitted 괄호 없으면 tuple로 인식\n",
        "x, y = 3, 4\n",
        "print(x, y)"
      ],
      "execution_count": 39,
      "outputs": [
        {
          "output_type": "stream",
          "text": [
            "1 2\n",
            "3 4\n"
          ],
          "name": "stdout"
        }
      ]
    },
    {
      "cell_type": "markdown",
      "metadata": {
        "id": "kBYrR_nnmWjy"
      },
      "source": [
        "## Indexing & Slicing"
      ]
    },
    {
      "cell_type": "code",
      "metadata": {
        "colab": {
          "base_uri": "https://localhost:8080/"
        },
        "id": "r0U3ThTFmWCF",
        "outputId": "c663afe2-d41c-47b5-9424-05631c1693d1"
      },
      "source": [
        "lst"
      ],
      "execution_count": 40,
      "outputs": [
        {
          "output_type": "execute_result",
          "data": {
            "text/plain": [
              "[3, 0, 4, 1, 5, 9, 2, 6, 5, 3]"
            ]
          },
          "metadata": {
            "tags": []
          },
          "execution_count": 40
        }
      ]
    },
    {
      "cell_type": "code",
      "metadata": {
        "colab": {
          "base_uri": "https://localhost:8080/"
        },
        "id": "WN-HebiamcBz",
        "outputId": "8cad74da-e2aa-4e1b-f417-b471e87fb5b1"
      },
      "source": [
        "#indexing\n",
        "print(lst[3])\n",
        "print(lst[-3]) #-는 오른쪽부터 맨오른쪽이 -1"
      ],
      "execution_count": 41,
      "outputs": [
        {
          "output_type": "stream",
          "text": [
            "1\n",
            "6\n"
          ],
          "name": "stdout"
        }
      ]
    },
    {
      "cell_type": "code",
      "metadata": {
        "colab": {
          "base_uri": "https://localhost:8080/"
        },
        "id": "SNUYuE5xmnsh",
        "outputId": "0753fbac-e1a5-43d6-b950-4919bd0ceb95"
      },
      "source": [
        "# slicing\n",
        "print(lst[3:6]) # 3번부터 6번 전까지  [a ,) << 파이썬에서 구간 a는들어가고 b안들어감\n",
        "print(lst[:6]) # 생략은 처음부터 : 처음부터 6 전까지\n",
        "print(lst[3:]) # 3번부터 마지막 까지\n",
        "print(lst[:])\n",
        "\n",
        "print(lst[3:8:2]) # 3번부터 8번전까지 2칸씩\n",
        "print(lst[::2]) #매트랩은 간격이 중간이었음, 혼동 조심"
      ],
      "execution_count": 45,
      "outputs": [
        {
          "output_type": "stream",
          "text": [
            "[1, 5, 9]\n",
            "[3, 0, 4, 1, 5, 9]\n",
            "[1, 5, 9, 2, 6, 5, 3]\n",
            "[3, 0, 4, 1, 5, 9, 2, 6, 5, 3]\n",
            "[1, 9, 6]\n",
            "[3, 4, 5, 2, 5]\n"
          ],
          "name": "stdout"
        }
      ]
    },
    {
      "cell_type": "markdown",
      "metadata": {
        "id": "jwTa3ODvnrX9"
      },
      "source": [
        "## Operators"
      ]
    },
    {
      "cell_type": "code",
      "metadata": {
        "colab": {
          "base_uri": "https://localhost:8080/"
        },
        "id": "XJyb2Ho1nmTf",
        "outputId": "579cb60a-7068-4a48-a313-ba57ea9f904c"
      },
      "source": [
        "# true division\n",
        "7/5"
      ],
      "execution_count": 46,
      "outputs": [
        {
          "output_type": "execute_result",
          "data": {
            "text/plain": [
              "1.4"
            ]
          },
          "metadata": {
            "tags": []
          },
          "execution_count": 46
        }
      ]
    },
    {
      "cell_type": "code",
      "metadata": {
        "colab": {
          "base_uri": "https://localhost:8080/"
        },
        "id": "UlJ7bk_Vn0ek",
        "outputId": "7a3f71d1-38e2-46eb-f51a-7c321edab77f"
      },
      "source": [
        "# floor division : int나누기\n",
        "7/5"
      ],
      "execution_count": 47,
      "outputs": [
        {
          "output_type": "execute_result",
          "data": {
            "text/plain": [
              "1.4"
            ]
          },
          "metadata": {
            "tags": []
          },
          "execution_count": 47
        }
      ]
    },
    {
      "cell_type": "code",
      "metadata": {
        "colab": {
          "base_uri": "https://localhost:8080/"
        },
        "id": "imYnk8_Pn5tB",
        "outputId": "0ef9b7eb-a775-4e18-ae54-f957727d110e"
      },
      "source": [
        "# power : 제곱\n",
        "2 ** 4"
      ],
      "execution_count": 48,
      "outputs": [
        {
          "output_type": "execute_result",
          "data": {
            "text/plain": [
              "16"
            ]
          },
          "metadata": {
            "tags": []
          },
          "execution_count": 48
        }
      ]
    },
    {
      "cell_type": "code",
      "metadata": {
        "colab": {
          "base_uri": "https://localhost:8080/",
          "height": 36
        },
        "id": "Q7kbiCtXoFT_",
        "outputId": "f3b495eb-ca2e-413d-f391-e45c1befbd62"
      },
      "source": [
        "'hello' * 3\n",
        "('hello' + ' ' + 'world') * 2"
      ],
      "execution_count": 51,
      "outputs": [
        {
          "output_type": "execute_result",
          "data": {
            "application/vnd.google.colaboratory.intrinsic+json": {
              "type": "string"
            },
            "text/plain": [
              "'hello worldhello world'"
            ]
          },
          "metadata": {
            "tags": []
          },
          "execution_count": 51
        }
      ]
    }
  ]
}
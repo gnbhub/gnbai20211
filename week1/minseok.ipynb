{
  "nbformat": 4,
  "nbformat_minor": 0,
  "metadata": {
    "colab": {
      "name": "111.ipynb",
      "provenance": [],
      "collapsed_sections": [],
      "authorship_tag": "ABX9TyOcZ6IiCUamG+nU95An8v/K",
      "include_colab_link": true
    },
    "kernelspec": {
      "name": "python3",
      "display_name": "Python 3"
    },
    "language_info": {
      "name": "python"
    }
  },
  "cells": [
    {
      "cell_type": "markdown",
      "metadata": {
        "id": "view-in-github",
        "colab_type": "text"
      },
      "source": [
        "<a href=\"https://colab.research.google.com/github/gnbhub/gnbai20211/blob/master/week1/minseok.ipynb\" target=\"_parent\"><img src=\"https://colab.research.google.com/assets/colab-badge.svg\" alt=\"Open In Colab\"/></a>"
      ]
    },
    {
      "cell_type": "markdown",
      "metadata": {
        "id": "jGBKjym9W59E"
      },
      "source": [
        "\n",
        "# 4. Python basics\n",
        "## 4-1. Hello world"
      ]
    },
    {
      "cell_type": "code",
      "metadata": {
        "colab": {
          "base_uri": "https://localhost:8080/"
        },
        "id": "ROAzvNkBW29h",
        "outputId": "a1d79a4b-0f83-4b52-ddb2-be48eb314767"
      },
      "source": [
        "print('Hello world!')"
      ],
      "execution_count": 38,
      "outputs": [
        {
          "output_type": "stream",
          "text": [
            "Hello world!\n"
          ],
          "name": "stdout"
        }
      ]
    },
    {
      "cell_type": "code",
      "metadata": {
        "colab": {
          "base_uri": "https://localhost:8080/"
        },
        "id": "KjhMDuRaW_1K",
        "outputId": "e91795ed-1002-4e84-9138-f9132088dda2"
      },
      "source": [
        "print(\"Hello world!\")"
      ],
      "execution_count": 39,
      "outputs": [
        {
          "output_type": "stream",
          "text": [
            "Hello world!\n"
          ],
          "name": "stdout"
        }
      ]
    },
    {
      "cell_type": "code",
      "metadata": {
        "colab": {
          "base_uri": "https://localhost:8080/"
        },
        "id": "PjJbEjhjXBNN",
        "outputId": "2c19851c-6ea4-4985-eafb-ee8bff48aa81"
      },
      "source": [
        "print(\"Hello %s\" %'world', end='!\\n')"
      ],
      "execution_count": 40,
      "outputs": [
        {
          "output_type": "stream",
          "text": [
            "Hello world!\n"
          ],
          "name": "stdout"
        }
      ]
    },
    {
      "cell_type": "markdown",
      "metadata": {
        "id": "vcHbW6-qXGL2"
      },
      "source": [
        "### String formating"
      ]
    },
    {
      "cell_type": "code",
      "metadata": {
        "colab": {
          "base_uri": "https://localhost:8080/"
        },
        "id": "fNHsXFx1XCha",
        "outputId": "6d6dd9c9-f70f-4225-872c-a8a988c60424"
      },
      "source": [
        "year  = 2021\n",
        "day   = 22\n",
        "month = 'March'\n",
        "\n",
        "# % operator\n",
        "str1 = 'Today is %s %d, %d' %(month, day, year)\n",
        "\n",
        "# str.format() method\n",
        "str2 = 'Today is {} {}, {}'.format(month, day, year)\n",
        "\n",
        "# f-string\n",
        "str3 = f'Today is {month} {day}, {year}'\n",
        "\n",
        "print(str1) \n",
        "print(str2) \n",
        "print(str3)"
      ],
      "execution_count": 41,
      "outputs": [
        {
          "output_type": "stream",
          "text": [
            "Today is March 22, 2021\n",
            "Today is March 22, 2021\n",
            "Today is March 22, 2021\n"
          ],
          "name": "stdout"
        }
      ]
    },
    {
      "cell_type": "markdown",
      "metadata": {
        "id": "aNFXoyJ8XNDN"
      },
      "source": [
        "### Function print( )"
      ]
    },
    {
      "cell_type": "code",
      "metadata": {
        "colab": {
          "base_uri": "https://localhost:8080/"
        },
        "id": "1DYxS7UIXMon",
        "outputId": "dfa5df41-5a90-4f07-84ef-ba275735bbb9"
      },
      "source": [
        "help(print)"
      ],
      "execution_count": 42,
      "outputs": [
        {
          "output_type": "stream",
          "text": [
            "Help on built-in function print in module builtins:\n",
            "\n",
            "print(...)\n",
            "    print(value, ..., sep=' ', end='\\n', file=sys.stdout, flush=False)\n",
            "    \n",
            "    Prints the values to a stream, or to sys.stdout by default.\n",
            "    Optional keyword arguments:\n",
            "    file:  a file-like object (stream); defaults to the current sys.stdout.\n",
            "    sep:   string inserted between values, default a space.\n",
            "    end:   string appended after the last value, default a newline.\n",
            "    flush: whether to forcibly flush the stream.\n",
            "\n"
          ],
          "name": "stdout"
        }
      ]
    },
    {
      "cell_type": "markdown",
      "metadata": {
        "id": "gUe-YQj7XTmR"
      },
      "source": [
        "### 4-2. If statement"
      ]
    },
    {
      "cell_type": "code",
      "metadata": {
        "colab": {
          "base_uri": "https://localhost:8080/"
        },
        "id": "-dhJbTJzXFU3",
        "outputId": "9c667f27-78d6-47ea-8ce1-4f4dbd42639e"
      },
      "source": [
        "n = 10\n",
        "    \n",
        "if n > 5:\n",
        "    print('larger than 5')\n",
        "elif n == 5:\n",
        "    print('equal to 5')\n",
        "else:\n",
        "    print('smaller than 5')"
      ],
      "execution_count": 43,
      "outputs": [
        {
          "output_type": "stream",
          "text": [
            "larger than 5\n"
          ],
          "name": "stdout"
        }
      ]
    },
    {
      "cell_type": "markdown",
      "metadata": {
        "id": "lTd4wCdhXa-U"
      },
      "source": [
        "### 4-3. For loop\n",
        "In C language, for loop operates as a index based iteration.\n",
        "Otherwise, Python's for loop is for-each loop, that traverses items in a collection sequentially.\n",
        "For-each loop helps us prevent index out of range errors."
      ]
    },
    {
      "cell_type": "code",
      "metadata": {
        "colab": {
          "base_uri": "https://localhost:8080/"
        },
        "id": "s9g3TfV4XY-3",
        "outputId": "c37681f8-5809-4c3d-8736-83854f938f1e"
      },
      "source": [
        "lst = [3, 1, 4, 1, 5, 9, 2, 6, 5, 3]\n",
        "\n",
        "for n in lst:\n",
        "    print(n, end=' ')\n",
        "print()"
      ],
      "execution_count": 44,
      "outputs": [
        {
          "output_type": "stream",
          "text": [
            "3 1 4 1 5 9 2 6 5 3 \n"
          ],
          "name": "stdout"
        }
      ]
    },
    {
      "cell_type": "markdown",
      "metadata": {
        "id": "sguO6ROQXlcv"
      },
      "source": [
        "\n",
        "What if I need the index value?\n",
        "use enumerate()"
      ]
    },
    {
      "cell_type": "code",
      "metadata": {
        "colab": {
          "base_uri": "https://localhost:8080/"
        },
        "id": "W2FavETtXfhn",
        "outputId": "fe863f39-88da-4b95-b29d-fa79b4cd03be"
      },
      "source": [
        "for i, n in enumerate(lst):    \n",
        "    print(f'{i}-{n}', end='  ')\n",
        "print()"
      ],
      "execution_count": 45,
      "outputs": [
        {
          "output_type": "stream",
          "text": [
            "0-3  1-1  2-4  3-1  4-5  5-9  6-2  7-6  8-5  9-3  \n"
          ],
          "name": "stdout"
        }
      ]
    },
    {
      "cell_type": "markdown",
      "metadata": {
        "id": "9d_8Lx_rXxYV"
      },
      "source": [
        "### 4-4. While loop"
      ]
    },
    {
      "cell_type": "code",
      "metadata": {
        "colab": {
          "base_uri": "https://localhost:8080/"
        },
        "id": "YlZ_367UXsF2",
        "outputId": "435d7f7c-50f7-4ab3-c14f-70fbaa9faa3b"
      },
      "source": [
        "n = 0\n",
        "\n",
        "while n < 10:\n",
        "    print(n, end=' ')\n",
        "    n += 1\n",
        "print()"
      ],
      "execution_count": 46,
      "outputs": [
        {
          "output_type": "stream",
          "text": [
            "0 1 2 3 4 5 6 7 8 9 \n"
          ],
          "name": "stdout"
        }
      ]
    },
    {
      "cell_type": "markdown",
      "metadata": {
        "id": "kSXbT0EvX35K"
      },
      "source": [
        "### 4-5. List : mutalble type\n"
      ]
    },
    {
      "cell_type": "code",
      "metadata": {
        "colab": {
          "base_uri": "https://localhost:8080/"
        },
        "id": "JlwOkGpfX14p",
        "outputId": "33bafe5d-5395-4951-b8a4-5e759feec37a"
      },
      "source": [
        "lst = [3, 1, 4, 1, 5, 9, 2, 6, 5, 3]\n",
        "print(type(lst))"
      ],
      "execution_count": 47,
      "outputs": [
        {
          "output_type": "stream",
          "text": [
            "<class 'list'>\n"
          ],
          "name": "stdout"
        }
      ]
    },
    {
      "cell_type": "code",
      "metadata": {
        "colab": {
          "base_uri": "https://localhost:8080/"
        },
        "id": "N0YaSL_sX8FI",
        "outputId": "673e139e-81da-464f-df33-55148fa516c2"
      },
      "source": [
        "a = [1, 'abcd', 3.14, [3, 4, 5], (6, 7)]\n",
        "print(a)\n",
        "\n",
        "# push new value to the end\n",
        "a.append(10)\n",
        "print(a)\n",
        "\n",
        "# pop one value from the end\n",
        "a.pop()\n",
        "print(a)"
      ],
      "execution_count": 48,
      "outputs": [
        {
          "output_type": "stream",
          "text": [
            "[1, 'abcd', 3.14, [3, 4, 5], (6, 7)]\n",
            "[1, 'abcd', 3.14, [3, 4, 5], (6, 7), 10]\n",
            "[1, 'abcd', 3.14, [3, 4, 5], (6, 7)]\n"
          ],
          "name": "stdout"
        }
      ]
    },
    {
      "cell_type": "code",
      "metadata": {
        "colab": {
          "base_uri": "https://localhost:8080/"
        },
        "id": "zsnadCCVX-XO",
        "outputId": "60fd09d8-9584-4ec9-81aa-64c34681372d"
      },
      "source": [
        "# insert new value at index 2\n",
        "a.insert(2, 'hello')\n",
        "print(a)\n",
        "\n",
        "# pop one value at index 3\n",
        "a.pop(3)\n",
        "print(a)"
      ],
      "execution_count": 49,
      "outputs": [
        {
          "output_type": "stream",
          "text": [
            "[1, 'abcd', 'hello', 3.14, [3, 4, 5], (6, 7)]\n",
            "[1, 'abcd', 'hello', [3, 4, 5], (6, 7)]\n"
          ],
          "name": "stdout"
        }
      ]
    },
    {
      "cell_type": "markdown",
      "metadata": {
        "id": "pTDs5IOWYBVO"
      },
      "source": [
        "### 4-5. Tuple : immutable type"
      ]
    },
    {
      "cell_type": "code",
      "metadata": {
        "colab": {
          "base_uri": "https://localhost:8080/"
        },
        "id": "_oufa6KCYAFw",
        "outputId": "925c468a-e003-414f-90af-13a31ca9c155"
      },
      "source": [
        "tpl = (3, 1, 4, 1, 5, 9, 2, 6, 5, 3)\n",
        "print(type(tpl))"
      ],
      "execution_count": 50,
      "outputs": [
        {
          "output_type": "stream",
          "text": [
            "<class 'tuple'>\n"
          ],
          "name": "stdout"
        }
      ]
    },
    {
      "cell_type": "code",
      "metadata": {
        "colab": {
          "base_uri": "https://localhost:8080/"
        },
        "id": "NSrJ3vx2YFXa",
        "outputId": "e242115a-d8ed-4896-9a8f-b4d7e93746b5"
      },
      "source": [
        "print(lst)\n",
        "lst[1] = 0\n",
        "print(lst)"
      ],
      "execution_count": 51,
      "outputs": [
        {
          "output_type": "stream",
          "text": [
            "[3, 1, 4, 1, 5, 9, 2, 6, 5, 3]\n",
            "[3, 0, 4, 1, 5, 9, 2, 6, 5, 3]\n"
          ],
          "name": "stdout"
        }
      ]
    },
    {
      "cell_type": "code",
      "metadata": {
        "colab": {
          "base_uri": "https://localhost:8080/"
        },
        "id": "Jp7AftOrYIoR",
        "outputId": "b0357fa8-2135-405c-f470-c4dbf8873934"
      },
      "source": [
        "(x, y) = (1, 2)\n",
        "print(x, y)\n",
        "\n",
        "# parentheses can be ommitted\n",
        "x, y = 3, 4\n",
        "print(x, y)"
      ],
      "execution_count": 52,
      "outputs": [
        {
          "output_type": "stream",
          "text": [
            "1 2\n",
            "3 4\n"
          ],
          "name": "stdout"
        }
      ]
    },
    {
      "cell_type": "markdown",
      "metadata": {
        "id": "JvZEX4K2YPU7"
      },
      "source": [
        "Indexing & Slicing"
      ]
    },
    {
      "cell_type": "code",
      "metadata": {
        "colab": {
          "base_uri": "https://localhost:8080/"
        },
        "id": "SbvFBeORYK1L",
        "outputId": "8c25a35e-dd18-4ddc-9f0f-ee2f1107f0fe"
      },
      "source": [
        "lst"
      ],
      "execution_count": 53,
      "outputs": [
        {
          "output_type": "execute_result",
          "data": {
            "text/plain": [
              "[3, 0, 4, 1, 5, 9, 2, 6, 5, 3]"
            ]
          },
          "metadata": {
            "tags": []
          },
          "execution_count": 53
        }
      ]
    },
    {
      "cell_type": "code",
      "metadata": {
        "colab": {
          "base_uri": "https://localhost:8080/"
        },
        "id": "8uOS7qMPYTrv",
        "outputId": "c0a76935-16c4-4256-ef8f-a1b183ee3bcc"
      },
      "source": [
        "# indexing\n",
        "print(lst[3])\n",
        "print(lst[-3])"
      ],
      "execution_count": 54,
      "outputs": [
        {
          "output_type": "stream",
          "text": [
            "1\n",
            "6\n"
          ],
          "name": "stdout"
        }
      ]
    },
    {
      "cell_type": "code",
      "metadata": {
        "colab": {
          "base_uri": "https://localhost:8080/"
        },
        "id": "actz_YrDYXXS",
        "outputId": "c555438d-d3f2-4445-8165-8dd28dad6ff1"
      },
      "source": [
        "# slicing\n",
        "print(lst[3:6])\n",
        "print(lst[:6])\n",
        "print(lst[3:])"
      ],
      "execution_count": 55,
      "outputs": [
        {
          "output_type": "stream",
          "text": [
            "[1, 5, 9]\n",
            "[3, 0, 4, 1, 5, 9]\n",
            "[1, 5, 9, 2, 6, 5, 3]\n"
          ],
          "name": "stdout"
        }
      ]
    },
    {
      "cell_type": "markdown",
      "metadata": {
        "id": "YQ3M71x7YarE"
      },
      "source": [
        "### 4-7 *Operators*"
      ]
    },
    {
      "cell_type": "code",
      "metadata": {
        "colab": {
          "base_uri": "https://localhost:8080/"
        },
        "id": "1_E2ZmFqYZzS",
        "outputId": "ba8783d0-4fef-4d20-dce0-1c847866b8a0"
      },
      "source": [
        "print(7 / 5)\n",
        "print(7 // 5)\n",
        "2 ** 4"
      ],
      "execution_count": 56,
      "outputs": [
        {
          "output_type": "stream",
          "text": [
            "1.4\n",
            "1\n"
          ],
          "name": "stdout"
        },
        {
          "output_type": "execute_result",
          "data": {
            "text/plain": [
              "16"
            ]
          },
          "metadata": {
            "tags": []
          },
          "execution_count": 56
        }
      ]
    }
  ]
}
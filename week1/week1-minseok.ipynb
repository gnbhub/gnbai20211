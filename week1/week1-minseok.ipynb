{
  "nbformat": 4,
  "nbformat_minor": 0,
  "metadata": {
    "colab": {
      "name": "Untitled0.ipynb",
      "provenance": [],
      "authorship_tag": "ABX9TyM3C1seGtOMHoYHCuU7maWE",
      "include_colab_link": true
    },
    "kernelspec": {
      "name": "python3",
      "display_name": "Python 3"
    },
    "language_info": {
      "name": "python"
    }
  },
  "cells": [
    {
      "cell_type": "markdown",
      "metadata": {
        "id": "view-in-github",
        "colab_type": "text"
      },
      "source": [
        "<a href=\"https://colab.research.google.com/github/gnbhub/gnbai20211/blob/master/week1/week1-minseok.ipynb\" target=\"_parent\"><img src=\"https://colab.research.google.com/assets/colab-badge.svg\" alt=\"Open In Colab\"/></a>"
      ]
    },
    {
      "cell_type": "markdown",
      "metadata": {
        "id": "Q3tUDSFLbIHw"
      },
      "source": [
        "#alt + enter 실행 하고 밑에 한줄 추가\n",
        "#ctrl + enter 실행 하고 다음줄로\n",
        "#ctrl + / 전체 초록색 \n",
        "#텍스트 상자는 마크다운\n"
      ]
    },
    {
      "cell_type": "markdown",
      "metadata": {
        "id": "MA1cUbiBcybc"
      },
      "source": [
        "# GnB Python-ai study\n",
        "week 1 -python basics"
      ]
    },
    {
      "cell_type": "markdown",
      "metadata": {
        "id": "Gnom7vJndF69"
      },
      "source": [
        "## hello world"
      ]
    },
    {
      "cell_type": "code",
      "metadata": {
        "colab": {
          "base_uri": "https://localhost:8080/"
        },
        "id": "KoSDzRoqcvJU",
        "outputId": "581a42e7-ed78-4d44-f534-696371a1e8f9"
      },
      "source": [
        "print('hello world')"
      ],
      "execution_count": 6,
      "outputs": [
        {
          "output_type": "stream",
          "text": [
            "hello world\n"
          ],
          "name": "stdout"
        }
      ]
    },
    {
      "cell_type": "code",
      "metadata": {
        "colab": {
          "base_uri": "https://localhost:8080/"
        },
        "id": "3aLierzgdEP7",
        "outputId": "d2199b72-07f7-474b-b166-c874015a4adb"
      },
      "source": [
        "print(\"hello %s\" %'world', end='!\\n')"
      ],
      "execution_count": 8,
      "outputs": [
        {
          "output_type": "stream",
          "text": [
            "hello world!\n"
          ],
          "name": "stdout"
        }
      ]
    },
    {
      "cell_type": "code",
      "metadata": {
        "colab": {
          "base_uri": "https://localhost:8080/"
        },
        "id": "_NQa4QsIiXIn",
        "outputId": "cd4e7257-e5c5-41d3-ffab-d5d5250bc0a4"
      },
      "source": [
        "n=0\n",
        "while n < 10 :\n",
        "    print(n,end=' ')\n",
        "    if n==3:\n",
        "        pass #if elif 등의 구조를 위해 사용\n",
        "    n+=1\n",
        "print()\n",
        "print(n)"
      ],
      "execution_count": 18,
      "outputs": [
        {
          "output_type": "stream",
          "text": [
            "0 1 2 3 4 5 6 7 8 9 \n",
            "10\n"
          ],
          "name": "stdout"
        }
      ]
    },
    {
      "cell_type": "code",
      "metadata": {
        "colab": {
          "base_uri": "https://localhost:8080/"
        },
        "id": "7Mtvg5-gi7LW",
        "outputId": "b155340d-95af-4202-ec20-0b25050634a4"
      },
      "source": [
        "lst = [1,2,3,4,5,6,2]\n",
        "print(type(lst))"
      ],
      "execution_count": 19,
      "outputs": [
        {
          "output_type": "stream",
          "text": [
            "<class 'list'>\n"
          ],
          "name": "stdout"
        }
      ]
    },
    {
      "cell_type": "markdown",
      "metadata": {
        "id": "J7xG1__dlWPG"
      },
      "source": [
        "# tuple은 불변list 는 가변"
      ]
    },
    {
      "cell_type": "markdown",
      "metadata": {
        "id": "ZeGBBEbnmMXz"
      },
      "source": [
        "## tuple 은 () lst 는 []"
      ]
    },
    {
      "cell_type": "code",
      "metadata": {
        "colab": {
          "base_uri": "https://localhost:8080/"
        },
        "id": "a_a_Dl-8kSHQ",
        "outputId": "daf6f9ce-cdf5-41a0-b821-b0c848059acb"
      },
      "source": [
        "tpl = 3,2,3,4,5,6\n",
        "print(type(tpl))"
      ],
      "execution_count": 27,
      "outputs": [
        {
          "output_type": "stream",
          "text": [
            "<class 'tuple'>\n"
          ],
          "name": "stdout"
        }
      ]
    },
    {
      "cell_type": "code",
      "metadata": {
        "colab": {
          "base_uri": "https://localhost:8080/",
          "height": 172
        },
        "id": "bhnpnb9HlrA2",
        "outputId": "f3a08757-4223-47bf-d6c9-218fc97e05f2"
      },
      "source": [
        "tpl[3]=0"
      ],
      "execution_count": 21,
      "outputs": [
        {
          "output_type": "error",
          "ename": "TypeError",
          "evalue": "ignored",
          "traceback": [
            "\u001b[0;31m---------------------------------------------------------------------------\u001b[0m",
            "\u001b[0;31mTypeError\u001b[0m                                 Traceback (most recent call last)",
            "\u001b[0;32m<ipython-input-21-fc0f8960348c>\u001b[0m in \u001b[0;36m<module>\u001b[0;34m()\u001b[0m\n\u001b[0;32m----> 1\u001b[0;31m \u001b[0mtpl\u001b[0m\u001b[0;34m[\u001b[0m\u001b[0;36m3\u001b[0m\u001b[0;34m]\u001b[0m\u001b[0;34m=\u001b[0m\u001b[0;36m0\u001b[0m\u001b[0;34m\u001b[0m\u001b[0;34m\u001b[0m\u001b[0m\n\u001b[0m",
            "\u001b[0;31mTypeError\u001b[0m: 'tuple' object does not support item assignment"
          ]
        }
      ]
    },
    {
      "cell_type": "code",
      "metadata": {
        "id": "RsM7PI_flxNN"
      },
      "source": [
        "(x,y) = (1,2)"
      ],
      "execution_count": 22,
      "outputs": []
    },
    {
      "cell_type": "code",
      "metadata": {
        "colab": {
          "base_uri": "https://localhost:8080/"
        },
        "id": "JLhiJY8_l1mA",
        "outputId": "061645e0-634f-4c93-ddea-548d74f799ba"
      },
      "source": [
        "print(x,y)"
      ],
      "execution_count": 23,
      "outputs": [
        {
          "output_type": "stream",
          "text": [
            "1 2\n"
          ],
          "name": "stdout"
        }
      ]
    },
    {
      "cell_type": "code",
      "metadata": {
        "colab": {
          "base_uri": "https://localhost:8080/"
        },
        "id": "S_7DImsNl20B",
        "outputId": "17f0831c-acac-4c30-c91f-813685885c78"
      },
      "source": [
        "print(type((x,y)))"
      ],
      "execution_count": 25,
      "outputs": [
        {
          "output_type": "stream",
          "text": [
            "<class 'tuple'>\n"
          ],
          "name": "stdout"
        }
      ]
    },
    {
      "cell_type": "code",
      "metadata": {
        "colab": {
          "base_uri": "https://localhost:8080/"
        },
        "id": "UqXmA15Jl5b1",
        "outputId": "ef3561d5-4b8a-4ab4-fe80-ad7bb38079a8"
      },
      "source": [
        "lst"
      ],
      "execution_count": 28,
      "outputs": [
        {
          "output_type": "execute_result",
          "data": {
            "text/plain": [
              "[1, 2, 3, 4, 5, 6, 2]"
            ]
          },
          "metadata": {
            "tags": []
          },
          "execution_count": 28
        }
      ]
    },
    {
      "cell_type": "code",
      "metadata": {
        "colab": {
          "base_uri": "https://localhost:8080/"
        },
        "id": "BEz_0Mk7mU50",
        "outputId": "79642a81-7bfa-4dce-9fb5-c60f73fe07fa"
      },
      "source": [
        "print(lst[2])"
      ],
      "execution_count": 30,
      "outputs": [
        {
          "output_type": "stream",
          "text": [
            "3\n"
          ],
          "name": "stdout"
        }
      ]
    },
    {
      "cell_type": "code",
      "metadata": {
        "colab": {
          "base_uri": "https://localhost:8080/"
        },
        "id": "y0zqr1-jmfaI",
        "outputId": "da997c60-8f12-4563-e45f-543f0dcd1548"
      },
      "source": [
        "print(lst[-2]) #역방향 인덱싱 역방향은 -1부터 시작함 정방향은 0부터 시작"
      ],
      "execution_count": 33,
      "outputs": [
        {
          "output_type": "stream",
          "text": [
            "6\n"
          ],
          "name": "stdout"
        }
      ]
    },
    {
      "cell_type": "code",
      "metadata": {
        "colab": {
          "base_uri": "https://localhost:8080/"
        },
        "id": "FAuRKh2PmimK",
        "outputId": "40548945-4552-42f3-eb3b-130ed7a031c3"
      },
      "source": [
        "# slicing\n",
        "print(lst[3:5])"
      ],
      "execution_count": 39,
      "outputs": [
        {
          "output_type": "stream",
          "text": [
            "[4, 5]\n"
          ],
          "name": "stdout"
        }
      ]
    },
    {
      "cell_type": "code",
      "metadata": {
        "colab": {
          "base_uri": "https://localhost:8080/"
        },
        "id": "-fNEDkW1mtxf",
        "outputId": "603a711f-ec1b-4e16-f040-5f9710751b1e"
      },
      "source": [
        "print(lst[::3]) #   A:B:C  는 A에서부터 B까지 C번 건너뛰면서 간다"
      ],
      "execution_count": 41,
      "outputs": [
        {
          "output_type": "stream",
          "text": [
            "[1, 4, 2]\n"
          ],
          "name": "stdout"
        }
      ]
    },
    {
      "cell_type": "markdown",
      "metadata": {
        "id": "643BKkDGnsW-"
      },
      "source": [
        "#Operators"
      ]
    },
    {
      "cell_type": "code",
      "metadata": {
        "colab": {
          "base_uri": "https://localhost:8080/"
        },
        "id": "GVm45VtrnWmW",
        "outputId": "64aaba95-567c-499d-b04e-21f8f59248d3"
      },
      "source": [
        "7/2"
      ],
      "execution_count": 42,
      "outputs": [
        {
          "output_type": "execute_result",
          "data": {
            "text/plain": [
              "3.5"
            ]
          },
          "metadata": {
            "tags": []
          },
          "execution_count": 42
        }
      ]
    },
    {
      "cell_type": "code",
      "metadata": {
        "colab": {
          "base_uri": "https://localhost:8080/"
        },
        "id": "jGcvO3YGnw4B",
        "outputId": "3a42013d-34ec-4fca-aa91-f34ea5dddc84"
      },
      "source": [
        "7//4"
      ],
      "execution_count": 43,
      "outputs": [
        {
          "output_type": "execute_result",
          "data": {
            "text/plain": [
              "1"
            ]
          },
          "metadata": {
            "tags": []
          },
          "execution_count": 43
        }
      ]
    },
    {
      "cell_type": "code",
      "metadata": {
        "colab": {
          "base_uri": "https://localhost:8080/"
        },
        "id": "4kyK-mhtny1w",
        "outputId": "a42a2969-3a20-4ad6-d768-f1f9ec29b21e"
      },
      "source": [
        "2**10"
      ],
      "execution_count": 44,
      "outputs": [
        {
          "output_type": "execute_result",
          "data": {
            "text/plain": [
              "1024"
            ]
          },
          "metadata": {
            "tags": []
          },
          "execution_count": 44
        }
      ]
    },
    {
      "cell_type": "code",
      "metadata": {
        "colab": {
          "base_uri": "https://localhost:8080/",
          "height": 35
        },
        "id": "pO2SLDEDn23r",
        "outputId": "08c295d0-3d2e-4df6-c930-2418e75e2600"
      },
      "source": [
        "\"string\"*3"
      ],
      "execution_count": 45,
      "outputs": [
        {
          "output_type": "execute_result",
          "data": {
            "application/vnd.google.colaboratory.intrinsic+json": {
              "type": "string"
            },
            "text/plain": [
              "'stringstringstring'"
            ]
          },
          "metadata": {
            "tags": []
          },
          "execution_count": 45
        }
      ]
    },
    {
      "cell_type": "code",
      "metadata": {
        "colab": {
          "base_uri": "https://localhost:8080/",
          "height": 35
        },
        "id": "-WvhpiEzoGsn",
        "outputId": "8f0fda7c-baa4-4256-f2b0-04a9bf92c357"
      },
      "source": [
        "(\"string\"+\"AAA\")*2"
      ],
      "execution_count": 48,
      "outputs": [
        {
          "output_type": "execute_result",
          "data": {
            "application/vnd.google.colaboratory.intrinsic+json": {
              "type": "string"
            },
            "text/plain": [
              "'stringAAAstringAAA'"
            ]
          },
          "metadata": {
            "tags": []
          },
          "execution_count": 48
        }
      ]
    },
    {
      "cell_type": "code",
      "metadata": {
        "id": "E2MLFbKxoJDQ"
      },
      "source": [
        ""
      ],
      "execution_count": null,
      "outputs": []
    }
  ]
}
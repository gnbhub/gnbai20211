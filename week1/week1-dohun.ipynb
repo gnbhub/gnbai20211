{
 "cells": [
  {
   "cell_type": "markdown",
   "metadata": {
    "slideshow": {
     "slide_type": "slide"
    }
   },
   "source": [
    "# GNB Python-AI Study\n",
    "Week 1 : Python basics"
   ]
  },
  {
   "cell_type": "markdown",
   "metadata": {
    "slideshow": {
     "slide_type": "subslide"
    }
   },
   "source": [
    "## Index\n",
    "1. Goal of this study\n",
    "2. Why Python for AI?\n",
    "3. Jupyter Notebook\n",
    "4. Python basics\n"
   ]
  },
  {
   "cell_type": "markdown",
   "metadata": {
    "slideshow": {
     "slide_type": "slide"
    }
   },
   "source": [
    "## 1. Goal of this study\n",
    "- Understand what ML, DL, and AI are\n",
    "- Introduce basic theories of ML\n",
    "- Implement various ML models with Python"
   ]
  },
  {
   "cell_type": "markdown",
   "metadata": {
    "slideshow": {
     "slide_type": "slide"
    }
   },
   "source": [
    "![](images/python-logo.png)\n",
    "## 2. Why Python for AI?\n",
    "- Most flexible programming language\n",
    "- Easiest language to master\n",
    "- Simple and highly readable\n",
    "- Tons of useful libraries"
   ]
  },
  {
   "cell_type": "markdown",
   "metadata": {
    "slideshow": {
     "slide_type": "slide"
    }
   },
   "source": [
    "<img src=\"images/jupyter-logo.png\" width=\"40%\">\n",
    "\n",
    "## 3. Jupyter Notebook\n",
    "- Can write Markdown within codes\n",
    "- Can visualize the result just below the code\n",
    "- Can run lines of code cell by cell\n",
    "- Even this slide is Jupyter Notebook!"
   ]
  },
  {
   "cell_type": "markdown",
   "metadata": {
    "slideshow": {
     "slide_type": "subslide"
    }
   },
   "source": [
    "### 3-1. How to use Jupyter Notebook\n",
    "- ctrl + enter : run selected cell\n",
    "- shift + enter : run selected cell and move on to next cell\n",
    "- alt + enter : run selected cell and insert new cell below\n",
    "- ctrl + / : comment out one line"
   ]
  },
  {
   "cell_type": "markdown",
   "metadata": {
    "slideshow": {
     "slide_type": "subslide"
    }
   },
   "source": [
    "### 3-2. How to use Markdown\n",
    "#### 3-2-1. Title\n",
    "```markdown\n",
    "# title 1\n",
    "## title 2\n",
    "### title 3\n",
    "```\n",
    "# title 1\n",
    "## title 2\n",
    "### title 3"
   ]
  },
  {
   "cell_type": "markdown",
   "metadata": {
    "slideshow": {
     "slide_type": "subslide"
    }
   },
   "source": [
    "#### 3-2-2. Line breaking\n",
    "```markdown\n",
    "line does not break\n",
    "if there is only one enter\n",
    "```\n",
    "line does not break\n",
    "if there is only one enter\n",
    "```markdown\n",
    "you need at least two enter\n",
    "\n",
    "or use `<br>` html tag<br>\n",
    "to make line break\n",
    "```\n",
    "you need at least two enter\n",
    "\n",
    "or use `<br>` html tag<br>\n",
    "to make line break"
   ]
  },
  {
   "cell_type": "markdown",
   "metadata": {
    "slideshow": {
     "slide_type": "subslide"
    }
   },
   "source": [
    "#### 3-2-3. Code block\n",
    "~~~\n",
    "```cpp\n",
    "#include <iostream>\n",
    "\n",
    "int main() {\n",
    "    std::cout << \"hello world\" << std::endl;\n",
    "}\n",
    "```\n",
    "you can also use `~~~` instead\n",
    "~~~\n",
    "```cpp\n",
    "#include <iostream>\n",
    "\n",
    "int main() {\n",
    "    std::cout << \"hello world\" << std::endl;\n",
    "}\n",
    "```\n",
    "you can also use `~~~` instead"
   ]
  },
  {
   "cell_type": "markdown",
   "metadata": {
    "slideshow": {
     "slide_type": "subslide"
    }
   },
   "source": [
    "#### 3-2-4. Mathematical expressions with LaTeX\n",
    "```markdown\n",
    "$$\n",
    "y = f(x)\n",
    "$$\n",
    "```\n",
    "$$\n",
    "y = f(x)\n",
    "$$"
   ]
  },
  {
   "cell_type": "markdown",
   "metadata": {
    "slideshow": {
     "slide_type": "slide"
    }
   },
   "source": [
    "## 4. Python basics"
   ]
  },
  {
   "cell_type": "markdown",
   "metadata": {
    "slideshow": {
     "slide_type": "subslide"
    }
   },
   "source": [
    "### 4-1. Hello world"
   ]
  },
  {
   "cell_type": "code",
   "execution_count": 1,
   "metadata": {
    "slideshow": {
     "slide_type": "-"
    }
   },
   "outputs": [
    {
     "name": "stdout",
     "output_type": "stream",
     "text": [
      "Hello world!\n"
     ]
    }
   ],
   "source": [
    "print('Hello world!')"
   ]
  },
  {
   "cell_type": "code",
   "execution_count": 2,
   "metadata": {
    "slideshow": {
     "slide_type": "-"
    }
   },
   "outputs": [
    {
     "name": "stdout",
     "output_type": "stream",
     "text": [
      "Hello world!\n"
     ]
    }
   ],
   "source": [
    "print(\"Hello world!\")"
   ]
  },
  {
   "cell_type": "code",
   "execution_count": 3,
   "metadata": {
    "slideshow": {
     "slide_type": "-"
    }
   },
   "outputs": [
    {
     "name": "stdout",
     "output_type": "stream",
     "text": [
      "Hello world!\n"
     ]
    }
   ],
   "source": [
    "print(\"Hello %s\" %'world', end='!\\n')"
   ]
  },
  {
   "cell_type": "markdown",
   "metadata": {
    "slideshow": {
     "slide_type": "subslide"
    }
   },
   "source": [
    "#### String formating"
   ]
  },
  {
   "cell_type": "code",
   "execution_count": 4,
   "metadata": {
    "slideshow": {
     "slide_type": "-"
    }
   },
   "outputs": [
    {
     "name": "stdout",
     "output_type": "stream",
     "text": [
      "Today is March 22, 2021\n",
      "Today is March 22, 2021\n",
      "Today is March 22, 2021\n"
     ]
    }
   ],
   "source": [
    "year  = 2021\n",
    "day   = 22\n",
    "month = 'March'\n",
    "\n",
    "# % operator\n",
    "str1 = 'Today is %s %d, %d' %(month, day, year)\n",
    "\n",
    "# str.format() method\n",
    "str2 = 'Today is {} {}, {}'.format(month, day, year)\n",
    "\n",
    "# f-string\n",
    "str3 = f'Today is {month} {day}, {year}'\n",
    "\n",
    "print(str1) \n",
    "print(str2) \n",
    "print(str3)"
   ]
  },
  {
   "cell_type": "markdown",
   "metadata": {
    "slideshow": {
     "slide_type": "subslide"
    }
   },
   "source": [
    "#### Function print( )\n"
   ]
  },
  {
   "cell_type": "code",
   "execution_count": 5,
   "metadata": {
    "slideshow": {
     "slide_type": "-"
    }
   },
   "outputs": [
    {
     "name": "stdout",
     "output_type": "stream",
     "text": [
      "Help on built-in function print in module builtins:\n",
      "\n",
      "print(...)\n",
      "    print(value, ..., sep=' ', end='\\n', file=sys.stdout, flush=False)\n",
      "    \n",
      "    Prints the values to a stream, or to sys.stdout by default.\n",
      "    Optional keyword arguments:\n",
      "    file:  a file-like object (stream); defaults to the current sys.stdout.\n",
      "    sep:   string inserted between values, default a space.\n",
      "    end:   string appended after the last value, default a newline.\n",
      "    flush: whether to forcibly flush the stream.\n",
      "\n"
     ]
    }
   ],
   "source": [
    "help(print)"
   ]
  },
  {
   "cell_type": "markdown",
   "metadata": {
    "slideshow": {
     "slide_type": "subslide"
    }
   },
   "source": [
    "### 4-2. If statement"
   ]
  },
  {
   "cell_type": "code",
   "execution_count": 6,
   "metadata": {
    "slideshow": {
     "slide_type": "-"
    }
   },
   "outputs": [
    {
     "name": "stdout",
     "output_type": "stream",
     "text": [
      "larger than 5\n"
     ]
    }
   ],
   "source": [
    "''' c-language\n",
    "int n = 10;\n",
    "\n",
    "if (n > 5)\n",
    "    printf('larger than 5\\n');\n",
    "else if (n == 5)\n",
    "    printf('equal to 5\\n');\n",
    "else\n",
    "    printf('smaller than 5\\n');\n",
    "'''\n",
    "\n",
    "n = 10\n",
    "    \n",
    "if n > 5:\n",
    "    print('larger than 5')\n",
    "elif n == 5:\n",
    "    print('equal to 5')\n",
    "else:\n",
    "    print('smaller than 5')"
   ]
  },
  {
   "cell_type": "markdown",
   "metadata": {
    "slideshow": {
     "slide_type": "subslide"
    }
   },
   "source": [
    "### 4-3. For loop\n",
    "In C language, for loop operates as a **index based iteration**.<br>\n",
    "Otherwise, Python's for loop is **for-each loop**, that traverses items in a collection sequentially.<br>\n",
    "For-each loop helps us prevent *index out of range* errors."
   ]
  },
  {
   "cell_type": "code",
   "execution_count": 7,
   "metadata": {
    "slideshow": {
     "slide_type": "-"
    }
   },
   "outputs": [
    {
     "name": "stdout",
     "output_type": "stream",
     "text": [
      "3 1 4 1 5 9 2 6 5 3 \n"
     ]
    }
   ],
   "source": [
    "''' c-language\n",
    "int arr[10] = {3, 1, 4, 1, 5, 9, 2, 6, 5, 3};\n",
    "\n",
    "for (int i = 0; i < 10; i++)\n",
    "    printf(\"%d \", arr[i]);\n",
    "printf(\"\\n\");\n",
    "'''\n",
    "\n",
    "lst = [3, 1, 4, 1, 5, 9, 2, 6, 5, 3]\n",
    "\n",
    "for n in lst:\n",
    "    print(n, end=' ')\n",
    "print()"
   ]
  },
  {
   "cell_type": "code",
   "execution_count": 8,
   "metadata": {
    "slideshow": {
     "slide_type": "-"
    }
   },
   "outputs": [
    {
     "name": "stdout",
     "output_type": "stream",
     "text": [
      "3 1 4 1 5 9 2 6 5 3 \n"
     ]
    }
   ],
   "source": [
    "# it is not a \"pythonic\" code\n",
    "for i in range(len(lst)):\n",
    "    print(lst[i], end=' ')\n",
    "print()"
   ]
  },
  {
   "cell_type": "markdown",
   "metadata": {
    "slideshow": {
     "slide_type": "subslide"
    }
   },
   "source": [
    "#### What if I need the index value?\n",
    "use `enumerate()`"
   ]
  },
  {
   "cell_type": "code",
   "execution_count": 9,
   "metadata": {
    "slideshow": {
     "slide_type": "-"
    }
   },
   "outputs": [
    {
     "name": "stdout",
     "output_type": "stream",
     "text": [
      "0-3  1-1  2-4  3-1  4-5  5-9  6-2  7-6  8-5  9-3  \n"
     ]
    }
   ],
   "source": [
    "for i, n in enumerate(lst):\n",
    "    print(f'{i}-{n}', end='  ')\n",
    "print()"
   ]
  },
  {
   "cell_type": "code",
   "execution_count": 10,
   "metadata": {
    "slideshow": {
     "slide_type": "-"
    }
   },
   "outputs": [
    {
     "name": "stdout",
     "output_type": "stream",
     "text": [
      "0-3  1-1  2-4  3-1  4-5  5-9  6-2  7-6  8-5  9-3  \n"
     ]
    }
   ],
   "source": [
    "# it is not a \"pythonic\" code\n",
    "for i in range(len(lst)):\n",
    "    print(f'{i}-{lst[i]}', end='  ')\n",
    "print()"
   ]
  },
  {
   "cell_type": "markdown",
   "metadata": {
    "slideshow": {
     "slide_type": "subslide"
    }
   },
   "source": [
    "### 4-4. While loop"
   ]
  },
  {
   "cell_type": "code",
   "execution_count": 11,
   "metadata": {
    "slideshow": {
     "slide_type": "-"
    }
   },
   "outputs": [
    {
     "name": "stdout",
     "output_type": "stream",
     "text": [
      "0 1 2 3 4 5 6 7 8 9 \n"
     ]
    }
   ],
   "source": [
    "''' c-language\n",
    "int n = 0;\n",
    "\n",
    "while (n < 10) {\n",
    "    printf(\"%d \", n);\n",
    "    n++;\n",
    "}\n",
    "printf(\"\\n\");\n",
    "'''\n",
    "\n",
    "n = 0\n",
    "\n",
    "while n < 10:\n",
    "    print(n, end=' ')\n",
    "    n += 1\n",
    "print()"
   ]
  },
  {
   "cell_type": "markdown",
   "metadata": {
    "slideshow": {
     "slide_type": "subslide"
    }
   },
   "source": [
    "### 4-5. List : mutalble type"
   ]
  },
  {
   "cell_type": "code",
   "execution_count": 12,
   "metadata": {
    "slideshow": {
     "slide_type": "-"
    }
   },
   "outputs": [
    {
     "name": "stdout",
     "output_type": "stream",
     "text": [
      "<class 'list'>\n"
     ]
    }
   ],
   "source": [
    "lst = [3, 1, 4, 1, 5, 9, 2, 6, 5, 3]\n",
    "print(type(lst))"
   ]
  },
  {
   "cell_type": "code",
   "execution_count": 13,
   "metadata": {
    "slideshow": {
     "slide_type": "-"
    }
   },
   "outputs": [
    {
     "name": "stdout",
     "output_type": "stream",
     "text": [
      "[1, 'abcd', 3.14, [3, 4, 5], (6, 7)]\n",
      "[1, 'abcd', 3.14, [3, 4, 5], (6, 7), 10]\n",
      "[1, 'abcd', 3.14, [3, 4, 5], (6, 7)]\n"
     ]
    }
   ],
   "source": [
    "a = [1, 'abcd', 3.14, [3, 4, 5], (6, 7)]\n",
    "print(a)\n",
    "\n",
    "# push new value to the end\n",
    "a.append(10)\n",
    "print(a)\n",
    "\n",
    "# pop one value from the end\n",
    "a.pop()\n",
    "print(a)"
   ]
  },
  {
   "cell_type": "code",
   "execution_count": 14,
   "metadata": {
    "slideshow": {
     "slide_type": "-"
    }
   },
   "outputs": [
    {
     "name": "stdout",
     "output_type": "stream",
     "text": [
      "[1, 'abcd', 'hello', 3.14, [3, 4, 5], (6, 7)]\n",
      "[1, 'abcd', 'hello', [3, 4, 5], (6, 7)]\n"
     ]
    }
   ],
   "source": [
    "# insert new value at index 2\n",
    "a.insert(2, 'hello')\n",
    "print(a)\n",
    "\n",
    "# pop one value at index 3\n",
    "a.pop(3)\n",
    "print(a)"
   ]
  },
  {
   "cell_type": "markdown",
   "metadata": {
    "slideshow": {
     "slide_type": "slide"
    }
   },
   "source": [
    "### 4-5. Tuple : immutable type "
   ]
  },
  {
   "cell_type": "code",
   "execution_count": 15,
   "metadata": {
    "slideshow": {
     "slide_type": "-"
    }
   },
   "outputs": [
    {
     "name": "stdout",
     "output_type": "stream",
     "text": [
      "<class 'tuple'>\n"
     ]
    }
   ],
   "source": [
    "tpl = (3, 1, 4, 1, 5, 9, 2, 6, 5, 3)\n",
    "print(type(tpl))"
   ]
  },
  {
   "cell_type": "code",
   "execution_count": 16,
   "metadata": {
    "slideshow": {
     "slide_type": "-"
    }
   },
   "outputs": [
    {
     "name": "stdout",
     "output_type": "stream",
     "text": [
      "[3, 1, 4, 1, 5, 9, 2, 6, 5, 3]\n",
      "[3, 0, 4, 1, 5, 9, 2, 6, 5, 3]\n"
     ]
    }
   ],
   "source": [
    "print(lst)\n",
    "lst[1] = 0\n",
    "print(lst)"
   ]
  },
  {
   "cell_type": "code",
   "execution_count": 17,
   "metadata": {
    "slideshow": {
     "slide_type": "-"
    }
   },
   "outputs": [
    {
     "ename": "TypeError",
     "evalue": "'tuple' object does not support item assignment",
     "output_type": "error",
     "traceback": [
      "\u001b[0;31m---------------------------------------------------------------------------\u001b[0m",
      "\u001b[0;31mTypeError\u001b[0m                                 Traceback (most recent call last)",
      "\u001b[0;32m<ipython-input-17-f98434c97c29>\u001b[0m in \u001b[0;36m<module>\u001b[0;34m\u001b[0m\n\u001b[0;32m----> 1\u001b[0;31m \u001b[0mtpl\u001b[0m\u001b[0;34m[\u001b[0m\u001b[0;36m3\u001b[0m\u001b[0;34m]\u001b[0m \u001b[0;34m=\u001b[0m \u001b[0;36m0\u001b[0m\u001b[0;34m\u001b[0m\u001b[0;34m\u001b[0m\u001b[0m\n\u001b[0m",
      "\u001b[0;31mTypeError\u001b[0m: 'tuple' object does not support item assignment"
     ]
    }
   ],
   "source": [
    "tpl[3] = 0"
   ]
  },
  {
   "cell_type": "code",
   "execution_count": 18,
   "metadata": {
    "slideshow": {
     "slide_type": "-"
    }
   },
   "outputs": [
    {
     "name": "stdout",
     "output_type": "stream",
     "text": [
      "1 2\n",
      "3 4\n"
     ]
    }
   ],
   "source": [
    "(x, y) = (1, 2)\n",
    "print(x, y)\n",
    "\n",
    "# parentheses can be ommitted\n",
    "x, y = 3, 4\n",
    "print(x, y)"
   ]
  },
  {
   "cell_type": "markdown",
   "metadata": {
    "slideshow": {
     "slide_type": "subslide"
    }
   },
   "source": [
    "### 4-6. Indexing & Slicing"
   ]
  },
  {
   "cell_type": "code",
   "execution_count": 19,
   "metadata": {
    "slideshow": {
     "slide_type": "-"
    }
   },
   "outputs": [
    {
     "data": {
      "text/plain": [
       "[3, 0, 4, 1, 5, 9, 2, 6, 5, 3]"
      ]
     },
     "execution_count": 19,
     "metadata": {},
     "output_type": "execute_result"
    }
   ],
   "source": [
    "lst"
   ]
  },
  {
   "cell_type": "code",
   "execution_count": 20,
   "metadata": {
    "slideshow": {
     "slide_type": "-"
    }
   },
   "outputs": [
    {
     "name": "stdout",
     "output_type": "stream",
     "text": [
      "1\n",
      "6\n"
     ]
    }
   ],
   "source": [
    "# indexing\n",
    "print(lst[3])\n",
    "print(lst[-3])"
   ]
  },
  {
   "cell_type": "code",
   "execution_count": 21,
   "metadata": {
    "slideshow": {
     "slide_type": "-"
    }
   },
   "outputs": [
    {
     "name": "stdout",
     "output_type": "stream",
     "text": [
      "[1, 5, 9]\n",
      "[3, 0, 4, 1, 5, 9]\n",
      "[1, 5, 9, 2, 6, 5, 3]\n"
     ]
    }
   ],
   "source": [
    "# slicing\n",
    "print(lst[3:6])\n",
    "print(lst[:6])\n",
    "print(lst[3:])"
   ]
  },
  {
   "cell_type": "markdown",
   "metadata": {
    "slideshow": {
     "slide_type": "subslide"
    }
   },
   "source": [
    "### 4-7. Operators"
   ]
  },
  {
   "cell_type": "code",
   "execution_count": 22,
   "metadata": {
    "slideshow": {
     "slide_type": "-"
    }
   },
   "outputs": [
    {
     "data": {
      "text/plain": [
       "1.4"
      ]
     },
     "execution_count": 22,
     "metadata": {},
     "output_type": "execute_result"
    }
   ],
   "source": [
    "# true division\n",
    "7 / 5"
   ]
  },
  {
   "cell_type": "code",
   "execution_count": 23,
   "metadata": {
    "slideshow": {
     "slide_type": "-"
    }
   },
   "outputs": [
    {
     "data": {
      "text/plain": [
       "1"
      ]
     },
     "execution_count": 23,
     "metadata": {},
     "output_type": "execute_result"
    }
   ],
   "source": [
    "# floor division\n",
    "7 // 5"
   ]
  },
  {
   "cell_type": "code",
   "execution_count": 24,
   "metadata": {
    "slideshow": {
     "slide_type": "-"
    }
   },
   "outputs": [
    {
     "data": {
      "text/plain": [
       "16"
      ]
     },
     "execution_count": 24,
     "metadata": {},
     "output_type": "execute_result"
    }
   ],
   "source": [
    "## power\n",
    "2 ** 4"
   ]
  },
  {
   "cell_type": "markdown",
   "metadata": {
    "slideshow": {
     "slide_type": "slide"
    }
   },
   "source": [
    "# Thank you!"
   ]
  }
 ],
 "metadata": {
  "celltoolbar": "Slideshow",
  "kernelspec": {
   "display_name": "Python 3.7.10 64-bit ('gnb': conda)",
   "language": "python",
   "name": "python371064bitgnbconda9712835578db416d9fa32052cf0b7ba2"
  },
  "language_info": {
   "codemirror_mode": {
    "name": "ipython",
    "version": 3
   },
   "file_extension": ".py",
   "mimetype": "text/x-python",
   "name": "python",
   "nbconvert_exporter": "python",
   "pygments_lexer": "ipython3",
   "version": "3.7.10"
  }
 },
 "nbformat": 4,
 "nbformat_minor": 2
}

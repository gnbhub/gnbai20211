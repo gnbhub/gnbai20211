{
  "nbformat": 4,
  "nbformat_minor": 0,
  "metadata": {
    "colab": {
      "name": "Untitled0.ipynb",
      "provenance": [],
      "collapsed_sections": [],
      "authorship_tag": "ABX9TyMzfp3MjjejaxNUpgrqep3M",
      "include_colab_link": true
    },
    "kernelspec": {
      "name": "python3",
      "display_name": "Python 3"
    },
    "language_info": {
      "name": "python"
    }
  },
  "cells": [
    {
      "cell_type": "markdown",
      "metadata": {
        "id": "view-in-github",
        "colab_type": "text"
      },
      "source": [
        "<a href=\"https://colab.research.google.com/github/gnbhub/gnbai20211/blob/master/week1/week1-doseunghwan.ipynb\" target=\"_parent\"><img src=\"https://colab.research.google.com/assets/colab-badge.svg\" alt=\"Open In Colab\"/></a>"
      ]
    },
    {
      "cell_type": "markdown",
      "metadata": {
        "id": "V_DYguoKdG_k"
      },
      "source": [
        "# GNB Python-AI Study\n",
        "##ㅎㅎ 잘모르겠어용ㅎㅎ"
      ]
    },
    {
      "cell_type": "code",
      "metadata": {
        "colab": {
          "base_uri": "https://localhost:8080/"
        },
        "id": "Cfh5OHx9bNK4",
        "outputId": "ead37782-ce6e-40ed-82eb-4ef3a59a4130"
      },
      "source": [
        "print('hello world!')\n",
        "print(\"hello world!\")\n",
        "print(\"Hello %s\" %'world', end='!')"
      ],
      "execution_count": null,
      "outputs": [
        {
          "output_type": "stream",
          "text": [
            "hello world!\n",
            "hello world!\n",
            "Hello world!"
          ],
          "name": "stdout"
        }
      ]
    },
    {
      "cell_type": "code",
      "metadata": {
        "id": "CHDUy85Wet4b"
      },
      "source": [
        "year = 2021\n",
        "day = 22\n",
        "month = 'March'\n",
        "\n",
        "str1 = 'Today is %s %d, %d' %(month, day, year)\n",
        "\n",
        "str2= 'Today is { } {} {}'"
      ],
      "execution_count": null,
      "outputs": []
    },
    {
      "cell_type": "code",
      "metadata": {
        "colab": {
          "base_uri": "https://localhost:8080/"
        },
        "id": "SrVukQSXfU0I",
        "outputId": "770798df-5178-44b1-9b20-1f7604f2f2fe"
      },
      "source": [
        "n=10\n",
        "if n >5:\n",
        "    print('larger than 5')\n",
        "elif n ==5:\n",
        "    print('equal to 5')\n",
        "else:\n",
        "    print('smaller than 5')"
      ],
      "execution_count": null,
      "outputs": [
        {
          "output_type": "stream",
          "text": [
            "larger than 5\n"
          ],
          "name": "stdout"
        }
      ]
    },
    {
      "cell_type": "code",
      "metadata": {
        "id": "0lHRl0Irh_Tm"
      },
      "source": [
        "lst = [3, 1, 4, 1, ]"
      ],
      "execution_count": null,
      "outputs": []
    },
    {
      "cell_type": "code",
      "metadata": {
        "colab": {
          "base_uri": "https://localhost:8080/",
          "height": 134
        },
        "id": "-WJ9El-Yh_QR",
        "outputId": "959a29d8-e82a-4118-b3ce-011ed759f373"
      },
      "source": [
        "for i, n in enumerate(lst)\n",
        "  print(f'{i}-{n}', end= '  ')\n",
        "  print(lst)"
      ],
      "execution_count": null,
      "outputs": [
        {
          "output_type": "error",
          "ename": "SyntaxError",
          "evalue": "ignored",
          "traceback": [
            "\u001b[0;36m  File \u001b[0;32m\"<ipython-input-11-4a919f08d62c>\"\u001b[0;36m, line \u001b[0;32m1\u001b[0m\n\u001b[0;31m    for i, n in enumerate(lst)\u001b[0m\n\u001b[0m                              ^\u001b[0m\n\u001b[0;31mSyntaxError\u001b[0m\u001b[0;31m:\u001b[0m invalid syntax\n"
          ]
        }
      ]
    },
    {
      "cell_type": "code",
      "metadata": {
        "colab": {
          "base_uri": "https://localhost:8080/"
        },
        "id": "UFmS5Z__i7Zn",
        "outputId": "dfa44f37-3666-4cac-8ba8-30ff9f551375"
      },
      "source": [
        "n = 0\n",
        "while n < 10:\n",
        "  print(n, end=' ')\n",
        "  n +=1\n",
        "print()"
      ],
      "execution_count": null,
      "outputs": [
        {
          "output_type": "stream",
          "text": [
            "0 1 2 3 4 5 6 7 8 9 \n"
          ],
          "name": "stdout"
        }
      ]
    },
    {
      "cell_type": "code",
      "metadata": {
        "colab": {
          "base_uri": "https://localhost:8080/"
        },
        "id": "mfIdX2szj8b9",
        "outputId": "ce552330-629a-403d-c640-58c2c178de4c"
      },
      "source": [
        "lst = [3,1,4,1,5,9,2,6,5,3]\n",
        "print(type(lst))"
      ],
      "execution_count": null,
      "outputs": [
        {
          "output_type": "stream",
          "text": [
            "<class 'list'>\n"
          ],
          "name": "stdout"
        }
      ]
    },
    {
      "cell_type": "code",
      "metadata": {
        "colab": {
          "base_uri": "https://localhost:8080/"
        },
        "id": "HoveP2pwkTy8",
        "outputId": "560ef84e-f1bf-46d3-c3d5-690e7b513acc"
      },
      "source": [
        "a=[1,'abcd',3.14,[3,4,5],(6,7)]\n",
        "print(a)\n",
        "\n",
        "a.append(10)\n",
        "print(a)\n",
        "\n",
        "a.pop()\n",
        "print(a)\n",
        "\n",
        "a.insert(2, 'hello')\n",
        "print(a)\n",
        "\n",
        "a.pop(3)\n",
        "print(a)\n",
        "\n",
        "x = a.pop(3)\n",
        "print(a,x)"
      ],
      "execution_count": null,
      "outputs": [
        {
          "output_type": "stream",
          "text": [
            "[1, 'abcd', 3.14, [3, 4, 5], (6, 7)]\n",
            "[1, 'abcd', 3.14, [3, 4, 5], (6, 7), 10]\n",
            "[1, 'abcd', 3.14, [3, 4, 5], (6, 7)]\n",
            "[1, 'abcd', 'hello', 3.14, [3, 4, 5], (6, 7)]\n",
            "[1, 'abcd', 'hello', [3, 4, 5], (6, 7)]\n",
            "[1, 'abcd', 'hello', (6, 7)] [3, 4, 5]\n"
          ],
          "name": "stdout"
        }
      ]
    },
    {
      "cell_type": "code",
      "metadata": {
        "colab": {
          "base_uri": "https://localhost:8080/"
        },
        "id": "igexpup4leE7",
        "outputId": "24797f2e-b8dc-4b35-f380-8e682b1a9edb"
      },
      "source": [
        "tpl = (3,1,4,1,5,9,2,6,5,3)\n",
        "print(type(tpl))\n",
        "\n",
        "(x, y)= (1,2)\n",
        "print(x,y)\n",
        "x=1\n",
        "y=2\n",
        "\n",
        "x,y=3,4\n",
        "print(x,y)"
      ],
      "execution_count": null,
      "outputs": [
        {
          "output_type": "stream",
          "text": [
            "<class 'tuple'>\n",
            "1 2\n",
            "3 4\n"
          ],
          "name": "stdout"
        }
      ]
    },
    {
      "cell_type": "code",
      "metadata": {
        "colab": {
          "base_uri": "https://localhost:8080/"
        },
        "id": "jJwcFTddmV1N",
        "outputId": "2fdc78ee-8e65-4de9-b257-2114d222e41e"
      },
      "source": [
        "print(lst)\n",
        "\n",
        "print(lst[3])\n",
        "print(lst[-3])\n",
        "\n",
        "print(lst[3:6])\n",
        "print(lst[:6])\n",
        "print(lst[3:])\n",
        "print(lst[::2])"
      ],
      "execution_count": null,
      "outputs": [
        {
          "output_type": "stream",
          "text": [
            "[3, 1, 4, 1, 5, 9, 2, 6, 5, 3]\n",
            "1\n",
            "6\n",
            "[1, 5, 9]\n",
            "[3, 1, 4, 1, 5, 9]\n",
            "[1, 5, 9, 2, 6, 5, 3]\n",
            "[3, 4, 5, 2, 5]\n"
          ],
          "name": "stdout"
        }
      ]
    },
    {
      "cell_type": "code",
      "metadata": {
        "colab": {
          "base_uri": "https://localhost:8080/",
          "height": 88
        },
        "id": "EH94QMvpnsUP",
        "outputId": "a395503b-107f-467b-a4f2-0894e2a60aa8"
      },
      "source": [
        "print(7 / 5)\n",
        "print(7//5)\n",
        "print(2**4)\n",
        "('hello'+ ' '+'world')*2"
      ],
      "execution_count": null,
      "outputs": [
        {
          "output_type": "stream",
          "text": [
            "1.4\n",
            "1\n",
            "16\n"
          ],
          "name": "stdout"
        },
        {
          "output_type": "execute_result",
          "data": {
            "application/vnd.google.colaboratory.intrinsic+json": {
              "type": "string"
            },
            "text/plain": [
              "'hello worldhello world'"
            ]
          },
          "metadata": {
            "tags": []
          },
          "execution_count": 32
        }
      ]
    }
  ]
}
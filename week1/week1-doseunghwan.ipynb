{
  "nbformat": 4,
  "nbformat_minor": 0,
  "metadata": {
    "colab": {
      "name": "Untitled0.ipynb",
      "provenance": [],
      "collapsed_sections": [],
      "authorship_tag": "ABX9TyN4IzcsFWMy004DLAJYIPBF",
      "include_colab_link": true
    },
    "kernelspec": {
      "name": "python3",
      "display_name": "Python 3"
    },
    "language_info": {
      "name": "python"
    }
  },
  "cells": [
    {
      "cell_type": "markdown",
      "metadata": {
        "id": "view-in-github",
        "colab_type": "text"
      },
      "source": [
        "<a href=\"https://colab.research.google.com/github/gnbhub/gnbai20211/blob/master/week1/week1-doseunghwan.ipynb\" target=\"_parent\"><img src=\"https://colab.research.google.com/assets/colab-badge.svg\" alt=\"Open In Colab\"/></a>"
      ]
    },
    {
      "cell_type": "markdown",
      "metadata": {
        "id": "V_DYguoKdG_k"
      },
      "source": [
        "# GNB Python-AI Study\n",
        "##ㅎㅎ 잘모르겠어용ㅎㅎ"
      ]
    },
    {
      "cell_type": "code",
      "metadata": {
        "colab": {
          "base_uri": "https://localhost:8080/"
        },
        "id": "Cfh5OHx9bNK4",
        "outputId": "ecc43931-006a-4bc6-8b3d-31cf8e4d80c6"
      },
      "source": [
        "print('Hello world!')\n",
        "print(\"Hello world!\")\n",
        "print(\"Hello %s\" %'world', end='!\\n')"
      ],
      "execution_count": 1,
      "outputs": [
        {
          "output_type": "stream",
          "text": [
            "Hello world!\n",
            "Hello world!\n",
            "Hello world!\n"
          ],
          "name": "stdout"
        }
      ]
    },
    {
      "cell_type": "code",
      "metadata": {
        "id": "CHDUy85Wet4b",
        "colab": {
          "base_uri": "https://localhost:8080/"
        },
        "outputId": "18277f62-7a7d-46d8-cd13-a01de8afdc65"
      },
      "source": [
        "year = 2021\n",
        "day = 22\n",
        "month = 'March'\n",
        "\n",
        "str1 = 'Today is %s %d, %d' %(month, day, year)\n",
        "\n",
        "str2 = 'Today is {} {}, {}'.format(month, day, year)\n",
        "\n",
        "str3 = f'Today is {month} {day}, {year}' \n",
        "print(str1) \n",
        "print(str2) \n",
        "print(str3)"
      ],
      "execution_count": 2,
      "outputs": [
        {
          "output_type": "stream",
          "text": [
            "Today is March 22, 2021\n",
            "Today is March 22, 2021\n",
            "Today is March 22, 2021\n"
          ],
          "name": "stdout"
        }
      ]
    },
    {
      "cell_type": "code",
      "metadata": {
        "colab": {
          "base_uri": "https://localhost:8080/"
        },
        "id": "QMTy4L2FIKhh",
        "outputId": "37818248-b7e2-46a7-db22-26e77d9ab7f0"
      },
      "source": [
        "help(print)"
      ],
      "execution_count": 3,
      "outputs": [
        {
          "output_type": "stream",
          "text": [
            "Help on built-in function print in module builtins:\n",
            "\n",
            "print(...)\n",
            "    print(value, ..., sep=' ', end='\\n', file=sys.stdout, flush=False)\n",
            "    \n",
            "    Prints the values to a stream, or to sys.stdout by default.\n",
            "    Optional keyword arguments:\n",
            "    file:  a file-like object (stream); defaults to the current sys.stdout.\n",
            "    sep:   string inserted between values, default a space.\n",
            "    end:   string appended after the last value, default a newline.\n",
            "    flush: whether to forcibly flush the stream.\n",
            "\n"
          ],
          "name": "stdout"
        }
      ]
    },
    {
      "cell_type": "code",
      "metadata": {
        "colab": {
          "base_uri": "https://localhost:8080/"
        },
        "id": "SrVukQSXfU0I",
        "outputId": "770798df-5178-44b1-9b20-1f7604f2f2fe"
      },
      "source": [
        "n = 10\n",
        "if n > 5:\n",
        "    print('larger than 5')\n",
        "elif n == 5:\n",
        "    print('equal to 5')\n",
        "else:\n",
        "    print('smaller than 5')"
      ],
      "execution_count": null,
      "outputs": [
        {
          "output_type": "stream",
          "text": [
            "larger than 5\n"
          ],
          "name": "stdout"
        }
      ]
    },
    {
      "cell_type": "code",
      "metadata": {
        "id": "0lHRl0Irh_Tm",
        "colab": {
          "base_uri": "https://localhost:8080/"
        },
        "outputId": "986660a8-a8c9-4bf3-f998-006d841c9049"
      },
      "source": [
        "lst = [3, 1, 4, 1, 5, 9, 2, 6, 5, 3]\n",
        "\n",
        "for n in lst:\n",
        "    print(n, end=' ')\n",
        "print()"
      ],
      "execution_count": 4,
      "outputs": [
        {
          "output_type": "stream",
          "text": [
            "3 1 4 1 5 9 2 6 5 3 \n"
          ],
          "name": "stdout"
        }
      ]
    },
    {
      "cell_type": "code",
      "metadata": {
        "colab": {
          "base_uri": "https://localhost:8080/"
        },
        "id": "-WJ9El-Yh_QR",
        "outputId": "c554cf92-8281-49a7-bb61-252915b617d2"
      },
      "source": [
        "for i, n in enumerate(lst):\n",
        "  print(f'{i}-{n}', end= '  ')\n",
        "print()"
      ],
      "execution_count": 6,
      "outputs": [
        {
          "output_type": "stream",
          "text": [
            "0-3  1-1  2-4  3-1  4-5  5-9  6-2  7-6  8-5  9-3  \n"
          ],
          "name": "stdout"
        }
      ]
    },
    {
      "cell_type": "code",
      "metadata": {
        "colab": {
          "base_uri": "https://localhost:8080/"
        },
        "id": "UFmS5Z__i7Zn",
        "outputId": "dfa44f37-3666-4cac-8ba8-30ff9f551375"
      },
      "source": [
        "n = 0\n",
        "while n < 10:\n",
        "  print(n, end=' ')\n",
        "  n +=1\n",
        "print()"
      ],
      "execution_count": null,
      "outputs": [
        {
          "output_type": "stream",
          "text": [
            "0 1 2 3 4 5 6 7 8 9 \n"
          ],
          "name": "stdout"
        }
      ]
    },
    {
      "cell_type": "code",
      "metadata": {
        "colab": {
          "base_uri": "https://localhost:8080/"
        },
        "id": "mfIdX2szj8b9",
        "outputId": "ce552330-629a-403d-c640-58c2c178de4c"
      },
      "source": [
        "lst = [3, 1, 4, 1, 5, 9, 2, 6, 5, 3]\n",
        "print(type(lst))"
      ],
      "execution_count": null,
      "outputs": [
        {
          "output_type": "stream",
          "text": [
            "<class 'list'>\n"
          ],
          "name": "stdout"
        }
      ]
    },
    {
      "cell_type": "code",
      "metadata": {
        "colab": {
          "base_uri": "https://localhost:8080/"
        },
        "id": "HoveP2pwkTy8",
        "outputId": "d12f374c-4afe-4fb4-aa93-fd09edd7eb10"
      },
      "source": [
        "a = [1, 'abcd', 3.14, [3, 4, 5], (6,7)]\n",
        "print(a)\n",
        "\n",
        "a.append(10)\n",
        "print(a)\n",
        "\n",
        "a.pop()\n",
        "print(a)\n",
        "\n",
        "a.insert(2, 'hello')\n",
        "print(a)\n",
        "\n",
        "a.pop(3)\n",
        "print(a)\n",
        "\n",
        "x = a.pop(3)\n",
        "print(a,x)"
      ],
      "execution_count": 7,
      "outputs": [
        {
          "output_type": "stream",
          "text": [
            "[1, 'abcd', 3.14, [3, 4, 5], (6, 7)]\n",
            "[1, 'abcd', 3.14, [3, 4, 5], (6, 7), 10]\n",
            "[1, 'abcd', 3.14, [3, 4, 5], (6, 7)]\n",
            "[1, 'abcd', 'hello', 3.14, [3, 4, 5], (6, 7)]\n",
            "[1, 'abcd', 'hello', [3, 4, 5], (6, 7)]\n",
            "[1, 'abcd', 'hello', (6, 7)] [3, 4, 5]\n"
          ],
          "name": "stdout"
        }
      ]
    },
    {
      "cell_type": "code",
      "metadata": {
        "colab": {
          "base_uri": "https://localhost:8080/"
        },
        "id": "igexpup4leE7",
        "outputId": "154f6201-e178-4ac0-976a-c0f95024f23e"
      },
      "source": [
        "tpl = (3, 1, 4, 1, 5, 9, 2, 6, 5, 3)\n",
        "print(type(tpl))\n",
        "\n",
        "print(lst)\n",
        "lst[1] = 0\n",
        "print(lst)\n",
        "\n",
        "(x, y)= (1, 2)\n",
        "print(x, y)\n",
        "x = 1\n",
        "y = 2\n",
        "\n",
        "x, y = 3, 4\n",
        "print(x,y)"
      ],
      "execution_count": 8,
      "outputs": [
        {
          "output_type": "stream",
          "text": [
            "<class 'tuple'>\n",
            "[3, 1, 4, 1, 5, 9, 2, 6, 5, 3]\n",
            "[3, 0, 4, 1, 5, 9, 2, 6, 5, 3]\n",
            "1 2\n",
            "3 4\n"
          ],
          "name": "stdout"
        }
      ]
    },
    {
      "cell_type": "code",
      "metadata": {
        "colab": {
          "base_uri": "https://localhost:8080/"
        },
        "id": "jJwcFTddmV1N",
        "outputId": "2fdc78ee-8e65-4de9-b257-2114d222e41e"
      },
      "source": [
        "print(lst)\n",
        "\n",
        "print(lst[3])\n",
        "print(lst[-3])\n",
        "\n",
        "print(lst[3:6])\n",
        "print(lst[:6])\n",
        "print(lst[3:])\n",
        "print(lst[::2])"
      ],
      "execution_count": null,
      "outputs": [
        {
          "output_type": "stream",
          "text": [
            "[3, 1, 4, 1, 5, 9, 2, 6, 5, 3]\n",
            "1\n",
            "6\n",
            "[1, 5, 9]\n",
            "[3, 1, 4, 1, 5, 9]\n",
            "[1, 5, 9, 2, 6, 5, 3]\n",
            "[3, 4, 5, 2, 5]\n"
          ],
          "name": "stdout"
        }
      ]
    },
    {
      "cell_type": "code",
      "metadata": {
        "colab": {
          "base_uri": "https://localhost:8080/",
          "height": 88
        },
        "id": "EH94QMvpnsUP",
        "outputId": "e652b589-4822-4d7d-fd0f-15cce7caf41c"
      },
      "source": [
        "print(7 / 5)\n",
        "print(7 // 5)\n",
        "print(2 ** 4)\n",
        "('hello'+ ' '+'world')*2"
      ],
      "execution_count": 11,
      "outputs": [
        {
          "output_type": "stream",
          "text": [
            "1.4\n",
            "1\n",
            "16\n"
          ],
          "name": "stdout"
        },
        {
          "output_type": "execute_result",
          "data": {
            "application/vnd.google.colaboratory.intrinsic+json": {
              "type": "string"
            },
            "text/plain": [
              "'hello worldhello world'"
            ]
          },
          "metadata": {
            "tags": []
          },
          "execution_count": 11
        }
      ]
    }
  ]
}
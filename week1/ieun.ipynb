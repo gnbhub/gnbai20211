{
  "nbformat": 4,
  "nbformat_minor": 0,
  "metadata": {
    "colab": {
      "name": "파이썬_1",
      "provenance": [],
      "toc_visible": true,
      "authorship_tag": "ABX9TyMxHHSB4pqFiTYZR2ttac2Z",
      "include_colab_link": true
    },
    "kernelspec": {
      "name": "python3",
      "display_name": "Python 3"
    },
    "language_info": {
      "name": "python"
    }
  },
  "cells": [
    {
      "cell_type": "markdown",
      "metadata": {
        "id": "view-in-github",
        "colab_type": "text"
      },
      "source": [
        "<a href=\"https://colab.research.google.com/github/gnbhub/gnbai20211/blob/master/week1/ieun.ipynb\" target=\"_parent\"><img src=\"https://colab.research.google.com/assets/colab-badge.svg\" alt=\"Open In Colab\"/></a>"
      ]
    },
    {
      "cell_type": "code",
      "metadata": {
        "colab": {
          "base_uri": "https://localhost:8080/"
        },
        "id": "4gqpnJ1FY4k0",
        "outputId": "aa14c39f-efc7-47ba-8aff-cebdee3ed3ca"
      },
      "source": [
        "print('hello world')"
      ],
      "execution_count": 3,
      "outputs": [
        {
          "output_type": "stream",
          "text": [
            "hello world\n"
          ],
          "name": "stdout"
        }
      ]
    },
    {
      "cell_type": "code",
      "metadata": {
        "colab": {
          "base_uri": "https://localhost:8080/"
        },
        "id": "fXyjgjYXbCxQ",
        "outputId": "5eb60a54-a4ea-4426-ba06-ec5798aef946"
      },
      "source": [
        "print('bye bye')"
      ],
      "execution_count": 5,
      "outputs": [
        {
          "output_type": "stream",
          "text": [
            "bye bye\n"
          ],
          "name": "stdout"
        }
      ]
    },
    {
      "cell_type": "markdown",
      "metadata": {
        "id": "rFtbiH4sc2VF"
      },
      "source": [
        "#GNB Python-AI Study\n",
        "Week 1- Python basics"
      ]
    },
    {
      "cell_type": "code",
      "metadata": {
        "colab": {
          "base_uri": "https://localhost:8080/"
        },
        "id": "bRsEAmqobHj5",
        "outputId": "87d2016a-6600-4df8-80c0-5f3e49e93c18"
      },
      "source": [
        "print('Hello World')\n"
      ],
      "execution_count": 13,
      "outputs": [
        {
          "output_type": "stream",
          "text": [
            "Hello World\n"
          ],
          "name": "stdout"
        }
      ]
    },
    {
      "cell_type": "code",
      "metadata": {
        "id": "vtftEOSPeFuK"
      },
      "source": [
        "year =2021"
      ],
      "execution_count": 10,
      "outputs": []
    },
    {
      "cell_type": "code",
      "metadata": {
        "id": "yIsiMihCeL3V"
      },
      "source": [
        "day=22"
      ],
      "execution_count": 11,
      "outputs": []
    },
    {
      "cell_type": "code",
      "metadata": {
        "id": "Gr8o4BzCeNga"
      },
      "source": [
        ""
      ],
      "execution_count": 21,
      "outputs": []
    },
    {
      "cell_type": "code",
      "metadata": {
        "colab": {
          "base_uri": "https://localhost:8080/"
        },
        "id": "82TFLrkvfA-_",
        "outputId": "341d6fd2-a466-4c3e-9b3c-782833bab342"
      },
      "source": [
        "n = 10\n",
        "\n",
        "if n>5:\n",
        "  print('larger than 5')\n",
        "elif n==5:\n",
        "  print('equal to 5')\n",
        "else:\n",
        "  print('smaller than 5')"
      ],
      "execution_count": 22,
      "outputs": [
        {
          "output_type": "stream",
          "text": [
            "larger than 5\n"
          ],
          "name": "stdout"
        }
      ]
    },
    {
      "cell_type": "code",
      "metadata": {
        "colab": {
          "base_uri": "https://localhost:8080/"
        },
        "id": "3kZwLZpoghOE",
        "outputId": "30fbaa19-aa85-4e74-a94f-f8992d4e4459"
      },
      "source": [
        "lst = [1,0,2,0,3,0,4,0]\n",
        "\n",
        "for n in lst:\n",
        "  print(n, end=' ')\n",
        "print()"
      ],
      "execution_count": 29,
      "outputs": [
        {
          "output_type": "stream",
          "text": [
            "1 0 2 0 3 0 4 0 \n",
            "{0} {1} set() {3} {4} {5} {6} {7} \n"
          ],
          "name": "stdout"
        }
      ]
    },
    {
      "cell_type": "code",
      "metadata": {
        "colab": {
          "base_uri": "https://localhost:8080/"
        },
        "id": "PunqH2dBi7Ba",
        "outputId": "3ded4141-6bc4-4b9b-8b92-4ee1b690807b"
      },
      "source": [
        "n=0\n",
        "\n",
        "while n<10:\n",
        "  print(n,end=' ')\n",
        "  n+=1\n",
        "print()\n"
      ],
      "execution_count": 31,
      "outputs": [
        {
          "output_type": "stream",
          "text": [
            "0 1 2 3 4 5 6 7 8 9 \n"
          ],
          "name": "stdout"
        }
      ]
    },
    {
      "cell_type": "code",
      "metadata": {
        "colab": {
          "base_uri": "https://localhost:8080/"
        },
        "id": "95X_cpUMkDwt",
        "outputId": "d1856ca6-11b1-4f08-f28b-7890b3d10001"
      },
      "source": [
        "lst = [0,1,3,2,3,5]\n",
        "print(type(lst))"
      ],
      "execution_count": 32,
      "outputs": [
        {
          "output_type": "stream",
          "text": [
            "<class 'list'>\n"
          ],
          "name": "stdout"
        }
      ]
    },
    {
      "cell_type": "code",
      "metadata": {
        "colab": {
          "base_uri": "https://localhost:8080/"
        },
        "id": "rJ9iRA2ukOLQ",
        "outputId": "9c51bbf9-e59a-4926-a299-3aaf9de39768"
      },
      "source": [
        "a=[1,'abcd',3.14,[3,4,5],(6,7)]\n",
        "print(a)\n",
        "\n",
        "a.append(10)\n",
        "print(a)\n",
        "\n",
        "a.pop()\n",
        "print(a)\n",
        "print(a)\n",
        "\n",
        "a.insert(2,'hello')\n",
        "print(a)\n",
        "\n",
        "x=a.pop(3)\n",
        "print(a,x)"
      ],
      "execution_count": 41,
      "outputs": [
        {
          "output_type": "stream",
          "text": [
            "[1, 'abcd', 3.14, [3, 4, 5], (6, 7)]\n",
            "[1, 'abcd', 3.14, [3, 4, 5], (6, 7), 10]\n",
            "[1, 'abcd', 3.14, [3, 4, 5], (6, 7)]\n",
            "[1, 'abcd', 3.14, [3, 4, 5], (6, 7)]\n",
            "[1, 'abcd', 'hello', 3.14, [3, 4, 5], (6, 7)]\n",
            "[1, 'abcd', 'hello', [3, 4, 5], (6, 7)] 3.14\n"
          ],
          "name": "stdout"
        }
      ]
    },
    {
      "cell_type": "code",
      "metadata": {
        "colab": {
          "base_uri": "https://localhost:8080/"
        },
        "id": "ySckcJQ-k52B",
        "outputId": "8906bc9e-afd4-4c3f-f318-98f61063b57c"
      },
      "source": [
        "tpl=(3,1,4,1,5,9)\n",
        "print(type(tpl))\n",
        "\n",
        "(x,y)=(1,2)\n",
        "print(x,y)\n",
        "\n",
        "x,y=3,4\n",
        "print(x,y)"
      ],
      "execution_count": 45,
      "outputs": [
        {
          "output_type": "stream",
          "text": [
            "<class 'tuple'>\n",
            "1 2\n",
            "3 4\n"
          ],
          "name": "stdout"
        }
      ]
    },
    {
      "cell_type": "code",
      "metadata": {
        "colab": {
          "base_uri": "https://localhost:8080/"
        },
        "id": "kfC5SHxLmRTc",
        "outputId": "c2f11f41-9c7d-4a01-f165-c08fbd5eecae"
      },
      "source": [
        "lst=(3,4,5,7,9,0,1,7)\n",
        "\n",
        "print(lst[3])\n",
        "print(lst[-3])\n",
        "\n",
        "print(lst[3:6])\n",
        "print(lst[:6])\n",
        "print(lst[3:])\n",
        "print(lst[::2])\n",
        "print(lst[1::2])"
      ],
      "execution_count": 53,
      "outputs": [
        {
          "output_type": "stream",
          "text": [
            "7\n",
            "0\n",
            "(7, 9, 0)\n",
            "(3, 4, 5, 7, 9, 0)\n",
            "(7, 9, 0, 1, 7)\n",
            "(3, 5, 9, 1)\n",
            "(4, 7, 0, 7)\n"
          ],
          "name": "stdout"
        }
      ]
    },
    {
      "cell_type": "code",
      "metadata": {
        "colab": {
          "base_uri": "https://localhost:8080/"
        },
        "id": "VVTQT6VJnsFi",
        "outputId": "15918e13-9c8b-49e0-81e6-2a6e01f4a45e"
      },
      "source": [
        "print(7/5)\n",
        "\n",
        "print(7//5)\n",
        "\n",
        "print(2**4)"
      ],
      "execution_count": 56,
      "outputs": [
        {
          "output_type": "stream",
          "text": [
            "1.4\n",
            "1\n",
            "16\n"
          ],
          "name": "stdout"
        }
      ]
    }
  ]
}
{
  "nbformat": 4,
  "nbformat_minor": 0,
  "metadata": {
    "colab": {
      "name": "week1-bosung.ipynb",
      "provenance": [],
      "toc_visible": true,
      "authorship_tag": "ABX9TyMC3theOIjGrIL+d9gWngMK",
      "include_colab_link": true
    },
    "kernelspec": {
      "name": "python3",
      "display_name": "Python 3"
    },
    "language_info": {
      "name": "python"
    }
  },
  "cells": [
    {
      "cell_type": "markdown",
      "metadata": {
        "id": "view-in-github",
        "colab_type": "text"
      },
      "source": [
        "<a href=\"https://colab.research.google.com/github/gnbhub/gnbai20211/blob/master/week1/week1-bosung.ipynb\" target=\"_parent\"><img src=\"https://colab.research.google.com/assets/colab-badge.svg\" alt=\"Open In Colab\"/></a>"
      ]
    },
    {
      "cell_type": "code",
      "metadata": {
        "colab": {
          "base_uri": "https://localhost:8080/"
        },
        "id": "WMseINIJaNP6",
        "outputId": "2a4187fd-ee5e-448f-fdb2-12361708d6da"
      },
      "source": [
        "print('hello world')"
      ],
      "execution_count": 2,
      "outputs": [
        {
          "output_type": "stream",
          "text": [
            "hello world\n"
          ],
          "name": "stdout"
        }
      ]
    },
    {
      "cell_type": "code",
      "metadata": {
        "colab": {
          "base_uri": "https://localhost:8080/"
        },
        "id": "znCSGx6kbAfn",
        "outputId": "7301aed0-b50f-43bd-aa0b-7d2b2041e900"
      },
      "source": [
        "print('ohhhhh')"
      ],
      "execution_count": 6,
      "outputs": [
        {
          "output_type": "stream",
          "text": [
            "ohhhhh\n"
          ],
          "name": "stdout"
        }
      ]
    },
    {
      "cell_type": "markdown",
      "metadata": {
        "id": "pxulVPYcc1Uq"
      },
      "source": [
        "# GNB Python-AI Study\n",
        "Week 1 - python basics"
      ]
    },
    {
      "cell_type": "markdown",
      "metadata": {
        "id": "ycg9mZ8qdNbg"
      },
      "source": [
        "## 1. Hello world"
      ]
    },
    {
      "cell_type": "code",
      "metadata": {
        "colab": {
          "base_uri": "https://localhost:8080/"
        },
        "id": "OJ8zxIIfb6Lc",
        "outputId": "7d501b5b-e79d-4111-ccf9-1596e16ee84e"
      },
      "source": [
        "print('Hello world!')"
      ],
      "execution_count": 13,
      "outputs": [
        {
          "output_type": "stream",
          "text": [
            "Hello world!\n"
          ],
          "name": "stdout"
        }
      ]
    },
    {
      "cell_type": "code",
      "metadata": {
        "colab": {
          "base_uri": "https://localhost:8080/"
        },
        "id": "6PUNIIyfcz66",
        "outputId": "21349efc-0131-483a-ec7d-e229700361c0"
      },
      "source": [
        "print(\"Hello World!\")"
      ],
      "execution_count": 14,
      "outputs": [
        {
          "output_type": "stream",
          "text": [
            "Hello World!\n"
          ],
          "name": "stdout"
        }
      ]
    },
    {
      "cell_type": "code",
      "metadata": {
        "colab": {
          "base_uri": "https://localhost:8080/"
        },
        "id": "M51GKxDgdFVS",
        "outputId": "3fbd8b91-5465-4213-9239-46b319a2cd2e"
      },
      "source": [
        "print(\"Hello %s\" %'world', end = '!\\n')"
      ],
      "execution_count": 15,
      "outputs": [
        {
          "output_type": "stream",
          "text": [
            "Hello world!\n"
          ],
          "name": "stdout"
        }
      ]
    },
    {
      "cell_type": "markdown",
      "metadata": {
        "id": "nXg-LKr1d2k1"
      },
      "source": [
        "## String formating"
      ]
    },
    {
      "cell_type": "code",
      "metadata": {
        "colab": {
          "base_uri": "https://localhost:8080/"
        },
        "id": "m1HDousadbBS",
        "outputId": "176c03d5-5df0-45c0-faf9-51aa84ed90b3"
      },
      "source": [
        "year = 2021\n",
        "day = 22\n",
        "month = 'March'\n",
        "\n",
        "# % operator\n",
        "str1 = 'Today is %s %d, %d' %(month, day, year)\n",
        "\n",
        "# str.format() method\n",
        "str2 = 'Today is {} {}, {}'.format(month, day, year)\n",
        "\n",
        "# f - string\n",
        "str3 = f'Today is {month} {day}, {year}'\n",
        "\n",
        "\n",
        "print(str1)\n",
        "print(str2)\n",
        "print(str3)"
      ],
      "execution_count": 21,
      "outputs": [
        {
          "output_type": "stream",
          "text": [
            "Today is March 22, 2021\n",
            "Today is March 22, 2021\n",
            "Today is March 22, 2021\n"
          ],
          "name": "stdout"
        }
      ]
    },
    {
      "cell_type": "code",
      "metadata": {
        "colab": {
          "base_uri": "https://localhost:8080/"
        },
        "id": "aM6yQpvJeXXE",
        "outputId": "b6e0473f-fa57-46e5-f4b3-902766d38b69"
      },
      "source": [
        "print(1, 2, 3, 4, 5, sep = '\\n')"
      ],
      "execution_count": 27,
      "outputs": [
        {
          "output_type": "stream",
          "text": [
            "1\n",
            "2\n",
            "3\n",
            "4\n",
            "5\n"
          ],
          "name": "stdout"
        }
      ]
    },
    {
      "cell_type": "markdown",
      "metadata": {
        "id": "GFPr3pmEgqBI"
      },
      "source": [
        "## If statement"
      ]
    },
    {
      "cell_type": "code",
      "metadata": {
        "colab": {
          "base_uri": "https://localhost:8080/"
        },
        "id": "yZ5hZrv9fzzp",
        "outputId": "ce56f762-1084-4515-fe4c-365913e60ac3"
      },
      "source": [
        "''' c - language\n",
        "int n = 10;\n",
        "if (n>5)\n",
        "  printf('larger than 5\\n');\n",
        "else if ( n == 5)\n",
        "  printf('equal to 5\\n');\n",
        "else\n",
        "  printf('smaller than 5\\n');\n",
        "'''\n",
        "\n",
        "n = 10\n",
        "#print(type(n))\n",
        "if n > 5:\n",
        "  print('larger than 5')\n",
        "elif n == 5:\n",
        "  print('equal to 5')\n",
        "else:\n",
        "  print('smaller than 5')\n"
      ],
      "execution_count": 30,
      "outputs": [
        {
          "output_type": "stream",
          "text": [
            "larger than 5\n"
          ],
          "name": "stdout"
        }
      ]
    },
    {
      "cell_type": "markdown",
      "metadata": {
        "id": "87FGVtUGgt_-"
      },
      "source": [
        "## For loop"
      ]
    },
    {
      "cell_type": "code",
      "metadata": {
        "colab": {
          "base_uri": "https://localhost:8080/"
        },
        "id": "QbKEQOongsyP",
        "outputId": "a1529198-09d3-4ab2-f31d-6c382c8f48a5"
      },
      "source": [
        "lst = [3, 1, 4, 1, 5, 9, 2, 6, 5, 3]\n",
        "#  대괄호 사용\n",
        "\n",
        "for n in lst:\n",
        "  print(n, end = ' ')\n",
        "print()"
      ],
      "execution_count": 34,
      "outputs": [
        {
          "output_type": "stream",
          "text": [
            "3 1 4 1 5 9 2 6 5 3 \n"
          ],
          "name": "stdout"
        }
      ]
    },
    {
      "cell_type": "code",
      "metadata": {
        "colab": {
          "base_uri": "https://localhost:8080/"
        },
        "id": "Q9FA8HMRiFaE",
        "outputId": "7f28b042-f03a-46d5-8de9-511f7c88fdf3"
      },
      "source": [
        "for i, n in enumerate(lst): \n",
        "  # enumerate function : i - for index, n - for num\n",
        "  print(f'{i} - {n}', end = ' ')\n",
        "  print(end = '\\n')\n",
        "print()"
      ],
      "execution_count": 38,
      "outputs": [
        {
          "output_type": "stream",
          "text": [
            "0 - 3 \n",
            "1 - 1 \n",
            "2 - 4 \n",
            "3 - 1 \n",
            "4 - 5 \n",
            "5 - 9 \n",
            "6 - 2 \n",
            "7 - 6 \n",
            "8 - 5 \n",
            "9 - 3 \n",
            "\n"
          ],
          "name": "stdout"
        }
      ]
    },
    {
      "cell_type": "markdown",
      "metadata": {
        "id": "9kA7fSxfixz5"
      },
      "source": [
        "## While loop"
      ]
    },
    {
      "cell_type": "code",
      "metadata": {
        "colab": {
          "base_uri": "https://localhost:8080/",
          "height": 53
        },
        "id": "8fZxt92ZiwwO",
        "outputId": "cd8e31d3-6b30-43b0-83d9-9264cd921759"
      },
      "source": [
        "n = 0\n",
        "\n",
        "while n<10:\n",
        "  print(n, end = ' ')\n",
        "  if n == 3:\n",
        "    break\n",
        "  n += 1\n",
        "print()\n",
        "\n",
        "'''while n<10:\n",
        "  print(n, end = ' ')\n",
        "  if n == 3:\n",
        "    # continue : after n goes 10\n",
        "print()\n",
        "'''\n",
        "# pass : make the code blank"
      ],
      "execution_count": 42,
      "outputs": [
        {
          "output_type": "stream",
          "text": [
            "0 1 2 3 \n"
          ],
          "name": "stdout"
        },
        {
          "output_type": "execute_result",
          "data": {
            "application/vnd.google.colaboratory.intrinsic+json": {
              "type": "string"
            },
            "text/plain": [
              "\"while n<10:\\n  print(n, end = ' ')\\n  if n == 3:\\n    # continue : after n goes 10\\nprint()\\n\""
            ]
          },
          "metadata": {
            "tags": []
          },
          "execution_count": 42
        }
      ]
    },
    {
      "cell_type": "markdown",
      "metadata": {
        "id": "GcFYW4qhj5a2"
      },
      "source": [
        "## List : mutable type"
      ]
    },
    {
      "cell_type": "code",
      "metadata": {
        "colab": {
          "base_uri": "https://localhost:8080/"
        },
        "id": "T5pAzlbsj23P",
        "outputId": "5312236d-5014-4a42-cbba-3814cd64ea55"
      },
      "source": [
        "lst = [3, 1, 4, 1, 5, 9, 2, 6, 5, 3]\n",
        "print(type(lst))"
      ],
      "execution_count": 44,
      "outputs": [
        {
          "output_type": "stream",
          "text": [
            "<class 'list'>\n"
          ],
          "name": "stdout"
        }
      ]
    },
    {
      "cell_type": "code",
      "metadata": {
        "colab": {
          "base_uri": "https://localhost:8080/"
        },
        "id": "p5TJ4_g6kLyM",
        "outputId": "8b3d497c-6b0f-4797-b0d3-8ecbdb6fda83"
      },
      "source": [
        "a = [1, 'abcd', 3.14, [3, 4, 5], (6, 7)]\n",
        "print(a)\n",
        "\n",
        "# push new value to the end\n",
        "a.append(10)\n",
        "print(a)\n",
        "\n",
        "# pop one value from the end\n",
        "a.pop()\n",
        "print(a)"
      ],
      "execution_count": 56,
      "outputs": [
        {
          "output_type": "stream",
          "text": [
            "[1, 'abcd', 3.14, [3, 4, 5], (6, 7)]\n",
            "[1, 'abcd', 3.14, [3, 4, 5], (6, 7), 10]\n",
            "[1, 'abcd', 3.14, [3, 4, 5], (6, 7)]\n"
          ],
          "name": "stdout"
        }
      ]
    },
    {
      "cell_type": "code",
      "metadata": {
        "colab": {
          "base_uri": "https://localhost:8080/"
        },
        "id": "EaTIXEu5ksdX",
        "outputId": "6c052ae6-0fa3-4efe-b584-1445d423f9c9"
      },
      "source": [
        "# insert new value at index 2\n",
        "a.insert(2, 'hello')\n",
        "print(a)\n",
        "\n",
        "# pop one value at index 3\n",
        "x = a.pop(3)\n",
        "print(a, x)"
      ],
      "execution_count": 58,
      "outputs": [
        {
          "output_type": "stream",
          "text": [
            "[1, 'abcd', 'hello', 'hello', [3, 4, 5], (6, 7)]\n",
            "[1, 'abcd', 'hello', [3, 4, 5], (6, 7)] hello\n"
          ],
          "name": "stdout"
        }
      ]
    },
    {
      "cell_type": "markdown",
      "metadata": {
        "id": "iIsCRjX7lW1P"
      },
      "source": [
        "## Tuple : Immutable type"
      ]
    },
    {
      "cell_type": "code",
      "metadata": {
        "colab": {
          "base_uri": "https://localhost:8080/"
        },
        "id": "jV_im_kclU-1",
        "outputId": "3f9d9cd2-3582-4d76-f319-e4a8ee57c8d8"
      },
      "source": [
        "tpl = (3, 1, 4, 1, 5, 9, 2, 6, 5, 3) # without (), it is tuple.\n",
        "print(type(tpl))"
      ],
      "execution_count": 59,
      "outputs": [
        {
          "output_type": "stream",
          "text": [
            "<class 'tuple'>\n"
          ],
          "name": "stdout"
        }
      ]
    },
    {
      "cell_type": "code",
      "metadata": {
        "colab": {
          "base_uri": "https://localhost:8080/"
        },
        "id": "YK8plAXhleS-",
        "outputId": "1a089fc7-62d3-4b2d-ca38-fe1f744eca28"
      },
      "source": [
        "print(lst)\n",
        "lst[1] = 0\n",
        "print(lst)"
      ],
      "execution_count": 60,
      "outputs": [
        {
          "output_type": "stream",
          "text": [
            "[3, 1, 4, 1, 5, 9, 2, 6, 5, 3]\n",
            "[3, 0, 4, 1, 5, 9, 2, 6, 5, 3]\n"
          ],
          "name": "stdout"
        }
      ]
    },
    {
      "cell_type": "code",
      "metadata": {
        "id": "KxRc7py3licm"
      },
      "source": [
        "# tpl[3] = 0 error happen : tuple does not support item assignment"
      ],
      "execution_count": 62,
      "outputs": []
    },
    {
      "cell_type": "code",
      "metadata": {
        "colab": {
          "base_uri": "https://localhost:8080/"
        },
        "id": "nZc4njwElrtV",
        "outputId": "ae1e7efd-5ff9-4c5c-b58b-e9fb07e04963"
      },
      "source": [
        "(x, y) = (1, 2)\n",
        "print(x, y)\n",
        "\n",
        "# parentheses can be ommitted\n",
        "x, y = 3, 4\n",
        "print(x, y)"
      ],
      "execution_count": 64,
      "outputs": [
        {
          "output_type": "stream",
          "text": [
            "1 2\n",
            "3 4\n"
          ],
          "name": "stdout"
        }
      ]
    },
    {
      "cell_type": "markdown",
      "metadata": {
        "id": "hXF7rWWtmSu-"
      },
      "source": [
        "## Indexing & Slicing"
      ]
    },
    {
      "cell_type": "code",
      "metadata": {
        "colab": {
          "base_uri": "https://localhost:8080/"
        },
        "id": "WMk9AFV0l9zd",
        "outputId": "b9226c0c-0a4c-4160-b35e-c0daac6b3db7"
      },
      "source": [
        "lst"
      ],
      "execution_count": 65,
      "outputs": [
        {
          "output_type": "execute_result",
          "data": {
            "text/plain": [
              "[3, 0, 4, 1, 5, 9, 2, 6, 5, 3]"
            ]
          },
          "metadata": {
            "tags": []
          },
          "execution_count": 65
        }
      ]
    },
    {
      "cell_type": "code",
      "metadata": {
        "colab": {
          "base_uri": "https://localhost:8080/"
        },
        "id": "bVJXAz2nmXfy",
        "outputId": "c76114e2-5478-44b9-fcc7-7e9685e0778f"
      },
      "source": [
        "#indexing\n",
        "print(lst[3])\n",
        "print(lst[-3]) # reversal indexing"
      ],
      "execution_count": 66,
      "outputs": [
        {
          "output_type": "stream",
          "text": [
            "1\n",
            "6\n"
          ],
          "name": "stdout"
        }
      ]
    },
    {
      "cell_type": "code",
      "metadata": {
        "colab": {
          "base_uri": "https://localhost:8080/"
        },
        "id": "vZRmO3sCmgn7",
        "outputId": "5bbd0ead-b9d9-4343-dbe4-03aeac2bc215"
      },
      "source": [
        "#slicing\n",
        "print(lst[3:6]) # [3, 6)\n",
        "print(lst[:6]) # [0, 6)\n",
        "print(lst[3:])\n",
        "print(lst[::2]) # print even-ordered number"
      ],
      "execution_count": 71,
      "outputs": [
        {
          "output_type": "stream",
          "text": [
            "[1, 5, 9]\n",
            "[3, 0, 4, 1, 5, 9]\n",
            "[1, 5, 9, 2, 6, 5, 3]\n",
            "[3, 4, 5, 2, 5]\n"
          ],
          "name": "stdout"
        }
      ]
    },
    {
      "cell_type": "markdown",
      "metadata": {
        "id": "X4QigGtRnNzy"
      },
      "source": [
        "## Operators"
      ]
    },
    {
      "cell_type": "code",
      "metadata": {
        "colab": {
          "base_uri": "https://localhost:8080/"
        },
        "id": "xDBp5WyAmp_z",
        "outputId": "3bdef915-6414-4d1e-85ca-39e410e9963a"
      },
      "source": [
        "# true division\n",
        "7 / 5"
      ],
      "execution_count": 72,
      "outputs": [
        {
          "output_type": "execute_result",
          "data": {
            "text/plain": [
              "1.4"
            ]
          },
          "metadata": {
            "tags": []
          },
          "execution_count": 72
        }
      ]
    },
    {
      "cell_type": "code",
      "metadata": {
        "colab": {
          "base_uri": "https://localhost:8080/"
        },
        "id": "N7PhgM_Snvan",
        "outputId": "7b713223-a976-44f6-acef-e37ce714f181"
      },
      "source": [
        "# floor division\n",
        "7 // 5"
      ],
      "execution_count": 73,
      "outputs": [
        {
          "output_type": "execute_result",
          "data": {
            "text/plain": [
              "1"
            ]
          },
          "metadata": {
            "tags": []
          },
          "execution_count": 73
        }
      ]
    },
    {
      "cell_type": "code",
      "metadata": {
        "colab": {
          "base_uri": "https://localhost:8080/"
        },
        "id": "_11Q8TPcnzfx",
        "outputId": "4d65b78a-5713-4351-dac9-9477a70a0a1d"
      },
      "source": [
        "# power\n",
        "2 ** 4"
      ],
      "execution_count": 76,
      "outputs": [
        {
          "output_type": "execute_result",
          "data": {
            "text/plain": [
              "16"
            ]
          },
          "metadata": {
            "tags": []
          },
          "execution_count": 76
        }
      ]
    },
    {
      "cell_type": "code",
      "metadata": {
        "colab": {
          "base_uri": "https://localhost:8080/",
          "height": 35
        },
        "id": "E-8tfGXeoEel",
        "outputId": "29c3939f-ecc3-4c75-8557-5543ee4bb343"
      },
      "source": [
        "'hello' * 3 # free expression"
      ],
      "execution_count": 77,
      "outputs": [
        {
          "output_type": "execute_result",
          "data": {
            "application/vnd.google.colaboratory.intrinsic+json": {
              "type": "string"
            },
            "text/plain": [
              "'hellohellohello'"
            ]
          },
          "metadata": {
            "tags": []
          },
          "execution_count": 77
        }
      ]
    }
  ]
}
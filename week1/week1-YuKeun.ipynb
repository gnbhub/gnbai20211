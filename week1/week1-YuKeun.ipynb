{
  "nbformat": 4,
  "nbformat_minor": 0,
  "metadata": {
    "colab": {
      "name": "week1-YuKeun",
      "provenance": [],
      "collapsed_sections": [],
      "authorship_tag": "ABX9TyNqURHTXgSVU2YYU19gqpo2",
      "include_colab_link": true
    },
    "kernelspec": {
      "name": "python3",
      "display_name": "Python 3"
    },
    "language_info": {
      "name": "python"
    }
  },
  "cells": [
    {
      "cell_type": "markdown",
      "metadata": {
        "id": "view-in-github",
        "colab_type": "text"
      },
      "source": [
        "<a href=\"https://colab.research.google.com/github/gnbhub/gnbai20211/blob/master/week1/week1-YuKeun.ipynb\" target=\"_parent\"><img src=\"https://colab.research.google.com/assets/colab-badge.svg\" alt=\"Open In Colab\"/></a>"
      ]
    },
    {
      "cell_type": "markdown",
      "metadata": {
        "id": "JkOkjUwVi91R"
      },
      "source": [
        "#GNB Pyhon-AI Study\n"
      ]
    },
    {
      "cell_type": "markdown",
      "metadata": {
        "id": "_jDptelPjOKy"
      },
      "source": [
        "##1. Hello World!"
      ]
    },
    {
      "cell_type": "code",
      "metadata": {
        "colab": {
          "base_uri": "https://localhost:8080/"
        },
        "id": "po0-Q_4HiX3D",
        "outputId": "199b8d21-9864-48c2-fc84-2354aff231a2"
      },
      "source": [
        "lst = [3,1,4,1,5,9,2,6,5,3]\n",
        "for i, n in enumerate(lst):\n",
        "  print(\"{0} : {1} \".format(i, n), end = ' ')\n",
        "print()"
      ],
      "execution_count": 3,
      "outputs": [
        {
          "output_type": "stream",
          "text": [
            "0 : 3  1 : 1  2 : 4  3 : 1  4 : 5  5 : 9  6 : 2  7 : 6  8 : 5  9 : 3  \n"
          ],
          "name": "stdout"
        }
      ]
    },
    {
      "cell_type": "code",
      "metadata": {
        "colab": {
          "base_uri": "https://localhost:8080/"
        },
        "id": "ZFBZhrI_iz9d",
        "outputId": "67bfb995-d4b8-467b-daa5-5a8dab798556"
      },
      "source": [
        "n = 0\n",
        "\n",
        "while n < 10:\n",
        "  print(n, end = ' ')\n",
        "  n += 1\n",
        "print()\n",
        "\n"
      ],
      "execution_count": 4,
      "outputs": [
        {
          "output_type": "stream",
          "text": [
            "0 1 2 3 4 5 6 7 8 9 \n"
          ],
          "name": "stdout"
        }
      ]
    },
    {
      "cell_type": "markdown",
      "metadata": {
        "id": "Pd7sqIfhkcNG"
      },
      "source": [
        "## 4-5. List : mutable type"
      ]
    },
    {
      "cell_type": "code",
      "metadata": {
        "colab": {
          "base_uri": "https://localhost:8080/"
        },
        "id": "cQbtd-eDjVJD",
        "outputId": "5380b5b3-ec1c-4104-c90d-c42b12cc5ead"
      },
      "source": [
        "lst = [3, 1, 4, 1, 5, 9, 2, 6, 5, 3]\n",
        "print(type(lst))"
      ],
      "execution_count": 8,
      "outputs": [
        {
          "output_type": "stream",
          "text": [
            "<class 'list'>\n"
          ],
          "name": "stdout"
        }
      ]
    },
    {
      "cell_type": "code",
      "metadata": {
        "colab": {
          "base_uri": "https://localhost:8080/"
        },
        "id": "rju_Xntqj-bi",
        "outputId": "17c9f324-9724-4131-e91c-6ae7e028f5ab"
      },
      "source": [
        "a = [1, 'abcd', 3.14, [3,4,5,], (6,7)]\n",
        "print(a)\n",
        "\n",
        "# push new value to the end\n",
        "a.append(10)\n",
        "print(a)\n",
        "\n",
        "# pop one value form the end\n",
        "a.pop()\n",
        "print(a)"
      ],
      "execution_count": 9,
      "outputs": [
        {
          "output_type": "stream",
          "text": [
            "[1, 'abcd', 3.14, [3, 4, 5], (6, 7)]\n",
            "[1, 'abcd', 3.14, [3, 4, 5], (6, 7), 10]\n",
            "[1, 'abcd', 3.14, [3, 4, 5], (6, 7)]\n"
          ],
          "name": "stdout"
        }
      ]
    },
    {
      "cell_type": "code",
      "metadata": {
        "colab": {
          "base_uri": "https://localhost:8080/"
        },
        "id": "8geSkrtZi60I",
        "outputId": "d63787e0-fe4d-4a36-a1bb-8a35ac949db7"
      },
      "source": [
        "# insert new value at index 2\n",
        "a.insert(2, 'hello')\n",
        "print(a)\n",
        "\n",
        "# pop ine value at index 3\n",
        "a.pop(3)\n",
        "print(a)"
      ],
      "execution_count": 10,
      "outputs": [
        {
          "output_type": "stream",
          "text": [
            "[1, 'abcd', 'hello', 3.14, [3, 4, 5], (6, 7)]\n",
            "[1, 'abcd', 'hello', [3, 4, 5], (6, 7)]\n"
          ],
          "name": "stdout"
        }
      ]
    },
    {
      "cell_type": "code",
      "metadata": {
        "colab": {
          "base_uri": "https://localhost:8080/"
        },
        "id": "Fd0iWmMQlYQA",
        "outputId": "3ba8fa19-5b49-4ee2-b00d-f62f3128a431"
      },
      "source": [
        "tpl = (3, 1, 4, 1, 5, 9, 2, 6, 5, 3)\n",
        "print(type(tpl))"
      ],
      "execution_count": 11,
      "outputs": [
        {
          "output_type": "stream",
          "text": [
            "<class 'tuple'>\n"
          ],
          "name": "stdout"
        }
      ]
    },
    {
      "cell_type": "code",
      "metadata": {
        "colab": {
          "base_uri": "https://localhost:8080/"
        },
        "id": "v7EDXm7ilhSO",
        "outputId": "bf64ffda-444b-424f-b4ff-d5a6974897db"
      },
      "source": [
        "print(lst)\n",
        "lst[1] = 0\n",
        "print(lst)"
      ],
      "execution_count": 12,
      "outputs": [
        {
          "output_type": "stream",
          "text": [
            "[3, 1, 4, 1, 5, 9, 2, 6, 5, 3]\n",
            "[3, 0, 4, 1, 5, 9, 2, 6, 5, 3]\n"
          ],
          "name": "stdout"
        }
      ]
    },
    {
      "cell_type": "code",
      "metadata": {
        "colab": {
          "base_uri": "https://localhost:8080/",
          "height": 169
        },
        "id": "5CPgooGdllXq",
        "outputId": "5e574f8e-397c-4bdf-ddbe-57d63a0c11fd"
      },
      "source": [
        "tpl[3] = 0"
      ],
      "execution_count": 13,
      "outputs": [
        {
          "output_type": "error",
          "ename": "TypeError",
          "evalue": "ignored",
          "traceback": [
            "\u001b[0;31m---------------------------------------------------------------------------\u001b[0m",
            "\u001b[0;31mTypeError\u001b[0m                                 Traceback (most recent call last)",
            "\u001b[0;32m<ipython-input-13-f98434c97c29>\u001b[0m in \u001b[0;36m<module>\u001b[0;34m()\u001b[0m\n\u001b[0;32m----> 1\u001b[0;31m \u001b[0mtpl\u001b[0m\u001b[0;34m[\u001b[0m\u001b[0;36m3\u001b[0m\u001b[0;34m]\u001b[0m \u001b[0;34m=\u001b[0m \u001b[0;36m0\u001b[0m\u001b[0;34m\u001b[0m\u001b[0;34m\u001b[0m\u001b[0m\n\u001b[0m",
            "\u001b[0;31mTypeError\u001b[0m: 'tuple' object does not support item assignment"
          ]
        }
      ]
    },
    {
      "cell_type": "code",
      "metadata": {
        "colab": {
          "base_uri": "https://localhost:8080/"
        },
        "id": "u26NrLBzlnAq",
        "outputId": "e1c728e2-d89d-4695-a56e-02301fb94720"
      },
      "source": [
        "(x,y) = (1,2)\n",
        "print(x,y)\n",
        "\n",
        "# parentheses can be omitted\n",
        "x, y = 3,4\n",
        "print(x,y)"
      ],
      "execution_count": 14,
      "outputs": [
        {
          "output_type": "stream",
          "text": [
            "1 2\n",
            "3 4\n"
          ],
          "name": "stdout"
        }
      ]
    },
    {
      "cell_type": "code",
      "metadata": {
        "id": "JHA8sPe5luG7"
      },
      "source": [
        ""
      ],
      "execution_count": null,
      "outputs": []
    },
    {
      "cell_type": "markdown",
      "metadata": {
        "id": "xa7XbrqWmS2H"
      },
      "source": [
        "## 4-6. Indexing & Slicing\n"
      ]
    },
    {
      "cell_type": "code",
      "metadata": {
        "colab": {
          "base_uri": "https://localhost:8080/"
        },
        "id": "6mkSoa1dmasx",
        "outputId": "7faac0fb-6ebf-496f-c8d2-e7458f3af432"
      },
      "source": [
        "print(lst)"
      ],
      "execution_count": 15,
      "outputs": [
        {
          "output_type": "stream",
          "text": [
            "[3, 0, 4, 1, 5, 9, 2, 6, 5, 3]\n"
          ],
          "name": "stdout"
        }
      ]
    },
    {
      "cell_type": "code",
      "metadata": {
        "colab": {
          "base_uri": "https://localhost:8080/"
        },
        "id": "NPG7wZv8mgJX",
        "outputId": "26a0029a-ef50-4612-966a-5e0cc75a53fe"
      },
      "source": [
        "# indexing\n",
        "print(lst[3])\n",
        "print(lst[-3])"
      ],
      "execution_count": 18,
      "outputs": [
        {
          "output_type": "stream",
          "text": [
            "1\n",
            "6\n"
          ],
          "name": "stdout"
        }
      ]
    },
    {
      "cell_type": "code",
      "metadata": {
        "colab": {
          "base_uri": "https://localhost:8080/"
        },
        "id": "Xl2DVOg8mk7h",
        "outputId": "198e74eb-ae20-4413-a0d1-1bcd9ae372ee"
      },
      "source": [
        "# slicing\n",
        "print(lst[3:6])\n",
        "print(lst[:6])\n",
        "print(lst[3:])\n",
        "print(lst[::2])  # 두 칸씩 띄우기"
      ],
      "execution_count": 20,
      "outputs": [
        {
          "output_type": "stream",
          "text": [
            "[1, 5, 9]\n",
            "[3, 0, 4, 1, 5, 9]\n",
            "[1, 5, 9, 2, 6, 5, 3]\n",
            "[3, 4, 5, 2, 5]\n"
          ],
          "name": "stdout"
        }
      ]
    },
    {
      "cell_type": "markdown",
      "metadata": {
        "id": "F5g3cM6Snqkt"
      },
      "source": [
        "## 4-7. Operators"
      ]
    },
    {
      "cell_type": "code",
      "metadata": {
        "colab": {
          "base_uri": "https://localhost:8080/"
        },
        "id": "PLh02D2LnNyY",
        "outputId": "2d76cc37-074b-4d10-e865-c7f642c34d9c"
      },
      "source": [
        "# true division\n",
        "7/5"
      ],
      "execution_count": 22,
      "outputs": [
        {
          "output_type": "execute_result",
          "data": {
            "text/plain": [
              "1.4"
            ]
          },
          "metadata": {
            "tags": []
          },
          "execution_count": 22
        }
      ]
    },
    {
      "cell_type": "code",
      "metadata": {
        "colab": {
          "base_uri": "https://localhost:8080/"
        },
        "id": "hzIFyEmCnzJL",
        "outputId": "c2cd9f71-b72c-4a5e-c6bd-c6697ad2bc4b"
      },
      "source": [
        "# floor division\n",
        "7//5"
      ],
      "execution_count": 24,
      "outputs": [
        {
          "output_type": "execute_result",
          "data": {
            "text/plain": [
              "1"
            ]
          },
          "metadata": {
            "tags": []
          },
          "execution_count": 24
        }
      ]
    },
    {
      "cell_type": "code",
      "metadata": {
        "colab": {
          "base_uri": "https://localhost:8080/"
        },
        "id": "r2KCAWCNn4H-",
        "outputId": "ed45678d-1d4d-4c11-dcb5-2a72d21e9343"
      },
      "source": [
        "# power\n",
        "2 ** 4"
      ],
      "execution_count": 26,
      "outputs": [
        {
          "output_type": "execute_result",
          "data": {
            "text/plain": [
              "16"
            ]
          },
          "metadata": {
            "tags": []
          },
          "execution_count": 26
        }
      ]
    },
    {
      "cell_type": "code",
      "metadata": {
        "colab": {
          "base_uri": "https://localhost:8080/",
          "height": 35
        },
        "id": "GQzVNXQwn9pj",
        "outputId": "6035cdf8-84a5-4b62-fe5c-13d9245b5d70"
      },
      "source": [
        "'hello'*3"
      ],
      "execution_count": 27,
      "outputs": [
        {
          "output_type": "execute_result",
          "data": {
            "application/vnd.google.colaboratory.intrinsic+json": {
              "type": "string"
            },
            "text/plain": [
              "'hellohellohello'"
            ]
          },
          "metadata": {
            "tags": []
          },
          "execution_count": 27
        }
      ]
    }
  ]
}
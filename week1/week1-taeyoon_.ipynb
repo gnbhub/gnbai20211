{
  "nbformat": 4,
  "nbformat_minor": 0,
  "metadata": {
    "colab": {
      "name": "week1/week1-",
      "provenance": [],
      "collapsed_sections": [],
      "authorship_tag": "ABX9TyMkTZICBmk5HuG2YSLMFM7/",
      "include_colab_link": true
    },
    "kernelspec": {
      "name": "python3",
      "display_name": "Python 3"
    },
    "language_info": {
      "name": "python"
    }
  },
  "cells": [
    {
      "cell_type": "markdown",
      "metadata": {
        "id": "view-in-github",
        "colab_type": "text"
      },
      "source": [
        "<a href=\"https://colab.research.google.com/github/gnbhub/gnbai20211/blob/master/week1/week1-taeyoon_.ipynb\" target=\"_parent\"><img src=\"https://colab.research.google.com/assets/colab-badge.svg\" alt=\"Open In Colab\"/></a>"
      ]
    },
    {
      "cell_type": "markdown",
      "metadata": {
        "id": "mppI1DS1c0A6"
      },
      "source": [
        "# GNB Python-AI Study\n",
        "Week 1 - Python basics\n"
      ]
    },
    {
      "cell_type": "markdown",
      "metadata": {
        "id": "uv0VeCU1yvAl"
      },
      "source": [
        "# 4. Python basics"
      ]
    },
    {
      "cell_type": "markdown",
      "metadata": {
        "id": "h1-VEgnodHmm"
      },
      "source": [
        "## 4-1. Hello world"
      ]
    },
    {
      "cell_type": "code",
      "metadata": {
        "colab": {
          "base_uri": "https://localhost:8080/"
        },
        "id": "Xr0_EJu_dO1U",
        "outputId": "c9358011-acd5-4d7c-8bef-36b46aebe168"
      },
      "source": [
        "print('Hello world!')"
      ],
      "execution_count": null,
      "outputs": [
        {
          "output_type": "stream",
          "text": [
            "Hello world!\n"
          ],
          "name": "stdout"
        }
      ]
    },
    {
      "cell_type": "code",
      "metadata": {
        "colab": {
          "base_uri": "https://localhost:8080/"
        },
        "id": "dpVzdJTFdQN8",
        "outputId": "5a832cde-8264-4317-ab04-fc53e6d96439"
      },
      "source": [
        "print(\"Hello world!\")"
      ],
      "execution_count": null,
      "outputs": [
        {
          "output_type": "stream",
          "text": [
            "Hello world!\n"
          ],
          "name": "stdout"
        }
      ]
    },
    {
      "cell_type": "code",
      "metadata": {
        "colab": {
          "base_uri": "https://localhost:8080/"
        },
        "id": "EgFZmrvudh5R",
        "outputId": "40b0f176-dddd-43e7-efd3-437097ee5506"
      },
      "source": [
        "print(\"Hello %s\" %' world', end ='!\\n')"
      ],
      "execution_count": null,
      "outputs": [
        {
          "output_type": "stream",
          "text": [
            "Hello  world!\n"
          ],
          "name": "stdout"
        }
      ]
    },
    {
      "cell_type": "markdown",
      "metadata": {
        "id": "mRmAP7W5d0ns"
      },
      "source": [
        "### String foramting"
      ]
    },
    {
      "cell_type": "code",
      "metadata": {
        "colab": {
          "base_uri": "https://localhost:8080/"
        },
        "id": "k1pN_spPd4Vy",
        "outputId": "963db034-5dff-4d09-c241-793f94e6cede"
      },
      "source": [
        "year = 2021\n",
        "day = 22\n",
        "month = 'March'\n",
        "\n",
        "# % operator\n",
        "str1 = 'Today is %s %d, %d' %(month, day, year)\n",
        "\n",
        "# str.format() method\n",
        "str2 = 'Today is {} {}, {}'.format(month, day, year)\n",
        "\n",
        "# f- string\n",
        "str3 = f'Today is {month} {day}, {year}'\n",
        "\n",
        "print(str1)\n",
        "print(str2)\n",
        "print(str3)"
      ],
      "execution_count": null,
      "outputs": [
        {
          "output_type": "stream",
          "text": [
            "Today is March 22, 2021\n",
            "Today is March 22, 2021\n",
            "Today is March 22, 2021\n"
          ],
          "name": "stdout"
        }
      ]
    },
    {
      "cell_type": "markdown",
      "metadata": {
        "id": "jUbix-3RfBH3"
      },
      "source": [
        "### Function print()"
      ]
    },
    {
      "cell_type": "code",
      "metadata": {
        "colab": {
          "base_uri": "https://localhost:8080/"
        },
        "id": "IDPsKMTpfDqf",
        "outputId": "6d3ea898-6ce1-46a5-b7ba-aaca320b0622"
      },
      "source": [
        "help(print)"
      ],
      "execution_count": null,
      "outputs": [
        {
          "output_type": "stream",
          "text": [
            "Help on built-in function print in module builtins:\n",
            "\n",
            "print(...)\n",
            "    print(value, ..., sep=' ', end='\\n', file=sys.stdout, flush=False)\n",
            "    \n",
            "    Prints the values to a stream, or to sys.stdout by default.\n",
            "    Optional keyword arguments:\n",
            "    file:  a file-like object (stream); defaults to the current sys.stdout.\n",
            "    sep:   string inserted between values, default a space.\n",
            "    end:   string appended after the last value, default a newline.\n",
            "    flush: whether to forcibly flush the stream.\n",
            "\n"
          ],
          "name": "stdout"
        }
      ]
    },
    {
      "cell_type": "code",
      "metadata": {
        "colab": {
          "base_uri": "https://localhost:8080/"
        },
        "id": "MmTnkY7AfkSi",
        "outputId": "02f731d5-0b25-4c43-a2fd-c90b58f5b598"
      },
      "source": [
        "print(1,2,3,4,5, sep='\\n')"
      ],
      "execution_count": null,
      "outputs": [
        {
          "output_type": "stream",
          "text": [
            "1\n",
            "2\n",
            "3\n",
            "4\n",
            "5\n"
          ],
          "name": "stdout"
        }
      ]
    },
    {
      "cell_type": "markdown",
      "metadata": {
        "id": "Word-nIQf0oA"
      },
      "source": [
        "## 4.2 iF statement"
      ]
    },
    {
      "cell_type": "code",
      "metadata": {
        "colab": {
          "base_uri": "https://localhost:8080/"
        },
        "id": "3K3tVn_lf3jH",
        "outputId": "d1602050-26f7-459b-ce88-a51e92cba7d5"
      },
      "source": [
        "n=10\n",
        "#print(type(n))\n",
        "if n > 5:\n",
        "  print('larger than 5')\n",
        "elif n== 5:\n",
        "  print('equal to 5')\n",
        "else:\n",
        "  print('smaller than 5')"
      ],
      "execution_count": null,
      "outputs": [
        {
          "output_type": "stream",
          "text": [
            "larger than 5\n"
          ],
          "name": "stdout"
        }
      ]
    },
    {
      "cell_type": "markdown",
      "metadata": {
        "id": "Bsd_C6r-hVb6"
      },
      "source": [
        ""
      ]
    },
    {
      "cell_type": "markdown",
      "metadata": {
        "id": "Yjnvd1LhhY9C"
      },
      "source": [
        "### 4.3 For loop"
      ]
    },
    {
      "cell_type": "code",
      "metadata": {
        "colab": {
          "base_uri": "https://localhost:8080/"
        },
        "id": "YWTcN0Gbhbpc",
        "outputId": "a8373cec-f117-40da-f1d2-1d9eec4b67f6"
      },
      "source": [
        "lst = [3, 1, 4, 1, 5, 9, 2, 6, 5, 3]\n",
        "\n",
        "for n in lst:\n",
        "  print(n, end=' ')\n",
        "print()"
      ],
      "execution_count": 5,
      "outputs": [
        {
          "output_type": "stream",
          "text": [
            "3 1 4 1 5 9 2 6 5 3 \n"
          ],
          "name": "stdout"
        }
      ]
    },
    {
      "cell_type": "code",
      "metadata": {
        "colab": {
          "base_uri": "https://localhost:8080/"
        },
        "id": "0wj1eeYPrTLT",
        "outputId": "8af02b88-18e0-46e4-a4d0-6e93ba810cef"
      },
      "source": [
        "for i in range(len(lst)):\n",
        "  print(lst[i], end=' ')\n",
        "print()"
      ],
      "execution_count": 6,
      "outputs": [
        {
          "output_type": "stream",
          "text": [
            "3 1 4 1 5 9 2 6 5 3 \n"
          ],
          "name": "stdout"
        }
      ]
    },
    {
      "cell_type": "markdown",
      "metadata": {
        "id": "DElll9Nyy7V7"
      },
      "source": [
        "what if I need the index value?\n",
        "-use enumerate()"
      ]
    },
    {
      "cell_type": "code",
      "metadata": {
        "colab": {
          "base_uri": "https://localhost:8080/"
        },
        "id": "CKxtbY26h43f",
        "outputId": "7f81c0aa-51d8-44fe-beb8-90f2cdd48868"
      },
      "source": [
        "for i, n in enumerate(lst):\n",
        "  print(f'{i}-{n}', end =' ')"
      ],
      "execution_count": 7,
      "outputs": [
        {
          "output_type": "stream",
          "text": [
            "0-3 1-1 2-4 3-1 4-5 5-9 6-2 7-6 8-5 9-3 "
          ],
          "name": "stdout"
        }
      ]
    },
    {
      "cell_type": "code",
      "metadata": {
        "colab": {
          "base_uri": "https://localhost:8080/"
        },
        "id": "t68wLE63ieE6",
        "outputId": "0d688ea0-b9ad-4013-e3ec-d780b01abcf9"
      },
      "source": [
        "for i in range(len(lst)):\n",
        "    print(f'{i}-{lst[i]}', end =' ')\n",
        "print()"
      ],
      "execution_count": 8,
      "outputs": [
        {
          "output_type": "stream",
          "text": [
            "0-3 1-1 2-4 3-1 4-5 5-9 6-2 7-6 8-5 9-3 \n"
          ],
          "name": "stdout"
        }
      ]
    },
    {
      "cell_type": "code",
      "metadata": {
        "id": "pF-JaZ6FixVe"
      },
      "source": [
        ""
      ],
      "execution_count": null,
      "outputs": []
    },
    {
      "cell_type": "markdown",
      "metadata": {
        "id": "-6dE_86wiz4Z"
      },
      "source": [
        "## 4-4.While loop"
      ]
    },
    {
      "cell_type": "code",
      "metadata": {
        "colab": {
          "base_uri": "https://localhost:8080/"
        },
        "id": "2_K4JZIoi2KH",
        "outputId": "49166956-c49e-4a15-edc3-b9dca292f969"
      },
      "source": [
        "n = 0\n",
        "\n",
        "while n < 10:\n",
        "  print(n, end=' ')\n",
        "  n += 1\n",
        "print()"
      ],
      "execution_count": null,
      "outputs": [
        {
          "output_type": "stream",
          "text": [
            "0 1 2 3 4 5 6 7 8 9 \n"
          ],
          "name": "stdout"
        }
      ]
    },
    {
      "cell_type": "markdown",
      "metadata": {
        "id": "aY766TpUj2fF"
      },
      "source": [
        "## 4-5 List : mutalble type"
      ]
    },
    {
      "cell_type": "code",
      "metadata": {
        "colab": {
          "base_uri": "https://localhost:8080/"
        },
        "id": "dUteJSLtj7fu",
        "outputId": "6629d2cd-bbf4-43b5-fbb3-e3520b2f8ad4"
      },
      "source": [
        "lst = [3, 1, 4, 1, 5, 9, 2, 6, 5, 3]\n",
        "print(type(lst))"
      ],
      "execution_count": 34,
      "outputs": [
        {
          "output_type": "stream",
          "text": [
            "<class 'list'>\n"
          ],
          "name": "stdout"
        }
      ]
    },
    {
      "cell_type": "code",
      "metadata": {
        "colab": {
          "base_uri": "https://localhost:8080/"
        },
        "id": "qew4QwSukK7i",
        "outputId": "535c6eeb-5bee-42a8-ec14-9a9b06043f2f"
      },
      "source": [
        "a = [1, 'abcd', 3.14, [3,4,5], (6,7)]\n",
        "print(a)\n",
        "\n",
        "# push new value to the end\n",
        "a.append(10)\n",
        "print(a)\n",
        "\n",
        "# pop one value from the end\n",
        "a.pop()\n",
        "print(a)"
      ],
      "execution_count": 12,
      "outputs": [
        {
          "output_type": "stream",
          "text": [
            "[1, 'abcd', 3.14, [3, 4, 5], (6, 7)]\n",
            "[1, 'abcd', 3.14, [3, 4, 5], (6, 7), 10]\n",
            "[1, 'abcd', 3.14, [3, 4, 5], (6, 7)]\n"
          ],
          "name": "stdout"
        }
      ]
    },
    {
      "cell_type": "code",
      "metadata": {
        "colab": {
          "base_uri": "https://localhost:8080/"
        },
        "id": "aW_-t3O9knJi",
        "outputId": "c6a3c45c-8d63-418d-8b02-900c9001ea8f"
      },
      "source": [
        "# insert new value at index 2\n",
        "a.insert(2, 'hello')\n",
        "print(a)\n",
        "\n",
        "# pop one value at index 3\n",
        "a.pop(3)\n",
        "print(a)\n"
      ],
      "execution_count": 27,
      "outputs": [
        {
          "output_type": "stream",
          "text": [
            "[1, 'abcd', 'hello', 'hello', [3, 4, 5], (6, 7)]\n",
            "[1, 'abcd', 'hello', [3, 4, 5], (6, 7)]\n"
          ],
          "name": "stdout"
        }
      ]
    },
    {
      "cell_type": "markdown",
      "metadata": {
        "id": "4Zneo3TDlUqH"
      },
      "source": [
        "## 4-6 Tuple : Immutable type"
      ]
    },
    {
      "cell_type": "markdown",
      "metadata": {
        "id": "hrIFQCNblZri"
      },
      "source": [
        ""
      ]
    },
    {
      "cell_type": "code",
      "metadata": {
        "colab": {
          "base_uri": "https://localhost:8080/"
        },
        "id": "s2fwgBDklZ94",
        "outputId": "1065fee3-39c4-4865-ca6a-6753a4f5a832"
      },
      "source": [
        "tpl = (3, 1, 4, 1, 5, 9, 2, 6, 5, 3)\n",
        "print(type(tpl))"
      ],
      "execution_count": 35,
      "outputs": [
        {
          "output_type": "stream",
          "text": [
            "<class 'tuple'>\n"
          ],
          "name": "stdout"
        }
      ]
    },
    {
      "cell_type": "code",
      "metadata": {
        "colab": {
          "base_uri": "https://localhost:8080/",
          "height": 169
        },
        "id": "qs-u6NqX1Jk7",
        "outputId": "545e55ab-ac77-4ed6-d0be-e333fd89f33e"
      },
      "source": [
        "tpl[3] = 0"
      ],
      "execution_count": 41,
      "outputs": [
        {
          "output_type": "error",
          "ename": "TypeError",
          "evalue": "ignored",
          "traceback": [
            "\u001b[0;31m---------------------------------------------------------------------------\u001b[0m",
            "\u001b[0;31mTypeError\u001b[0m                                 Traceback (most recent call last)",
            "\u001b[0;32m<ipython-input-41-f98434c97c29>\u001b[0m in \u001b[0;36m<module>\u001b[0;34m()\u001b[0m\n\u001b[0;32m----> 1\u001b[0;31m \u001b[0mtpl\u001b[0m\u001b[0;34m[\u001b[0m\u001b[0;36m3\u001b[0m\u001b[0;34m]\u001b[0m \u001b[0;34m=\u001b[0m \u001b[0;36m0\u001b[0m\u001b[0;34m\u001b[0m\u001b[0;34m\u001b[0m\u001b[0m\n\u001b[0m",
            "\u001b[0;31mTypeError\u001b[0m: 'tuple' object does not support item assignment"
          ]
        }
      ]
    },
    {
      "cell_type": "markdown",
      "metadata": {
        "id": "hoD3k7y_jQ5x"
      },
      "source": [
        ""
      ]
    },
    {
      "cell_type": "code",
      "metadata": {
        "colab": {
          "base_uri": "https://localhost:8080/"
        },
        "id": "6Zd2CzPdlx5_",
        "outputId": "779747b6-9bdd-430d-d9ac-c9088db4c6ee"
      },
      "source": [
        "(x, y) = (1,2)\n",
        "print(x, y)\n",
        "\n",
        "x, y = 3,4\n",
        "print(x, y)"
      ],
      "execution_count": null,
      "outputs": [
        {
          "output_type": "stream",
          "text": [
            "1 2\n",
            "3 4\n"
          ],
          "name": "stdout"
        }
      ]
    },
    {
      "cell_type": "markdown",
      "metadata": {
        "id": "8BvpYhcvmSav"
      },
      "source": [
        "### 4.6 Indexing&Slicing\n"
      ]
    },
    {
      "cell_type": "code",
      "metadata": {
        "colab": {
          "base_uri": "https://localhost:8080/"
        },
        "id": "66yb7O572gtQ",
        "outputId": "06a661bc-046f-40f5-db6d-a7d691898dc2"
      },
      "source": [
        "lst"
      ],
      "execution_count": 42,
      "outputs": [
        {
          "output_type": "execute_result",
          "data": {
            "text/plain": [
              "[3, 0, 4, 1, 5, 9, 2, 6, 5, 3]"
            ]
          },
          "metadata": {
            "tags": []
          },
          "execution_count": 42
        }
      ]
    },
    {
      "cell_type": "code",
      "metadata": {
        "colab": {
          "base_uri": "https://localhost:8080/"
        },
        "id": "RWfBn8cc2jjp",
        "outputId": "dc0fc13b-a819-48b3-c4d9-6a1fd2ecf065"
      },
      "source": [
        "print(lst[3:6])\n",
        "print(lst[:6])\n",
        "print(lst[3:])"
      ],
      "execution_count": 43,
      "outputs": [
        {
          "output_type": "stream",
          "text": [
            "[1, 5, 9]\n",
            "[3, 0, 4, 1, 5, 9]\n",
            "[1, 5, 9, 2, 6, 5, 3]\n"
          ],
          "name": "stdout"
        }
      ]
    },
    {
      "cell_type": "markdown",
      "metadata": {
        "id": "z51jJewCnFqs"
      },
      "source": [
        "### 4.7 Operateors\n"
      ]
    },
    {
      "cell_type": "code",
      "metadata": {
        "colab": {
          "base_uri": "https://localhost:8080/"
        },
        "id": "gy0Eka4FnseX",
        "outputId": "d668c2f3-7fcb-4224-ef27-45ac247e582d"
      },
      "source": [
        "7/5"
      ],
      "execution_count": null,
      "outputs": [
        {
          "output_type": "execute_result",
          "data": {
            "text/plain": [
              "1.4"
            ]
          },
          "metadata": {
            "tags": []
          },
          "execution_count": 53
        }
      ]
    },
    {
      "cell_type": "code",
      "metadata": {
        "colab": {
          "base_uri": "https://localhost:8080/"
        },
        "id": "T0gRCd8cnvTc",
        "outputId": "6dc581d4-7444-4ed8-fd9f-222980d9af27"
      },
      "source": [
        "7//5"
      ],
      "execution_count": null,
      "outputs": [
        {
          "output_type": "execute_result",
          "data": {
            "text/plain": [
              "1"
            ]
          },
          "metadata": {
            "tags": []
          },
          "execution_count": 54
        }
      ]
    },
    {
      "cell_type": "code",
      "metadata": {
        "colab": {
          "base_uri": "https://localhost:8080/"
        },
        "id": "GLGtUDfLnxNC",
        "outputId": "884b2f01-f198-4e10-fec9-df05cbd649d5"
      },
      "source": [
        "2**4"
      ],
      "execution_count": null,
      "outputs": [
        {
          "output_type": "execute_result",
          "data": {
            "text/plain": [
              "16"
            ]
          },
          "metadata": {
            "tags": []
          },
          "execution_count": 56
        }
      ]
    },
    {
      "cell_type": "code",
      "metadata": {
        "colab": {
          "base_uri": "https://localhost:8080/",
          "height": 35
        },
        "id": "vAmL2jl9oFXo",
        "outputId": "59b74feb-e130-4d98-8402-11d6376b3bb2"
      },
      "source": [
        "('hello' + ' ' + 'world')"
      ],
      "execution_count": null,
      "outputs": [
        {
          "output_type": "execute_result",
          "data": {
            "application/vnd.google.colaboratory.intrinsic+json": {
              "type": "string"
            },
            "text/plain": [
              "'hello worldhello world'"
            ]
          },
          "metadata": {
            "tags": []
          },
          "execution_count": 58
        }
      ]
    }
  ]
}
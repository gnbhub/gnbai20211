{
  "nbformat": 4,
  "nbformat_minor": 0,
  "metadata": {
    "colab": {
      "name": "210322.ipynb",
      "provenance": [],
      "collapsed_sections": [],
      "authorship_tag": "ABX9TyN4iJiRXfGokPSX/zmeAfHS",
      "include_colab_link": true
    },
    "kernelspec": {
      "name": "python3",
      "display_name": "Python 3"
    },
    "language_info": {
      "name": "python"
    }
  },
  "cells": [
    {
      "cell_type": "markdown",
      "metadata": {
        "id": "view-in-github",
        "colab_type": "text"
      },
      "source": [
        "<a href=\"https://colab.research.google.com/github/gnbhub/gnbai20211/blob/master/week1/week1-jimin.ipynb\" target=\"_parent\"><img src=\"https://colab.research.google.com/assets/colab-badge.svg\" alt=\"Open In Colab\"/></a>"
      ]
    },
    {
      "cell_type": "markdown",
      "metadata": {
        "id": "Qaz6B9H-cys4"
      },
      "source": [
        "# GNB Python-AI Study\n",
        "Week 1 - Python basic"
      ]
    },
    {
      "cell_type": "markdown",
      "metadata": {
        "id": "yhHzwhtvdLAb"
      },
      "source": [
        "**4-1. Hello world**"
      ]
    },
    {
      "cell_type": "code",
      "metadata": {
        "id": "ppWVGmGdY6Sg",
        "colab": {
          "base_uri": "https://localhost:8080/"
        },
        "outputId": "cd8789ce-6aba-4105-d122-e2b38b5c256d"
      },
      "source": [
        "print (\"hello world\")"
      ],
      "execution_count": 10,
      "outputs": [
        {
          "output_type": "stream",
          "text": [
            "hello world\n"
          ],
          "name": "stdout"
        }
      ]
    },
    {
      "cell_type": "code",
      "metadata": {
        "colab": {
          "base_uri": "https://localhost:8080/"
        },
        "id": "zasi3z3ZbC2E",
        "outputId": "bc19c2c6-a8e9-4e9d-8080-0d9b029e7fa8"
      },
      "source": [
        "print (\"Hello world!\")"
      ],
      "execution_count": 11,
      "outputs": [
        {
          "output_type": "stream",
          "text": [
            "Hello world!\n"
          ],
          "name": "stdout"
        }
      ]
    },
    {
      "cell_type": "code",
      "metadata": {
        "colab": {
          "base_uri": "https://localhost:8080/"
        },
        "id": "EVyaYv4fbFqk",
        "outputId": "49cb9011-cbac-45a6-8b8a-b17ce4cd9a37"
      },
      "source": [
        "print (\"Hello %s\" %'world', end='!\\n')"
      ],
      "execution_count": 13,
      "outputs": [
        {
          "output_type": "stream",
          "text": [
            "Hello world!\n"
          ],
          "name": "stdout"
        }
      ]
    },
    {
      "cell_type": "markdown",
      "metadata": {
        "id": "IXm7Orafd0-a"
      },
      "source": [
        "**String formating**"
      ]
    },
    {
      "cell_type": "code",
      "metadata": {
        "colab": {
          "base_uri": "https://localhost:8080/"
        },
        "id": "rV_FPxaOd3a-",
        "outputId": "8d2f77ee-b6fe-446d-8620-b05b94553161"
      },
      "source": [
        "year = 2021\n",
        "day = 22\n",
        "month = 'March'\n",
        "\n",
        "# %operator\n",
        "str1 = 'Toda is %s %d, %d' %(month, day, year)\n",
        "\n",
        "# str.format() method\n",
        "str2 = 'Today is {} {}, {}'.format(month, day, year)\n",
        "\n",
        "# f-string\n",
        "str3 = f'Today is {month} {day}, {year}'\n",
        "\n",
        "print(str1)\n",
        "print(str2)\n",
        "print(str3)"
      ],
      "execution_count": 15,
      "outputs": [
        {
          "output_type": "stream",
          "text": [
            "Toda is March 22, 2021\n",
            "Today is March 22, 2021\n",
            "Today is March 22, 2021\n"
          ],
          "name": "stdout"
        }
      ]
    },
    {
      "cell_type": "markdown",
      "metadata": {
        "id": "69q0wy8Ugazr"
      },
      "source": [
        "**4-2. If statement**\n"
      ]
    },
    {
      "cell_type": "code",
      "metadata": {
        "colab": {
          "base_uri": "https://localhost:8080/"
        },
        "id": "C4G4Pg8igd-6",
        "outputId": "1be46e36-898e-4057-d5ed-27381c07fd8c"
      },
      "source": [
        "''' c-language\n",
        "int n = 10;\n",
        "\n",
        "if (n > 5)\n",
        "    printf('larger than 5\\n');\n",
        "else if (n == 5)\n",
        "    printf('equal to 5\\n');\n",
        "else\n",
        "    printf('smaller than 5\\n');\n",
        "'''\n",
        "\n",
        "n = 10\n",
        "\n",
        "if n > 5:\n",
        "  print('larger than 5')\n",
        "elif n == 5:\n",
        "  print('equal to 5')\n",
        "else:\n",
        "  print('smaller than 5')\n"
      ],
      "execution_count": 17,
      "outputs": [
        {
          "output_type": "stream",
          "text": [
            "larger than 5\n"
          ],
          "name": "stdout"
        }
      ]
    },
    {
      "cell_type": "markdown",
      "metadata": {
        "id": "kgKFOKHFhiHj"
      },
      "source": [
        "**4-3. For loop**"
      ]
    },
    {
      "cell_type": "code",
      "metadata": {
        "colab": {
          "base_uri": "https://localhost:8080/"
        },
        "id": "RkYaGWQchkFR",
        "outputId": "301d3d4b-c465-4938-cb80-05246cd66974"
      },
      "source": [
        "\n",
        "''' c-language\n",
        "int arr[10] = {3, 1, 4, 1, 5, 9, 2, 6, 5, 3};\n",
        "\n",
        "for (int i = 0; i < 10; i++)\n",
        "    printf(\"%d \", arr[i]);\n",
        "printf(\"\\n\");\n",
        "'''\n",
        "\n",
        "lst = [3, 1, 4, 1, 5, 9, 2, 6, 5, 3]\n",
        "\n",
        "for n in lst:\n",
        "    print(n, end=' ')\n",
        "print()\n",
        "\n",
        "# use enumerate()\n",
        "\n",
        "for i, n in enumerate(lst):\n",
        "    print(f'{i}-{n}', end='  ')\n",
        "print()"
      ],
      "execution_count": 21,
      "outputs": [
        {
          "output_type": "stream",
          "text": [
            "3 1 4 1 5 9 2 6 5 3 \n",
            "0-3  1-1  2-4  3-1  4-5  5-9  6-2  7-6  8-5  9-3  \n"
          ],
          "name": "stdout"
        }
      ]
    },
    {
      "cell_type": "markdown",
      "metadata": {
        "id": "k813dV7Gi4OR"
      },
      "source": [
        "<b>4-4. While loop</b>"
      ]
    },
    {
      "cell_type": "code",
      "metadata": {
        "colab": {
          "base_uri": "https://localhost:8080/"
        },
        "id": "ritw9uUii7uu",
        "outputId": "4509739d-5b07-47a9-d030-76cf4c594aa3"
      },
      "source": [
        "''' c-language\n",
        "int n = 0;\n",
        "\n",
        "while (n < 10) {\n",
        "    printf(\"%d \", n);\n",
        "    n++;\n",
        "}\n",
        "printf(\"\\n\");\n",
        "'''\n",
        "\n",
        "n = 0\n",
        "\n",
        "while n < 10:\n",
        "    print(n, end=' ')\n",
        "    n += 1\n",
        "print()"
      ],
      "execution_count": 28,
      "outputs": [
        {
          "output_type": "stream",
          "text": [
            "0 1 2 3 4 5 6 7 8 9 \n"
          ],
          "name": "stdout"
        }
      ]
    },
    {
      "cell_type": "markdown",
      "metadata": {
        "id": "6MLP6pljj5lj"
      },
      "source": [
        "<b>4-5. List : mutable type</b>"
      ]
    },
    {
      "cell_type": "code",
      "metadata": {
        "colab": {
          "base_uri": "https://localhost:8080/"
        },
        "id": "sdDQ6hyYkCwn",
        "outputId": "f2647c87-1d02-4e48-c070-a6f450889686"
      },
      "source": [
        "a = [1, 'abcd', 3.14, [3, 4, 5], (6, 7)]\n",
        "print(a)\n",
        "\n",
        "# push new value to the end\n",
        "a.append(10)\n",
        "print(a)\n",
        "\n",
        "# pop one value from the end\n",
        "a.pop()\n",
        "print(a)"
      ],
      "execution_count": 29,
      "outputs": [
        {
          "output_type": "stream",
          "text": [
            "[1, 'abcd', 3.14, [3, 4, 5], (6, 7)]\n",
            "[1, 'abcd', 3.14, [3, 4, 5], (6, 7), 10]\n",
            "[1, 'abcd', 3.14, [3, 4, 5], (6, 7)]\n"
          ],
          "name": "stdout"
        }
      ]
    },
    {
      "cell_type": "code",
      "metadata": {
        "colab": {
          "base_uri": "https://localhost:8080/"
        },
        "id": "X7Hf6V_NktSj",
        "outputId": "077a6a1f-a39f-498d-d1b7-39bed710b5de"
      },
      "source": [
        "# insert new value at index 2\n",
        "a.insert(2, 'hello')\n",
        "print(a)\n",
        "\n",
        "# pop one value at index 3\n",
        "a.pop(3)\n",
        "print(a)"
      ],
      "execution_count": 30,
      "outputs": [
        {
          "output_type": "stream",
          "text": [
            "[1, 'abcd', 'hello', 3.14, [3, 4, 5], (6, 7)]\n",
            "[1, 'abcd', 'hello', [3, 4, 5], (6, 7)]\n"
          ],
          "name": "stdout"
        }
      ]
    },
    {
      "cell_type": "markdown",
      "metadata": {
        "id": "hdvaXWyklgyC"
      },
      "source": [
        "<b>4-5. Tuple : immutable type</b>"
      ]
    },
    {
      "cell_type": "code",
      "metadata": {
        "colab": {
          "base_uri": "https://localhost:8080/"
        },
        "id": "KZEpeZ4klk6L",
        "outputId": "2bd19ffa-b1f9-4dfc-9576-608a54c69832"
      },
      "source": [
        "tpl = (3, 1, 4, 1, 5, 9, 2, 6, 5, 3)\n",
        "print(type(tpl))"
      ],
      "execution_count": 31,
      "outputs": [
        {
          "output_type": "stream",
          "text": [
            "<class 'tuple'>\n"
          ],
          "name": "stdout"
        }
      ]
    },
    {
      "cell_type": "code",
      "metadata": {
        "colab": {
          "base_uri": "https://localhost:8080/"
        },
        "id": "FX8LMNoglpGv",
        "outputId": "2546a79c-d938-4355-ed04-4735d43c7a93"
      },
      "source": [
        "\n",
        "print(lst)\n",
        "lst[1] = 0\n",
        "print(lst)"
      ],
      "execution_count": 32,
      "outputs": [
        {
          "output_type": "stream",
          "text": [
            "[3, 1, 4, 1, 5, 9, 2, 6, 5, 3]\n",
            "[3, 0, 4, 1, 5, 9, 2, 6, 5, 3]\n"
          ],
          "name": "stdout"
        }
      ]
    },
    {
      "cell_type": "code",
      "metadata": {
        "id": "8iph-ZDklpR5"
      },
      "source": [
        "#tpl[3] = 0 <- does not support item assignment"
      ],
      "execution_count": 35,
      "outputs": []
    },
    {
      "cell_type": "code",
      "metadata": {
        "id": "h0CDo_LBl3Ye"
      },
      "source": [
        "(x, y) = (1, 2)\n",
        "print(x, y)\n",
        "\n",
        "# parentheses can be ommitted\n",
        "x, y = 3, 4\n",
        "print(x, y)"
      ],
      "execution_count": null,
      "outputs": []
    },
    {
      "cell_type": "markdown",
      "metadata": {
        "id": "9Xy2odXcmVGN"
      },
      "source": [
        "<b>4-6. Indexing & Slicing</b>"
      ]
    },
    {
      "cell_type": "code",
      "metadata": {
        "colab": {
          "base_uri": "https://localhost:8080/"
        },
        "id": "ovIq3HLCm31f",
        "outputId": "b0d89822-f806-454c-c3b0-a2dcc480a7ca"
      },
      "source": [
        "lst"
      ],
      "execution_count": 38,
      "outputs": [
        {
          "output_type": "execute_result",
          "data": {
            "text/plain": [
              "[3, 0, 4, 1, 5, 9, 2, 6, 5, 3]"
            ]
          },
          "metadata": {
            "tags": []
          },
          "execution_count": 38
        }
      ]
    },
    {
      "cell_type": "code",
      "metadata": {
        "colab": {
          "base_uri": "https://localhost:8080/"
        },
        "id": "pLZpYQolmYKw",
        "outputId": "06c80651-40f7-41e7-93d7-06099e0e874a"
      },
      "source": [
        "# indexing\n",
        "print(lst[3])\n",
        "print(lst[-3]) #뒤에서부터 -1 -2 - 3"
      ],
      "execution_count": 37,
      "outputs": [
        {
          "output_type": "stream",
          "text": [
            "1\n",
            "6\n"
          ],
          "name": "stdout"
        }
      ]
    },
    {
      "cell_type": "code",
      "metadata": {
        "colab": {
          "base_uri": "https://localhost:8080/"
        },
        "id": "_xICRUYmmcCL",
        "outputId": "0533652d-8b89-4c9f-8e5a-5c55f3b39379"
      },
      "source": [
        "# slicing\n",
        "print(lst[3:6]) #6번 전까지\n",
        "print(lst[:6])\n",
        "print(lst[3:])\n",
        "print(lst[::2]) #2칸씩 뛰도록"
      ],
      "execution_count": 44,
      "outputs": [
        {
          "output_type": "stream",
          "text": [
            "[1, 5, 9]\n",
            "[3, 0, 4, 1, 5, 9]\n",
            "[1, 5, 9, 2, 6, 5, 3]\n",
            "[3, 4, 5, 2, 5]\n"
          ],
          "name": "stdout"
        }
      ]
    },
    {
      "cell_type": "markdown",
      "metadata": {
        "id": "qbdqjcgwnANp"
      },
      "source": [
        "<b> 4-7. Operators</b>"
      ]
    },
    {
      "cell_type": "code",
      "metadata": {
        "colab": {
          "base_uri": "https://localhost:8080/"
        },
        "id": "DS6CJ3kLnE9W",
        "outputId": "df99e200-3f19-44ce-8bf4-bdd4341cd829"
      },
      "source": [
        "7/5"
      ],
      "execution_count": 45,
      "outputs": [
        {
          "output_type": "execute_result",
          "data": {
            "text/plain": [
              "1.4"
            ]
          },
          "metadata": {
            "tags": []
          },
          "execution_count": 45
        }
      ]
    },
    {
      "cell_type": "code",
      "metadata": {
        "id": "rCAhNpl0ocyf"
      },
      "source": [
        ""
      ],
      "execution_count": null,
      "outputs": []
    }
  ]
}
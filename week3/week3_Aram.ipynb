{
  "nbformat": 4,
  "nbformat_minor": 0,
  "metadata": {
    "colab": {
      "name": "Untitled1.ipynb",
      "provenance": [],
      "collapsed_sections": [],
      "authorship_tag": "ABX9TyO+8mEkjqhYe4xOURvu+uJ4",
      "include_colab_link": true
    },
    "kernelspec": {
      "name": "python3",
      "display_name": "Python 3"
    },
    "language_info": {
      "name": "python"
    }
  },
  "cells": [
    {
      "cell_type": "markdown",
      "metadata": {
        "id": "view-in-github",
        "colab_type": "text"
      },
      "source": [
        "<a href=\"https://colab.research.google.com/github/gnbhub/gnbai20211/blob/master/week3/week3_Aram.ipynb\" target=\"_parent\"><img src=\"https://colab.research.google.com/assets/colab-badge.svg\" alt=\"Open In Colab\"/></a>"
      ]
    },
    {
      "cell_type": "markdown",
      "metadata": {
        "id": "UN0Oa7DpgKZ7"
      },
      "source": [
        ""
      ]
    },
    {
      "cell_type": "code",
      "metadata": {
        "colab": {
          "base_uri": "https://localhost:8080/"
        },
        "id": "wJ_69l9CeAGz",
        "outputId": "45ee5f68-690f-441a-b3b1-b44fb7f65fe4"
      },
      "source": [
        "# is : 같은 객체인지 보는 것\n",
        "# 얕은 복사, 깊은 복사\n",
        "a = [1, 2, 3]\n",
        "b = a # shallow copy\n",
        "\n",
        "print(f'a == b : {a == b}') # equality of value\n",
        "print(f'a is b : {a is b}') # identity of object\n"
      ],
      "execution_count": null,
      "outputs": [
        {
          "output_type": "stream",
          "text": [
            "a == b : True\n",
            "a is b : True\n"
          ],
          "name": "stdout"
        }
      ]
    },
    {
      "cell_type": "code",
      "metadata": {
        "colab": {
          "base_uri": "https://localhost:8080/"
        },
        "id": "I5USaEgkgNTl",
        "outputId": "d84c4718-c8b1-4984-a209-f003ea9765af"
      },
      "source": [
        "c = list(a) # deep copy\n",
        "\n",
        "print(f'a == c : {a == c}') # equality of value\n",
        "print(f'a is c : {a is c}') # identity of object\n"
      ],
      "execution_count": null,
      "outputs": [
        {
          "output_type": "stream",
          "text": [
            "a == c : True\n",
            "a is c : False\n"
          ],
          "name": "stdout"
        }
      ]
    },
    {
      "cell_type": "code",
      "metadata": {
        "colab": {
          "base_uri": "https://localhost:8080/"
        },
        "id": "hEYTy9kygkA6",
        "outputId": "9c2cd40e-f464-4e6c-c52c-aada05fafd49"
      },
      "source": [
        "# set : 목록 포함 여부를 빠르게 알 수 있음, 중복없앨때, \n",
        "# using set removes duplicates\n",
        "fruits = {'apple', 'orange', 'apple', 'pear', 'orange', 'banana'}\n",
        "print(f'fruits : {fruits}')\n",
        "\n",
        "# fast membership testing\n",
        "print(f\"'orange' in fruits : {'orange' in fruits}\")\n",
        "print(f\"'grape' not in fruits : {'grape' not in fruits}\")"
      ],
      "execution_count": null,
      "outputs": [
        {
          "output_type": "stream",
          "text": [
            "fruits : {'orange', 'apple', 'pear', 'banana'}\n",
            "'orange' in fruits : True\n",
            "'grape' not in fruits : True\n"
          ],
          "name": "stdout"
        }
      ]
    },
    {
      "cell_type": "code",
      "metadata": {
        "colab": {
          "base_uri": "https://localhost:8080/"
        },
        "id": "kkR5-Xn_gnhV",
        "outputId": "1b49872c-0896-45d0-c1c6-2338868a3746"
      },
      "source": [
        "a = set('abracadabra')       # {'a', 'b', 'c', 'd', 'r'}\n",
        "b = set('alacazam')          # {'a', 'c', 'l', 'm', 'z'}\n",
        "\n",
        "print(f'a | b : {a | b}')    # Union\n",
        "print(f'a & b : {a & b}')    # Intersection\n",
        "print(f'a - b : {a - b}')    # Difference\n",
        "print(f'a ^ b : {a ^ b}')    # Symmetric difference"
      ],
      "execution_count": null,
      "outputs": [
        {
          "output_type": "stream",
          "text": [
            "a | b : {'c', 'r', 'd', 'l', 'm', 'b', 'z', 'a'}\n",
            "a & b : {'c', 'a'}\n",
            "a - b : {'d', 'r', 'b'}\n",
            "a ^ b : {'b', 'r', 'm', 'd', 'z', 'l'}\n"
          ],
          "name": "stdout"
        }
      ]
    },
    {
      "cell_type": "code",
      "metadata": {
        "colab": {
          "base_uri": "https://localhost:8080/"
        },
        "id": "10BEAlScgpIy",
        "outputId": "e45695b6-f0e0-4e9d-9d8c-82ebee684c27"
      },
      "source": [
        "# Dictionary : {}로 선언, \n",
        "# create dictionary with {key:value, ...}\n",
        "scores = {'calculus':90, 'physics':70}\n",
        "print(scores)\n",
        "\n",
        "# create dictionary with sequences of key-value pair\n",
        "scores = dict([('calculus', 90), ('physics', 70)])\n",
        "print(scores)\n",
        "\n",
        "# create dictionary with keyword arguments\n",
        "scores = dict(calculus=90, physics=70)\n",
        "print(scores)"
      ],
      "execution_count": null,
      "outputs": [
        {
          "output_type": "stream",
          "text": [
            "{'calculus': 90, 'physics': 70}\n",
            "{'calculus': 90, 'physics': 70}\n",
            "{'calculus': 90, 'physics': 70}\n"
          ],
          "name": "stdout"
        }
      ]
    },
    {
      "cell_type": "code",
      "metadata": {
        "colab": {
          "base_uri": "https://localhost:8080/"
        },
        "id": "jthn6V2uhtau",
        "outputId": "c7ec737a-8b11-4cca-b519-209da4b996bf"
      },
      "source": [
        "\n",
        "# add item 'chemistry':80\n",
        "scores['chemistry'] = 80\n",
        "print(scores)\n",
        "\n",
        "# delete item 'calculus':90\n",
        "del scores['calculus']\n",
        "print(scores)"
      ],
      "execution_count": null,
      "outputs": [
        {
          "output_type": "stream",
          "text": [
            "{'calculus': 90, 'physics': 70, 'chemistry': 80}\n",
            "{'physics': 70, 'chemistry': 80}\n"
          ],
          "name": "stdout"
        }
      ]
    },
    {
      "cell_type": "code",
      "metadata": {
        "colab": {
          "base_uri": "https://localhost:8080/"
        },
        "id": "BhtXu1Y9hwmd",
        "outputId": "8fb420e9-5001-4bbe-ecee-b771713c5a93"
      },
      "source": [
        "#dictionary 선언 : {}\n",
        "#set 선언 : set{}\n",
        "\n",
        "\n",
        "nums = [1, 4, 1, 4, 2, 1, 3, 5, 6, 2]\n",
        "\n",
        "squares = []\n",
        "for x in nums:\n",
        "    squares.append(x ** 2)\n",
        "\n",
        "print(squares)\n",
        "\n"
      ],
      "execution_count": null,
      "outputs": [
        {
          "output_type": "stream",
          "text": [
            "[1, 16, 1, 16, 4, 1, 9, 25, 36, 4]\n"
          ],
          "name": "stdout"
        }
      ]
    },
    {
      "cell_type": "code",
      "metadata": {
        "colab": {
          "base_uri": "https://localhost:8080/"
        },
        "id": "yMcajYPhiQzG",
        "outputId": "75618c3b-558a-4c35-8b56-0f118e45e35b"
      },
      "source": [
        "# we can use map() function, but it's hard to read\n",
        "squares = list(map(lambda x: x**2, nums))\n",
        "print(squares)"
      ],
      "execution_count": null,
      "outputs": [
        {
          "output_type": "stream",
          "text": [
            "[1, 16, 1, 16, 4, 1, 9, 25, 36, 4]\n"
          ],
          "name": "stdout"
        }
      ]
    },
    {
      "cell_type": "code",
      "metadata": {
        "colab": {
          "base_uri": "https://localhost:8080/"
        },
        "id": "9Fd1uyCwiRUF",
        "outputId": "9dc9693c-da40-4245-ff42-7756337d615b"
      },
      "source": [
        "# equivalent code with list comprehension\n",
        "squares = [x ** 2 for x in nums] #nums안에 있는 x를 제곱 equivalent code with list comprehension\n",
        "squares = [x ** 2 for x in nums] #nums안에 있는 x를 제곱\n",
        "print(squares)\n",
        "print(squares)"
      ],
      "execution_count": null,
      "outputs": [
        {
          "output_type": "stream",
          "text": [
            "[1, 16, 1, 16, 4, 1, 9, 25, 36, 4]\n",
            "[1, 16, 1, 16, 4, 1, 9, 25, 36, 4]\n"
          ],
          "name": "stdout"
        }
      ]
    },
    {
      "cell_type": "code",
      "metadata": {
        "colab": {
          "base_uri": "https://localhost:8080/"
        },
        "id": "-Yok8qEQio9I",
        "outputId": "9c3ac527-8361-4df1-9b67-942b36fe19cb"
      },
      "source": [
        "#ex)2 짝수만 모으기\n",
        "nums = [1, 4, 1, 4, 2, 1, 3, 5, 6, 2]\n",
        "\n",
        "evens = []\n",
        "for x in nums:\n",
        "    if x % 2 == 0:\n",
        "        evens.append(x)\n",
        "\n",
        "print(evens)\n",
        "\n",
        "# we can use filter() function, but it's hard to read\n",
        "evens = list(filter(lambda x: x%2==0, nums)) #안에 있는 조건을 기준으로 걸러내겠다 we can use filter() function, but it's hard to read\n",
        "evens = list(filter(lambda x: x%2==0, nums)) #안에 있는 조건을 기준으로 걸러내겠다\n",
        "print(evens)\n",
        "print(evens)\n",
        "\n",
        "# equivalent code with list comprehension\n",
        "squares = [x for x in nums if x % 2 == 0] #x : x**2\n",
        "print(squares)"
      ],
      "execution_count": null,
      "outputs": [
        {
          "output_type": "stream",
          "text": [
            "[4, 4, 2, 6, 2]\n",
            "[4, 4, 2, 6, 2]\n",
            "[4, 4, 2, 6, 2]\n",
            "[4, 4, 2, 6, 2]\n"
          ],
          "name": "stdout"
        }
      ]
    },
    {
      "cell_type": "code",
      "metadata": {
        "colab": {
          "base_uri": "https://localhost:8080/"
        },
        "id": "syXXaiDQjgTb",
        "outputId": "4d7821bb-e7f3-4832-dce9-181d7a592fe9"
      },
      "source": [
        "#1-6 Function 함수\n",
        "#def 함수이름(); 선언\n",
        "\n",
        "def say_hello_world(): \n",
        "    print('Hello world!')\n",
        "\n",
        "def say_hello_to(name):\n",
        "    print(f'Hello {name}!')\n",
        "\n",
        "def get_full_name(first, last):\n",
        "    '''\n",
        "    returns full name string\n",
        "    '''\n",
        "    return first + ' ' + last\n",
        "\n",
        "say_hello_world()\n",
        "say_hello_to('GNB')\n",
        "\n",
        "myname = get_full_name('Dohun', 'Kim')\n",
        "say_hello_to(myname)\n",
        "\n",
        "help(get_full_name) #함수에 대한 설명 명시"
      ],
      "execution_count": null,
      "outputs": [
        {
          "output_type": "stream",
          "text": [
            "Hello world!\n",
            "Hello GNB!\n",
            "Hello Dohun Kim!\n",
            "Help on function get_full_name in module __main__:\n",
            "\n",
            "get_full_name(first, last)\n",
            "    returns full name string\n",
            "\n"
          ],
          "name": "stdout"
        }
      ]
    },
    {
      "cell_type": "code",
      "metadata": {
        "id": "gDN1PsyhktGw"
      },
      "source": [
        "# 객체지향 프로그래밍 : 객체의 개념에 기반을 두고 있는 프로그래밍 패러다임\n",
        "# object = 속성 Attribute + Method\n",
        "# Attribute = variable + Function = data + code\n",
        "# class : 변수와 함수를 포함해 묶어놓은 개념\n",
        "# object : class를 찝어내서 메모리에 옮겨둔 것\n",
        "# attribute : class안의 변수\n",
        "# method : class안의 함수\n",
        "# instantiation : class에서 object로 만드는 과정, class명에 () 붙이기\n",
        "# ingeritance : 원래 있는 class를 추가해서 새로운 class를 만드는 것\n",
        "# subclass : 상속받은 상위 class\n",
        "# superclass : 상속되어진 class"
      ],
      "execution_count": null,
      "outputs": []
    },
    {
      "cell_type": "code",
      "metadata": {
        "colab": {
          "base_uri": "https://localhost:8080/"
        },
        "id": "ektp655bps37",
        "outputId": "c7467c20-7e02-45a8-fceb-77b51842af19"
      },
      "source": [
        "#3-1 class\n",
        "class Student:       # Class is a blueprint for creating Objects(=Instances)\n",
        "    pass\n",
        "    #파이썬안에 내부적으로 아무것도 없는 함수\n",
        "    # def = __init__(); 가 포함되어 있음\n",
        "\n",
        "std_1 = Student()    # Instantitation:\n",
        "std_2 = Student()    #   Create two unique Objects(=Instances) of Student class\n",
        "\n",
        "print(Student)\n",
        "print(std_1)         # we can see that std_1 and std_2 have\n",
        "print(std_2)         # different locations in memory\n",
        "\n",
        "print(isinstance(std_1, Student), isinstance(std_2, Student))"
      ],
      "execution_count": null,
      "outputs": [
        {
          "output_type": "stream",
          "text": [
            "<class '__main__.Student'>\n",
            "<__main__.Student object at 0x7fcb49d880d0>\n",
            "<__main__.Student object at 0x7fcb49d88050>\n",
            "True True\n"
          ],
          "name": "stdout"
        }
      ]
    },
    {
      "cell_type": "code",
      "metadata": {
        "colab": {
          "base_uri": "https://localhost:8080/"
        },
        "id": "Q2i5cY4BqJrE",
        "outputId": "315923fe-c0c8-4f4c-9b86-69164c835de2"
      },
      "source": [
        "std_1.first = 'Dohun'                # we can set instance attributes manually, 속성 부여\n",
        "std_1.last = 'Kim'                   # but it's a lot of code, and it's also prone to mistakes\n",
        "std_1.email = 'Dohun.Kim@knu.ac.kr'  # so we don't get much benefit of using classes\n",
        "std_1.gpa = 4.18\n",
        "\n",
        "std_2.first = 'Test'\n",
        "std_2.last = 'Name'\n",
        "std_2.email = 'Test.Name@knu.ac.kr'\n",
        "std_2.gpa = 4.0\n",
        "\n",
        "print(std_1.email)\n",
        "print(std_2.email)"
      ],
      "execution_count": null,
      "outputs": [
        {
          "output_type": "stream",
          "text": [
            "Dohun.Kim@knu.ac.kr\n",
            "Test.Name@knu.ac.kr\n"
          ],
          "name": "stdout"
        }
      ]
    },
    {
      "cell_type": "code",
      "metadata": {
        "id": "u-33UbmJrJnK"
      },
      "source": [
        "#3-2\n",
        "\n",
        "# we want to make class to set up attributes automatically\n",
        "# we can use special method __init__() for this\n",
        "# __init__() will be run at every instantiation\n",
        "# you can read __something__ as [dunder-something] which means 'double underscores'\n",
        "\n",
        "class Student:\n",
        "    \n",
        "    # 'self' is an instance which has called this method\n",
        "    # each method within a class automatically takes the instance as the first argument\n",
        "    \n",
        "    def __init__(self, first, last, gpa): #self 꼭 들어가야하는 것, 나중에 알게됨.\n",
        "        self.first = first\n",
        "        self.last = last\n",
        "        self.gpa = gpa\n",
        "        self.email = first + '.' + last + '@knu.ac.kr'\n",
        "\n",
        "std_1 = Student('Dohun', 'Kim', 4.18) # __init__() method will be run automatically\n",
        "std_2 = Student('Test', 'Name', 4.0)  # It would be better to think of 'self' as being ignored.\n",
        "\n",
        "print(std_1.email)\n",
        "print(std_2.email)\n",
        "\n",
        "#똑같은 함수를 정의하면 기존의 것이 없어지고 새로운 것이 그 위에 덮어씌어짐"
      ],
      "execution_count": null,
      "outputs": []
    },
    {
      "cell_type": "code",
      "metadata": {
        "colab": {
          "base_uri": "https://localhost:8080/"
        },
        "id": "YEYGXH5UqLC5",
        "outputId": "f6a9f2d9-bc69-43dd-d31b-c150b7fb7371"
      },
      "source": [
        "# suppose : we want to add the ability to display the full name of a student\n",
        "print(f'{std_1.first} {std_1.last}')\n",
        "print(f'{std_2.first} {std_2.last}')"
      ],
      "execution_count": null,
      "outputs": [
        {
          "output_type": "stream",
          "text": [
            "Dohun Kim\n",
            "Test Name\n"
          ],
          "name": "stdout"
        }
      ]
    },
    {
      "cell_type": "code",
      "metadata": {
        "colab": {
          "base_uri": "https://localhost:8080/",
          "height": 135
        },
        "id": "1JQ4o0rvsSEY",
        "outputId": "3e298226-486e-44ce-bbb4-53d559242eb5"
      },
      "source": [
        "#3-3 Method\n",
        "class Student:\n",
        "    \n",
        "    def __init__(self, first, last, gpa):\n",
        "        self.first = first\n",
        "        self.last = last\n",
        "        self.gpa = gpa\n",
        "        self.email = first + '.' + last + '@knu.ac.kr'\n",
        "    \n",
        "    # don't forget to add 'self' in every method!\n",
        "    # method를 만들때 무조건 맨 처음은 self를 넣어줘야함, object를 의미.\n",
        "    # 함수 추가   # method를 만들때 무조건 맨 처음은 self를 넣어줘야함, object를 의미.\n",
        "        # 함수 추가\n",
        "            def fullname(self):\n",
        "                    return f'{self.first} {self.last}'\n",
        "                        \n",
        "                        std_1 = Student('Dohun', 'Kim', 4.18)\n",
        "                        std_2 = Student('Test', 'Name', 4.0)\n",
        "\n",
        "                        print(std_1.fullname())\n",
        "                        print(std_2.fullname())\n",
        "                        \n",
        "    def fullname(self):\n",
        "        return f'{self.first} {self.last}'\n",
        "    \n",
        "std_1 = Student('Dohun', 'Kim', 4.18)\n",
        "std_2 = Student('Test', 'Name', 4.0)\n",
        "\n",
        "print(std_1.fullname())\n",
        "print(std_2.fullname())\n",
        "\n",
        "# it does the exactly same thing\n",
        "print(Student.fullname(std_1))\n",
        "print(Student.fullname(std_2))"
      ],
      "execution_count": null,
      "outputs": [
        {
          "output_type": "error",
          "ename": "IndentationError",
          "evalue": "ignored",
          "traceback": [
            "\u001b[0;36m  File \u001b[0;32m\"<ipython-input-16-600e1005511e>\"\u001b[0;36m, line \u001b[0;32m14\u001b[0m\n\u001b[0;31m    def fullname(self):\u001b[0m\n\u001b[0m    ^\u001b[0m\n\u001b[0;31mIndentationError\u001b[0m\u001b[0;31m:\u001b[0m unexpected indent\n"
          ]
        }
      ]
    },
    {
      "cell_type": "code",
      "metadata": {
        "id": "UmreCiuos9XG"
      },
      "source": [
        "# 3-4 class variable\n",
        "# num은 맨앞에 class명을 붙여줘야함. self는 값이 바뀌지 않을때, class명은 바뀔 때 사용 3-4 class variable\n",
        "# num은 맨앞에 class명을 붙여줘야함. self는 값이 바뀌지 않을때, class명은 바뀔 때 사용\n",
        "class Student:\n",
        "    \n",
        "        # class variable, class에 들어가는 변수는 밖3-4 class variable\n",
        "            class Student:\n",
        "                    \n",
        "                                # class variable, class에 들어가는 변수는 밖\n",
        "                                                num_of_stds = 0\n",
        "                                                                    domain = 'knu.ac.kr'\n",
        "                                                                    \n",
        "class Student:\n",
        "    \n",
        "    # class variable, class에 들어가는 변수는 밖3-4 class variable\n",
        "    class Student:\n",
        "        \n",
        "            # class variable, class에 들어가는 변수는 밖\n",
        "                num_of_stds = 0\n",
        "                    domain = 'knu.ac.kr'\n",
        "                        \n",
        "                            def __init__(self, first, last, gpa):\n",
        "                                    # instance variables\n",
        "                                            self.first = first\n",
        "\n",
        "    num_of_stds = 0\n",
        "    domain = 'knu.ac.kr'\n",
        "    \n",
        "    def __init__(self, first, last, gpa):\n",
        "        # instance variables\n",
        "        self.first = first\n",
        "        self.last = last\n",
        "        self.gpa = gpa\n",
        "        self.email = first + '.' + last + '@' + self.domain\n",
        "        \n",
        "        Student.num_of_stds += 1\n",
        "    \n",
        "    def fullname(self):\n",
        "        return f'{self.first} {self.last}'\n",
        "    \n",
        "std_1 = Student('Dohun', 'Kim', 4.18)\n",
        "print(Student.num_of_stds)\n",
        "\n",
        "std_2 = Student('Test', 'Name', 4.0)\n",
        "print(Student.num_of_stds)"
      ],
      "execution_count": null,
      "outputs": []
    },
    {
      "cell_type": "code",
      "metadata": {
        "id": "BP35Pq2GwDEZ"
      },
      "source": [
        "#3-5 Inheritance\n",
        "# GnbMember class inherits Student class\n",
        "# in other words, GnbMember is a subclass of Student\n",
        "# and Student is a superclass of Gnbmember\n",
        "\n",
        "class GnbMember(Student):\n",
        "    \n",
        "    domain = 'gnb.com'\n",
        "    \n",
        "    def __init__(self, first, last, gpa, prog_lang):\n",
        "        super().__init__(first, last, gpa)          # run __init__() of superclass(=Student)\n",
        "        # Student.__init__(self, first, last, gpa)  # same code as above\n",
        "        self.prog_lang = prog_lang\n",
        "\n",
        "gnb_1 = GnbMember('Gnb', 'Member', 4.3, 'Python')\n",
        "print(Student.num_of_stds, gnb_1.email, gnb_1.prog_lang)\n",
        "\n",
        "std_3 = Student('Not', 'gnb', 3.25)\n",
        "print(Student.num_of_stds, std_3.email)\n",
        "\n"
      ],
      "execution_count": null,
      "outputs": []
    },
    {
      "cell_type": "code",
      "metadata": {
        "colab": {
          "base_uri": "https://localhost:8080/",
          "height": 241
        },
        "id": "RY_yU7qdwJ5G",
        "outputId": "cb4efafc-0e5b-4c92-e361-6de74798efda"
      },
      "source": [
        "print(isinstance(gnb_1, GnbMember))\n",
        "print(isinstance(gnb_1, Student))\n",
        "\n",
        "print(issubclass(GnbMember, Student))\n",
        "print(issubclass(Student, GnbMember))\n",
        "\n",
        "#집합의 개념으로 이해하면 좋음. 그래서 자기자신 역시도 subclass임."
      ],
      "execution_count": null,
      "outputs": [
        {
          "output_type": "error",
          "ename": "NameError",
          "evalue": "ignored",
          "traceback": [
            "\u001b[0;31m---------------------------------------------------------------------------\u001b[0m",
            "\u001b[0;31mNameError\u001b[0m                                 Traceback (most recent call last)",
            "\u001b[0;32m<ipython-input-18-581694807760>\u001b[0m in \u001b[0;36m<module>\u001b[0;34m()\u001b[0m\n\u001b[0;32m----> 1\u001b[0;31m \u001b[0mprint\u001b[0m\u001b[0;34m(\u001b[0m\u001b[0misinstance\u001b[0m\u001b[0;34m(\u001b[0m\u001b[0mgnb_1\u001b[0m\u001b[0;34m,\u001b[0m \u001b[0mGnbMember\u001b[0m\u001b[0;34m)\u001b[0m\u001b[0;34m)\u001b[0m\u001b[0;34m\u001b[0m\u001b[0;34m\u001b[0m\u001b[0m\n\u001b[0m\u001b[1;32m      2\u001b[0m \u001b[0mprint\u001b[0m\u001b[0;34m(\u001b[0m\u001b[0misinstance\u001b[0m\u001b[0;34m(\u001b[0m\u001b[0mgnb_1\u001b[0m\u001b[0;34m,\u001b[0m \u001b[0mStudent\u001b[0m\u001b[0;34m)\u001b[0m\u001b[0;34m)\u001b[0m\u001b[0;34m\u001b[0m\u001b[0;34m\u001b[0m\u001b[0m\n\u001b[1;32m      3\u001b[0m \u001b[0;34m\u001b[0m\u001b[0m\n\u001b[1;32m      4\u001b[0m \u001b[0mprint\u001b[0m\u001b[0;34m(\u001b[0m\u001b[0missubclass\u001b[0m\u001b[0;34m(\u001b[0m\u001b[0mGnbMember\u001b[0m\u001b[0;34m,\u001b[0m \u001b[0mStudent\u001b[0m\u001b[0;34m)\u001b[0m\u001b[0;34m)\u001b[0m\u001b[0;34m\u001b[0m\u001b[0;34m\u001b[0m\u001b[0m\n\u001b[1;32m      5\u001b[0m \u001b[0mprint\u001b[0m\u001b[0;34m(\u001b[0m\u001b[0missubclass\u001b[0m\u001b[0;34m(\u001b[0m\u001b[0mStudent\u001b[0m\u001b[0;34m,\u001b[0m \u001b[0mGnbMember\u001b[0m\u001b[0;34m)\u001b[0m\u001b[0;34m)\u001b[0m\u001b[0;34m\u001b[0m\u001b[0;34m\u001b[0m\u001b[0m\n",
            "\u001b[0;31mNameError\u001b[0m: name 'gnb_1' is not defined"
          ]
        }
      ]
    },
    {
      "cell_type": "code",
      "metadata": {
        "id": "O0WGozCwyjOT"
      },
      "source": [
        "# inheritance : class로부터 class를 만듦"
      ],
      "execution_count": null,
      "outputs": []
    }
  ]
}
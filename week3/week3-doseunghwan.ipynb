{
  "nbformat": 4,
  "nbformat_minor": 0,
  "metadata": {
    "colab": {
      "name": "Untitled2.ipynb",
      "provenance": [],
      "collapsed_sections": [],
      "toc_visible": true,
      "authorship_tag": "ABX9TyPK22RsVVv/D8Dv5MjLGIQm",
      "include_colab_link": true
    },
    "kernelspec": {
      "name": "python3",
      "display_name": "Python 3"
    },
    "language_info": {
      "name": "python"
    }
  },
  "cells": [
    {
      "cell_type": "markdown",
      "metadata": {
        "id": "view-in-github",
        "colab_type": "text"
      },
      "source": [
        "<a href=\"https://colab.research.google.com/github/gnbhub/gnbai20211/blob/master/week3/week3-doseunghwan.ipynb\" target=\"_parent\"><img src=\"https://colab.research.google.com/assets/colab-badge.svg\" alt=\"Open In Colab\"/></a>"
      ]
    },
    {
      "cell_type": "markdown",
      "metadata": {
        "id": "4KPfawFLfM8B"
      },
      "source": [
        "#Week2-review\n"
      ]
    },
    {
      "cell_type": "code",
      "metadata": {
        "colab": {
          "base_uri": "https://localhost:8080/",
          "height": 88
        },
        "id": "7QIBP_rdfEKY",
        "outputId": "427e08d5-cacb-4c8b-bd3e-25990101e88f"
      },
      "source": [
        "class Car:\n",
        "  def __init__(self, max_speed, num_person):\n",
        "    self.max_speed = max_speed\n",
        "    self.num_person = num_person\n",
        "\n",
        "    self.is_engine_on = False\n",
        "    self.current_speed = 0\n",
        "\n",
        "  def engine_on(self):\n",
        "    self.is_engine_on = True\n",
        "\n",
        "  def engine_off(self):\n",
        "    self.is_engine_on = False\n",
        "    self.current_speed = 0\n",
        "  \n",
        "  def accelate(self, speed = 10):\n",
        "    self.current_speed += speed\n",
        "\n",
        "    if self.current_speed > self.max_speed:\n",
        "      self.current_speed = self.max_speed\n",
        "    elif self.current_speed < 0:\n",
        "      self.current_speed = 0\n",
        "\n",
        "\n",
        "\n",
        "car1 = Car(80, 4)\n",
        "car1.accelate(50)\n",
        "print(car1.current_speed)\n",
        "car1.accelate(50)\n",
        "print(car1.current_speed)\n",
        "\n",
        "class SuperCar(Car):\n",
        "\n",
        "  def __init__(self, max_speed, num_person, brand):\n",
        "    # super(). __init__(max_speed, num_person)\n",
        "    Car.__init__(self, max_speed, num_person)\n",
        "    self.brand = brand\n",
        "\n",
        "super_car1 = SuperCar(300, 2, 'audi')\n",
        "\n",
        "super_car1.accelate(50)\n",
        "print(super_car1.current_speed)\n",
        "super_car1.brand\n"
      ],
      "execution_count": 27,
      "outputs": [
        {
          "output_type": "stream",
          "text": [
            "50\n",
            "80\n",
            "50\n"
          ],
          "name": "stdout"
        },
        {
          "output_type": "execute_result",
          "data": {
            "application/vnd.google.colaboratory.intrinsic+json": {
              "type": "string"
            },
            "text/plain": [
              "'audi'"
            ]
          },
          "metadata": {
            "tags": []
          },
          "execution_count": 27
        }
      ]
    },
    {
      "cell_type": "markdown",
      "metadata": {
        "id": "4iJ5owAbr-dQ"
      },
      "source": [
        "#Week3"
      ]
    },
    {
      "cell_type": "code",
      "metadata": {
        "colab": {
          "base_uri": "https://localhost:8080/"
        },
        "id": "ytrB6iPXsF2Z",
        "outputId": "4c8eb47d-8968-4794-8c19-d54f14f682e0"
      },
      "source": [
        "import numpy as np\n",
        "import timeit\n",
        "\n",
        "def sum_for_loop(n=100_000_000):\n",
        "  result = 0;\n",
        "  for i in range(n):\n",
        "    result += 1\n",
        "  return result\n",
        "\n",
        "def sum_built_in(n = 100_000_000):\n",
        "  return sum(range(n))\n",
        "\n",
        "def sum_numpy(n=100_000_000):\n",
        "  return np.sum(np.arange(n))\n",
        "\n",
        "for func in (sum_for_loop, sum_built_in, sum_numpy):\n",
        "  print(f'{func,__name__}\\t{timeit.timeit(func, number = 1)}')"
      ],
      "execution_count": 5,
      "outputs": [
        {
          "output_type": "stream",
          "text": [
            "(<function sum_for_loop at 0x7fc6ae4c2b00>, '__main__')\t5.783438993000004\n",
            "(<function sum_built_in at 0x7fc6ae4c2f80>, '__main__')\t2.0949505300000055\n",
            "(<function sum_numpy at 0x7fc6ae4c2e60>, '__main__')\t0.40665932000001703\n"
          ],
          "name": "stdout"
        }
      ]
    },
    {
      "cell_type": "code",
      "metadata": {
        "id": "cEzll4Ojt9mT"
      },
      "source": [
        "a = np.array([[1, 2, 3], [4, 5, 6]])\n",
        "\n",
        "print(f'type(a)  {type(a)}')\n",
        "print(f'a.ndim    {a.ndim}')   \n",
        "print(f'a.shape   {a.shape}')  \n",
        "print(f'a.size    {a.size}')   \n",
        "print(f'a.dtype   {a.dtype}')  "
      ],
      "execution_count": null,
      "outputs": []
    },
    {
      "cell_type": "code",
      "metadata": {
        "colab": {
          "base_uri": "https://localhost:8080/"
        },
        "id": "YhZA_FxlDewf",
        "outputId": "0e6e2f15-c780-4bda-b1fe-f7d603de6b86"
      },
      "source": [
        "np.array([1, 2, 3, 4, 5, 6])\n",
        "# np.array(1, 2, 3, 4, 5, 6)    # WRONG!!\n",
        "# np.array[1, 2, 3, 4, 5, 6]    #틀림!"
      ],
      "execution_count": 37,
      "outputs": [
        {
          "output_type": "execute_result",
          "data": {
            "text/plain": [
              "array([1, 2, 3, 4, 5, 6])"
            ]
          },
          "metadata": {
            "tags": []
          },
          "execution_count": 37
        }
      ]
    },
    {
      "cell_type": "code",
      "metadata": {
        "id": "1VkaAjFIDm1t"
      },
      "source": [
        "np.zeros((3, 4))"
      ],
      "execution_count": 39,
      "outputs": []
    },
    {
      "cell_type": "code",
      "metadata": {
        "colab": {
          "base_uri": "https://localhost:8080/"
        },
        "id": "-c2cJ6QeEFKG",
        "outputId": "11fb5ade-9bc2-4e15-8b42-932dfb39bdbc"
      },
      "source": [
        "np.ones((2, 3, 4), dtype=int)"
      ],
      "execution_count": 42,
      "outputs": [
        {
          "output_type": "execute_result",
          "data": {
            "text/plain": [
              "array([[[1, 1, 1, 1],\n",
              "        [1, 1, 1, 1],\n",
              "        [1, 1, 1, 1]],\n",
              "\n",
              "       [[1, 1, 1, 1],\n",
              "        [1, 1, 1, 1],\n",
              "        [1, 1, 1, 1]]])"
            ]
          },
          "metadata": {
            "tags": []
          },
          "execution_count": 42
        }
      ]
    },
    {
      "cell_type": "code",
      "metadata": {
        "colab": {
          "base_uri": "https://localhost:8080/"
        },
        "id": "66hZQjS4EavV",
        "outputId": "6825b659-8381-4046-cf21-d3a489913bbd"
      },
      "source": [
        "np.arange(0, 3, 0.3)"
      ],
      "execution_count": 44,
      "outputs": [
        {
          "output_type": "execute_result",
          "data": {
            "text/plain": [
              "array([0. , 0.3, 0.6, 0.9, 1.2, 1.5, 1.8, 2.1, 2.4, 2.7])"
            ]
          },
          "metadata": {
            "tags": []
          },
          "execution_count": 44
        }
      ]
    },
    {
      "cell_type": "code",
      "metadata": {
        "colab": {
          "base_uri": "https://localhost:8080/"
        },
        "id": "jTCo-8_YEy44",
        "outputId": "7ce68e52-8574-48fb-a3f9-49f3d3b9efe4"
      },
      "source": [
        "np.linspace(0, 2, 9)"
      ],
      "execution_count": 45,
      "outputs": [
        {
          "output_type": "execute_result",
          "data": {
            "text/plain": [
              "array([0.  , 0.25, 0.5 , 0.75, 1.  , 1.25, 1.5 , 1.75, 2.  ])"
            ]
          },
          "metadata": {
            "tags": []
          },
          "execution_count": 45
        }
      ]
    },
    {
      "cell_type": "code",
      "metadata": {
        "colab": {
          "base_uri": "https://localhost:8080/"
        },
        "id": "77lPunIFFRX4",
        "outputId": "dd61f153-641e-4e73-d2b2-482780709d6c"
      },
      "source": [
        "np.random.rand(2, 3)\n",
        "#uniform distribution over [0, 1)"
      ],
      "execution_count": 46,
      "outputs": [
        {
          "output_type": "execute_result",
          "data": {
            "text/plain": [
              "array([[0.22981978, 0.68638837, 0.91985377],\n",
              "       [0.90235511, 0.51882071, 0.85157097]])"
            ]
          },
          "metadata": {
            "tags": []
          },
          "execution_count": 46
        }
      ]
    },
    {
      "cell_type": "code",
      "metadata": {
        "colab": {
          "base_uri": "https://localhost:8080/"
        },
        "id": "nq1DZPuBGNOK",
        "outputId": "9b3fbdca-50ba-4721-990b-f948b45f34a9"
      },
      "source": [
        "np.random.randn(2, 3)\n",
        "#standard normal distribution"
      ],
      "execution_count": 52,
      "outputs": [
        {
          "output_type": "execute_result",
          "data": {
            "text/plain": [
              "array([[ 0.89178169, -1.14398602, -0.25413682],\n",
              "       [-1.01472369, -1.13793715, -0.91237284]])"
            ]
          },
          "metadata": {
            "tags": []
          },
          "execution_count": 52
        }
      ]
    },
    {
      "cell_type": "code",
      "metadata": {
        "colab": {
          "base_uri": "https://localhost:8080/"
        },
        "id": "Eqt8VtbJJU2d",
        "outputId": "7f83ecba-a5b1-43f4-e8d0-06cb97acf723"
      },
      "source": [
        "np.random.random((2, 3))\n",
        "#uniform distribution over [0, 1)"
      ],
      "execution_count": 53,
      "outputs": [
        {
          "output_type": "execute_result",
          "data": {
            "text/plain": [
              "array([[0.87085445, 0.79600015, 0.67023029],\n",
              "       [0.53954449, 0.4051405 , 0.77639498]])"
            ]
          },
          "metadata": {
            "tags": []
          },
          "execution_count": 53
        }
      ]
    },
    {
      "cell_type": "code",
      "metadata": {
        "colab": {
          "base_uri": "https://localhost:8080/"
        },
        "id": "aW3Gf799JsL3",
        "outputId": "357c091a-2c7c-44f9-df99-157e5babd855"
      },
      "source": [
        "np.random.randint(1, 10, (4, 5))\n",
        "#(시작, 끝+1 , (row, column))"
      ],
      "execution_count": 63,
      "outputs": [
        {
          "output_type": "execute_result",
          "data": {
            "text/plain": [
              "array([[8, 9, 1, 6, 8],\n",
              "       [7, 6, 2, 3, 1],\n",
              "       [6, 3, 6, 4, 2],\n",
              "       [6, 7, 7, 1, 6]])"
            ]
          },
          "metadata": {
            "tags": []
          },
          "execution_count": 63
        }
      ]
    },
    {
      "cell_type": "code",
      "metadata": {
        "colab": {
          "base_uri": "https://localhost:8080/"
        },
        "id": "5pG-dVVgy7_c",
        "outputId": "eaf8f1eb-801f-4b0e-87d6-7c2d1b28a99e"
      },
      "source": [
        "a = np.arange(6)\n",
        "b = np.arange(6)\n",
        "a\n",
        "print(a + 10)\n",
        "print(a * 2)\n",
        "print(a / 2)\n",
        "print(a ** 2)\n",
        "print(a < 3)\n",
        "print(a * b)\n"
      ],
      "execution_count": null,
      "outputs": [
        {
          "output_type": "stream",
          "text": [
            "[10 11 12 13 14 15]\n",
            "[ 0  2  4  6  8 10]\n",
            "[0.  0.5 1.  1.5 2.  2.5]\n",
            "[ 0  1  4  9 16 25]\n",
            "[ True  True  True False False False]\n",
            "[ 0  1  4  9 16 25]\n"
          ],
          "name": "stdout"
        }
      ]
    },
    {
      "cell_type": "code",
      "metadata": {
        "colab": {
          "base_uri": "https://localhost:8080/"
        },
        "id": "JYTa7dR3LHBU",
        "outputId": "753ab2d7-c4e7-41e0-d0ce-434021081045"
      },
      "source": [
        "a = np.random.random((3, 4))\n",
        "a"
      ],
      "execution_count": 64,
      "outputs": [
        {
          "output_type": "execute_result",
          "data": {
            "text/plain": [
              "array([[0.69442724, 0.85376529, 0.44901681, 0.07331906],\n",
              "       [0.59754147, 0.59101697, 0.17121688, 0.26823113],\n",
              "       [0.05051583, 0.10340182, 0.54027252, 0.68067386]])"
            ]
          },
          "metadata": {
            "tags": []
          },
          "execution_count": 64
        }
      ]
    },
    {
      "cell_type": "code",
      "metadata": {
        "colab": {
          "base_uri": "https://localhost:8080/"
        },
        "id": "ohTOnTEQMOp8",
        "outputId": "d4fc6cf0-f464-4377-dad8-d29f046293c9"
      },
      "source": [
        "print(f'a.sum()   {a.sum()}')\n",
        "print(f'a.min()   {a.min()}')\n",
        "print(f'a.max()   {a.max()}')\n",
        "print(f'a.mean()  {a.mean()}')\n",
        "print(f'a.std()   {a.std()}')"
      ],
      "execution_count": 65,
      "outputs": [
        {
          "output_type": "stream",
          "text": [
            "a.sum()   5.073398880324255\n",
            "a.min()   0.050515826389644136\n",
            "a.max()   0.8537652894658371\n",
            "a.mean()  0.4227832400270213\n",
            "a.std()   0.2660299537978108\n"
          ],
          "name": "stdout"
        }
      ]
    },
    {
      "cell_type": "code",
      "metadata": {
        "id": "NvJoBF_yNGcU"
      },
      "source": [
        "print(f'a.min(axis=0)  {a.min(axis=0)}')  # 1번축에서 최소값\n",
        "print(f'a.max(axis=1)  {a.max(axis=1)}')  # 2번축에서 최댓값값"
      ],
      "execution_count": null,
      "outputs": []
    },
    {
      "cell_type": "code",
      "metadata": {
        "colab": {
          "base_uri": "https://localhost:8080/"
        },
        "id": "5peop_5EOuOf",
        "outputId": "5a7ce9b1-bdfa-48cc-dfb3-709b4068cca1"
      },
      "source": [
        "a = np.arange(2*3).reshape((2, 3))\n",
        "b = np.arange(3*4).reshape((3, 4))\n",
        "print(np.matmul(a, b)) #행렬곱\n",
        "np.dot(a,b)\n",
        "#행렬도트곱 "
      ],
      "execution_count": 6,
      "outputs": [
        {
          "output_type": "stream",
          "text": [
            "[[20 23 26 29]\n",
            " [56 68 80 92]]\n"
          ],
          "name": "stdout"
        },
        {
          "output_type": "execute_result",
          "data": {
            "text/plain": [
              "array([[20, 23, 26, 29],\n",
              "       [56, 68, 80, 92]])"
            ]
          },
          "metadata": {
            "tags": []
          },
          "execution_count": 6
        }
      ]
    },
    {
      "cell_type": "code",
      "metadata": {
        "colab": {
          "base_uri": "https://localhost:8080/"
        },
        "id": "yPuPA_wehSmK",
        "outputId": "16dedf0e-08ee-4f0c-d553-aa4c6f53f333"
      },
      "source": [
        "b"
      ],
      "execution_count": 7,
      "outputs": [
        {
          "output_type": "execute_result",
          "data": {
            "text/plain": [
              "array([[ 0,  1,  2,  3],\n",
              "       [ 4,  5,  6,  7],\n",
              "       [ 8,  9, 10, 11]])"
            ]
          },
          "metadata": {
            "tags": []
          },
          "execution_count": 7
        }
      ]
    },
    {
      "cell_type": "code",
      "metadata": {
        "colab": {
          "base_uri": "https://localhost:8080/"
        },
        "id": "oyNRxCROiMqm",
        "outputId": "a69fa510-e031-4e16-b69d-374119d518b6"
      },
      "source": [
        "np.transpose(b) #트랜스포즈"
      ],
      "execution_count": 8,
      "outputs": [
        {
          "output_type": "execute_result",
          "data": {
            "text/plain": [
              "array([[ 0,  4,  8],\n",
              "       [ 1,  5,  9],\n",
              "       [ 2,  6, 10],\n",
              "       [ 3,  7, 11]])"
            ]
          },
          "metadata": {
            "tags": []
          },
          "execution_count": 8
        }
      ]
    },
    {
      "cell_type": "code",
      "metadata": {
        "colab": {
          "base_uri": "https://localhost:8080/"
        },
        "id": "enLgF1j6iTYo",
        "outputId": "ff09d450-c772-43b0-d105-10383692e6dc"
      },
      "source": [
        "b.T\n",
        "#같은거. 트랜스포즈"
      ],
      "execution_count": 9,
      "outputs": [
        {
          "output_type": "execute_result",
          "data": {
            "text/plain": [
              "array([[ 0,  4,  8],\n",
              "       [ 1,  5,  9],\n",
              "       [ 2,  6, 10],\n",
              "       [ 3,  7, 11]])"
            ]
          },
          "metadata": {
            "tags": []
          },
          "execution_count": 9
        }
      ]
    },
    {
      "cell_type": "code",
      "metadata": {
        "colab": {
          "base_uri": "https://localhost:8080/"
        },
        "id": "ACjhT-zXicfb",
        "outputId": "45366ef2-102f-4868-ec05-2891738f0410"
      },
      "source": [
        "b[1, 2]\n",
        "#1번 로우 2번컬럼럼"
      ],
      "execution_count": 10,
      "outputs": [
        {
          "output_type": "execute_result",
          "data": {
            "text/plain": [
              "6"
            ]
          },
          "metadata": {
            "tags": []
          },
          "execution_count": 10
        }
      ]
    },
    {
      "cell_type": "code",
      "metadata": {
        "id": "vF7TahoZihmb"
      },
      "source": [
        "b[:, 3]\n",
        "#3번컬럼럼"
      ],
      "execution_count": null,
      "outputs": []
    },
    {
      "cell_type": "code",
      "metadata": {
        "colab": {
          "base_uri": "https://localhost:8080/"
        },
        "id": "TPoRL--ii6Zq",
        "outputId": "c53ac7d7-90d3-4aea-f3fb-1c9b6174771a"
      },
      "source": [
        "b[1, :]\n",
        "#1번로우"
      ],
      "execution_count": 11,
      "outputs": [
        {
          "output_type": "execute_result",
          "data": {
            "text/plain": [
              "array([4, 5, 6, 7])"
            ]
          },
          "metadata": {
            "tags": []
          },
          "execution_count": 11
        }
      ]
    },
    {
      "cell_type": "code",
      "metadata": {
        "colab": {
          "base_uri": "https://localhost:8080/"
        },
        "id": "01GZpU2ui9Xm",
        "outputId": "6652db08-d430-4d02-f181-741933b7972a"
      },
      "source": [
        "b[1:3, 1:3]\n",
        "#1번로우-2번로우 / 1번컬럼 2번컬럼"
      ],
      "execution_count": 13,
      "outputs": [
        {
          "output_type": "execute_result",
          "data": {
            "text/plain": [
              "array([[ 5,  6],\n",
              "       [ 9, 10]])"
            ]
          },
          "metadata": {
            "tags": []
          },
          "execution_count": 13
        }
      ]
    },
    {
      "cell_type": "markdown",
      "metadata": {
        "id": "wEKN5nzzpF4Z"
      },
      "source": [
        "#pandas\n",
        "파이썬에서 사용하는 데이터 분석과 조작에 강하고 유연한 도구구"
      ]
    },
    {
      "cell_type": "code",
      "metadata": {
        "id": "82E6zN6XjNct"
      },
      "source": [
        "import pandas as pd\n",
        "#path = 'data/california_housing_train.csv' \n",
        "#코랩만을 위한것?\n",
        "path = '/content/sample_data/california_housing_train.csv' "
      ],
      "execution_count": 21,
      "outputs": []
    },
    {
      "cell_type": "code",
      "metadata": {
        "colab": {
          "base_uri": "https://localhost:8080/"
        },
        "id": "fMZpmITTj6nn",
        "outputId": "23ab1a0f-6309-4587-8207-7890980436d3"
      },
      "source": [
        "df_train = pd.read_csv(path)\n",
        "type(df_train)"
      ],
      "execution_count": 22,
      "outputs": [
        {
          "output_type": "execute_result",
          "data": {
            "text/plain": [
              "pandas.core.frame.DataFrame"
            ]
          },
          "metadata": {
            "tags": []
          },
          "execution_count": 22
        }
      ]
    },
    {
      "cell_type": "code",
      "metadata": {
        "colab": {
          "base_uri": "https://localhost:8080/",
          "height": 402
        },
        "id": "w7pGrA2nkGYT",
        "outputId": "322abfa9-cf8c-4368-815a-1bf2070b2495"
      },
      "source": [
        "df_train"
      ],
      "execution_count": 23,
      "outputs": [
        {
          "output_type": "execute_result",
          "data": {
            "text/html": [
              "<div>\n",
              "<style scoped>\n",
              "    .dataframe tbody tr th:only-of-type {\n",
              "        vertical-align: middle;\n",
              "    }\n",
              "\n",
              "    .dataframe tbody tr th {\n",
              "        vertical-align: top;\n",
              "    }\n",
              "\n",
              "    .dataframe thead th {\n",
              "        text-align: right;\n",
              "    }\n",
              "</style>\n",
              "<table border=\"1\" class=\"dataframe\">\n",
              "  <thead>\n",
              "    <tr style=\"text-align: right;\">\n",
              "      <th></th>\n",
              "      <th>longitude</th>\n",
              "      <th>latitude</th>\n",
              "      <th>housing_median_age</th>\n",
              "      <th>total_rooms</th>\n",
              "      <th>total_bedrooms</th>\n",
              "      <th>population</th>\n",
              "      <th>households</th>\n",
              "      <th>median_income</th>\n",
              "      <th>median_house_value</th>\n",
              "    </tr>\n",
              "  </thead>\n",
              "  <tbody>\n",
              "    <tr>\n",
              "      <th>0</th>\n",
              "      <td>-114.31</td>\n",
              "      <td>34.19</td>\n",
              "      <td>15.0</td>\n",
              "      <td>5612.0</td>\n",
              "      <td>1283.0</td>\n",
              "      <td>1015.0</td>\n",
              "      <td>472.0</td>\n",
              "      <td>1.4936</td>\n",
              "      <td>66900.0</td>\n",
              "    </tr>\n",
              "    <tr>\n",
              "      <th>1</th>\n",
              "      <td>-114.47</td>\n",
              "      <td>34.40</td>\n",
              "      <td>19.0</td>\n",
              "      <td>7650.0</td>\n",
              "      <td>1901.0</td>\n",
              "      <td>1129.0</td>\n",
              "      <td>463.0</td>\n",
              "      <td>1.8200</td>\n",
              "      <td>80100.0</td>\n",
              "    </tr>\n",
              "    <tr>\n",
              "      <th>2</th>\n",
              "      <td>-114.56</td>\n",
              "      <td>33.69</td>\n",
              "      <td>17.0</td>\n",
              "      <td>720.0</td>\n",
              "      <td>174.0</td>\n",
              "      <td>333.0</td>\n",
              "      <td>117.0</td>\n",
              "      <td>1.6509</td>\n",
              "      <td>85700.0</td>\n",
              "    </tr>\n",
              "    <tr>\n",
              "      <th>3</th>\n",
              "      <td>-114.57</td>\n",
              "      <td>33.64</td>\n",
              "      <td>14.0</td>\n",
              "      <td>1501.0</td>\n",
              "      <td>337.0</td>\n",
              "      <td>515.0</td>\n",
              "      <td>226.0</td>\n",
              "      <td>3.1917</td>\n",
              "      <td>73400.0</td>\n",
              "    </tr>\n",
              "    <tr>\n",
              "      <th>4</th>\n",
              "      <td>-114.57</td>\n",
              "      <td>33.57</td>\n",
              "      <td>20.0</td>\n",
              "      <td>1454.0</td>\n",
              "      <td>326.0</td>\n",
              "      <td>624.0</td>\n",
              "      <td>262.0</td>\n",
              "      <td>1.9250</td>\n",
              "      <td>65500.0</td>\n",
              "    </tr>\n",
              "    <tr>\n",
              "      <th>...</th>\n",
              "      <td>...</td>\n",
              "      <td>...</td>\n",
              "      <td>...</td>\n",
              "      <td>...</td>\n",
              "      <td>...</td>\n",
              "      <td>...</td>\n",
              "      <td>...</td>\n",
              "      <td>...</td>\n",
              "      <td>...</td>\n",
              "    </tr>\n",
              "    <tr>\n",
              "      <th>16995</th>\n",
              "      <td>-124.26</td>\n",
              "      <td>40.58</td>\n",
              "      <td>52.0</td>\n",
              "      <td>2217.0</td>\n",
              "      <td>394.0</td>\n",
              "      <td>907.0</td>\n",
              "      <td>369.0</td>\n",
              "      <td>2.3571</td>\n",
              "      <td>111400.0</td>\n",
              "    </tr>\n",
              "    <tr>\n",
              "      <th>16996</th>\n",
              "      <td>-124.27</td>\n",
              "      <td>40.69</td>\n",
              "      <td>36.0</td>\n",
              "      <td>2349.0</td>\n",
              "      <td>528.0</td>\n",
              "      <td>1194.0</td>\n",
              "      <td>465.0</td>\n",
              "      <td>2.5179</td>\n",
              "      <td>79000.0</td>\n",
              "    </tr>\n",
              "    <tr>\n",
              "      <th>16997</th>\n",
              "      <td>-124.30</td>\n",
              "      <td>41.84</td>\n",
              "      <td>17.0</td>\n",
              "      <td>2677.0</td>\n",
              "      <td>531.0</td>\n",
              "      <td>1244.0</td>\n",
              "      <td>456.0</td>\n",
              "      <td>3.0313</td>\n",
              "      <td>103600.0</td>\n",
              "    </tr>\n",
              "    <tr>\n",
              "      <th>16998</th>\n",
              "      <td>-124.30</td>\n",
              "      <td>41.80</td>\n",
              "      <td>19.0</td>\n",
              "      <td>2672.0</td>\n",
              "      <td>552.0</td>\n",
              "      <td>1298.0</td>\n",
              "      <td>478.0</td>\n",
              "      <td>1.9797</td>\n",
              "      <td>85800.0</td>\n",
              "    </tr>\n",
              "    <tr>\n",
              "      <th>16999</th>\n",
              "      <td>-124.35</td>\n",
              "      <td>40.54</td>\n",
              "      <td>52.0</td>\n",
              "      <td>1820.0</td>\n",
              "      <td>300.0</td>\n",
              "      <td>806.0</td>\n",
              "      <td>270.0</td>\n",
              "      <td>3.0147</td>\n",
              "      <td>94600.0</td>\n",
              "    </tr>\n",
              "  </tbody>\n",
              "</table>\n",
              "<p>17000 rows × 9 columns</p>\n",
              "</div>"
            ],
            "text/plain": [
              "       longitude  latitude  ...  median_income  median_house_value\n",
              "0        -114.31     34.19  ...         1.4936             66900.0\n",
              "1        -114.47     34.40  ...         1.8200             80100.0\n",
              "2        -114.56     33.69  ...         1.6509             85700.0\n",
              "3        -114.57     33.64  ...         3.1917             73400.0\n",
              "4        -114.57     33.57  ...         1.9250             65500.0\n",
              "...          ...       ...  ...            ...                 ...\n",
              "16995    -124.26     40.58  ...         2.3571            111400.0\n",
              "16996    -124.27     40.69  ...         2.5179             79000.0\n",
              "16997    -124.30     41.84  ...         3.0313            103600.0\n",
              "16998    -124.30     41.80  ...         1.9797             85800.0\n",
              "16999    -124.35     40.54  ...         3.0147             94600.0\n",
              "\n",
              "[17000 rows x 9 columns]"
            ]
          },
          "metadata": {
            "tags": []
          },
          "execution_count": 23
        }
      ]
    },
    {
      "cell_type": "code",
      "metadata": {
        "colab": {
          "base_uri": "https://localhost:8080/",
          "height": 284
        },
        "id": "J6iistVN6O2h",
        "outputId": "2b0865fa-4a1d-41e5-e049-cb55f5d9a902"
      },
      "source": [
        "df_train.describe()"
      ],
      "execution_count": null,
      "outputs": [
        {
          "output_type": "execute_result",
          "data": {
            "text/html": [
              "<div>\n",
              "<style scoped>\n",
              "    .dataframe tbody tr th:only-of-type {\n",
              "        vertical-align: middle;\n",
              "    }\n",
              "\n",
              "    .dataframe tbody tr th {\n",
              "        vertical-align: top;\n",
              "    }\n",
              "\n",
              "    .dataframe thead th {\n",
              "        text-align: right;\n",
              "    }\n",
              "</style>\n",
              "<table border=\"1\" class=\"dataframe\">\n",
              "  <thead>\n",
              "    <tr style=\"text-align: right;\">\n",
              "      <th></th>\n",
              "      <th>longitude</th>\n",
              "      <th>latitude</th>\n",
              "      <th>housing_median_age</th>\n",
              "      <th>total_rooms</th>\n",
              "      <th>total_bedrooms</th>\n",
              "      <th>population</th>\n",
              "      <th>households</th>\n",
              "      <th>median_income</th>\n",
              "      <th>median_house_value</th>\n",
              "    </tr>\n",
              "  </thead>\n",
              "  <tbody>\n",
              "    <tr>\n",
              "      <th>count</th>\n",
              "      <td>17000.000000</td>\n",
              "      <td>17000.000000</td>\n",
              "      <td>17000.000000</td>\n",
              "      <td>17000.000000</td>\n",
              "      <td>17000.000000</td>\n",
              "      <td>17000.000000</td>\n",
              "      <td>17000.000000</td>\n",
              "      <td>17000.000000</td>\n",
              "      <td>17000.000000</td>\n",
              "    </tr>\n",
              "    <tr>\n",
              "      <th>mean</th>\n",
              "      <td>-119.562108</td>\n",
              "      <td>35.625225</td>\n",
              "      <td>28.589353</td>\n",
              "      <td>2643.664412</td>\n",
              "      <td>539.410824</td>\n",
              "      <td>1429.573941</td>\n",
              "      <td>501.221941</td>\n",
              "      <td>3.883578</td>\n",
              "      <td>207300.912353</td>\n",
              "    </tr>\n",
              "    <tr>\n",
              "      <th>std</th>\n",
              "      <td>2.005166</td>\n",
              "      <td>2.137340</td>\n",
              "      <td>12.586937</td>\n",
              "      <td>2179.947071</td>\n",
              "      <td>421.499452</td>\n",
              "      <td>1147.852959</td>\n",
              "      <td>384.520841</td>\n",
              "      <td>1.908157</td>\n",
              "      <td>115983.764387</td>\n",
              "    </tr>\n",
              "    <tr>\n",
              "      <th>min</th>\n",
              "      <td>-124.350000</td>\n",
              "      <td>32.540000</td>\n",
              "      <td>1.000000</td>\n",
              "      <td>2.000000</td>\n",
              "      <td>1.000000</td>\n",
              "      <td>3.000000</td>\n",
              "      <td>1.000000</td>\n",
              "      <td>0.499900</td>\n",
              "      <td>14999.000000</td>\n",
              "    </tr>\n",
              "    <tr>\n",
              "      <th>25%</th>\n",
              "      <td>-121.790000</td>\n",
              "      <td>33.930000</td>\n",
              "      <td>18.000000</td>\n",
              "      <td>1462.000000</td>\n",
              "      <td>297.000000</td>\n",
              "      <td>790.000000</td>\n",
              "      <td>282.000000</td>\n",
              "      <td>2.566375</td>\n",
              "      <td>119400.000000</td>\n",
              "    </tr>\n",
              "    <tr>\n",
              "      <th>50%</th>\n",
              "      <td>-118.490000</td>\n",
              "      <td>34.250000</td>\n",
              "      <td>29.000000</td>\n",
              "      <td>2127.000000</td>\n",
              "      <td>434.000000</td>\n",
              "      <td>1167.000000</td>\n",
              "      <td>409.000000</td>\n",
              "      <td>3.544600</td>\n",
              "      <td>180400.000000</td>\n",
              "    </tr>\n",
              "    <tr>\n",
              "      <th>75%</th>\n",
              "      <td>-118.000000</td>\n",
              "      <td>37.720000</td>\n",
              "      <td>37.000000</td>\n",
              "      <td>3151.250000</td>\n",
              "      <td>648.250000</td>\n",
              "      <td>1721.000000</td>\n",
              "      <td>605.250000</td>\n",
              "      <td>4.767000</td>\n",
              "      <td>265000.000000</td>\n",
              "    </tr>\n",
              "    <tr>\n",
              "      <th>max</th>\n",
              "      <td>-114.310000</td>\n",
              "      <td>41.950000</td>\n",
              "      <td>52.000000</td>\n",
              "      <td>37937.000000</td>\n",
              "      <td>6445.000000</td>\n",
              "      <td>35682.000000</td>\n",
              "      <td>6082.000000</td>\n",
              "      <td>15.000100</td>\n",
              "      <td>500001.000000</td>\n",
              "    </tr>\n",
              "  </tbody>\n",
              "</table>\n",
              "</div>"
            ],
            "text/plain": [
              "          longitude      latitude  ...  median_income  median_house_value\n",
              "count  17000.000000  17000.000000  ...   17000.000000        17000.000000\n",
              "mean    -119.562108     35.625225  ...       3.883578       207300.912353\n",
              "std        2.005166      2.137340  ...       1.908157       115983.764387\n",
              "min     -124.350000     32.540000  ...       0.499900        14999.000000\n",
              "25%     -121.790000     33.930000  ...       2.566375       119400.000000\n",
              "50%     -118.490000     34.250000  ...       3.544600       180400.000000\n",
              "75%     -118.000000     37.720000  ...       4.767000       265000.000000\n",
              "max     -114.310000     41.950000  ...      15.000100       500001.000000\n",
              "\n",
              "[8 rows x 9 columns]"
            ]
          },
          "metadata": {
            "tags": []
          },
          "execution_count": 45
        }
      ]
    },
    {
      "cell_type": "code",
      "metadata": {
        "id": "2Ru8mgOOkjeV"
      },
      "source": [
        "df_train.head()\n",
        "#데이터프레임은 2차원의 데이터구조이다, 컬럼마다 다른 타입의 데이터를 저장할 수 있다."
      ],
      "execution_count": null,
      "outputs": []
    },
    {
      "cell_type": "code",
      "metadata": {
        "colab": {
          "base_uri": "https://localhost:8080/"
        },
        "id": "P04-GjWTkvNK",
        "outputId": "4ce3c3a7-c47f-4149-97b9-3b7caeff8de7"
      },
      "source": [
        "type(df_train['median_income'])\n",
        "#데이터프레임의 각 컬럼은 시리즈(수학적으로 뭘까)이다."
      ],
      "execution_count": 25,
      "outputs": [
        {
          "output_type": "execute_result",
          "data": {
            "text/plain": [
              "pandas.core.series.Series"
            ]
          },
          "metadata": {
            "tags": []
          },
          "execution_count": 25
        }
      ]
    },
    {
      "cell_type": "code",
      "metadata": {
        "colab": {
          "base_uri": "https://localhost:8080/",
          "height": 195
        },
        "id": "sqUw7flal9DB",
        "outputId": "52c95ccf-8aba-4092-c21a-8d77bb5efe25"
      },
      "source": [
        "df_train_std = (df_train - df_train.mean()) / df_train.std()\n",
        "#정규화 - 평균을 0 으로\n",
        "df_train_std.head()"
      ],
      "execution_count": 30,
      "outputs": [
        {
          "output_type": "execute_result",
          "data": {
            "text/html": [
              "<div>\n",
              "<style scoped>\n",
              "    .dataframe tbody tr th:only-of-type {\n",
              "        vertical-align: middle;\n",
              "    }\n",
              "\n",
              "    .dataframe tbody tr th {\n",
              "        vertical-align: top;\n",
              "    }\n",
              "\n",
              "    .dataframe thead th {\n",
              "        text-align: right;\n",
              "    }\n",
              "</style>\n",
              "<table border=\"1\" class=\"dataframe\">\n",
              "  <thead>\n",
              "    <tr style=\"text-align: right;\">\n",
              "      <th></th>\n",
              "      <th>longitude</th>\n",
              "      <th>latitude</th>\n",
              "      <th>housing_median_age</th>\n",
              "      <th>total_rooms</th>\n",
              "      <th>total_bedrooms</th>\n",
              "      <th>population</th>\n",
              "      <th>households</th>\n",
              "      <th>median_income</th>\n",
              "      <th>median_house_value</th>\n",
              "    </tr>\n",
              "  </thead>\n",
              "  <tbody>\n",
              "    <tr>\n",
              "      <th>0</th>\n",
              "      <td>2.619288</td>\n",
              "      <td>-0.671500</td>\n",
              "      <td>-1.079639</td>\n",
              "      <td>1.361655</td>\n",
              "      <td>1.764152</td>\n",
              "      <td>-0.361173</td>\n",
              "      <td>-0.075996</td>\n",
              "      <td>-1.252506</td>\n",
              "      <td>-1.210522</td>\n",
              "    </tr>\n",
              "    <tr>\n",
              "      <th>1</th>\n",
              "      <td>2.539494</td>\n",
              "      <td>-0.573248</td>\n",
              "      <td>-0.761850</td>\n",
              "      <td>2.296540</td>\n",
              "      <td>3.230346</td>\n",
              "      <td>-0.261858</td>\n",
              "      <td>-0.099401</td>\n",
              "      <td>-1.081451</td>\n",
              "      <td>-1.096713</td>\n",
              "    </tr>\n",
              "    <tr>\n",
              "      <th>2</th>\n",
              "      <td>2.494610</td>\n",
              "      <td>-0.905436</td>\n",
              "      <td>-0.920744</td>\n",
              "      <td>-0.882436</td>\n",
              "      <td>-0.866931</td>\n",
              "      <td>-0.955326</td>\n",
              "      <td>-0.999223</td>\n",
              "      <td>-1.170071</td>\n",
              "      <td>-1.048430</td>\n",
              "    </tr>\n",
              "    <tr>\n",
              "      <th>3</th>\n",
              "      <td>2.489623</td>\n",
              "      <td>-0.928830</td>\n",
              "      <td>-1.159087</td>\n",
              "      <td>-0.524171</td>\n",
              "      <td>-0.480216</td>\n",
              "      <td>-0.796769</td>\n",
              "      <td>-0.715753</td>\n",
              "      <td>-0.362590</td>\n",
              "      <td>-1.154480</td>\n",
              "    </tr>\n",
              "    <tr>\n",
              "      <th>4</th>\n",
              "      <td>2.489623</td>\n",
              "      <td>-0.961581</td>\n",
              "      <td>-0.682402</td>\n",
              "      <td>-0.545731</td>\n",
              "      <td>-0.506313</td>\n",
              "      <td>-0.701809</td>\n",
              "      <td>-0.622130</td>\n",
              "      <td>-1.026424</td>\n",
              "      <td>-1.222593</td>\n",
              "    </tr>\n",
              "  </tbody>\n",
              "</table>\n",
              "</div>"
            ],
            "text/plain": [
              "   longitude  latitude  ...  median_income  median_house_value\n",
              "0   2.619288 -0.671500  ...      -1.252506           -1.210522\n",
              "1   2.539494 -0.573248  ...      -1.081451           -1.096713\n",
              "2   2.494610 -0.905436  ...      -1.170071           -1.048430\n",
              "3   2.489623 -0.928830  ...      -0.362590           -1.154480\n",
              "4   2.489623 -0.961581  ...      -1.026424           -1.222593\n",
              "\n",
              "[5 rows x 9 columns]"
            ]
          },
          "metadata": {
            "tags": []
          },
          "execution_count": 30
        }
      ]
    },
    {
      "cell_type": "code",
      "metadata": {
        "id": "y-gbDxqUmJ3A"
      },
      "source": [
        "#데이터 분리데이터 분리\n",
        "target = 'median_house_value'\n",
        "x_train = df_train_std.drop(target, axis=1).values\n",
        "#target의 컬럼을 뺀 나머지 \n",
        "#x트레인은 이월드에 있지\n",
        "y_train = df_train_std[target].values\n",
        "#target 컬럼"
      ],
      "execution_count": 32,
      "outputs": []
    },
    {
      "cell_type": "code",
      "metadata": {
        "colab": {
          "base_uri": "https://localhost:8080/"
        },
        "id": "4sx7N-CYmu59",
        "outputId": "7482ce33-930c-4ba1-b0b4-d88f6a3a6d00"
      },
      "source": [
        "print(type(x_train))\n",
        "print(type(y_train))"
      ],
      "execution_count": 33,
      "outputs": [
        {
          "output_type": "stream",
          "text": [
            "<class 'numpy.ndarray'>\n",
            "<class 'numpy.ndarray'>\n"
          ],
          "name": "stdout"
        }
      ]
    },
    {
      "cell_type": "code",
      "metadata": {
        "colab": {
          "base_uri": "https://localhost:8080/"
        },
        "id": "CGIayv0FoQbP",
        "outputId": "2c4ac53d-cabd-4c92-de5a-ae4ec34314f7"
      },
      "source": [
        "print(x_train.shape)\n",
        "print(y_train.shape)"
      ],
      "execution_count": 34,
      "outputs": [
        {
          "output_type": "stream",
          "text": [
            "(17000, 8)\n",
            "(17000,)\n"
          ],
          "name": "stdout"
        }
      ]
    },
    {
      "cell_type": "markdown",
      "metadata": {
        "id": "FJ85ru-9pXSi"
      },
      "source": [
        "#matplotlib\n",
        "매트랩과 유사한 점찍는 환경\n",
        "플랫폼을 넘나드는 상호작용적인환경?\n"
      ]
    },
    {
      "cell_type": "code",
      "metadata": {
        "colab": {
          "base_uri": "https://localhost:8080/",
          "height": 282
        },
        "id": "nY2R-CXGrmAb",
        "outputId": "6c06d47a-8905-4fcd-ca40-c1b133ef8130"
      },
      "source": [
        "import matplotlib.pyplot as plt\n",
        "df_train_head = df_train[:100]\n",
        "x = df_train_head['median_income']\n",
        "y = df_train_head['median_house_value']\n",
        "plt.plot(x, y)\n",
        "#각각의 점에 x축에 'median _income' 컬럼을, 각각의 점에 y축에 'median_house_value'\n",
        "#점찍고 점끼리 이어주는듯"
      ],
      "execution_count": 38,
      "outputs": [
        {
          "output_type": "execute_result",
          "data": {
            "text/plain": [
              "[<matplotlib.lines.Line2D at 0x7fc6a7dd3d50>]"
            ]
          },
          "metadata": {
            "tags": []
          },
          "execution_count": 38
        },
        {
          "output_type": "display_data",
          "data": {
            "image/png": "[encoded data removed]",
            "text/plain": [
              "<Figure size 432x288 with 1 Axes>"
            ]
          },
          "metadata": {
            "tags": [],
            "needs_background": "light"
          }
        }
      ]
    },
    {
      "cell_type": "code",
      "metadata": {
        "colab": {
          "base_uri": "https://localhost:8080/",
          "height": 282
        },
        "id": "F-Z5Tu6NsVt2",
        "outputId": "0c971a97-7b7f-40b4-b3c5-c2cb6e4b1063"
      },
      "source": [
        "plt.plot(x, y, 'ro') # 빨간원, o가 circle\n"
      ],
      "execution_count": 39,
      "outputs": [
        {
          "output_type": "execute_result",
          "data": {
            "text/plain": [
              "[<matplotlib.lines.Line2D at 0x7fc6a7904e10>]"
            ]
          },
          "metadata": {
            "tags": []
          },
          "execution_count": 39
        },
        {
          "output_type": "display_data",
          "data": {
            "image/png": "[encoded data removed]",
            "text/plain": [
              "<Figure size 432x288 with 1 Axes>"
            ]
          },
          "metadata": {
            "tags": [],
            "needs_background": "light"
          }
        }
      ]
    },
    {
      "cell_type": "code",
      "metadata": {
        "colab": {
          "base_uri": "https://localhost:8080/",
          "height": 282
        },
        "id": "A5x5MyZVsbmJ",
        "outputId": "b8838672-5e62-46b1-9923-cc46d5712be4"
      },
      "source": [
        "plt.plot(x, y, 'b.')\n",
        "# 파란점 .가 점\n",
        "#'ro', 'b' 음....."
      ],
      "execution_count": 43,
      "outputs": [
        {
          "output_type": "execute_result",
          "data": {
            "text/plain": [
              "[<matplotlib.lines.Line2D at 0x7fc6a76115d0>]"
            ]
          },
          "metadata": {
            "tags": []
          },
          "execution_count": 43
        },
        {
          "output_type": "display_data",
          "data": {
            "image/png": "[encoded data removed]",
            "text/plain": [
              "<Figure size 432x288 with 1 Axes>"
            ]
          },
          "metadata": {
            "tags": [],
            "needs_background": "light"
          }
        }
      ]
    },
    {
      "cell_type": "code",
      "metadata": {
        "colab": {
          "base_uri": "https://localhost:8080/",
          "height": 282
        },
        "id": "dyp2E-FLtCpZ",
        "outputId": "86d31ad4-6229-47ac-e8eb-8b02d17d3fef"
      },
      "source": [
        "plt.plot(x, y, 'k*') # 검정 별"
      ],
      "execution_count": 44,
      "outputs": [
        {
          "output_type": "execute_result",
          "data": {
            "text/plain": [
              "[<matplotlib.lines.Line2D at 0x7fc6a75ccd10>]"
            ]
          },
          "metadata": {
            "tags": []
          },
          "execution_count": 44
        },
        {
          "output_type": "display_data",
          "data": {
            "image/png": "[encoded data removed]",
            "text/plain": [
              "<Figure size 432x288 with 1 Axes>"
            ]
          },
          "metadata": {
            "tags": [],
            "needs_background": "light"
          }
        }
      ]
    },
    {
      "cell_type": "code",
      "metadata": {
        "colab": {
          "base_uri": "https://localhost:8080/",
          "height": 282
        },
        "id": "mDmJs0U0taLS",
        "outputId": "95c0440d-953a-4d56-846e-259bef4d83eb"
      },
      "source": [
        "plt.plot(x, y, 'g-') # 녹색 선"
      ],
      "execution_count": 46,
      "outputs": [
        {
          "output_type": "execute_result",
          "data": {
            "text/plain": [
              "[<matplotlib.lines.Line2D at 0x7fc6a7544fd0>]"
            ]
          },
          "metadata": {
            "tags": []
          },
          "execution_count": 46
        },
        {
          "output_type": "display_data",
          "data": {
            "image/png": "[encoded data removed]",
            "text/plain": [
              "<Figure size 432x288 with 1 Axes>"
            ]
          },
          "metadata": {
            "tags": [],
            "needs_background": "light"
          }
        }
      ]
    },
    {
      "cell_type": "code",
      "metadata": {
        "colab": {
          "base_uri": "https://localhost:8080/",
          "height": 295
        },
        "id": "5aFO_aYEtik-",
        "outputId": "36758691-bf18-4e09-ac34-194148dc12ed"
      },
      "source": [
        "plt.plot(x, y, 'y^') # 노란색 삼각형 '^'\n",
        "plt.xlabel('median income') #x축에 라벨붙이기\n",
        "plt.ylabel('median house value') #y축에 라벨붙이기\n",
        "plt.title('Plot of data') #제목 붙이기\n",
        "\n",
        "plt.show()"
      ],
      "execution_count": 48,
      "outputs": [
        {
          "output_type": "display_data",
          "data": {
            "image/png": "[encoded data removed]",
            "text/plain": [
              "<Figure size 432x288 with 1 Axes>"
            ]
          },
          "metadata": {
            "tags": [],
            "needs_background": "light"
          }
        }
      ]
    }
  ]
}
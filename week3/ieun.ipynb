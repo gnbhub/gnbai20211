{
  "nbformat": 4,
  "nbformat_minor": 0,
  "metadata": {
    "colab": {
      "name": "Untitled0.ipynb",
      "provenance": [],
      "collapsed_sections": [],
      "authorship_tag": "ABX9TyOQnBKtH7drBmK0e48/CM5Z",
      "include_colab_link": true
    },
    "kernelspec": {
      "name": "python3",
      "display_name": "Python 3"
    },
    "language_info": {
      "name": "python"
    }
  },
  "cells": [
    {
      "cell_type": "markdown",
      "metadata": {
        "id": "view-in-github",
        "colab_type": "text"
      },
      "source": [
        "<a href=\"https://colab.research.google.com/github/gnbhub/gnbai20211/blob/master/week3/ieun.ipynb\" target=\"_parent\"><img src=\"https://colab.research.google.com/assets/colab-badge.svg\" alt=\"Open In Colab\"/></a>"
      ]
    },
    {
      "cell_type": "code",
      "metadata": {
        "id": "z-AdtlV0fwvE"
      },
      "source": [
        "class Car:\n",
        "  def __init__(self, max_speed, num_person):\n",
        "    self.max_speed=max_speed\n",
        "    self.num_person=num_person\n",
        "\n",
        "    self.is_engine_on=False\n",
        "    self.current_speed=0\n",
        "\n",
        "  def engine_on(self):\n",
        "    self.is_engine_on=True\n",
        "  \n",
        "  def engine_off(self):\n",
        "    self.is_engine_on=False\n",
        "    self.current_speed=0\n",
        "\n",
        "  def accelerate(self, speed):\n",
        "    self.current_speed += speed\n",
        "    if self.current_speed > self.max_speed:\n",
        "      self.current_speed = self.max_speed\n",
        "    elif self.current_speed < 0:\n",
        "      self.current_speed = 0\n",
        "\n",
        "\n"
      ],
      "execution_count": 12,
      "outputs": []
    },
    {
      "cell_type": "code",
      "metadata": {
        "colab": {
          "base_uri": "https://localhost:8080/"
        },
        "id": "6DVVTo2CjIhD",
        "outputId": "4bc89c76-3a12-482d-f6b2-d6d937da3760"
      },
      "source": [
        "car1=Car(80,4)\n",
        "\n",
        "car1.accelerate(50)\n",
        "print(car1.current_speed)\n",
        "\n",
        "car1.accelerate(50)\n",
        "print(car1.current_speed)\n",
        "\n",
        "car1.accelerate(-110)\n",
        "print(car1.current_speed)\n",
        "\n",
        "print(car1.max_speed)\n",
        "\n"
      ],
      "execution_count": 13,
      "outputs": [
        {
          "output_type": "stream",
          "text": [
            "50\n",
            "80\n",
            "0\n",
            "80\n"
          ],
          "name": "stdout"
        }
      ]
    },
    {
      "cell_type": "code",
      "metadata": {
        "colab": {
          "base_uri": "https://localhost:8080/"
        },
        "id": "7iFVxHyhjR04",
        "outputId": "48da3613-c870-4eaa-a3aa-0cc7b055590b"
      },
      "source": [
        "car1.current_speed"
      ],
      "execution_count": 5,
      "outputs": [
        {
          "output_type": "execute_result",
          "data": {
            "text/plain": [
              "0"
            ]
          },
          "metadata": {
            "tags": []
          },
          "execution_count": 5
        }
      ]
    },
    {
      "cell_type": "code",
      "metadata": {
        "id": "SaBORaMLnMyM"
      },
      "source": [
        "class SuperCar(Car):\n",
        "  def __init__(self, max_speed, num_person, brand):\n",
        "    super().__init__(max_speed,num_person)\n",
        "    self.brand=brand\n",
        "    "
      ],
      "execution_count": 14,
      "outputs": []
    },
    {
      "cell_type": "code",
      "metadata": {
        "id": "--9e-Oc_nsop"
      },
      "source": [
        "super_car1=SuperCar(300,2,'audi')"
      ],
      "execution_count": 15,
      "outputs": []
    },
    {
      "cell_type": "code",
      "metadata": {
        "colab": {
          "base_uri": "https://localhost:8080/",
          "height": 55
        },
        "id": "nvny6mAQlRnI",
        "outputId": "b351e9d5-f192-430c-d309-6637dac6d64a"
      },
      "source": [
        "super_car1.accelerate(50)\n",
        "print(super_car1.current_speed)\n",
        "\n",
        "super_car1.brand"
      ],
      "execution_count": 16,
      "outputs": [
        {
          "output_type": "stream",
          "text": [
            "50\n"
          ],
          "name": "stdout"
        },
        {
          "output_type": "execute_result",
          "data": {
            "application/vnd.google.colaboratory.intrinsic+json": {
              "type": "string"
            },
            "text/plain": [
              "'audi'"
            ]
          },
          "metadata": {
            "tags": []
          },
          "execution_count": 16
        }
      ]
    },
    {
      "cell_type": "code",
      "metadata": {
        "colab": {
          "base_uri": "https://localhost:8080/"
        },
        "id": "Dxy8fa3Xwgp5",
        "outputId": "0671e81a-f01b-42db-dce8-cc4aee28685e"
      },
      "source": [
        "import numpy as np\n",
        "\n",
        "a=np.array([[1,2,3],[4,5,6]])\n",
        "\n",
        "print(f'type(a) {type(a)}')\n",
        "print(f'a.ndim {a.ndim}')\n",
        "print(f'a.shape {a.shape}')"
      ],
      "execution_count": 18,
      "outputs": [
        {
          "output_type": "stream",
          "text": [
            "type(a) <class 'numpy.ndarray'>\n",
            "a.ndim 2\n",
            "a.shape (2, 3)\n"
          ],
          "name": "stdout"
        }
      ]
    },
    {
      "cell_type": "code",
      "metadata": {
        "id": "olXlfNwYo7xx"
      },
      "source": [
        ""
      ],
      "execution_count": null,
      "outputs": []
    }
  ]
}
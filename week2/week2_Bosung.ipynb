{
  "nbformat": 4,
  "nbformat_minor": 0,
  "metadata": {
    "colab": {
      "name": "week2-Bosung.ipynb",
      "provenance": [],
      "collapsed_sections": [],
      "toc_visible": true,
      "authorship_tag": "ABX9TyNuRO+aM0fIXe6mpARy6Y5p",
      "include_colab_link": true
    },
    "kernelspec": {
      "name": "python3",
      "display_name": "Python 3"
    },
    "language_info": {
      "name": "python"
    }
  },
  "cells": [
    {
      "cell_type": "markdown",
      "metadata": {
        "id": "view-in-github",
        "colab_type": "text"
      },
      "source": [
        "<a href=\"https://colab.research.google.com/github/gnbhub/gnbai20211/blob/master/week2/week2_Bosung.ipynb\" target=\"_parent\"><img src=\"https://colab.research.google.com/assets/colab-badge.svg\" alt=\"Open In Colab\"/></a>"
      ]
    },
    {
      "cell_type": "markdown",
      "metadata": {
        "id": "23gX3MNbdy5n"
      },
      "source": [
        "# week 2"
      ]
    },
    {
      "cell_type": "markdown",
      "metadata": {
        "id": "h_ZLAxzTuUdV"
      },
      "source": [
        "# 1. basic function in Python"
      ]
    },
    {
      "cell_type": "markdown",
      "metadata": {
        "id": "97ecwQffd_Yu"
      },
      "source": [
        "## 1-1. Boolean Operation"
      ]
    },
    {
      "cell_type": "code",
      "metadata": {
        "colab": {
          "base_uri": "https://localhost:8080/"
        },
        "id": "iGXEk24I45uz",
        "outputId": "79522bc0-690a-4033-917b-72cddea9e1af"
      },
      "source": [
        "# 3.14:True, 0:False\n",
        "x, y = 3.14, 0\n",
        "\n",
        "print(f'x or y : {x or y}') # or is x || y\n",
        "print(f'x and y : {x and y}') # and is x && y\n",
        "print(f'not x : {not x}') # not is !x in C"
      ],
      "execution_count": null,
      "outputs": [
        {
          "output_type": "stream",
          "text": [
            "x or y : 3.14\n",
            "x and y : 0\n",
            "not x : False\n"
          ],
          "name": "stdout"
        }
      ]
    },
    {
      "cell_type": "markdown",
      "metadata": {
        "id": "JQwGV3eBeX_D"
      },
      "source": [
        "## 1-2 Comparison"
      ]
    },
    {
      "cell_type": "code",
      "metadata": {
        "colab": {
          "base_uri": "https://localhost:8080/"
        },
        "id": "P7u50evLeWDH",
        "outputId": "5b094265-480d-4aab-ae7b-54e24a5e3ef0"
      },
      "source": [
        "a = [1, 2, 3] # list\n",
        "b = a # shallow copy\n",
        "# 새로운 리스트 아닌 기존 리스트를 가리키는 포인터\n",
        "print(f'a == b : {a == b}') # equality of value(값의 비교)\n",
        "print(f'a is b : {a is b}') # identity of object(같은 객체임을 비교)"
      ],
      "execution_count": null,
      "outputs": [
        {
          "output_type": "stream",
          "text": [
            "a == b : True\n",
            "a is b : True\n"
          ],
          "name": "stdout"
        }
      ]
    },
    {
      "cell_type": "code",
      "metadata": {
        "colab": {
          "base_uri": "https://localhost:8080/"
        },
        "id": "bPIJV2nmeedu",
        "outputId": "bc1a49f4-95eb-4a99-9c28-4970a9bc6241"
      },
      "source": [
        "c = list(a) # deep copy\n",
        "# 새로운 리스트 만들기(다른 객체)\n",
        "print(f'a == c : {a == c}') # equality of value\n",
        "print(f'a is c : {a is c}') # identity of object"
      ],
      "execution_count": null,
      "outputs": [
        {
          "output_type": "stream",
          "text": [
            "a == c : True\n",
            "a is c : False\n"
          ],
          "name": "stdout"
        }
      ]
    },
    {
      "cell_type": "markdown",
      "metadata": {
        "id": "hXdzT8MdfXgv"
      },
      "source": [
        "## 1-3. Set"
      ]
    },
    {
      "cell_type": "code",
      "metadata": {
        "colab": {
          "base_uri": "https://localhost:8080/"
        },
        "id": "w-F1GjdwfWnO",
        "outputId": "ff890b15-5d01-43ce-be58-6b812a6904fa"
      },
      "source": [
        "# using set removes duplicates\n",
        "fruits = {'apple', 'orange', 'apple', 'pear', 'orange', 'banana'} # set은 각자 저장하므로 찾을 때 빠르다.(집합개념)\n",
        "print(f'fruits : {fruits}')\n",
        "\n",
        "# fast membership testing\n",
        "print(f\"'orange' in fruits : {'orange' in fruits}\")\n",
        "print(f\"'grape' not in fruits : {'grape' not in fruits}\")"
      ],
      "execution_count": null,
      "outputs": [
        {
          "output_type": "stream",
          "text": [
            "fruits : {'orange', 'pear', 'banana', 'apple'}\n",
            "'orange' in fruits : True\n",
            "'grape' not in fruits : True\n"
          ],
          "name": "stdout"
        }
      ]
    },
    {
      "cell_type": "code",
      "metadata": {
        "colab": {
          "base_uri": "https://localhost:8080/"
        },
        "id": "JmuCWbDwfeXP",
        "outputId": "5d0c2947-3534-46f4-a3e2-36a0c15238dc"
      },
      "source": [
        "a = set('abracadabra')       # {'a', 'b', 'c', 'd', 'r'} 중복 삭제\n",
        "b = set('alacazam')          # {'a', 'c', 'l', 'm', 'z'}\n",
        "\n",
        "print(f'a | b : {a | b}')    # Union\n",
        "print(f'a & b : {a & b}')    # Intersection\n",
        "print(f'a - b : {a - b}')    # Difference\n",
        "print(f'a ^ b : {a ^ b}')    # Symmetric difference 대칭차집합."
      ],
      "execution_count": null,
      "outputs": [
        {
          "output_type": "stream",
          "text": [
            "a | b : {'a', 'c', 'z', 'm', 'b', 'd', 'r', 'l'}\n",
            "a & b : {'a', 'c'}\n",
            "a - b : {'b', 'd', 'r'}\n",
            "a ^ b : {'m', 'r', 'b', 'd', 'z', 'l'}\n"
          ],
          "name": "stdout"
        }
      ]
    },
    {
      "cell_type": "markdown",
      "metadata": {
        "id": "khpFUfR8f024"
      },
      "source": [
        "## 1-4. Dictionary"
      ]
    },
    {
      "cell_type": "code",
      "metadata": {
        "colab": {
          "base_uri": "https://localhost:8080/"
        },
        "id": "2tVfLVLahsPZ",
        "outputId": "418c2b78-7a77-419a-bba6-7a247833aa01"
      },
      "source": [
        "x = {}\n",
        "type(x)\n",
        "# empty {} is dictionary"
      ],
      "execution_count": null,
      "outputs": [
        {
          "output_type": "execute_result",
          "data": {
            "text/plain": [
              "dict"
            ]
          },
          "metadata": {
            "tags": []
          },
          "execution_count": 14
        }
      ]
    },
    {
      "cell_type": "code",
      "metadata": {
        "colab": {
          "base_uri": "https://localhost:8080/"
        },
        "id": "GuCHiLjQfzxk",
        "outputId": "1a0e5a35-81ad-4b80-ea66-4bc15f4d7cce"
      },
      "source": [
        "# create dictionary with {key:value, ...}\n",
        "scores = {'calculus':90, 'physics':70} # key is 'calculus' and 'physics'\n",
        "print(scores)\n",
        "\n",
        "# create dictionary with sequences of key-value pair\n",
        "scores = dict([('calculus', 90), ('physics', 70)]) # tuples in the list\n",
        "print(scores)\n",
        "\n",
        "# create dictionary with keyword arguments\n",
        "scores = dict(calculus=90, physics=70)#문자열일때 ''필요 없음.\n",
        "print(scores)\n",
        "\n",
        "#나열만 하면 set, 나열한 뒤 key : value 형식이면 dictionary"
      ],
      "execution_count": null,
      "outputs": [
        {
          "output_type": "stream",
          "text": [
            "{'calculus': 90, 'physics': 70}\n",
            "{'calculus': 90, 'physics': 70}\n",
            "{'calculus': 90, 'physics': 70}\n"
          ],
          "name": "stdout"
        }
      ]
    },
    {
      "cell_type": "code",
      "metadata": {
        "colab": {
          "base_uri": "https://localhost:8080/"
        },
        "id": "99Fz3R3mf8E3",
        "outputId": "8121d2c0-b417-44a8-8550-8ed02f99c5a2"
      },
      "source": [
        "# add item 'chemistry':80\n",
        "scores['chemistry'] = 80\n",
        "print(scores)\n",
        "\n",
        "# delete item 'calculus':90\n",
        "del scores['calculus'] #del 연산자.\n",
        "print(scores)"
      ],
      "execution_count": null,
      "outputs": [
        {
          "output_type": "stream",
          "text": [
            "{'calculus': 90, 'physics': 70, 'chemistry': 80}\n",
            "{'physics': 70, 'chemistry': 80}\n"
          ],
          "name": "stdout"
        }
      ]
    },
    {
      "cell_type": "markdown",
      "metadata": {
        "id": "DRc4Cjg4h0ec"
      },
      "source": [
        "## 1-5 List Comprehensions"
      ]
    },
    {
      "cell_type": "markdown",
      "metadata": {
        "id": "Qdjc7kFMijFg"
      },
      "source": [
        "### ex1.values square"
      ]
    },
    {
      "cell_type": "code",
      "metadata": {
        "colab": {
          "base_uri": "https://localhost:8080/"
        },
        "id": "2T1E_ox8h0NL",
        "outputId": "61513f7d-a453-4ddb-e7b6-7788c62b8c11"
      },
      "source": [
        "nums = [1, 4, 1, 4, 2, 1, 3, 5, 6, 2]\n",
        "\n",
        "squares = [] # create new empty list\n",
        "for x in nums:\n",
        "    squares.append(x ** 2)\n",
        "\n",
        "print(squares)"
      ],
      "execution_count": null,
      "outputs": [
        {
          "output_type": "stream",
          "text": [
            "[1, 16, 1, 16, 4, 1, 9, 25, 36, 4]\n"
          ],
          "name": "stdout"
        }
      ]
    },
    {
      "cell_type": "code",
      "metadata": {
        "colab": {
          "base_uri": "https://localhost:8080/"
        },
        "id": "x-sBAq3Egshx",
        "outputId": "48fd4b75-5b7e-4e85-bf65-5fb6e373b257"
      },
      "source": [
        "# we can use filter() function, but it's hard to read\n",
        "evens = list(filter(lambda x: x%2==0, nums))\n",
        "print(evens)"
      ],
      "execution_count": null,
      "outputs": [
        {
          "output_type": "stream",
          "text": [
            "[4, 4, 2, 6, 2]\n"
          ],
          "name": "stdout"
        }
      ]
    },
    {
      "cell_type": "code",
      "metadata": {
        "colab": {
          "base_uri": "https://localhost:8080/"
        },
        "id": "zosYKvIZiHYy",
        "outputId": "5745e347-1d2b-405e-da1a-e69cc4b12e07"
      },
      "source": [
        "# equivalent code with list comprehension\n",
        "squares = [x ** 2 for x in nums]\n",
        "print(squares)"
      ],
      "execution_count": null,
      "outputs": [
        {
          "output_type": "stream",
          "text": [
            "[1, 16, 1, 16, 4, 1, 9, 25, 36, 4]\n"
          ],
          "name": "stdout"
        }
      ]
    },
    {
      "cell_type": "markdown",
      "metadata": {
        "id": "B2_iyYe8ifRZ"
      },
      "source": [
        "### ex2. value even"
      ]
    },
    {
      "cell_type": "code",
      "metadata": {
        "colab": {
          "base_uri": "https://localhost:8080/"
        },
        "id": "wxSSegKUieiV",
        "outputId": "d58dcfb5-6cba-42a3-9695-2b23f7688328"
      },
      "source": [
        "nums = [1, 4, 1, 4, 2, 1, 3, 5, 6, 2]\n",
        "\n",
        "evens = []\n",
        "for x in nums:\n",
        "    if x % 2 == 0:\n",
        "        evens.append(x)\n",
        "\n",
        "print(evens)"
      ],
      "execution_count": null,
      "outputs": [
        {
          "output_type": "stream",
          "text": [
            "[4, 4, 2, 6, 2]\n"
          ],
          "name": "stdout"
        }
      ]
    },
    {
      "cell_type": "code",
      "metadata": {
        "colab": {
          "base_uri": "https://localhost:8080/"
        },
        "id": "1EIGqBiAiuQz",
        "outputId": "fd25f67d-5c4b-46cd-fd50-711b8cc47826"
      },
      "source": [
        "# we can use filter() function, but it's hard to read\n",
        "evens = list(filter(lambda x: x%2==0, nums))\n",
        "print(evens)"
      ],
      "execution_count": null,
      "outputs": [
        {
          "output_type": "stream",
          "text": [
            "[4, 4, 2, 6, 2]\n"
          ],
          "name": "stdout"
        }
      ]
    },
    {
      "cell_type": "code",
      "metadata": {
        "colab": {
          "base_uri": "https://localhost:8080/"
        },
        "id": "B8GgLNnQiw6p",
        "outputId": "e0cf8aba-66ee-40a0-92ea-349ab0c0d0df"
      },
      "source": [
        "# equivalent code with list comprehension\n",
        "squares = [x for x in nums if x % 2 == 0]\n",
        "print(squares)\n",
        "a = list(squares)\n",
        "a = tuple(x for x in nums if x % 2 == 0)\n",
        "print(a)"
      ],
      "execution_count": null,
      "outputs": [
        {
          "output_type": "stream",
          "text": [
            "[4, 4, 2, 6, 2]\n",
            "(4, 4, 2, 6, 2)\n"
          ],
          "name": "stdout"
        }
      ]
    },
    {
      "cell_type": "markdown",
      "metadata": {
        "id": "MZkO1rTLjFRe"
      },
      "source": [
        "## 1-6. Function"
      ]
    },
    {
      "cell_type": "code",
      "metadata": {
        "id": "A2a8AO6djDuP"
      },
      "source": [
        "def say_hello_world():\n",
        "    print('Hello world!')\n",
        "\n",
        "def say_hello_to(name):\n",
        "    print(f'Hello {name}!')\n",
        "\n",
        "def get_full_name(first, last):\n",
        "    '''\n",
        "    returns full name string\n",
        "    '''\n",
        "    return first + ' ' + last"
      ],
      "execution_count": null,
      "outputs": []
    },
    {
      "cell_type": "code",
      "metadata": {
        "colab": {
          "base_uri": "https://localhost:8080/"
        },
        "id": "9Ye6bSjljq98",
        "outputId": "574694c4-2536-4629-e060-3d606d1a672d"
      },
      "source": [
        "say_hello_world()\n",
        "say_hello_to('GNB')\n",
        "\n",
        "myname = get_full_name('Bosung', 'Baek')\n",
        "say_hello_to(myname)"
      ],
      "execution_count": null,
      "outputs": [
        {
          "output_type": "stream",
          "text": [
            "Hello world!\n",
            "Hello GNB!\n",
            "Hello Bosung Baek!\n"
          ],
          "name": "stdout"
        }
      ]
    },
    {
      "cell_type": "code",
      "metadata": {
        "colab": {
          "base_uri": "https://localhost:8080/"
        },
        "id": "9NhhSzmMj0Vm",
        "outputId": "67b67e23-721f-4a20-9a18-0aba085c1c7c"
      },
      "source": [
        "help(get_full_name)"
      ],
      "execution_count": null,
      "outputs": [
        {
          "output_type": "stream",
          "text": [
            "Help on function get_full_name in module __main__:\n",
            "\n",
            "get_full_name(first, last)\n",
            "    returns full name string\n",
            "\n"
          ],
          "name": "stdout"
        }
      ]
    },
    {
      "cell_type": "markdown",
      "metadata": {
        "id": "xmETGgXQkNLz"
      },
      "source": [
        "# 2. Object-Oriented Programming"
      ]
    },
    {
      "cell_type": "markdown",
      "metadata": {
        "id": "GyyTpz5-nekj"
      },
      "source": [
        "inheritance - 상속\n",
        "\n",
        "parent class(super class)로부터\n",
        "\n",
        "child class(sub class)로 중복되는 속성을 옮긴다. "
      ]
    },
    {
      "cell_type": "markdown",
      "metadata": {
        "id": "gjY1R45cpJIa"
      },
      "source": [
        "# 3. Object Oriented Programming in python"
      ]
    },
    {
      "cell_type": "markdown",
      "metadata": {
        "id": "MmeXr33lpDJT"
      },
      "source": [
        "## 3-1. Class"
      ]
    },
    {
      "cell_type": "code",
      "metadata": {
        "colab": {
          "base_uri": "https://localhost:8080/"
        },
        "id": "S3WfrbMKkLAu",
        "outputId": "07be0ab3-c813-47b7-ab19-e40047a52785"
      },
      "source": [
        "class Student:       # Class is a blueprint for creating Objects(=Instances)\n",
        "    pass\n",
        "\n",
        "std_1 = Student()    # Instantitation:\n",
        "std_2 = Student()    #   Create two unique Objects(=Instances) of Student class\n",
        "\n",
        "print(Student)\n",
        "print(std_1)         # we can see that std_1 and std_2 have\n",
        "print(std_2)         # different locations in memory\n",
        "\n",
        "print(isinstance(std_1, Student), isinstance(std_2, Student)) # 그 객체가 해당 class의 instance인가가"
      ],
      "execution_count": null,
      "outputs": [
        {
          "output_type": "stream",
          "text": [
            "<class '__main__.Student'>\n",
            "<__main__.Student object at 0x7f1a087dbf90>\n",
            "<__main__.Student object at 0x7f1a087db910>\n",
            "True True\n"
          ],
          "name": "stdout"
        }
      ]
    },
    {
      "cell_type": "code",
      "metadata": {
        "colab": {
          "base_uri": "https://localhost:8080/"
        },
        "id": "kd3alxqTpV6a",
        "outputId": "9c705917-aa56-4bbf-faa7-248544c9ac90"
      },
      "source": [
        "std_1.first = 'Dohun'                # we can set instance attributes manually\n",
        "std_1.last = 'Kim'                   # but it's a lot of code, and it's also prone to mistakes\n",
        "std_1.email = 'Dohun.Kim@knu.ac.kr'  # so we don't get much benefit of using classes\n",
        "std_1.gpa = 4.18\n",
        "\n",
        "std_2.first = 'Test'\n",
        "std_2.last = 'Name'\n",
        "std_2.email = 'Test.Name@knu.ac.kr'\n",
        "std_2.gpa = 4.0\n",
        "\n",
        "print(std_1.email)\n",
        "print(std_2.email)"
      ],
      "execution_count": null,
      "outputs": [
        {
          "output_type": "stream",
          "text": [
            "Dohun.Kim@knu.ac.kr\n",
            "Test.Name@knu.ac.kr\n"
          ],
          "name": "stdout"
        }
      ]
    },
    {
      "cell_type": "markdown",
      "metadata": {
        "id": "Gm68gzyiqhcw"
      },
      "source": [
        "## 3-2. __init__() method"
      ]
    },
    {
      "cell_type": "code",
      "metadata": {
        "colab": {
          "base_uri": "https://localhost:8080/"
        },
        "id": "yN7PMQBUrB4y",
        "outputId": "e6e71cda-6279-44cd-db37-7c116602e6ad"
      },
      "source": [
        "# we want to make class to set up attributes automatically\n",
        "# we can use special method __init__() for this\n",
        "# __init__() will be run at every instantiation\n",
        "# you can read __something__ as [dunder-something] which means 'double underscores'\n",
        "\n",
        "class Student:\n",
        "    \n",
        "    # 'self' is an instance which has called this method\n",
        "    # each method within a class automatically takes the instance as the first argument\n",
        "    \n",
        "    def __init__(self, first, last, gpa):\n",
        "        self.first = first\n",
        "        self.last = last\n",
        "        self.gpa = gpa\n",
        "        self.email = first + '.' + last + '@knu.ac.kr'\n",
        "\n",
        "std_1 = Student('Dohun', 'Kim', 4.18) # __init__() method will be run automatically\n",
        "std_2 = Student('Test', 'Name', 4.0)  # It would be better to think of 'self' as being ignored.\n",
        "\n",
        "print(std_1.email)\n",
        "print(std_2.email)"
      ],
      "execution_count": null,
      "outputs": [
        {
          "output_type": "stream",
          "text": [
            "Dohun.Kim@knu.ac.kr\n",
            "Test.Name@knu.ac.kr\n"
          ],
          "name": "stdout"
        }
      ]
    },
    {
      "cell_type": "code",
      "metadata": {
        "colab": {
          "base_uri": "https://localhost:8080/"
        },
        "id": "MW4lTizxrEcy",
        "outputId": "124d2e42-e4c0-4c07-ddf2-d90b7ae20149"
      },
      "source": [
        "# suppose : we want to add the ability to display the full name of a student\n",
        "print(f'{std_1.first} {std_1.last}')\n",
        "print(f'{std_2.first} {std_2.last}')"
      ],
      "execution_count": null,
      "outputs": [
        {
          "output_type": "stream",
          "text": [
            "Dohun Kim\n",
            "Test Name\n"
          ],
          "name": "stdout"
        }
      ]
    },
    {
      "cell_type": "markdown",
      "metadata": {
        "id": "w3uM41j8sV6l"
      },
      "source": [
        "## 3-3. Method"
      ]
    },
    {
      "cell_type": "code",
      "metadata": {
        "colab": {
          "base_uri": "https://localhost:8080/"
        },
        "id": "8mnATH-_sYVr",
        "outputId": "d5f2a2aa-29ea-42bb-c058-30fe5d8499a3"
      },
      "source": [
        "class Student:\n",
        "    \n",
        "    def __init__(self, first, last, gpa):\n",
        "        self.first = first\n",
        "        self.last = last\n",
        "        self.gpa = gpa\n",
        "        self.email = first + '.' + last + '@knu.ac.kr'\n",
        "    \n",
        "    # don't forget to add 'self' in every method!\n",
        "    def fullname(self):\n",
        "        return f'{self.first} {self.last}'\n",
        "    \n",
        "std_1 = Student('Dohun', 'Kim', 4.18)\n",
        "std_2 = Student('Test', 'Name', 4.0)\n",
        "\n",
        "print(std_1.fullname())\n",
        "print(std_2.fullname())\n",
        "\n",
        "# it does the exactly same thing\n",
        "print(Student.fullname(std_1))\n",
        "print(Student.fullname(std_2))"
      ],
      "execution_count": null,
      "outputs": [
        {
          "output_type": "stream",
          "text": [
            "Dohun Kim\n",
            "Test Name\n",
            "Dohun Kim\n",
            "Test Name\n"
          ],
          "name": "stdout"
        }
      ]
    },
    {
      "cell_type": "markdown",
      "metadata": {
        "id": "ahnjwFpDs8NO"
      },
      "source": [
        "## 3-4. Class variable"
      ]
    },
    {
      "cell_type": "code",
      "metadata": {
        "colab": {
          "base_uri": "https://localhost:8080/"
        },
        "id": "L5Vrey1Xs-8h",
        "outputId": "6daf52a5-f467-4bf7-8bbc-1fb3ce0c55a1"
      },
      "source": [
        "class Student:\n",
        "    \n",
        "    # class variable\n",
        "    num_of_stds = 0\n",
        "    domain = 'knu.ac.kr'\n",
        "    \n",
        "    def __init__(self, first, last, gpa):\n",
        "        # instance variables\n",
        "        self.first = first\n",
        "        self.last = last\n",
        "        self.gpa = gpa\n",
        "        self.email = first + '.' + last + '@' + self.domain\n",
        "        \n",
        "        Student.num_of_stds += 1 # self 하면 해당 변수 존재 x\n",
        "    \n",
        "    def fullname(self):\n",
        "        return f'{self.first} {self.last}'\n",
        "    \n",
        "std_1 = Student('Dohun', 'Kim', 4.18)\n",
        "print(Student.num_of_stds)\n",
        "\n",
        "std_2 = Student('Test', 'Name', 4.0)\n",
        "print(Student.num_of_stds)"
      ],
      "execution_count": null,
      "outputs": [
        {
          "output_type": "stream",
          "text": [
            "1\n",
            "2\n"
          ],
          "name": "stdout"
        }
      ]
    },
    {
      "cell_type": "markdown",
      "metadata": {
        "id": "pgXZDjjTuPah"
      },
      "source": [
        "## 3-5. Inheritance"
      ]
    },
    {
      "cell_type": "code",
      "metadata": {
        "colab": {
          "base_uri": "https://localhost:8080/"
        },
        "id": "u4EPv75SuN8V",
        "outputId": "028b2f8f-db24-4fd3-80a8-98ab0bb511f4"
      },
      "source": [
        "# in other words, GnbMember is a subclass of Student\n",
        "# and Student is a superclass of Gnbmember\n",
        "\n",
        "class GnbMember(Student):\n",
        "    \n",
        "    domain = 'gnb.com'\n",
        "    \n",
        "    def __init__(self, first, last, gpa, prog_lang):\n",
        "        super().__init__(first, last, gpa)          # run __init__() of superclass(=Student)\n",
        "        # Student.__init__(self, first, last, gpa)  # same code as above\n",
        "        self.prog_lang = prog_lang\n",
        "\n",
        "gnb_1 = GnbMember('Gnb', 'Member', 4.3, 'Python')\n",
        "print(Student.num_of_stds, gnb_1.email, gnb_1.prog_lang)\n",
        "\n",
        "std_3 = Student('Not', 'gnb', 3.25)\n",
        "print(Student.num_of_stds, std_3.email)"
      ],
      "execution_count": null,
      "outputs": [
        {
          "output_type": "stream",
          "text": [
            "3 Gnb.Member@knu.ac.kr Python\n",
            "4 Not.gnb@knu.ac.kr\n"
          ],
          "name": "stdout"
        }
      ]
    },
    {
      "cell_type": "code",
      "metadata": {
        "colab": {
          "base_uri": "https://localhost:8080/"
        },
        "id": "O8E0m98qud9Q",
        "outputId": "b9f94463-4804-4abf-9175-841e11af609c"
      },
      "source": [
        "print(isinstance(gnb_1, GnbMember))\n",
        "print(isinstance(gnb_1, Student))\n",
        "\n",
        "print(issubclass(GnbMember, Student))\n",
        "print(issubclass(Student, GnbMember))\n",
        "print(issubclass(Student, Student))"
      ],
      "execution_count": null,
      "outputs": [
        {
          "output_type": "stream",
          "text": [
            "True\n",
            "True\n",
            "True\n",
            "False\n",
            "True\n"
          ],
          "name": "stdout"
        }
      ]
    }
  ]
}
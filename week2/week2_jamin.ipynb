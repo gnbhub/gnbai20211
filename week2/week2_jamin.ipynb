{
  "nbformat": 4,
  "nbformat_minor": 0,
  "metadata": {
    "colab": {
      "name": "week2-jamin.ipynb",
      "provenance": [],
      "authorship_tag": "ABX9TyNLJeBzxo7V7UBiFGj1gEwb",
      "include_colab_link": true
    },
    "kernelspec": {
      "name": "python3",
      "display_name": "Python 3"
    },
    "language_info": {
      "name": "python"
    }
  },
  "cells": [
    {
      "cell_type": "markdown",
      "metadata": {
        "id": "view-in-github",
        "colab_type": "text"
      },
      "source": [
        "<a href=\"https://colab.research.google.com/github/gnbhub/gnbai20211/blob/master/week2/week2_jamin.ipynb\" target=\"_parent\"><img src=\"https://colab.research.google.com/assets/colab-badge.svg\" alt=\"Open In Colab\"/></a>"
      ]
    },
    {
      "cell_type": "code",
      "metadata": {
        "colab": {
          "base_uri": "https://localhost:8080/"
        },
        "id": "INv2ti2fd37V",
        "outputId": "e7e2f86f-2857-437a-efdf-a866d00c20ec"
      },
      "source": [
        "a = [1,2,3]\n",
        "b = a\n",
        "\n",
        "print(f'a==b : {a==b}')\n",
        "print(f'a is b : {a is b}')"
      ],
      "execution_count": null,
      "outputs": [
        {
          "output_type": "stream",
          "text": [
            "a==b : True\n",
            "a is b : True\n"
          ],
          "name": "stdout"
        }
      ]
    },
    {
      "cell_type": "code",
      "metadata": {
        "colab": {
          "base_uri": "https://localhost:8080/"
        },
        "id": "7Z_kcm2Mfb0a",
        "outputId": "8dc451c3-44af-4454-8490-a73fcf034c94"
      },
      "source": [
        "c = list(a)\n",
        "\n",
        "print(f'a == c : {a==c}')\n",
        "print(f'a is c : {a is c}')"
      ],
      "execution_count": null,
      "outputs": [
        {
          "output_type": "stream",
          "text": [
            "a == c : True\n",
            "a is c : False\n"
          ],
          "name": "stdout"
        }
      ]
    },
    {
      "cell_type": "code",
      "metadata": {
        "colab": {
          "base_uri": "https://localhost:8080/"
        },
        "id": "Cn_5CJ9ygU9B",
        "outputId": "7d7d5305-2556-4fb9-bbb2-f84a711935d6"
      },
      "source": [
        "fruits = {'apple', 'orange', 'apple', 'pear', 'orange', 'banana'}\n",
        "print(f'fruits : {fruits}')\n",
        "\n",
        "print(f\"'orange' in fruits : {'orange' in fruits}\")\n",
        "print(f\"'grape' not in fruits : {'grape' not in fruits}\")"
      ],
      "execution_count": null,
      "outputs": [
        {
          "output_type": "stream",
          "text": [
            "fruits : {'banana', 'apple', 'orange', 'pear'}\n",
            "'orange' in fruits : True\n",
            "'grape' not in fruits : True\n"
          ],
          "name": "stdout"
        }
      ]
    },
    {
      "cell_type": "code",
      "metadata": {
        "colab": {
          "base_uri": "https://localhost:8080/"
        },
        "id": "2JjFZuF-flv6",
        "outputId": "064ac4bb-023d-4359-a06a-03ecc8c43f52"
      },
      "source": [
        "scores = {'calculus':90, 'physics':70}\n",
        "print(scores)\n",
        "\n",
        "scores = dict([('calculus', 90), ('physics', 70)])\n",
        "print(scores)\n",
        "\n",
        "scores = dict(calculus=90, physics=70)\n",
        "print(scores)"
      ],
      "execution_count": null,
      "outputs": [
        {
          "output_type": "stream",
          "text": [
            "{'calculus': 90, 'physics': 70}\n",
            "{'calculus': 90, 'physics': 70}\n",
            "{'calculus': 90, 'physics': 70}\n"
          ],
          "name": "stdout"
        }
      ]
    },
    {
      "cell_type": "code",
      "metadata": {
        "colab": {
          "base_uri": "https://localhost:8080/"
        },
        "id": "WC2RrwyRg5ia",
        "outputId": "915d6c6d-4155-4f76-bcfa-0945b800cdb5"
      },
      "source": [
        "scores['chemistry'] = 80\n",
        "print(scores)\n",
        "\n",
        "del scores['calculus']\n",
        "print(scores)"
      ],
      "execution_count": null,
      "outputs": [
        {
          "output_type": "stream",
          "text": [
            "{'calculus': 90, 'physics': 70, 'chemistry': 80}\n",
            "{'physics': 70, 'chemistry': 80}\n"
          ],
          "name": "stdout"
        }
      ]
    },
    {
      "cell_type": "code",
      "metadata": {
        "colab": {
          "base_uri": "https://localhost:8080/"
        },
        "id": "9x0kB3mAgSXr",
        "outputId": "8989b8e3-bc8c-4fab-8a82-d653ec7e9493"
      },
      "source": [
        "nums = [1, 4, 1, 4, 2, 1, 3, 5, 6, 2]\n",
        "\n",
        "squares = []\n",
        "for x in nums:\n",
        "    squares.append(x**2)\n",
        "\n",
        "print(squares)"
      ],
      "execution_count": null,
      "outputs": [
        {
          "output_type": "stream",
          "text": [
            "[1, 16, 1, 16, 4, 1, 9, 25, 36, 4]\n"
          ],
          "name": "stdout"
        }
      ]
    },
    {
      "cell_type": "code",
      "metadata": {
        "colab": {
          "base_uri": "https://localhost:8080/"
        },
        "id": "UiMV81ShiH4g",
        "outputId": "390b38a6-ed18-4698-ca07-4a3c87cfe436"
      },
      "source": [
        "squares = list(map(lambda x: x**2, nums))\n",
        "print(squares)"
      ],
      "execution_count": null,
      "outputs": [
        {
          "output_type": "stream",
          "text": [
            "[1, 16, 1, 16, 4, 1, 9, 25, 36, 4]\n"
          ],
          "name": "stdout"
        }
      ]
    },
    {
      "cell_type": "code",
      "metadata": {
        "colab": {
          "base_uri": "https://localhost:8080/"
        },
        "id": "t6hdItS1id6R",
        "outputId": "05369258-7ee4-4c9a-b10e-08bd0199309d"
      },
      "source": [
        "squares = [x **2 for x in nums]\n",
        "print(squares)"
      ],
      "execution_count": null,
      "outputs": [
        {
          "output_type": "stream",
          "text": [
            "[1, 16, 1, 16, 4, 1, 9, 25, 36, 4]\n"
          ],
          "name": "stdout"
        }
      ]
    },
    {
      "cell_type": "code",
      "metadata": {
        "colab": {
          "base_uri": "https://localhost:8080/"
        },
        "id": "v1J_QSB8ihyh",
        "outputId": "026fd38f-dfb0-4636-e9e1-0fd744bca6b8"
      },
      "source": [
        "nums = [1, 4, 1, 4, 2, 1, 3, 5, 6, 2]\n",
        "\n",
        "evens = []\n",
        "for x in nums:\n",
        "    if x % 2 == 0:\n",
        "        evens.append(x)\n",
        "\n",
        "print(evens)"
      ],
      "execution_count": null,
      "outputs": [
        {
          "output_type": "stream",
          "text": [
            "[4, 4, 2, 6, 2]\n"
          ],
          "name": "stdout"
        }
      ]
    },
    {
      "cell_type": "code",
      "metadata": {
        "colab": {
          "base_uri": "https://localhost:8080/"
        },
        "id": "eYORs4eQitO0",
        "outputId": "0a3113f4-0eaa-4d9f-9a4e-e9cd32fbc48c"
      },
      "source": [
        "evens = list(filter(lambda x: x%2==0, nums))\n",
        "print(evens)"
      ],
      "execution_count": null,
      "outputs": [
        {
          "output_type": "stream",
          "text": [
            "[4, 4, 2, 6, 2]\n"
          ],
          "name": "stdout"
        }
      ]
    },
    {
      "cell_type": "code",
      "metadata": {
        "colab": {
          "base_uri": "https://localhost:8080/"
        },
        "id": "a9nCa7MGi4qK",
        "outputId": "693c14df-975d-48e1-f29f-05fa8cfc7f57"
      },
      "source": [
        "squares = [x for x in nums if x % 2 == 0]\n",
        "print(squares)"
      ],
      "execution_count": null,
      "outputs": [
        {
          "output_type": "stream",
          "text": [
            "[4, 4, 2, 6, 2]\n"
          ],
          "name": "stdout"
        }
      ]
    },
    {
      "cell_type": "code",
      "metadata": {
        "id": "vILujBOoi8Ji"
      },
      "source": [
        "def say_hello_world():\n",
        "    print('Hello world!')\n",
        "\n",
        "def say_hello_to(name):\n",
        "    print(f'Hello {name}!')\n",
        "\n",
        "def get_full_name(first, last):\n",
        "    '''\n",
        "    returns full name string\n",
        "    '''\n",
        "    return first + ' ' + last"
      ],
      "execution_count": null,
      "outputs": []
    },
    {
      "cell_type": "code",
      "metadata": {
        "colab": {
          "base_uri": "https://localhost:8080/"
        },
        "id": "8S02HLPhj0Fd",
        "outputId": "cd28c205-c241-47fd-b3f6-3dc2d3d78033"
      },
      "source": [
        "say_hello_world()\n",
        "say_hello_to('GnB')\n",
        "\n",
        "myname = get_full_name('Jamin', 'Seong')\n",
        "say_hello_to(myname)"
      ],
      "execution_count": null,
      "outputs": [
        {
          "output_type": "stream",
          "text": [
            "Hello world!\n",
            "Hello GnB!\n",
            "Hello Jamin Seong!\n"
          ],
          "name": "stdout"
        }
      ]
    },
    {
      "cell_type": "code",
      "metadata": {
        "colab": {
          "base_uri": "https://localhost:8080/"
        },
        "id": "DOBrpX5hj3GS",
        "outputId": "5585f053-686b-46ae-8b06-449850d3b3c0"
      },
      "source": [
        "help(get_full_name)"
      ],
      "execution_count": null,
      "outputs": [
        {
          "output_type": "stream",
          "text": [
            "Help on function get_full_name in module __main__:\n",
            "\n",
            "get_full_name(first, last)\n",
            "    returns full name string\n",
            "\n"
          ],
          "name": "stdout"
        }
      ]
    },
    {
      "cell_type": "code",
      "metadata": {
        "colab": {
          "base_uri": "https://localhost:8080/"
        },
        "id": "66XiQjOAkMDG",
        "outputId": "20162062-95cd-41c6-c99d-dbe90b02baa4"
      },
      "source": [
        "class Student:\n",
        "    pass\n",
        "    ##pass 비어있는 클래스를 하나 정의함\n",
        "\n",
        "std_1 = Student()\n",
        "std_2 = Student()\n",
        "\n",
        "print(Student)\n",
        "print(std_1)\n",
        "print(std_2)\n",
        "\n",
        "print(isinstance(std_1, Student), isinstance(std_2, Student))"
      ],
      "execution_count": null,
      "outputs": [
        {
          "output_type": "stream",
          "text": [
            "<class '__main__.Student'>\n",
            "<__main__.Student object at 0x7f356d05a6d0>\n",
            "<__main__.Student object at 0x7f356d05a210>\n",
            "True True\n"
          ],
          "name": "stdout"
        }
      ]
    },
    {
      "cell_type": "code",
      "metadata": {
        "colab": {
          "base_uri": "https://localhost:8080/"
        },
        "id": "zAYHtw5TpOSC",
        "outputId": "5dc1504a-b707-4b24-cd62-bca8dbf91a97"
      },
      "source": [
        "std_1.first = \"Jamin\"\n",
        "std_1.last = 'Seong'\n",
        "std_1.email = 'Jamin.Seong@knu.ac.kr'\n",
        "std_1.gpa = 3.79\n",
        "\n",
        "std_2.first = \"first\"\n",
        "std_2.last = 'last'\n",
        "std_2.email = 'first.last@knu.ac.kr'\n",
        "std_2.gpa = 4.30\n",
        "\n",
        "print(std_1.email)\n",
        "print(std_2.email)"
      ],
      "execution_count": null,
      "outputs": [
        {
          "output_type": "stream",
          "text": [
            "Jamin.Seong@knu.ac.kr\n",
            "first.last@knu.ac.kr\n"
          ],
          "name": "stdout"
        }
      ]
    },
    {
      "cell_type": "code",
      "metadata": {
        "colab": {
          "base_uri": "https://localhost:8080/"
        },
        "id": "VgV0vWUiqJQL",
        "outputId": "6135bb8c-3dc2-4d02-b392-8f871c65cf43"
      },
      "source": [
        "class Student:\n",
        "    def __init__(self, first, last, gpa):\n",
        "        self.first = first\n",
        "        self.last = last\n",
        "        self.gpa = gpa\n",
        "        self.email = first + \".\" + last + '@knu.ac.kr'\n",
        "    \n",
        "    def fullname(self):\n",
        "        return f'{self.first} {self.last}'\n",
        "\n",
        "##init 정의해 버리면 Student()못 씀! 안에 매개변수 써주기\n",
        "##self 정의할 때는 있어야되는데 쓸 때는 안 써도 됨!\n",
        "std_1 = Student('Jamin', \"Seong\", 3.70)\n",
        "std_2 = Student('first', 'last', 4.30)\n",
        "\n",
        "print(std_1.email)\n",
        "print(std_2.email)\n",
        "\n",
        "print(Student.fullname(std_1))\n",
        "print(Student.fullname(std_2))"
      ],
      "execution_count": null,
      "outputs": [
        {
          "output_type": "stream",
          "text": [
            "Jamin.Seong@knu.ac.kr\n",
            "first.last@knu.ac.kr\n",
            "Jamin Seong\n",
            "first last\n"
          ],
          "name": "stdout"
        }
      ]
    },
    {
      "cell_type": "code",
      "metadata": {
        "colab": {
          "base_uri": "https://localhost:8080/"
        },
        "id": "WAvCw9hArEkM",
        "outputId": "92ec675b-d80a-4882-e81e-bd0be86d56d0"
      },
      "source": [
        "print(f'{std_1.first} {std_1.last}')\n",
        "print(f'{std_2.first} {std_2.last}')"
      ],
      "execution_count": null,
      "outputs": [
        {
          "output_type": "stream",
          "text": [
            "Jamin Seong\n",
            "first last\n"
          ],
          "name": "stdout"
        }
      ]
    },
    {
      "cell_type": "code",
      "metadata": {
        "colab": {
          "base_uri": "https://localhost:8080/"
        },
        "id": "tSZDpmRtsYst",
        "outputId": "6c31f921-59db-4c1b-a2df-6e0369c31933"
      },
      "source": [
        "class Student:\n",
        "    \n",
        "    num_of_stds = 0\n",
        "    domain = 'knu.ac.kr'\n",
        "    \n",
        "    def __init__(self, first, last, gpa):\n",
        "        ##self : 객체/ Student : 클래스\n",
        "        self.first = first\n",
        "        self.last = last\n",
        "        self.gpa = gpa\n",
        "        self.email = first + '.' + last + '@' + self.domain\n",
        "        \n",
        "        Student.num_of_stds += 1\n",
        "    \n",
        "    def fullname(self):\n",
        "        return f'{self.first} {self.last}'\n",
        "    \n",
        "std_1 = Student('Jamin', 'Seong', 3.70)\n",
        "print(Student.num_of_stds)\n",
        "\n",
        "std_2 = Student('first', 'last', 4.30)\n",
        "print(Student.num_of_stds)"
      ],
      "execution_count": null,
      "outputs": [
        {
          "output_type": "stream",
          "text": [
            "1\n",
            "2\n"
          ],
          "name": "stdout"
        }
      ]
    },
    {
      "cell_type": "code",
      "metadata": {
        "colab": {
          "base_uri": "https://localhost:8080/"
        },
        "id": "HECMAE5btMTV",
        "outputId": "41a1d8da-b154-4e2f-aba1-8e1184a91ba1"
      },
      "source": [
        "class GnbMember(Student):\n",
        "\n",
        "    domain = 'gnb.com'\n",
        "\n",
        "    def __init__(self, first, last, gpa, prog_lang):\n",
        "        super().__init__(first, last, gpa)\n",
        "        self.prog_lang = prog_lang\n",
        "\n",
        "\n",
        "gnb_1 = GnbMember('Gnb', \"Member\", 4.3, 'Python')\n",
        "print(Student.num_of_stds, gnb_1.email, gnb_1.prog_lang)\n",
        "\n",
        "\n",
        "std_3 = Student('Not', 'gnb', 3.25)\n",
        "print(Student.num_of_stds, std_3.email)"
      ],
      "execution_count": null,
      "outputs": [
        {
          "output_type": "stream",
          "text": [
            "3 Gnb.Member@gnb.com Python\n",
            "4 Not.gnb@knu.ac.kr\n"
          ],
          "name": "stdout"
        }
      ]
    },
    {
      "cell_type": "code",
      "metadata": {
        "colab": {
          "base_uri": "https://localhost:8080/"
        },
        "id": "m0hpUhCXvvbg",
        "outputId": "1af4913d-dc65-4f1b-d08e-2ffa893a955e"
      },
      "source": [
        "print(isinstance(gnb_1, GnbMember))\n",
        "print(isinstance(gnb_1, Student))\n",
        "\n",
        "print(issubclass(GnbMember, Student))\n",
        "print(issubclass(Student, GnbMember))\n",
        "\n",
        "print(issubclass(Student, Student))"
      ],
      "execution_count": null,
      "outputs": [
        {
          "output_type": "stream",
          "text": [
            "True\n",
            "True\n",
            "True\n",
            "False\n",
            "True\n"
          ],
          "name": "stdout"
        }
      ]
    },
    {
      "cell_type": "code",
      "metadata": {
        "id": "K2V77_MTxkX9"
      },
      "source": [
        ""
      ],
      "execution_count": null,
      "outputs": []
    }
  ]
}
{
  "nbformat": 4,
  "nbformat_minor": 0,
  "metadata": {
    "colab": {
      "name": "week2-Karly.ipynb",
      "provenance": [],
      "authorship_tag": "ABX9TyM9jsLucVp7fyrUGC7r9R4U",
      "include_colab_link": true
    },
    "kernelspec": {
      "name": "python3",
      "display_name": "Python 3"
    },
    "language_info": {
      "name": "python"
    }
  },
  "cells": [
    {
      "cell_type": "markdown",
      "metadata": {
        "id": "view-in-github",
        "colab_type": "text"
      },
      "source": [
        "<a href=\"https://colab.research.google.com/github/gnbhub/gnbai20211/blob/master/week2/week2_Karly.ipynb\" target=\"_parent\"><img src=\"https://colab.research.google.com/assets/colab-badge.svg\" alt=\"Open In Colab\"/></a>"
      ]
    },
    {
      "cell_type": "markdown",
      "metadata": {
        "id": "tHawaMXmb1QS"
      },
      "source": [
        "#GNB Python-AI Study\n",
        "###Week 2 - Why Python for AI?"
      ]
    },
    {
      "cell_type": "code",
      "metadata": {
        "colab": {
          "base_uri": "https://localhost:8080/"
        },
        "id": "FfQGfRWFeEYO",
        "outputId": "204dc764-5bc6-4830-e42b-d0b1948cd229"
      },
      "source": [
        "\n",
        "# 3.14:True, 0:False\n",
        "x, y = 3.14, 0\n",
        "\n",
        "print(f'x or y : {x or y}')\n",
        "print(f'x and y : {x and y}')\n",
        "print(f'not x : {not x}')"
      ],
      "execution_count": null,
      "outputs": [
        {
          "output_type": "stream",
          "text": [
            "x or y : 3.14\n",
            "x and y : 0\n",
            "not x : False\n"
          ],
          "name": "stdout"
        }
      ]
    },
    {
      "cell_type": "code",
      "metadata": {
        "colab": {
          "base_uri": "https://localhost:8080/"
        },
        "id": "Tk8d8qXFeFVm",
        "outputId": "ff1c3467-55bb-428d-b06d-1bc5bdcf7eb3"
      },
      "source": [
        "a = [1, 2, 3]\n",
        "b = a # shallow copy\n",
        "\n",
        "print(f'a == b : {a == b}') # equality of value\n",
        "print(f'a is b : {a is b}') # identity of object"
      ],
      "execution_count": null,
      "outputs": [
        {
          "output_type": "stream",
          "text": [
            "a == b : True\n",
            "a is b : True\n"
          ],
          "name": "stdout"
        }
      ]
    },
    {
      "cell_type": "code",
      "metadata": {
        "colab": {
          "base_uri": "https://localhost:8080/"
        },
        "id": "uq9Zv0oBeY8s",
        "outputId": "f27783ce-1304-475f-da99-98d7bca66f45"
      },
      "source": [
        "c = list(a) # deep copy\n",
        "\n",
        "print(f'a == c : {a == c}') # equality of value\n",
        "print(f'a is c : {a is c}') # identity of object"
      ],
      "execution_count": null,
      "outputs": [
        {
          "output_type": "stream",
          "text": [
            "a == c : True\n",
            "a is c : False\n"
          ],
          "name": "stdout"
        }
      ]
    },
    {
      "cell_type": "code",
      "metadata": {
        "colab": {
          "base_uri": "https://localhost:8080/"
        },
        "id": "3-rEEujJeceR",
        "outputId": "39597d83-790a-4f1b-81b2-fb826c5147a1"
      },
      "source": [
        "# using set removes duplicates\n",
        "fruits = {'apple', 'orange', 'apple', 'pear', 'orange', 'banana'}\n",
        "print(f'fruits : {fruits}')\n",
        "\n",
        "# fast membership testing\n",
        "print(f\"'orange' in fruits : {'orange' in fruits}\")\n",
        "print(f\"'grape' not in fruits : {'grape' not in fruits}\")"
      ],
      "execution_count": null,
      "outputs": [
        {
          "output_type": "stream",
          "text": [
            "fruits : {'banana', 'apple', 'pear', 'orange'}\n",
            "'orange' in fruits : True\n",
            "'grape' not in fruits : True\n"
          ],
          "name": "stdout"
        }
      ]
    },
    {
      "cell_type": "code",
      "metadata": {
        "colab": {
          "base_uri": "https://localhost:8080/"
        },
        "id": "sc-ZptjDfcCT",
        "outputId": "15a96a28-8d91-425e-c1c0-b9db52e1bfde"
      },
      "source": [
        "a = set('abracadabra')       # {'a', 'b', 'c', 'd', 'r'}\n",
        "b = set('alacazam')          # {'a', 'c', 'l', 'm', 'z'}\n",
        "\n",
        "print(f'a | b : {a | b}')    # Union\n",
        "print(f'a & b : {a & b}')    # Intersection\n",
        "print(f'a - b : {a - b}')    # Difference\n",
        "print(f'a ^ b : {a ^ b}')    # Symmetric difference"
      ],
      "execution_count": null,
      "outputs": [
        {
          "output_type": "stream",
          "text": [
            "a | b : {'l', 'c', 'd', 'a', 'b', 'z', 'm', 'r'}\n",
            "a & b : {'a', 'c'}\n",
            "a - b : {'b', 'r', 'd'}\n",
            "a ^ b : {'r', 'l', 'd', 'b', 'm', 'z'}\n"
          ],
          "name": "stdout"
        }
      ]
    },
    {
      "cell_type": "code",
      "metadata": {
        "colab": {
          "base_uri": "https://localhost:8080/"
        },
        "id": "2KF8lPHLfe7q",
        "outputId": "1ba5da8e-34ec-4dc8-c672-df449cf69d06"
      },
      "source": [
        "\n",
        "# create dictionary with {key:value, ...}\n",
        "scores = {'calculus':90, 'physics':70}\n",
        "print(scores)\n",
        "\n",
        "# create dictionary with sequences of key-value pair\n",
        "scores = dict([('calculus', 90), ('physics', 70)])\n",
        "print(scores)\n",
        "\n",
        "# create dictionary with keyword arguments\n",
        "scores = dict(calculus=90, physics=70)\n",
        "print(scores)"
      ],
      "execution_count": null,
      "outputs": [
        {
          "output_type": "stream",
          "text": [
            "{'calculus': 90, 'physics': 70}\n",
            "{'calculus': 90, 'physics': 70}\n",
            "{'calculus': 90, 'physics': 70}\n"
          ],
          "name": "stdout"
        }
      ]
    },
    {
      "cell_type": "code",
      "metadata": {
        "colab": {
          "base_uri": "https://localhost:8080/"
        },
        "id": "xzf9E2eQhucG",
        "outputId": "5e31db60-6d2d-44f0-b784-7b4a2f6b15e7"
      },
      "source": [
        "x = {}\n",
        "type(x)\n",
        "\n",
        "y = set()\n",
        "type(y)"
      ],
      "execution_count": null,
      "outputs": [
        {
          "output_type": "execute_result",
          "data": {
            "text/plain": [
              "set"
            ]
          },
          "metadata": {
            "tags": []
          },
          "execution_count": 10
        }
      ]
    },
    {
      "cell_type": "code",
      "metadata": {
        "colab": {
          "base_uri": "https://localhost:8080/"
        },
        "id": "GMVzOdSgf3pf",
        "outputId": "63700ee7-36ec-471d-e5f9-cdeff0bbe415"
      },
      "source": [
        "# add item 'chemistry':80\n",
        "scores['chemistry'] = 80\n",
        "print(scores)\n",
        "\n",
        "# delete item 'calculus':90\n",
        "del scores['calculus']\n",
        "print(scores)"
      ],
      "execution_count": null,
      "outputs": [
        {
          "output_type": "stream",
          "text": [
            "{'calculus': 90, 'physics': 70, 'chemistry': 80}\n",
            "{'physics': 70, 'chemistry': 80}\n"
          ],
          "name": "stdout"
        }
      ]
    },
    {
      "cell_type": "code",
      "metadata": {
        "colab": {
          "base_uri": "https://localhost:8080/"
        },
        "id": "x7rEIgP8gIJS",
        "outputId": "3514c550-4504-47a7-9588-80fb4c43f90c"
      },
      "source": [
        "nums = [1, 4, 1, 4, 2, 1, 3, 5, 6, 2]\n",
        "\n",
        "squares = []\n",
        "for x in nums:\n",
        "  squares.append(x ** 2)\n",
        "print(squares)"
      ],
      "execution_count": null,
      "outputs": [
        {
          "output_type": "stream",
          "text": [
            "[1, 16, 1, 16, 4, 1, 9, 25, 36, 4]\n"
          ],
          "name": "stdout"
        }
      ]
    },
    {
      "cell_type": "code",
      "metadata": {
        "colab": {
          "base_uri": "https://localhost:8080/"
        },
        "id": "Cc5GJqQPga7S",
        "outputId": "67715f40-f14c-4f5c-c2f2-240ba2f35d6a"
      },
      "source": [
        "# we can use map() function, but it's hard to read\n",
        "squares = list(map(lambda x: x**2, nums))\n",
        "print(squares)"
      ],
      "execution_count": null,
      "outputs": [
        {
          "output_type": "stream",
          "text": [
            "[1, 16, 1, 16, 4, 1, 9, 25, 36, 4]\n"
          ],
          "name": "stdout"
        }
      ]
    },
    {
      "cell_type": "code",
      "metadata": {
        "colab": {
          "base_uri": "https://localhost:8080/"
        },
        "id": "By4IRKR6iBvm",
        "outputId": "af409819-4109-40e2-c4b6-c76f43b0e088"
      },
      "source": [
        "# equivalent code with list comprehension\n",
        "squares = [x ** 2 for x in nums]\n",
        "print(squares)"
      ],
      "execution_count": null,
      "outputs": [
        {
          "output_type": "stream",
          "text": [
            "[1, 16, 1, 16, 4, 1, 9, 25, 36, 4]\n"
          ],
          "name": "stdout"
        }
      ]
    },
    {
      "cell_type": "code",
      "metadata": {
        "colab": {
          "base_uri": "https://localhost:8080/"
        },
        "id": "hGShkPoFiNAg",
        "outputId": "bb13e4f1-8c7c-4a3d-d04c-dd4cff2df9d9"
      },
      "source": [
        "nums = [1, 4, 1, 4, 2, 1, 3, 5, 6, 2]\n",
        "\n",
        "evens = []\n",
        "for x in nums:\n",
        "  if x % 2 == 0:\n",
        "    evens.append(x)\n",
        "print(evens)"
      ],
      "execution_count": null,
      "outputs": [
        {
          "output_type": "stream",
          "text": [
            "[4, 4, 2, 6, 2]\n"
          ],
          "name": "stdout"
        }
      ]
    },
    {
      "cell_type": "code",
      "metadata": {
        "colab": {
          "base_uri": "https://localhost:8080/"
        },
        "id": "GUQgT7W4iYyR",
        "outputId": "a7732b18-42e3-4f05-d2cc-52a0ccc2fb4b"
      },
      "source": [
        "# we can use filter() function, but it's hard to read\n",
        "evens = list(filter(lambda x: x%2==0, nums))\n",
        "print(evens)"
      ],
      "execution_count": null,
      "outputs": [
        {
          "output_type": "stream",
          "text": [
            "[4, 4, 2, 6, 2]\n"
          ],
          "name": "stdout"
        }
      ]
    },
    {
      "cell_type": "code",
      "metadata": {
        "colab": {
          "base_uri": "https://localhost:8080/"
        },
        "id": "tHsVOT9wiml8",
        "outputId": "4953269b-3ae8-4b51-db74-b6b6810b369e"
      },
      "source": [
        "# equivalent code with list comprehension\n",
        "squares = [x for x in nums if x%2==0]\n",
        "print(squares)"
      ],
      "execution_count": null,
      "outputs": [
        {
          "output_type": "stream",
          "text": [
            "[4, 4, 2, 6, 2]\n"
          ],
          "name": "stdout"
        }
      ]
    },
    {
      "cell_type": "code",
      "metadata": {
        "id": "bDdiGRZ5iuNE"
      },
      "source": [
        "def say_hello_world():\n",
        "    print('Hello world!')\n",
        "\n",
        "def say_hello_to(name):\n",
        "    print(f'Hello {name}!')\n",
        "\n",
        "def get_full_name(first, last):\n",
        "    '''\n",
        "    returns full name string\n",
        "    '''\n",
        "    return first + ' ' + last"
      ],
      "execution_count": null,
      "outputs": []
    },
    {
      "cell_type": "code",
      "metadata": {
        "colab": {
          "base_uri": "https://localhost:8080/"
        },
        "id": "Gx3NVqNoiysy",
        "outputId": "a221da34-d9d4-4d7a-b130-5b92578ef046"
      },
      "source": [
        "say_hello_world()\n",
        "say_hello_to(\"GNB\")\n",
        "\n",
        "myname = get_full_name('Karly', 'Sin')\n",
        "say_hello_to(myname)"
      ],
      "execution_count": null,
      "outputs": [
        {
          "output_type": "stream",
          "text": [
            "Hello world!\n",
            "Hello GNB!\n",
            "Hello Karly Sin!\n"
          ],
          "name": "stdout"
        }
      ]
    },
    {
      "cell_type": "code",
      "metadata": {
        "colab": {
          "base_uri": "https://localhost:8080/"
        },
        "id": "M_7p45pHjAzg",
        "outputId": "90333bde-e44f-4263-aa63-d5265eaca0cd"
      },
      "source": [
        "help(get_full_name)"
      ],
      "execution_count": null,
      "outputs": [
        {
          "output_type": "stream",
          "text": [
            "Help on function get_full_name in module __main__:\n",
            "\n",
            "get_full_name(first, last)\n",
            "    returns full name string\n",
            "\n"
          ],
          "name": "stdout"
        }
      ]
    },
    {
      "cell_type": "code",
      "metadata": {
        "colab": {
          "base_uri": "https://localhost:8080/"
        },
        "id": "-GpmQuMrjERn",
        "outputId": "96182d39-4b54-472b-82c3-82afb0ac995a"
      },
      "source": [
        "class Student:       # Class is a blueprint for creating Objects(=Instances)\n",
        "    pass\n",
        "\n",
        "std_1 = Student()    # Instantitation:\n",
        "std_2 = Student()    #   Create two unique Objects(=Instances) of Student class\n",
        "\n",
        "print(Student)\n",
        "print(std_1)         # we can see that std_1 and std_2 have\n",
        "print(std_2)         # different locations in memory\n",
        "\n",
        "print(isinstance(std_1, Student))"
      ],
      "execution_count": null,
      "outputs": [
        {
          "output_type": "stream",
          "text": [
            "<class '__main__.Student'>\n",
            "<__main__.Student object at 0x7f810a9b9950>\n",
            "<__main__.Student object at 0x7f810a9b9d50>\n",
            "True True\n"
          ],
          "name": "stdout"
        }
      ]
    },
    {
      "cell_type": "code",
      "metadata": {
        "colab": {
          "base_uri": "https://localhost:8080/"
        },
        "id": "sG5JEG2hmWqP",
        "outputId": "96ea7907-7826-44d1-fc2c-8aafe5ea5abe"
      },
      "source": [
        "std_1.first = 'Karly'\n",
        "std_1.last = 'Sin'\n",
        "std_1.email = 'Karly.Sin@knu.ac.kr'\n",
        "std_1.gpa = 100\n",
        "\n",
        "print(std_1.email)"
      ],
      "execution_count": null,
      "outputs": [
        {
          "output_type": "stream",
          "text": [
            "Karly.Sin@knu.ac.kr\n"
          ],
          "name": "stdout"
        }
      ]
    },
    {
      "cell_type": "code",
      "metadata": {
        "colab": {
          "base_uri": "https://localhost:8080/"
        },
        "id": "P2Nwcmm0mpb5",
        "outputId": "a65fb954-5210-4aa1-8193-0e8a18c0a7dd"
      },
      "source": [
        "class Student:\n",
        "  def __init__(self, first, last, gpa):\n",
        "    self.first = first\n",
        "    self.last = last\n",
        "    self.gpa = gpa\n",
        "    self.email = first + '.' + last + '@knu.ac.kr'\n",
        "\n",
        "std_1 = Student('Karly', 'Sin', 100)\n",
        "\n",
        "print(std_1.email)"
      ],
      "execution_count": null,
      "outputs": [
        {
          "output_type": "stream",
          "text": [
            "Karly.Sin@knu.ac.kr\n"
          ],
          "name": "stdout"
        }
      ]
    },
    {
      "cell_type": "code",
      "metadata": {
        "colab": {
          "base_uri": "https://localhost:8080/"
        },
        "id": "NtOrcGAmoN3x",
        "outputId": "b55d231f-26b0-42cc-8156-71bd99ddd57b"
      },
      "source": [
        "# suppose : we want to add the abliity to display the full name of a student\n",
        "\n",
        "print(f'{std_1.first} {std_1.last}')"
      ],
      "execution_count": null,
      "outputs": [
        {
          "output_type": "stream",
          "text": [
            "Karly Sin\n"
          ],
          "name": "stdout"
        }
      ]
    },
    {
      "cell_type": "code",
      "metadata": {
        "colab": {
          "base_uri": "https://localhost:8080/"
        },
        "id": "7i8acQQHpP9f",
        "outputId": "675e745c-1458-43f5-c66e-68911cbfaf30"
      },
      "source": [
        "class Student : \n",
        "    def __init__(self, first, last, gpa):\n",
        "        self.first = first\n",
        "        self.last = last\n",
        "        self.gpa = gpa\n",
        "        self.email = first + '.' + last + '@knu.ac.kr'\n",
        "    \n",
        "    # don't forget to add 'self' in every method!\n",
        "    def fullname(self):\n",
        "        return f'{self.first} {self.last}'\n",
        "    \n",
        "std_1 = Student('Karly', 'Sin', 100)\n",
        "\n",
        "print(std_1.fullname())\n",
        "# it does the exactly same thing\n",
        "print(Student.fullname(std_1))"
      ],
      "execution_count": null,
      "outputs": [
        {
          "output_type": "stream",
          "text": [
            "Karly Sin\n",
            "Karly Sin\n"
          ],
          "name": "stdout"
        }
      ]
    },
    {
      "cell_type": "code",
      "metadata": {
        "colab": {
          "base_uri": "https://localhost:8080/"
        },
        "id": "BsH0WELqp00k",
        "outputId": "11c19d41-1756-4bd5-a1ed-88b4921481d8"
      },
      "source": [
        "class Student:\n",
        "    \n",
        "    # class variable\n",
        "    num_of_stds = 0\n",
        "    domain = 'knu.ac.kr'\n",
        "    \n",
        "    def __init__(self, first, last, gpa):\n",
        "        # instance variables\n",
        "        self.first = first\n",
        "        self.last = last\n",
        "        self.gpa = gpa\n",
        "        self.email = first + '.' + last + '@' + self.domain\n",
        "        \n",
        "        Student.num_of_stds += 1\n",
        "    \n",
        "    def fullname(self):\n",
        "        return f'{self.first} {self.last}'\n",
        "    \n",
        "std_1 = Student('Karly', 'Sin', 100)\n",
        "print(Student.num_of_stds)"
      ],
      "execution_count": null,
      "outputs": [
        {
          "output_type": "stream",
          "text": [
            "1\n"
          ],
          "name": "stdout"
        }
      ]
    },
    {
      "cell_type": "code",
      "metadata": {
        "colab": {
          "base_uri": "https://localhost:8080/"
        },
        "id": "QjmF4uAIsr7v",
        "outputId": "ab42fec5-5d12-4992-dd89-cb5c6b5961c7"
      },
      "source": [
        "class GnbMember(Student):\n",
        "    \n",
        "    domain = 'gnb.com'\n",
        "    \n",
        "    def __init__(self, first, last, gpa, prog_lang):\n",
        "        super().__init__(first, last, gpa)          # run __init__() of superclass(=Student)\n",
        "        # Student.__init__(self, first, last, gpa)  # same code as above\n",
        "        self.prog_lang = prog_lang\n",
        "\n",
        "gnb_1 = GnbMember('Gnb', 'Member', 4.3, 'Python')\n",
        "print(Student.num_of_stds, gnb_1.email, gnb_1.prog_lang)\n",
        "\n",
        "std_3 = Student('Not', 'gnb', 3.25)\n",
        "print(Student.num_of_stds, std_3.email)"
      ],
      "execution_count": null,
      "outputs": [
        {
          "output_type": "stream",
          "text": [
            "8 Gnb.Member@gnb.com Python\n",
            "9 Not.gnb@knu.ac.kr\n"
          ],
          "name": "stdout"
        }
      ]
    },
    {
      "cell_type": "code",
      "metadata": {
        "colab": {
          "base_uri": "https://localhost:8080/"
        },
        "id": "0L2rYvMOvT9N",
        "outputId": "6f83ce13-197f-4d0c-bd96-78d4f913a0d7"
      },
      "source": [
        "print(isinstance(gnb_1, GnbMember))\n",
        "print(isinstance(gnb_1, Student))\n",
        "\n",
        "print(isinstance(std_3, GnbMember))\n",
        "print(isinstance(std_3, Student))\n",
        "\n",
        "print(issubclass(GnbMember, Student))\n",
        "print(issubclass(Student, GnbMember))\n",
        "\n",
        "print(issubclass(Student, Student))"
      ],
      "execution_count": null,
      "outputs": [
        {
          "output_type": "stream",
          "text": [
            "True\n",
            "True\n",
            "False\n",
            "True\n",
            "True\n",
            "False\n",
            "True\n"
          ],
          "name": "stdout"
        }
      ]
    }
  ]
}
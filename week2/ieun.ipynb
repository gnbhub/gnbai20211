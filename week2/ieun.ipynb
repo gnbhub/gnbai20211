{
  "nbformat": 4,
  "nbformat_minor": 0,
  "metadata": {
    "colab": {
      "name": "week2.ipynb",
      "provenance": [],
      "authorship_tag": "ABX9TyOv2ODu9Acd07j6hCvxldvS",
      "include_colab_link": true
    },
    "kernelspec": {
      "name": "python3",
      "display_name": "Python 3"
    },
    "language_info": {
      "name": "python"
    }
  },
  "cells": [
    {
      "cell_type": "markdown",
      "metadata": {
        "id": "view-in-github",
        "colab_type": "text"
      },
      "source": [
        "<a href=\"https://colab.research.google.com/github/gnbhub/gnbai20211/blob/master/week2/ieun.ipynb\" target=\"_parent\"><img src=\"https://colab.research.google.com/assets/colab-badge.svg\" alt=\"Open In Colab\"/></a>"
      ]
    },
    {
      "cell_type": "code",
      "metadata": {
        "colab": {
          "base_uri": "https://localhost:8080/"
        },
        "id": "WCvxx1onfjcw",
        "outputId": "20dd8381-fe74-44d6-dfc8-9c419ad21df2"
      },
      "source": [
        "scores={'calculus':90,  'physics':70}\n",
        "print(scores)\n",
        "scores=dict([('calculus',90),('physics',70)])\n",
        "print(scores)\n",
        "scores=dict(calculus=90,physics=70)\n",
        "print(scores)"
      ],
      "execution_count": null,
      "outputs": [
        {
          "output_type": "stream",
          "text": [
            "{'calculus': 90, 'physics': 70}\n",
            "{'calculus': 90, 'physics': 70}\n",
            "{'calculus': 90, 'physics': 70}\n"
          ],
          "name": "stdout"
        }
      ]
    },
    {
      "cell_type": "code",
      "metadata": {
        "colab": {
          "base_uri": "https://localhost:8080/"
        },
        "id": "Bm26F90fgT4U",
        "outputId": "b7630d1f-ca26-4c38-aebf-f8f4700dec2d"
      },
      "source": [
        "scores['chemystry']=80\n",
        "print(scores)\n",
        "\n",
        "del scores['calculus']\n",
        "print(scores)"
      ],
      "execution_count": null,
      "outputs": [
        {
          "output_type": "stream",
          "text": [
            "{'calculus': 90, 'physics': 70, 'chemystry': 80}\n",
            "{'physics': 70, 'chemystry': 80}\n"
          ],
          "name": "stdout"
        }
      ]
    },
    {
      "cell_type": "code",
      "metadata": {
        "colab": {
          "base_uri": "https://localhost:8080/"
        },
        "id": "LLGynVSXg1O5",
        "outputId": "a3488640-c5b4-48d7-e7cb-bf5b71e9b281"
      },
      "source": [
        "a=[1,2,3]\n",
        "b=a\n",
        "\n",
        "print(f'a==b : {a==b}')\n",
        "print(f'a is  b: {a is b}')"
      ],
      "execution_count": null,
      "outputs": [
        {
          "output_type": "stream",
          "text": [
            "a==b : True\n",
            "a is  b: True\n"
          ],
          "name": "stdout"
        }
      ]
    },
    {
      "cell_type": "code",
      "metadata": {
        "colab": {
          "base_uri": "https://localhost:8080/"
        },
        "id": "HF8NQ5Zwh2V_",
        "outputId": "ae58d244-4f84-4a3b-8424-4ee6aeffec01"
      },
      "source": [
        "nums=[1,4,1,4,2,1,3,5,6,2]\n",
        "\n",
        "squares=[]\n",
        "for x in nums:\n",
        "  squares.append(x**2)\n",
        "\n",
        "print(squares)"
      ],
      "execution_count": null,
      "outputs": [
        {
          "output_type": "stream",
          "text": [
            "[1, 16, 1, 16, 4, 1, 9, 25, 36, 4]\n"
          ],
          "name": "stdout"
        }
      ]
    },
    {
      "cell_type": "code",
      "metadata": {
        "colab": {
          "base_uri": "https://localhost:8080/"
        },
        "id": "zRD1R1yhioPA",
        "outputId": "ad699b22-156c-4d49-c4e6-84f1d5cec245"
      },
      "source": [
        "nums=[1,4,1,4,2,1,3,5,6,2]\n",
        "\n",
        "evens=[]\n",
        "for x in nums:\n",
        "  if x%2==():\n",
        "    evens.apppend(x)\n",
        "print(evens)\n",
        "\n",
        "eves=list(filter(lambda x:x%2==0,nums))\n",
        "print(evens)\n",
        "\n",
        "squares=[x for x in nums if x%2 ==0]\n",
        "print(squares)"
      ],
      "execution_count": null,
      "outputs": [
        {
          "output_type": "stream",
          "text": [
            "[]\n",
            "[]\n",
            "[4, 4, 2, 6, 2]\n"
          ],
          "name": "stdout"
        }
      ]
    },
    {
      "cell_type": "code",
      "metadata": {
        "colab": {
          "base_uri": "https://localhost:8080/"
        },
        "id": "1shc6E09jTvn",
        "outputId": "e6083497-14ca-45de-b8c0-536349d4833c"
      },
      "source": [
        "class Student:\n",
        "  pass  #빈 클래스 아닐 시 pass 대신 내용 쓰면 됨\n",
        "\n",
        "std_1 = Student()\n",
        "std_2 = Student()\n",
        "\n",
        "print(Student)\n",
        "print(std_1)      #객체 위치 표시\n",
        "print(std_2)\n",
        "\n",
        "print(isinstance(std_1,Student), isinstance(std_2,Student))"
      ],
      "execution_count": null,
      "outputs": [
        {
          "output_type": "stream",
          "text": [
            "<class '__main__.Student'>\n",
            "<__main__.Student object at 0x7fb147f4cd10>\n",
            "<__main__.Student object at 0x7fb147f4cb10>\n",
            "True True\n"
          ],
          "name": "stdout"
        }
      ]
    },
    {
      "cell_type": "code",
      "metadata": {
        "colab": {
          "base_uri": "https://localhost:8080/",
          "height": 251
        },
        "id": "kyRGTcT6pawT",
        "outputId": "dbe21534-01f7-4516-c0f9-a6adff700d82"
      },
      "source": [
        "class Student:\n",
        " \n",
        " #class variable-오브젝트에서 카운트 하면 다른 오브젝트에서 접근할 수 없으므로 \n",
        " #각 오브젝트가 공통으로 가져야 하는 값은 클래스변수로 \n",
        " num_of_stds=0\n",
        " domain='knu.ac.kr'\n",
        "\n",
        "def __init__(self,first,last,gpa):\n",
        "  elf.first=first\n",
        "  self.last=last\n",
        "  self.gpa=gpa\n",
        "  self.email=first+'.'+last+'@knu.ac.kr' #self로(값이 안바뀌어도 될때)\n",
        "  Student.num_of_stds +=1 #Student로(값이 바뀔때)\n",
        "\n",
        "def fullname(self):\n",
        " return f'{self.first}{self.last}'\n",
        "\n",
        "std_1=Student('Ieun','Kim',4.0)\n",
        "std_2=Student('Test','Name',4.1)\n",
        "\n",
        "print(std_1.fullname())\n",
        "print(std_2.fullname())\n",
        "\n",
        "print(Student.fullname(std_1))\n",
        "print(Student.fullname(std_2))"
      ],
      "execution_count": null,
      "outputs": [
        {
          "output_type": "error",
          "ename": "TypeError",
          "evalue": "ignored",
          "traceback": [
            "\u001b[0;31m---------------------------------------------------------------------------\u001b[0m",
            "\u001b[0;31mTypeError\u001b[0m                                 Traceback (most recent call last)",
            "\u001b[0;32m<ipython-input-20-653a4a09ffa0>\u001b[0m in \u001b[0;36m<module>\u001b[0;34m()\u001b[0m\n\u001b[1;32m     16\u001b[0m  \u001b[0;32mreturn\u001b[0m \u001b[0;34mf'{self.first}{self.last}'\u001b[0m\u001b[0;34m\u001b[0m\u001b[0;34m\u001b[0m\u001b[0m\n\u001b[1;32m     17\u001b[0m \u001b[0;34m\u001b[0m\u001b[0m\n\u001b[0;32m---> 18\u001b[0;31m \u001b[0mstd_1\u001b[0m\u001b[0;34m=\u001b[0m\u001b[0mStudent\u001b[0m\u001b[0;34m(\u001b[0m\u001b[0;34m'Ieun'\u001b[0m\u001b[0;34m,\u001b[0m\u001b[0;34m'Kim'\u001b[0m\u001b[0;34m,\u001b[0m\u001b[0;36m4.0\u001b[0m\u001b[0;34m)\u001b[0m\u001b[0;34m\u001b[0m\u001b[0;34m\u001b[0m\u001b[0m\n\u001b[0m\u001b[1;32m     19\u001b[0m \u001b[0mstd_2\u001b[0m\u001b[0;34m=\u001b[0m\u001b[0mStudent\u001b[0m\u001b[0;34m(\u001b[0m\u001b[0;34m'Test'\u001b[0m\u001b[0;34m,\u001b[0m\u001b[0;34m'Name'\u001b[0m\u001b[0;34m,\u001b[0m\u001b[0;36m4.1\u001b[0m\u001b[0;34m)\u001b[0m\u001b[0;34m\u001b[0m\u001b[0;34m\u001b[0m\u001b[0m\n\u001b[1;32m     20\u001b[0m \u001b[0;34m\u001b[0m\u001b[0m\n",
            "\u001b[0;31mTypeError\u001b[0m: Student() takes no arguments"
          ]
        }
      ]
    },
    {
      "cell_type": "markdown",
      "metadata": {
        "id": "cQHxDyyDyWJt"
      },
      "source": [
        "#상속\n",
        "Student>GnbMember\n",
        "클래스에서 새로운 클래스\n",
        "\n",
        "#인스턴스화\n",
        "GnbMember>gnb_1,gnb_2:클래스에서 새로운 객체(오브젝트) 생성"
      ]
    },
    {
      "cell_type": "code",
      "metadata": {
        "id": "5JKmXawgv5W0"
      },
      "source": [
        "  "
      ],
      "execution_count": null,
      "outputs": []
    },
    {
      "cell_type": "code",
      "metadata": {
        "id": "XEz21op7vkeE"
      },
      "source": [
        ""
      ],
      "execution_count": null,
      "outputs": []
    }
  ]
}
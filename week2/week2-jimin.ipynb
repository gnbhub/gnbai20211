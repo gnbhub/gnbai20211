{
  "nbformat": 4,
  "nbformat_minor": 0,
  "metadata": {
    "colab": {
      "name": "Untitled0.ipynb",
      "provenance": [],
      "include_colab_link": true
    },
    "kernelspec": {
      "name": "python3",
      "display_name": "Python 3"
    },
    "language_info": {
      "name": "python"
    }
  },
  "cells": [
    {
      "cell_type": "markdown",
      "metadata": {
        "id": "view-in-github",
        "colab_type": "text"
      },
      "source": [
        "<a href=\"https://colab.research.google.com/github/gnbhub/gnbai20211/blob/master/week2/week2-jimin.ipynb\" target=\"_parent\"><img src=\"https://colab.research.google.com/assets/colab-badge.svg\" alt=\"Open In Colab\"/></a>"
      ]
    },
    {
      "cell_type": "markdown",
      "metadata": {
        "id": "SgjE8qdVksH1"
      },
      "source": [
        "### **1. More Python basics**"
      ]
    },
    {
      "cell_type": "markdown",
      "metadata": {
        "id": "dmmWEKIxeJgv"
      },
      "source": [
        "**1-1. Boolean Operations**"
      ]
    },
    {
      "cell_type": "code",
      "metadata": {
        "colab": {
          "base_uri": "https://localhost:8080/"
        },
        "id": "5cWVCs0pc0ZY",
        "outputId": "83819195-7141-48f2-b3a3-a13173c55d5f"
      },
      "source": [
        "# 3.14:True, 0:False\n",
        "x, y = 3.14, 0\n",
        "\n",
        "print(f'x or y : {x or y}')\n",
        "print(f'x and y : {x and y}')\n",
        "print(f'not x : {not x}')"
      ],
      "execution_count": null,
      "outputs": [
        {
          "output_type": "stream",
          "text": [
            "x or y : 3.14\n",
            "x and y : 0\n",
            "not x : False\n"
          ],
          "name": "stdout"
        }
      ]
    },
    {
      "cell_type": "markdown",
      "metadata": {
        "id": "5a4PSlXDeY3r"
      },
      "source": [
        "**1-2. Comparisons**"
      ]
    },
    {
      "cell_type": "code",
      "metadata": {
        "id": "KP7O8tutehx1"
      },
      "source": [
        "a = [1, 2, 3]\n",
        "b = a # shallow copy\n",
        "\n",
        "print(f'a == b : {a == b}') # equality of value\n",
        "print(f'a is b : {a is b}') # identity of object"
      ],
      "execution_count": null,
      "outputs": []
    },
    {
      "cell_type": "markdown",
      "metadata": {
        "id": "Rb2cfPoifoKP"
      },
      "source": [
        "**1-3. Set**"
      ]
    },
    {
      "cell_type": "code",
      "metadata": {
        "id": "thm5X07zfqt9"
      },
      "source": [
        ""
      ],
      "execution_count": null,
      "outputs": []
    },
    {
      "cell_type": "markdown",
      "metadata": {
        "id": "ygr2FhSCf4D-"
      },
      "source": [
        "**1-4. Dictionary** # 인덱스가 아닌 key로 값을 찾음"
      ]
    },
    {
      "cell_type": "code",
      "metadata": {
        "colab": {
          "base_uri": "https://localhost:8080/"
        },
        "id": "Cnwyupy2f7sr",
        "outputId": "d18346ae-8e76-4bfe-9931-e6a40c21213a"
      },
      "source": [
        "# create dictionary with {key:value, ...}. 주로 사용하는 형식\n",
        "scores = {'calculus':90, 'physics':70} \n",
        "print(scores)\n",
        "\n",
        "# create dictionary with sequences of key-value pair\n",
        "scores = dict([('calculus', 90), ('physics', 70)])\n",
        "print(scores)\n",
        "\n",
        "# create dictionary with keyword arguments. key 값이 문자열일때만 사용 가능. \n",
        "scores = dict(calculus=90, physics=70)\n",
        "print(scores)\n",
        "\n",
        "print(scores['calculus'])"
      ],
      "execution_count": null,
      "outputs": [
        {
          "output_type": "stream",
          "text": [
            "{'calculus': 90, 'physics': 70}\n",
            "{'calculus': 90, 'physics': 70}\n",
            "{'calculus': 90, 'physics': 70}\n",
            "90\n"
          ],
          "name": "stdout"
        }
      ]
    },
    {
      "cell_type": "code",
      "metadata": {
        "colab": {
          "base_uri": "https://localhost:8080/"
        },
        "id": "VuCrxewOgnmS",
        "outputId": "64e2eef7-7315-4d46-fcf3-afc824c31f10"
      },
      "source": [
        "\n",
        "# add item 'chemistry':80\n",
        "scores['chemistry'] = 80\n",
        "print(scores)\n",
        "\n",
        "# delete item 'calculus':90\n",
        "del scores['calculus']\n",
        "print(scores)"
      ],
      "execution_count": null,
      "outputs": [
        {
          "output_type": "stream",
          "text": [
            "{'calculus': 90, 'physics': 70, 'chemistry': 80}\n",
            "{'physics': 70, 'chemistry': 80}\n"
          ],
          "name": "stdout"
        }
      ]
    },
    {
      "cell_type": "markdown",
      "metadata": {
        "id": "vGdXH9xjh_z7"
      },
      "source": [
        "**1-5. List Comprehensions**\n",
        "\n",
        "ex1) create a new list with the values squared"
      ]
    },
    {
      "cell_type": "code",
      "metadata": {
        "colab": {
          "base_uri": "https://localhost:8080/"
        },
        "id": "T_LyvkLGiCm7",
        "outputId": "e254447d-66d3-4229-931e-6466f1c2ecdb"
      },
      "source": [
        "nums = [1, 4, 1, 4, 2, 1, 3, 5, 6, 2]\n",
        "\n",
        "squares = []\n",
        "for x in nums:\n",
        "  squares.append(x**2)\n",
        "\n",
        "print(squares)"
      ],
      "execution_count": null,
      "outputs": [
        {
          "output_type": "stream",
          "text": [
            "[1, 16, 1, 16, 4, 1, 9, 25, 36, 4]\n"
          ],
          "name": "stdout"
        }
      ]
    },
    {
      "cell_type": "code",
      "metadata": {
        "colab": {
          "base_uri": "https://localhost:8080/"
        },
        "id": "MQznKA0JiO4I",
        "outputId": "cc0cb318-2f8b-4477-dc8f-1c67c0696182"
      },
      "source": [
        "squares = [x ** 2 for x in nums]\n",
        "print(squares)"
      ],
      "execution_count": null,
      "outputs": [
        {
          "output_type": "stream",
          "text": [
            "[1, 16, 1, 16, 4, 1, 9, 25, 36, 4]\n"
          ],
          "name": "stdout"
        }
      ]
    },
    {
      "cell_type": "markdown",
      "metadata": {
        "id": "x0W_asVfisif"
      },
      "source": [
        "ex2) create a new list only with even values"
      ]
    },
    {
      "cell_type": "code",
      "metadata": {
        "colab": {
          "base_uri": "https://localhost:8080/"
        },
        "id": "RcL7kIM3iXPl",
        "outputId": "fe537d69-9e57-4b60-bcd0-dbbbd38af259"
      },
      "source": [
        "nums = [1, 4, 1, 4, 2, 1, 3, 5, 6, 2]\n",
        "\n",
        "evens = []\n",
        "for x in nums:\n",
        "    if x % 2 == 0:\n",
        "        evens.append(x)\n",
        "\n",
        "print(evens)"
      ],
      "execution_count": null,
      "outputs": [
        {
          "output_type": "stream",
          "text": [
            "[4, 4, 2, 6, 2]\n"
          ],
          "name": "stdout"
        }
      ]
    },
    {
      "cell_type": "code",
      "metadata": {
        "colab": {
          "base_uri": "https://localhost:8080/"
        },
        "id": "N9kSlnTSjF_A",
        "outputId": "93b3bb38-ba9c-430c-bada-9d18c6062e19"
      },
      "source": [
        "# equivalent code with list comprehension\n",
        "squares = [x for x in nums if x % 2 == 0]\n",
        "print(squares)"
      ],
      "execution_count": null,
      "outputs": [
        {
          "output_type": "stream",
          "text": [
            "[4, 4, 2, 6, 2]\n"
          ],
          "name": "stdout"
        }
      ]
    },
    {
      "cell_type": "markdown",
      "metadata": {
        "id": "8ImWwMVPjWLU"
      },
      "source": [
        "**1-6. Function**"
      ]
    },
    {
      "cell_type": "code",
      "metadata": {
        "id": "wj6ZluG_jZkC"
      },
      "source": [
        "def say_hello_world():\n",
        "  print(\"Hello world\")\n",
        "\n",
        "def say_hello_to(name):\n",
        "  print(f'Hello {name}!')\n",
        "\n",
        "def get_full_name(first, last):\n",
        "  return first + ' ' + last"
      ],
      "execution_count": null,
      "outputs": []
    },
    {
      "cell_type": "code",
      "metadata": {
        "colab": {
          "base_uri": "https://localhost:8080/"
        },
        "id": "PDbDK7-Jj89b",
        "outputId": "b402c448-cbfd-41ca-db0a-152985061185"
      },
      "source": [
        "say_hello_world()\n",
        "say_hello_to('GNB')\n",
        "\n",
        "myname = get_full_name('Jimin','Lee')\n",
        "say_hello_to(myname)"
      ],
      "execution_count": null,
      "outputs": [
        {
          "output_type": "stream",
          "text": [
            "Hello world\n",
            "Hello GNB!\n",
            "Hello Jimin Lee!\n"
          ],
          "name": "stdout"
        }
      ]
    },
    {
      "cell_type": "markdown",
      "metadata": {
        "id": "EPOP_vOSk2Sx"
      },
      "source": [
        "### **2. What is object-oriented programming?**"
      ]
    },
    {
      "cell_type": "markdown",
      "metadata": {
        "id": "PYzP5lyhk85g"
      },
      "source": [
        "객체지향 프로그램<br>\n",
        "object = attribute + method<br>\n",
        "= variable + function<br>\n",
        "= data + code"
      ]
    },
    {
      "cell_type": "markdown",
      "metadata": {
        "id": "AIXNraVcm7q8"
      },
      "source": [
        "class : 변수+함수. 실제로 찍어내서 메모리에 올린 것<br>\n",
        "object : 객체. 메모리에 올려놓은것. instance of a classs<br>\n",
        "attribute : 속성<br>\n",
        "method : 함수<br>\n",
        "instantiation : 클래스화<br>\n",
        "inheritance : 상속. 클래스로부터 새로운 클래스 생성<br>\n",
        "subclass / superclass : 하위클래스 (상속받는) / 상위클래스 (상속되는)\n",
        "\n",
        "\n"
      ]
    },
    {
      "cell_type": "markdown",
      "metadata": {
        "id": "TZZB95WPpa15"
      },
      "source": [
        "**3-1. Class**"
      ]
    },
    {
      "cell_type": "code",
      "metadata": {
        "colab": {
          "base_uri": "https://localhost:8080/"
        },
        "id": "QXyIj4QSprlA",
        "outputId": "c11f94f8-a9b8-42f2-c8f5-5370f75cbd3a"
      },
      "source": [
        "class Student:       # Class is a blueprint for creating Objects(=Instances)\n",
        "    pass\n",
        "\n",
        "std_1 = Student()    # Instantitation:\n",
        "std_2 = Student()    #   Create two unique Objects(=Instances) of Student class\n",
        "\n",
        "print(Student)\n",
        "print(std_1)         # we can see that std_1 and std_2 have\n",
        "print(std_2)         # different locations in memory\n",
        "\n",
        "print(isinstance(std_1, Student), isinstance(std_2, Student))"
      ],
      "execution_count": null,
      "outputs": [
        {
          "output_type": "stream",
          "text": [
            "<class '__main__.Student'>\n",
            "<__main__.Student object at 0x7fb17ffc7510>\n",
            "<__main__.Student object at 0x7fb17ffc7c10>\n",
            "True True\n"
          ],
          "name": "stdout"
        }
      ]
    },
    {
      "cell_type": "markdown",
      "metadata": {
        "id": "YRZ_ugTpqvcD"
      },
      "source": [
        "**3-2. \\_\\_init()\\_\\_ method**"
      ]
    },
    {
      "cell_type": "code",
      "metadata": {
        "colab": {
          "base_uri": "https://localhost:8080/"
        },
        "id": "zUtSuDdLp8P2",
        "outputId": "6a026e3d-3439-481b-93e0-c25b415be349"
      },
      "source": [
        "class Student:\n",
        "    \n",
        "    def __init__(self, first, last, gpa):\n",
        "        self.first = first\n",
        "        self.last = last\n",
        "        self.gpa = gpa\n",
        "        self.email = first + '.' + last + '@knu.ac.kr'\n",
        "\n",
        "std_1 = Student('Jimin', 'Lee', 4.3) # __init__() method will be run automatically\n",
        "std_2 = Student('Test', 'Name', 4.0)  # It would be better to think of 'self' as being ignored.\n",
        "\n",
        "print(std_1.email)\n",
        "print(std_2.email)"
      ],
      "execution_count": null,
      "outputs": [
        {
          "output_type": "stream",
          "text": [
            "Jimin.Lee@knu.ac.kr\n",
            "Test.Name@knu.ac.kr\n"
          ],
          "name": "stdout"
        }
      ]
    },
    {
      "cell_type": "markdown",
      "metadata": {
        "id": "hUnqcbvXsaIa"
      },
      "source": [
        "**3-3. Method**"
      ]
    },
    {
      "cell_type": "code",
      "metadata": {
        "colab": {
          "base_uri": "https://localhost:8080/"
        },
        "id": "s6tj9oBJrte9",
        "outputId": "d85aa00f-3a76-4601-86cc-5ee4caa0e98b"
      },
      "source": [
        "class Student:\n",
        "    \n",
        "    def __init__(self, first, last, gpa):\n",
        "        self.first = first\n",
        "        self.last = last\n",
        "        self.gpa = gpa\n",
        "        self.email = first + '.' + last + '@knu.ac.kr'\n",
        "    \n",
        "    # don't forget to add 'self' in every method!\n",
        "    def fullname(self):\n",
        "        return f'{self.first} {self.last}'\n",
        "    \n",
        "std_1 = Student('Jimin', 'Lee', 4.3)\n",
        "std_2 = Student('Test', 'Name', 4.0)\n",
        "\n",
        "print(std_1.fullname())\n",
        "print(std_2.fullname())\n",
        "\n",
        "# it does the exactly same thing\n",
        "print(Student.fullname(std_1))\n",
        "print(Student.fullname(std_2))"
      ],
      "execution_count": null,
      "outputs": [
        {
          "output_type": "stream",
          "text": [
            "Jimin Lee\n",
            "Test Name\n",
            "Jimin Lee\n",
            "Test Name\n"
          ],
          "name": "stdout"
        }
      ]
    },
    {
      "cell_type": "markdown",
      "metadata": {
        "id": "gn9anwKttjpO"
      },
      "source": [
        "student) num=0, domain=\" \" - class variable<br>\n",
        "↓instantiation<br>\n",
        "std1) first email last gpa<br>\n",
        "std2) first email last gpa<br>\n"
      ]
    },
    {
      "cell_type": "markdown",
      "metadata": {
        "id": "TRw5gp9QvV0J"
      },
      "source": [
        "**3-4. Class variable**"
      ]
    },
    {
      "cell_type": "code",
      "metadata": {
        "colab": {
          "base_uri": "https://localhost:8080/"
        },
        "id": "lpuEANIyvajC",
        "outputId": "5a553668-8836-4d0a-9d81-90993691cd55"
      },
      "source": [
        "class Student:\n",
        "    \n",
        "    # class variable\n",
        "    num_of_stds = 0\n",
        "    domain = 'knu.ac.kr'\n",
        "    \n",
        "    def __init__(self, first, last, gpa):\n",
        "        # instance variables\n",
        "        self.first = first\n",
        "        self.last = last\n",
        "        self.gpa = gpa\n",
        "        self.email = first + '.' + last + '@' + self.domain\n",
        "        \n",
        "        Student.num_of_stds += 1\n",
        "    \n",
        "    def fullname(self):\n",
        "        return f'{self.first} {self.last}'\n",
        "    \n",
        "std_1 = Student('Jimin', 'LEE', 4.3)\n",
        "print(Student.num_of_stds)\n",
        "\n",
        "std_2 = Student('Test', 'Name', 4.0)\n",
        "print(Student.num_of_stds)"
      ],
      "execution_count": null,
      "outputs": [
        {
          "output_type": "stream",
          "text": [
            "1\n",
            "2\n"
          ],
          "name": "stdout"
        }
      ]
    },
    {
      "cell_type": "markdown",
      "metadata": {
        "id": "DycIJKCdvkZ6"
      },
      "source": [
        "**3-5. Inheritance**"
      ]
    },
    {
      "cell_type": "code",
      "metadata": {
        "colab": {
          "base_uri": "https://localhost:8080/"
        },
        "id": "7_jCmgwbvnaj",
        "outputId": "c77e4e51-22cf-40ed-8797-77fedd5683c4"
      },
      "source": [
        "#superclass - Student, subclass = GnbMember\n",
        "\n",
        "class GnbMember(Student):\n",
        "    \n",
        "    domain = 'gnb.com'\n",
        "    \n",
        "    def __init__(self, first, last, gpa, prog_lang):\n",
        "        super().__init__(first, last, gpa)          # run __init__() of superclass(=Student)\n",
        "        # Student.__init__(self, first, last, gpa)  # same code as above\n",
        "        self.prog_lang = prog_lang\n",
        "\n",
        "gnb_1 = GnbMember('Gnb', 'Member', 4.3, 'Python')\n",
        "print(Student.num_of_stds, gnb_1.email, gnb_1.prog_lang)\n",
        "\n",
        "std_3 = Student('Not', 'gnb', 3.25)\n",
        "print(Student.num_of_stds, std_3.email)\n",
        "\n",
        "#실행 횟수에 따라 숫자 달라짐. init함수 호출함으로써"
      ],
      "execution_count": null,
      "outputs": [
        {
          "output_type": "stream",
          "text": [
            "5 Gnb.Member@gnb.com Python\n",
            "6 Not.gnb@knu.ac.kr\n"
          ],
          "name": "stdout"
        }
      ]
    },
    {
      "cell_type": "code",
      "metadata": {
        "colab": {
          "base_uri": "https://localhost:8080/"
        },
        "id": "E2aOKQPlvrMm",
        "outputId": "fc6b23a6-e888-451d-ea31-1389e9ace056"
      },
      "source": [
        "print(isinstance(gnb_1, GnbMember))\n",
        "print(isinstance(gnb_1, Student))\n",
        "\n",
        "print(issubclass(GnbMember, Student))\n",
        "print(issubclass(Student, GnbMember))"
      ],
      "execution_count": null,
      "outputs": [
        {
          "output_type": "stream",
          "text": [
            "True\n",
            "True\n",
            "True\n",
            "False\n"
          ],
          "name": "stdout"
        }
      ]
    }
  ]
}